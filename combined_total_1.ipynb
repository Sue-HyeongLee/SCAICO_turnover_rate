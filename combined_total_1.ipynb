{
  "nbformat": 4,
  "nbformat_minor": 0,
  "metadata": {
    "colab": {
      "provenance": [],
      "gpuType": "T4"
    },
    "kernelspec": {
      "name": "python3",
      "display_name": "Python 3"
    },
    "language_info": {
      "name": "python"
    },
    "accelerator": "GPU"
  },
  "cells": [
    {
      "cell_type": "code",
      "execution_count": 1,
      "metadata": {
        "id": "XZZOglyMPdYr"
      },
      "outputs": [],
      "source": [
        "import numpy as np\n",
        "import pandas as pd"
      ]
    },
    {
      "cell_type": "code",
      "source": [
        "!sudo apt-get install -y fonts-nanum\n",
        "!sudo fc-cache -fv\n",
        "!rm ~/.cache/matplotlib -rf"
      ],
      "metadata": {
        "colab": {
          "base_uri": "https://localhost:8080/"
        },
        "id": "oUKQiCeFHSy4",
        "outputId": "a4bd0642-36a7-4ba0-d782-c95773ac2d24"
      },
      "execution_count": 37,
      "outputs": [
        {
          "output_type": "stream",
          "name": "stdout",
          "text": [
            "Reading package lists... Done\n",
            "Building dependency tree... Done\n",
            "Reading state information... Done\n",
            "fonts-nanum is already the newest version (20200506-1).\n",
            "0 upgraded, 0 newly installed, 0 to remove and 18 not upgraded.\n",
            "/usr/share/fonts: caching, new cache contents: 0 fonts, 1 dirs\n",
            "/usr/share/fonts/truetype: caching, new cache contents: 0 fonts, 3 dirs\n",
            "/usr/share/fonts/truetype/humor-sans: caching, new cache contents: 1 fonts, 0 dirs\n",
            "/usr/share/fonts/truetype/liberation: caching, new cache contents: 16 fonts, 0 dirs\n",
            "/usr/share/fonts/truetype/nanum: caching, new cache contents: 12 fonts, 0 dirs\n",
            "/usr/local/share/fonts: caching, new cache contents: 0 fonts, 0 dirs\n",
            "/root/.local/share/fonts: skipping, no such directory\n",
            "/root/.fonts: skipping, no such directory\n",
            "/usr/share/fonts/truetype: skipping, looped directory detected\n",
            "/usr/share/fonts/truetype/humor-sans: skipping, looped directory detected\n",
            "/usr/share/fonts/truetype/liberation: skipping, looped directory detected\n",
            "/usr/share/fonts/truetype/nanum: skipping, looped directory detected\n",
            "/var/cache/fontconfig: cleaning cache directory\n",
            "/root/.cache/fontconfig: not cleaning non-existent cache directory\n",
            "/root/.fontconfig: not cleaning non-existent cache directory\n",
            "fc-cache: succeeded\n"
          ]
        }
      ]
    },
    {
      "cell_type": "code",
      "source": [
        "\n",
        "import matplotlib\n",
        "import matplotlib.pyplot as plt\n",
        "import seaborn as sns\n",
        "\n",
        "from matplotlib import rc"
      ],
      "metadata": {
        "id": "i1O1kT8AywCZ"
      },
      "execution_count": 2,
      "outputs": []
    },
    {
      "cell_type": "code",
      "source": [
        "\n",
        "def get_mae(model):\n",
        "    train_pred = model.predict(X_train)\n",
        "    score = mean_absolute_error(y_train,train_pred)\n",
        "    print(model.__class__.__name__, \" train MAE: \", np.round(score,3))\n",
        "    pred = model.predict(X_test)\n",
        "    score = mean_absolute_error(y_test,pred)\n",
        "    print(model.__class__.__name__, \" MAE: \", np.round(score,3))\n"
      ],
      "metadata": {
        "id": "4vlcga-TMC1J"
      },
      "execution_count": 3,
      "outputs": []
    },
    {
      "cell_type": "code",
      "source": [
        "def get_maes(models):\n",
        "    scores = []\n",
        "    for model in models:\n",
        "        score = get_mae(model)\n",
        "        # scores.append(score)\n",
        "    # return scores"
      ],
      "metadata": {
        "id": "e52wUy3uMi0g"
      },
      "execution_count": 4,
      "outputs": []
    },
    {
      "cell_type": "code",
      "source": [
        "\n",
        "def get_r2score(model):\n",
        "    train_pred = model.predict(X_train)\n",
        "    pred = model.predict(X_test)\n",
        "    train_score = r2_score(y_train,train_pred)\n",
        "    score = r2_score(y_test,pred)\n",
        "    print(model.__class__.__name__, \" train_R2SCORE: \", np.round(train_score,3))\n",
        "    print(model.__class__.__name__, \" R2SCORE: \", np.round(score,3))"
      ],
      "metadata": {
        "id": "FSawpc45uPT7"
      },
      "execution_count": 5,
      "outputs": []
    },
    {
      "cell_type": "code",
      "source": [
        "def get_rmse(model):\n",
        "    train_pred = model.predict(X_train)\n",
        "    train_mse = mean_squared_error(y_train,train_pred)\n",
        "    rmse = np.sqrt(train_mse)\n",
        "    print(model.__class__.__name__, 'train RMSE: ', np.round(rmse,3))\n",
        "    pred = model.predict(X_test)\n",
        "    mse = mean_squared_error(y_test, pred)\n",
        "    rmse = np.sqrt(mse)\n",
        "    print(model.__class__.__name__, ' RMSE: ', np.round(rmse,3))\n",
        "    return rmse"
      ],
      "metadata": {
        "id": "bHg414Gbss6n"
      },
      "execution_count": 6,
      "outputs": []
    },
    {
      "cell_type": "code",
      "source": [
        "def get_rmses(models):\n",
        "    rmses = []\n",
        "    for model in models:\n",
        "        rmse = get_rmse(model)\n",
        "        # rmses.append(rmse)\n",
        "    # return rmses"
      ],
      "metadata": {
        "id": "uw11k7BKst6e"
      },
      "execution_count": 7,
      "outputs": []
    },
    {
      "cell_type": "code",
      "source": [
        "def get_r2scores(models):\n",
        "    scores = []\n",
        "    for model in models:\n",
        "        score = get_r2score(model)\n",
        "        # scores.append(score)\n",
        "    # return scores"
      ],
      "metadata": {
        "id": "MpmrE8RbudJl"
      },
      "execution_count": 8,
      "outputs": []
    },
    {
      "cell_type": "code",
      "source": [
        "# Preprocessing for turn over rate\n",
        "def tor_preprocessing(tor):\n",
        "  tor_df = tor\n",
        "  tor_val = tor_df['turn_over_rate']\n",
        "\n",
        "  for i, val in enumerate(tor_val):\n",
        "    if '정보' in val:\n",
        "      tor_df.loc[i,'turn_over_rate'] = np.NAN\n",
        "    elif val == '(9999%)' :\n",
        "      tor_df.loc[i,'turn_over_rate'] = np.NAN\n",
        "    elif '(' in val:\n",
        "      tmp = float(val[1:-1].replace('%',''))*0.01\n",
        "      tor_df.loc[i,'turn_over_rate'] = tmp\n",
        "\n",
        "  return tor_df"
      ],
      "metadata": {
        "id": "4A-UePW7TjYZ"
      },
      "execution_count": 9,
      "outputs": []
    },
    {
      "cell_type": "code",
      "source": [
        "# Preprocessing for financial variable\n",
        "def fv_preprocessing(fv):\n",
        "  fv_df = fv\n",
        "  afv = fv_df['average_salary']\n",
        "  tfv = fv_df['total_sale']\n",
        "\n",
        "  for i, val in enumerate(afv):\n",
        "    if type(val) == str:\n",
        "        if '만원' in val:\n",
        "          tmp = int(val[:-2].replace(',',''))\n",
        "          fv_df.loc[i,'average_salary'] = tmp\n",
        "        if '회사' in val:\n",
        "          fv_df.loc[i,'average_salary'] = np.NAN\n",
        "        if '수집' in val:\n",
        "          fv_df.loc[i,'average_salary'] = np.NAN\n",
        "\n",
        "  for i, val in enumerate(tfv):\n",
        "    if type(val) == str:\n",
        "        if '조원' in val:\n",
        "          tmp = float(val[:-2].replace(',',''))*1000\n",
        "          fv_df.loc[i,'total_sale'] = tmp\n",
        "        if '억원' in val:\n",
        "          tmp = float(val[:-2].replace(',',''))\n",
        "          fv_df.loc[i,'total_sale'] = tmp\n",
        "        if '억' in val:\n",
        "          tmp = float(val[:-1].replace(',',''))\n",
        "          fv_df.loc[i,'total_sale'] = tmp\n",
        "          print(fv_df.loc[i,'total_sale'])\n",
        "          print(i)\n",
        "        if '회사' in val:\n",
        "          fv_df.loc[i,'total_sale'] = np.NAN\n",
        "\n",
        "  return fv_df"
      ],
      "metadata": {
        "id": "KEHVA8MtTjeu"
      },
      "execution_count": 10,
      "outputs": []
    },
    {
      "cell_type": "code",
      "source": [
        "combined_data = pd.read_csv(\"/content/drive/MyDrive/bow_df.csv\")\n"
      ],
      "metadata": {
        "id": "Zf_2hCA7PjDe"
      },
      "execution_count": 11,
      "outputs": []
    },
    {
      "cell_type": "code",
      "source": [
        "\n",
        "from sklearn.model_selection import train_test_split\n",
        "combined_data = combined_data[combined_data['turn_over_rate']<1]\n",
        "error_firm = ['동원홈푸드','휠라홀딩스','트리','와디즈','키위컴퍼니','줌인터넷','시선인터내셔널','브이티코스메틱','유니슨이테크','씨엠비대전방송','서울비젼','더메인즈','조은시스템']\n",
        "for i in error_firm:\n",
        "    combined_data = combined_data[combined_data.company_name != i]\n",
        "combined_data.dropna(axis=0, inplace=True)\n",
        "combined_data = combined_data.drop(['Unnamed: 0'], axis=1)\n",
        "combined_data = fv_preprocessing(combined_data)\n",
        "tor = combined_data['turn_over_rate']\n",
        "combined_data.drop('turn_over_rate', axis=1, inplace=True)\n"
      ],
      "metadata": {
        "id": "aXS7sVi9PtxX"
      },
      "execution_count": 12,
      "outputs": []
    },
    {
      "cell_type": "code",
      "source": [
        "from wordcloud import WordCloud\n",
        "import matplotlib.pyplot as plt\n",
        "\n",
        "# 한글 폰트 설정\n",
        "font_path = \"/usr/share/fonts/truetype/nanum/NanumBarunGothic.ttf\"\n",
        "\n",
        "# 'adv'와 'dadv' 컬럼의 텍스트를 합치기\n",
        "combined_text = \" \".join(combined_data['adv'] + \" \" + combined_data['dadv'])\n",
        "\n",
        "# 워드 클라우드 생성\n",
        "wordcloud = WordCloud(font_path=font_path, width=800, height=400, max_words=100, background_color='white').generate(combined_text)\n",
        "\n",
        "# 워드 클라우드 시각화\n",
        "plt.figure(figsize=(10, 5))\n",
        "plt.imshow(wordcloud, interpolation='bilinear')\n",
        "plt.axis('off')\n",
        "plt.show()"
      ],
      "metadata": {
        "colab": {
          "base_uri": "https://localhost:8080/",
          "height": 422
        },
        "id": "uOptHuAYOO49",
        "outputId": "92ed26de-94ed-42b9-d166-06d0825b2074"
      },
      "execution_count": 40,
      "outputs": [
        {
          "output_type": "display_data",
          "data": {
            "text/plain": [
              "<Figure size 1000x500 with 1 Axes>"
            ],
            "image/png": "[encoded data removed]"
          },
          "metadata": {}
        }
      ]
    },
    {
      "cell_type": "code",
      "source": [
        "combined_data = combined_data.drop(['company_name'], axis = 1, inplace = False)"
      ],
      "metadata": {
        "id": "9iO6ytOazvEK"
      },
      "execution_count": 13,
      "outputs": []
    },
    {
      "cell_type": "code",
      "source": [
        "train_input, test_input, train_target, test_target = train_test_split(combined_data, tor, test_size=0.2)"
      ],
      "metadata": {
        "id": "c7LRvV59Te59"
      },
      "execution_count": 14,
      "outputs": []
    },
    {
      "cell_type": "code",
      "source": [
        "train_input"
      ],
      "metadata": {
        "colab": {
          "base_uri": "https://localhost:8080/",
          "height": 597
        },
        "id": "C7mKLnl_UJwZ",
        "outputId": "ebacc0d1-587f-4827-9aed-9d431f0648e5"
      },
      "execution_count": 15,
      "outputs": [
        {
          "output_type": "execute_result",
          "data": {
            "text/plain": [
              "                                                    adv  \\\n",
              "1760  연차를 비교적 자유롭게 쓸수있음부서마다 차이가있겠지만 같이 일하는 직원들이 다 성격...   \n",
              "2403  팀마다 분위기는 다르지만 눈치없이 쓸수 있음 ( 팀마다 천차만별)연봉이 곧 복지다 ...   \n",
              "950   서로 터치 안하는 분위기였던것 같음. 다들 자기 할일에 집중하고 서로 나름 친하게 ...   \n",
              "18    연차를 눈치 안 보고 마음대로 쓸 수 있음, 연차 사유 적지 않음, 5시까지 일함,...   \n",
              "24    워라밸이 보장된다새 건물이라 근무환경이 좋다.복지가 좋다. 돈 많이 주고 무난하다그...   \n",
              "...                                                 ...   \n",
              "446   같이 일하는 사람들이 좋음.. 그뿐임.. 다른분들도 회사의 장점을 말하면 동료라고 ...   \n",
              "2028  칼퇴하는 문화, 그마저도 곱게 보지 않아 사라지는 느낌 1. 칼퇴 지향2. 오후 3...   \n",
              "1423  포괄임금제 없음교육의 기회가 많으며 정년까지 보장된 회사 생활 친구들이나 경력직들과...   \n",
              "1325  월급은 밀린적이 단 한번도 없음, 나름 자율적인 분위기에서 업무 수행가능 팀원간에는...   \n",
              "762   연차 사용 자유 , 카페 ,식당이 괜찮다고 자부할수잇음 기업 복지가 나쁘지 않고, ...   \n",
              "\n",
              "                                                   dadv  average_salary  \\\n",
              "1760  자잘한 회의가 많아서 일이바쁠때는 업무시간이 부족함인수인계가 체계적이지는않아서 초반...            3857   \n",
              "2403  복지가 없음.뭐 명절 전 일찍 퇴근 이런거 하나도 없고, 복장도 신경써야하고유연근무...            5812   \n",
              "950   처음 들어가면 노가다성 문항분류 일을 하게 되는것 같은데 난 그 일을 알바로 잠깐 ...            4095   \n",
              "18    알바는 단점 없습니다 알바라서 커리어에 도움 안된다는거 딱 한가지 그리고 지인 추천...           10001   \n",
              "24    타 금융회사와 마찬가지로 비전이 없다.프로세싱 본업의 포션이 줄고 있다. 갈수록 줄...           10852   \n",
              "...                                                 ...             ...   \n",
              "446   비효율적인 업무보고, 퇴사자들이 매분기마다 있어서 분위기가 자꾸 잡혀지지않음, 잦은...            3167   \n",
              "2028  디자인을 볼줄아는 선임이 없음, 디자인 발전에 고민을 하지 않음, 컨셉이 필요하지 ...            4232   \n",
              "1423  대산이라는 지역 적응하긴 어려우나 그래도 나름 서울이랑 가깝긴함7-4제 시행 사람마...            6082   \n",
              "1325  단순 보고를 위한 미팅 및 보고서 작성이 많음, 퇴근시간에 대해 눈치가 많이 보임 ...            5430   \n",
              "762   뭐 다양한각도로 이야기 할필요가없음 그냥 비전이없음회사를 평생다닐게 아니면 아무런 ...            6090   \n",
              "\n",
              "     total_sale  \n",
              "1760      227.7  \n",
              "2403      221.9  \n",
              "950       188.3  \n",
              "18      13000.0  \n",
              "24       3500.0  \n",
              "...         ...  \n",
              "446        41.6  \n",
              "2028      107.3  \n",
              "1423     9800.0  \n",
              "1325     1390.1  \n",
              "762       475.3  \n",
              "\n",
              "[1844 rows x 4 columns]"
            ],
            "text/html": [
              "\n",
              "  <div id=\"df-0bec8cba-1c7d-4c74-bccb-e1d949b02dc2\" class=\"colab-df-container\">\n",
              "    <div>\n",
              "<style scoped>\n",
              "    .dataframe tbody tr th:only-of-type {\n",
              "        vertical-align: middle;\n",
              "    }\n",
              "\n",
              "    .dataframe tbody tr th {\n",
              "        vertical-align: top;\n",
              "    }\n",
              "\n",
              "    .dataframe thead th {\n",
              "        text-align: right;\n",
              "    }\n",
              "</style>\n",
              "<table border=\"1\" class=\"dataframe\">\n",
              "  <thead>\n",
              "    <tr style=\"text-align: right;\">\n",
              "      <th></th>\n",
              "      <th>adv</th>\n",
              "      <th>dadv</th>\n",
              "      <th>average_salary</th>\n",
              "      <th>total_sale</th>\n",
              "    </tr>\n",
              "  </thead>\n",
              "  <tbody>\n",
              "    <tr>\n",
              "      <th>1760</th>\n",
              "      <td>연차를 비교적 자유롭게 쓸수있음부서마다 차이가있겠지만 같이 일하는 직원들이 다 성격...</td>\n",
              "      <td>자잘한 회의가 많아서 일이바쁠때는 업무시간이 부족함인수인계가 체계적이지는않아서 초반...</td>\n",
              "      <td>3857</td>\n",
              "      <td>227.7</td>\n",
              "    </tr>\n",
              "    <tr>\n",
              "      <th>2403</th>\n",
              "      <td>팀마다 분위기는 다르지만 눈치없이 쓸수 있음 ( 팀마다 천차만별)연봉이 곧 복지다 ...</td>\n",
              "      <td>복지가 없음.뭐 명절 전 일찍 퇴근 이런거 하나도 없고, 복장도 신경써야하고유연근무...</td>\n",
              "      <td>5812</td>\n",
              "      <td>221.9</td>\n",
              "    </tr>\n",
              "    <tr>\n",
              "      <th>950</th>\n",
              "      <td>서로 터치 안하는 분위기였던것 같음. 다들 자기 할일에 집중하고 서로 나름 친하게 ...</td>\n",
              "      <td>처음 들어가면 노가다성 문항분류 일을 하게 되는것 같은데 난 그 일을 알바로 잠깐 ...</td>\n",
              "      <td>4095</td>\n",
              "      <td>188.3</td>\n",
              "    </tr>\n",
              "    <tr>\n",
              "      <th>18</th>\n",
              "      <td>연차를 눈치 안 보고 마음대로 쓸 수 있음, 연차 사유 적지 않음, 5시까지 일함,...</td>\n",
              "      <td>알바는 단점 없습니다 알바라서 커리어에 도움 안된다는거 딱 한가지 그리고 지인 추천...</td>\n",
              "      <td>10001</td>\n",
              "      <td>13000.0</td>\n",
              "    </tr>\n",
              "    <tr>\n",
              "      <th>24</th>\n",
              "      <td>워라밸이 보장된다새 건물이라 근무환경이 좋다.복지가 좋다. 돈 많이 주고 무난하다그...</td>\n",
              "      <td>타 금융회사와 마찬가지로 비전이 없다.프로세싱 본업의 포션이 줄고 있다. 갈수록 줄...</td>\n",
              "      <td>10852</td>\n",
              "      <td>3500.0</td>\n",
              "    </tr>\n",
              "    <tr>\n",
              "      <th>...</th>\n",
              "      <td>...</td>\n",
              "      <td>...</td>\n",
              "      <td>...</td>\n",
              "      <td>...</td>\n",
              "    </tr>\n",
              "    <tr>\n",
              "      <th>446</th>\n",
              "      <td>같이 일하는 사람들이 좋음.. 그뿐임.. 다른분들도 회사의 장점을 말하면 동료라고 ...</td>\n",
              "      <td>비효율적인 업무보고, 퇴사자들이 매분기마다 있어서 분위기가 자꾸 잡혀지지않음, 잦은...</td>\n",
              "      <td>3167</td>\n",
              "      <td>41.6</td>\n",
              "    </tr>\n",
              "    <tr>\n",
              "      <th>2028</th>\n",
              "      <td>칼퇴하는 문화, 그마저도 곱게 보지 않아 사라지는 느낌 1. 칼퇴 지향2. 오후 3...</td>\n",
              "      <td>디자인을 볼줄아는 선임이 없음, 디자인 발전에 고민을 하지 않음, 컨셉이 필요하지 ...</td>\n",
              "      <td>4232</td>\n",
              "      <td>107.3</td>\n",
              "    </tr>\n",
              "    <tr>\n",
              "      <th>1423</th>\n",
              "      <td>포괄임금제 없음교육의 기회가 많으며 정년까지 보장된 회사 생활 친구들이나 경력직들과...</td>\n",
              "      <td>대산이라는 지역 적응하긴 어려우나 그래도 나름 서울이랑 가깝긴함7-4제 시행 사람마...</td>\n",
              "      <td>6082</td>\n",
              "      <td>9800.0</td>\n",
              "    </tr>\n",
              "    <tr>\n",
              "      <th>1325</th>\n",
              "      <td>월급은 밀린적이 단 한번도 없음, 나름 자율적인 분위기에서 업무 수행가능 팀원간에는...</td>\n",
              "      <td>단순 보고를 위한 미팅 및 보고서 작성이 많음, 퇴근시간에 대해 눈치가 많이 보임 ...</td>\n",
              "      <td>5430</td>\n",
              "      <td>1390.1</td>\n",
              "    </tr>\n",
              "    <tr>\n",
              "      <th>762</th>\n",
              "      <td>연차 사용 자유 , 카페 ,식당이 괜찮다고 자부할수잇음 기업 복지가 나쁘지 않고, ...</td>\n",
              "      <td>뭐 다양한각도로 이야기 할필요가없음 그냥 비전이없음회사를 평생다닐게 아니면 아무런 ...</td>\n",
              "      <td>6090</td>\n",
              "      <td>475.3</td>\n",
              "    </tr>\n",
              "  </tbody>\n",
              "</table>\n",
              "<p>1844 rows × 4 columns</p>\n",
              "</div>\n",
              "    <div class=\"colab-df-buttons\">\n",
              "\n",
              "  <div class=\"colab-df-container\">\n",
              "    <button class=\"colab-df-convert\" onclick=\"convertToInteractive('df-0bec8cba-1c7d-4c74-bccb-e1d949b02dc2')\"\n",
              "            title=\"Convert this dataframe to an interactive table.\"\n",
              "            style=\"display:none;\">\n",
              "\n",
              "  <svg xmlns=\"http://www.w3.org/2000/svg\" height=\"24px\" viewBox=\"0 -960 960 960\">\n",
              "    <path d=\"M120-120v-720h720v720H120Zm60-500h600v-160H180v160Zm220 220h160v-160H400v160Zm0 220h160v-160H400v160ZM180-400h160v-160H180v160Zm440 0h160v-160H620v160ZM180-180h160v-160H180v160Zm440 0h160v-160H620v160Z\"/>\n",
              "  </svg>\n",
              "    </button>\n",
              "\n",
              "  <style>\n",
              "    .colab-df-container {\n",
              "      display:flex;\n",
              "      gap: 12px;\n",
              "    }\n",
              "\n",
              "    .colab-df-convert {\n",
              "      background-color: #E8F0FE;\n",
              "      border: none;\n",
              "      border-radius: 50%;\n",
              "      cursor: pointer;\n",
              "      display: none;\n",
              "      fill: #1967D2;\n",
              "      height: 32px;\n",
              "      padding: 0 0 0 0;\n",
              "      width: 32px;\n",
              "    }\n",
              "\n",
              "    .colab-df-convert:hover {\n",
              "      background-color: #E2EBFA;\n",
              "      box-shadow: 0px 1px 2px rgba(60, 64, 67, 0.3), 0px 1px 3px 1px rgba(60, 64, 67, 0.15);\n",
              "      fill: #174EA6;\n",
              "    }\n",
              "\n",
              "    .colab-df-buttons div {\n",
              "      margin-bottom: 4px;\n",
              "    }\n",
              "\n",
              "    [theme=dark] .colab-df-convert {\n",
              "      background-color: #3B4455;\n",
              "      fill: #D2E3FC;\n",
              "    }\n",
              "\n",
              "    [theme=dark] .colab-df-convert:hover {\n",
              "      background-color: #434B5C;\n",
              "      box-shadow: 0px 1px 3px 1px rgba(0, 0, 0, 0.15);\n",
              "      filter: drop-shadow(0px 1px 2px rgba(0, 0, 0, 0.3));\n",
              "      fill: #FFFFFF;\n",
              "    }\n",
              "  </style>\n",
              "\n",
              "    <script>\n",
              "      const buttonEl =\n",
              "        document.querySelector('#df-0bec8cba-1c7d-4c74-bccb-e1d949b02dc2 button.colab-df-convert');\n",
              "      buttonEl.style.display =\n",
              "        google.colab.kernel.accessAllowed ? 'block' : 'none';\n",
              "\n",
              "      async function convertToInteractive(key) {\n",
              "        const element = document.querySelector('#df-0bec8cba-1c7d-4c74-bccb-e1d949b02dc2');\n",
              "        const dataTable =\n",
              "          await google.colab.kernel.invokeFunction('convertToInteractive',\n",
              "                                                    [key], {});\n",
              "        if (!dataTable) return;\n",
              "\n",
              "        const docLinkHtml = 'Like what you see? Visit the ' +\n",
              "          '<a target=\"_blank\" href=https://colab.research.google.com/notebooks/data_table.ipynb>data table notebook</a>'\n",
              "          + ' to learn more about interactive tables.';\n",
              "        element.innerHTML = '';\n",
              "        dataTable['output_type'] = 'display_data';\n",
              "        await google.colab.output.renderOutput(dataTable, element);\n",
              "        const docLink = document.createElement('div');\n",
              "        docLink.innerHTML = docLinkHtml;\n",
              "        element.appendChild(docLink);\n",
              "      }\n",
              "    </script>\n",
              "  </div>\n",
              "\n",
              "\n",
              "<div id=\"df-7a4ef59b-64a3-4e9c-8c79-61fc276a3b80\">\n",
              "  <button class=\"colab-df-quickchart\" onclick=\"quickchart('df-7a4ef59b-64a3-4e9c-8c79-61fc276a3b80')\"\n",
              "            title=\"Suggest charts.\"\n",
              "            style=\"display:none;\">\n",
              "\n",
              "<svg xmlns=\"http://www.w3.org/2000/svg\" height=\"24px\"viewBox=\"0 0 24 24\"\n",
              "     width=\"24px\">\n",
              "    <g>\n",
              "        <path d=\"M19 3H5c-1.1 0-2 .9-2 2v14c0 1.1.9 2 2 2h14c1.1 0 2-.9 2-2V5c0-1.1-.9-2-2-2zM9 17H7v-7h2v7zm4 0h-2V7h2v10zm4 0h-2v-4h2v4z\"/>\n",
              "    </g>\n",
              "</svg>\n",
              "  </button>\n",
              "\n",
              "<style>\n",
              "  .colab-df-quickchart {\n",
              "      --bg-color: #E8F0FE;\n",
              "      --fill-color: #1967D2;\n",
              "      --hover-bg-color: #E2EBFA;\n",
              "      --hover-fill-color: #174EA6;\n",
              "      --disabled-fill-color: #AAA;\n",
              "      --disabled-bg-color: #DDD;\n",
              "  }\n",
              "\n",
              "  [theme=dark] .colab-df-quickchart {\n",
              "      --bg-color: #3B4455;\n",
              "      --fill-color: #D2E3FC;\n",
              "      --hover-bg-color: #434B5C;\n",
              "      --hover-fill-color: #FFFFFF;\n",
              "      --disabled-bg-color: #3B4455;\n",
              "      --disabled-fill-color: #666;\n",
              "  }\n",
              "\n",
              "  .colab-df-quickchart {\n",
              "    background-color: var(--bg-color);\n",
              "    border: none;\n",
              "    border-radius: 50%;\n",
              "    cursor: pointer;\n",
              "    display: none;\n",
              "    fill: var(--fill-color);\n",
              "    height: 32px;\n",
              "    padding: 0;\n",
              "    width: 32px;\n",
              "  }\n",
              "\n",
              "  .colab-df-quickchart:hover {\n",
              "    background-color: var(--hover-bg-color);\n",
              "    box-shadow: 0 1px 2px rgba(60, 64, 67, 0.3), 0 1px 3px 1px rgba(60, 64, 67, 0.15);\n",
              "    fill: var(--button-hover-fill-color);\n",
              "  }\n",
              "\n",
              "  .colab-df-quickchart-complete:disabled,\n",
              "  .colab-df-quickchart-complete:disabled:hover {\n",
              "    background-color: var(--disabled-bg-color);\n",
              "    fill: var(--disabled-fill-color);\n",
              "    box-shadow: none;\n",
              "  }\n",
              "\n",
              "  .colab-df-spinner {\n",
              "    border: 2px solid var(--fill-color);\n",
              "    border-color: transparent;\n",
              "    border-bottom-color: var(--fill-color);\n",
              "    animation:\n",
              "      spin 1s steps(1) infinite;\n",
              "  }\n",
              "\n",
              "  @keyframes spin {\n",
              "    0% {\n",
              "      border-color: transparent;\n",
              "      border-bottom-color: var(--fill-color);\n",
              "      border-left-color: var(--fill-color);\n",
              "    }\n",
              "    20% {\n",
              "      border-color: transparent;\n",
              "      border-left-color: var(--fill-color);\n",
              "      border-top-color: var(--fill-color);\n",
              "    }\n",
              "    30% {\n",
              "      border-color: transparent;\n",
              "      border-left-color: var(--fill-color);\n",
              "      border-top-color: var(--fill-color);\n",
              "      border-right-color: var(--fill-color);\n",
              "    }\n",
              "    40% {\n",
              "      border-color: transparent;\n",
              "      border-right-color: var(--fill-color);\n",
              "      border-top-color: var(--fill-color);\n",
              "    }\n",
              "    60% {\n",
              "      border-color: transparent;\n",
              "      border-right-color: var(--fill-color);\n",
              "    }\n",
              "    80% {\n",
              "      border-color: transparent;\n",
              "      border-right-color: var(--fill-color);\n",
              "      border-bottom-color: var(--fill-color);\n",
              "    }\n",
              "    90% {\n",
              "      border-color: transparent;\n",
              "      border-bottom-color: var(--fill-color);\n",
              "    }\n",
              "  }\n",
              "</style>\n",
              "\n",
              "  <script>\n",
              "    async function quickchart(key) {\n",
              "      const quickchartButtonEl =\n",
              "        document.querySelector('#' + key + ' button');\n",
              "      quickchartButtonEl.disabled = true;  // To prevent multiple clicks.\n",
              "      quickchartButtonEl.classList.add('colab-df-spinner');\n",
              "      try {\n",
              "        const charts = await google.colab.kernel.invokeFunction(\n",
              "            'suggestCharts', [key], {});\n",
              "      } catch (error) {\n",
              "        console.error('Error during call to suggestCharts:', error);\n",
              "      }\n",
              "      quickchartButtonEl.classList.remove('colab-df-spinner');\n",
              "      quickchartButtonEl.classList.add('colab-df-quickchart-complete');\n",
              "    }\n",
              "    (() => {\n",
              "      let quickchartButtonEl =\n",
              "        document.querySelector('#df-7a4ef59b-64a3-4e9c-8c79-61fc276a3b80 button');\n",
              "      quickchartButtonEl.style.display =\n",
              "        google.colab.kernel.accessAllowed ? 'block' : 'none';\n",
              "    })();\n",
              "  </script>\n",
              "</div>\n",
              "    </div>\n",
              "  </div>\n"
            ]
          },
          "metadata": {},
          "execution_count": 15
        }
      ]
    },
    {
      "cell_type": "code",
      "source": [
        "test_input"
      ],
      "metadata": {
        "colab": {
          "base_uri": "https://localhost:8080/",
          "height": 597
        },
        "id": "AZDHsJi5UOV-",
        "outputId": "82986613-7df7-40bc-8e0e-5161a44f56a6"
      },
      "execution_count": 16,
      "outputs": [
        {
          "output_type": "execute_result",
          "data": {
            "text/plain": [
              "                                                    adv  \\\n",
              "2358  큰 업무역량이 필요 없음, 가만히 서있으면 되는 흔한 보안업 생각하면 된다. 보너스...   \n",
              "2018  전체적으로 타이트하지는 않음. 그래서 주니어들에게는 더더욱 피해야 할 회사. 시니어...   \n",
              "1317  - 서울사무소 기준 4.5일 근무가 최대장점임 ,매주 금요일 오전만 근무해서 오후에...   \n",
              "532   업무 특성상 주말 근무와 필수 야근이 있는데 그럴 때 연차와 오후 출근이 가능합니다...   \n",
              "268   자유로운 복장, 반반차, 해피런치 끝더이상 말 할 장점이 없다 너무 좋은 동료들을 ...   \n",
              "...                                                 ...   \n",
              "2408  커리어우먼을 하고 싶다면 여기 오세요 그리고 승진체계로 되어 있어서 본인만 잘 하면...   \n",
              "1262  자유로운 분위기입니다. 특별하게 바쁘지만 않으면 업무시간에 카페 가는거, 병원 가는...   \n",
              "47    욕심없이 다니기에 좋다 사람들이 욕심이없어서 순한 편이다 만나는 고객들이 대표들이라...   \n",
              "2189  워라벨 좋음, 다같이 일을 안하기 때문에 하향평준화 되어있음, 조금만 해도 티가 확...   \n",
              "2303  공공기관 아니므로 서울근무 가능하며 급여수준도 많이 좋아졌습니다 아르바이트였는데 점...   \n",
              "\n",
              "                                                   dadv  average_salary  \\\n",
              "2358  미래의 불안정 회사내규 그리고 고객사 겉은 번지지르르하지만 워라벨이 없고 휴무보장이...            5255   \n",
              "2018  체계가 없음.팀의 구분도 정확하지 않고, 타팀의 업무를 그냥 만만한 팀이 짬처리 받...            2985   \n",
              "1317  - 자체 그룹웨어를 쓰는데 어려워서 익숙해지는데 시간걸림- 경력직 입사자가 대부분이...            4583   \n",
              "532   보고를 위한 보고가 진행되면서 데일리 보고 2개, 위클리 2개, 몬쓸리 1개 기본으...            2984   \n",
              "268   업무량이 많음 무능력한 윗사람 밑에서 일하는 실무진만 죽어나가는 구조, 갑자기 내려...            3434   \n",
              "...                                                 ...             ...   \n",
              "2408  장점 빼고 다 단점. 본인 할일 다 못채울 정도로 일이 많고 힘듬 못하면 집에서 하...            3924   \n",
              "1262  벤더치고 연봉이 매우 짭니다. 신입 초봉 3천후반입니다.사람은 많이 나가는데 인원 ...            5151   \n",
              "47    순환근무의 압박이 심하다언제 어디로 갈지 모르는 전국 순환근무로 가정이 위태롭다 고...            8979   \n",
              "2189  지속적인 품절로 인한 실적 하락(열심히 해놔도 마케팅에서 한큐에 다 조짐)일 잘하고...            5725   \n",
              "2303  역사가 깃든 조직답게 보수적인 업무스타일이며 오너가 바뀔때마다 고생을 합니다 그렇게...            6032   \n",
              "\n",
              "     total_sale  \n",
              "2358     1788.3  \n",
              "2018       86.4  \n",
              "1317     3053.7  \n",
              "532       244.2  \n",
              "268       352.0  \n",
              "...         ...  \n",
              "2408      867.8  \n",
              "1262     4683.2  \n",
              "47       3396.9  \n",
              "2189     1391.3  \n",
              "2303     2630.2  \n",
              "\n",
              "[461 rows x 4 columns]"
            ],
            "text/html": [
              "\n",
              "  <div id=\"df-28a9b7d5-16b8-481d-a8e6-bde74c14cd62\" class=\"colab-df-container\">\n",
              "    <div>\n",
              "<style scoped>\n",
              "    .dataframe tbody tr th:only-of-type {\n",
              "        vertical-align: middle;\n",
              "    }\n",
              "\n",
              "    .dataframe tbody tr th {\n",
              "        vertical-align: top;\n",
              "    }\n",
              "\n",
              "    .dataframe thead th {\n",
              "        text-align: right;\n",
              "    }\n",
              "</style>\n",
              "<table border=\"1\" class=\"dataframe\">\n",
              "  <thead>\n",
              "    <tr style=\"text-align: right;\">\n",
              "      <th></th>\n",
              "      <th>adv</th>\n",
              "      <th>dadv</th>\n",
              "      <th>average_salary</th>\n",
              "      <th>total_sale</th>\n",
              "    </tr>\n",
              "  </thead>\n",
              "  <tbody>\n",
              "    <tr>\n",
              "      <th>2358</th>\n",
              "      <td>큰 업무역량이 필요 없음, 가만히 서있으면 되는 흔한 보안업 생각하면 된다. 보너스...</td>\n",
              "      <td>미래의 불안정 회사내규 그리고 고객사 겉은 번지지르르하지만 워라벨이 없고 휴무보장이...</td>\n",
              "      <td>5255</td>\n",
              "      <td>1788.3</td>\n",
              "    </tr>\n",
              "    <tr>\n",
              "      <th>2018</th>\n",
              "      <td>전체적으로 타이트하지는 않음. 그래서 주니어들에게는 더더욱 피해야 할 회사. 시니어...</td>\n",
              "      <td>체계가 없음.팀의 구분도 정확하지 않고, 타팀의 업무를 그냥 만만한 팀이 짬처리 받...</td>\n",
              "      <td>2985</td>\n",
              "      <td>86.4</td>\n",
              "    </tr>\n",
              "    <tr>\n",
              "      <th>1317</th>\n",
              "      <td>- 서울사무소 기준 4.5일 근무가 최대장점임 ,매주 금요일 오전만 근무해서 오후에...</td>\n",
              "      <td>- 자체 그룹웨어를 쓰는데 어려워서 익숙해지는데 시간걸림- 경력직 입사자가 대부분이...</td>\n",
              "      <td>4583</td>\n",
              "      <td>3053.7</td>\n",
              "    </tr>\n",
              "    <tr>\n",
              "      <th>532</th>\n",
              "      <td>업무 특성상 주말 근무와 필수 야근이 있는데 그럴 때 연차와 오후 출근이 가능합니다...</td>\n",
              "      <td>보고를 위한 보고가 진행되면서 데일리 보고 2개, 위클리 2개, 몬쓸리 1개 기본으...</td>\n",
              "      <td>2984</td>\n",
              "      <td>244.2</td>\n",
              "    </tr>\n",
              "    <tr>\n",
              "      <th>268</th>\n",
              "      <td>자유로운 복장, 반반차, 해피런치 끝더이상 말 할 장점이 없다 너무 좋은 동료들을 ...</td>\n",
              "      <td>업무량이 많음 무능력한 윗사람 밑에서 일하는 실무진만 죽어나가는 구조, 갑자기 내려...</td>\n",
              "      <td>3434</td>\n",
              "      <td>352.0</td>\n",
              "    </tr>\n",
              "    <tr>\n",
              "      <th>...</th>\n",
              "      <td>...</td>\n",
              "      <td>...</td>\n",
              "      <td>...</td>\n",
              "      <td>...</td>\n",
              "    </tr>\n",
              "    <tr>\n",
              "      <th>2408</th>\n",
              "      <td>커리어우먼을 하고 싶다면 여기 오세요 그리고 승진체계로 되어 있어서 본인만 잘 하면...</td>\n",
              "      <td>장점 빼고 다 단점. 본인 할일 다 못채울 정도로 일이 많고 힘듬 못하면 집에서 하...</td>\n",
              "      <td>3924</td>\n",
              "      <td>867.8</td>\n",
              "    </tr>\n",
              "    <tr>\n",
              "      <th>1262</th>\n",
              "      <td>자유로운 분위기입니다. 특별하게 바쁘지만 않으면 업무시간에 카페 가는거, 병원 가는...</td>\n",
              "      <td>벤더치고 연봉이 매우 짭니다. 신입 초봉 3천후반입니다.사람은 많이 나가는데 인원 ...</td>\n",
              "      <td>5151</td>\n",
              "      <td>4683.2</td>\n",
              "    </tr>\n",
              "    <tr>\n",
              "      <th>47</th>\n",
              "      <td>욕심없이 다니기에 좋다 사람들이 욕심이없어서 순한 편이다 만나는 고객들이 대표들이라...</td>\n",
              "      <td>순환근무의 압박이 심하다언제 어디로 갈지 모르는 전국 순환근무로 가정이 위태롭다 고...</td>\n",
              "      <td>8979</td>\n",
              "      <td>3396.9</td>\n",
              "    </tr>\n",
              "    <tr>\n",
              "      <th>2189</th>\n",
              "      <td>워라벨 좋음, 다같이 일을 안하기 때문에 하향평준화 되어있음, 조금만 해도 티가 확...</td>\n",
              "      <td>지속적인 품절로 인한 실적 하락(열심히 해놔도 마케팅에서 한큐에 다 조짐)일 잘하고...</td>\n",
              "      <td>5725</td>\n",
              "      <td>1391.3</td>\n",
              "    </tr>\n",
              "    <tr>\n",
              "      <th>2303</th>\n",
              "      <td>공공기관 아니므로 서울근무 가능하며 급여수준도 많이 좋아졌습니다 아르바이트였는데 점...</td>\n",
              "      <td>역사가 깃든 조직답게 보수적인 업무스타일이며 오너가 바뀔때마다 고생을 합니다 그렇게...</td>\n",
              "      <td>6032</td>\n",
              "      <td>2630.2</td>\n",
              "    </tr>\n",
              "  </tbody>\n",
              "</table>\n",
              "<p>461 rows × 4 columns</p>\n",
              "</div>\n",
              "    <div class=\"colab-df-buttons\">\n",
              "\n",
              "  <div class=\"colab-df-container\">\n",
              "    <button class=\"colab-df-convert\" onclick=\"convertToInteractive('df-28a9b7d5-16b8-481d-a8e6-bde74c14cd62')\"\n",
              "            title=\"Convert this dataframe to an interactive table.\"\n",
              "            style=\"display:none;\">\n",
              "\n",
              "  <svg xmlns=\"http://www.w3.org/2000/svg\" height=\"24px\" viewBox=\"0 -960 960 960\">\n",
              "    <path d=\"M120-120v-720h720v720H120Zm60-500h600v-160H180v160Zm220 220h160v-160H400v160Zm0 220h160v-160H400v160ZM180-400h160v-160H180v160Zm440 0h160v-160H620v160ZM180-180h160v-160H180v160Zm440 0h160v-160H620v160Z\"/>\n",
              "  </svg>\n",
              "    </button>\n",
              "\n",
              "  <style>\n",
              "    .colab-df-container {\n",
              "      display:flex;\n",
              "      gap: 12px;\n",
              "    }\n",
              "\n",
              "    .colab-df-convert {\n",
              "      background-color: #E8F0FE;\n",
              "      border: none;\n",
              "      border-radius: 50%;\n",
              "      cursor: pointer;\n",
              "      display: none;\n",
              "      fill: #1967D2;\n",
              "      height: 32px;\n",
              "      padding: 0 0 0 0;\n",
              "      width: 32px;\n",
              "    }\n",
              "\n",
              "    .colab-df-convert:hover {\n",
              "      background-color: #E2EBFA;\n",
              "      box-shadow: 0px 1px 2px rgba(60, 64, 67, 0.3), 0px 1px 3px 1px rgba(60, 64, 67, 0.15);\n",
              "      fill: #174EA6;\n",
              "    }\n",
              "\n",
              "    .colab-df-buttons div {\n",
              "      margin-bottom: 4px;\n",
              "    }\n",
              "\n",
              "    [theme=dark] .colab-df-convert {\n",
              "      background-color: #3B4455;\n",
              "      fill: #D2E3FC;\n",
              "    }\n",
              "\n",
              "    [theme=dark] .colab-df-convert:hover {\n",
              "      background-color: #434B5C;\n",
              "      box-shadow: 0px 1px 3px 1px rgba(0, 0, 0, 0.15);\n",
              "      filter: drop-shadow(0px 1px 2px rgba(0, 0, 0, 0.3));\n",
              "      fill: #FFFFFF;\n",
              "    }\n",
              "  </style>\n",
              "\n",
              "    <script>\n",
              "      const buttonEl =\n",
              "        document.querySelector('#df-28a9b7d5-16b8-481d-a8e6-bde74c14cd62 button.colab-df-convert');\n",
              "      buttonEl.style.display =\n",
              "        google.colab.kernel.accessAllowed ? 'block' : 'none';\n",
              "\n",
              "      async function convertToInteractive(key) {\n",
              "        const element = document.querySelector('#df-28a9b7d5-16b8-481d-a8e6-bde74c14cd62');\n",
              "        const dataTable =\n",
              "          await google.colab.kernel.invokeFunction('convertToInteractive',\n",
              "                                                    [key], {});\n",
              "        if (!dataTable) return;\n",
              "\n",
              "        const docLinkHtml = 'Like what you see? Visit the ' +\n",
              "          '<a target=\"_blank\" href=https://colab.research.google.com/notebooks/data_table.ipynb>data table notebook</a>'\n",
              "          + ' to learn more about interactive tables.';\n",
              "        element.innerHTML = '';\n",
              "        dataTable['output_type'] = 'display_data';\n",
              "        await google.colab.output.renderOutput(dataTable, element);\n",
              "        const docLink = document.createElement('div');\n",
              "        docLink.innerHTML = docLinkHtml;\n",
              "        element.appendChild(docLink);\n",
              "      }\n",
              "    </script>\n",
              "  </div>\n",
              "\n",
              "\n",
              "<div id=\"df-29c3058a-0d53-4979-b69c-cc66f2d6f0ad\">\n",
              "  <button class=\"colab-df-quickchart\" onclick=\"quickchart('df-29c3058a-0d53-4979-b69c-cc66f2d6f0ad')\"\n",
              "            title=\"Suggest charts.\"\n",
              "            style=\"display:none;\">\n",
              "\n",
              "<svg xmlns=\"http://www.w3.org/2000/svg\" height=\"24px\"viewBox=\"0 0 24 24\"\n",
              "     width=\"24px\">\n",
              "    <g>\n",
              "        <path d=\"M19 3H5c-1.1 0-2 .9-2 2v14c0 1.1.9 2 2 2h14c1.1 0 2-.9 2-2V5c0-1.1-.9-2-2-2zM9 17H7v-7h2v7zm4 0h-2V7h2v10zm4 0h-2v-4h2v4z\"/>\n",
              "    </g>\n",
              "</svg>\n",
              "  </button>\n",
              "\n",
              "<style>\n",
              "  .colab-df-quickchart {\n",
              "      --bg-color: #E8F0FE;\n",
              "      --fill-color: #1967D2;\n",
              "      --hover-bg-color: #E2EBFA;\n",
              "      --hover-fill-color: #174EA6;\n",
              "      --disabled-fill-color: #AAA;\n",
              "      --disabled-bg-color: #DDD;\n",
              "  }\n",
              "\n",
              "  [theme=dark] .colab-df-quickchart {\n",
              "      --bg-color: #3B4455;\n",
              "      --fill-color: #D2E3FC;\n",
              "      --hover-bg-color: #434B5C;\n",
              "      --hover-fill-color: #FFFFFF;\n",
              "      --disabled-bg-color: #3B4455;\n",
              "      --disabled-fill-color: #666;\n",
              "  }\n",
              "\n",
              "  .colab-df-quickchart {\n",
              "    background-color: var(--bg-color);\n",
              "    border: none;\n",
              "    border-radius: 50%;\n",
              "    cursor: pointer;\n",
              "    display: none;\n",
              "    fill: var(--fill-color);\n",
              "    height: 32px;\n",
              "    padding: 0;\n",
              "    width: 32px;\n",
              "  }\n",
              "\n",
              "  .colab-df-quickchart:hover {\n",
              "    background-color: var(--hover-bg-color);\n",
              "    box-shadow: 0 1px 2px rgba(60, 64, 67, 0.3), 0 1px 3px 1px rgba(60, 64, 67, 0.15);\n",
              "    fill: var(--button-hover-fill-color);\n",
              "  }\n",
              "\n",
              "  .colab-df-quickchart-complete:disabled,\n",
              "  .colab-df-quickchart-complete:disabled:hover {\n",
              "    background-color: var(--disabled-bg-color);\n",
              "    fill: var(--disabled-fill-color);\n",
              "    box-shadow: none;\n",
              "  }\n",
              "\n",
              "  .colab-df-spinner {\n",
              "    border: 2px solid var(--fill-color);\n",
              "    border-color: transparent;\n",
              "    border-bottom-color: var(--fill-color);\n",
              "    animation:\n",
              "      spin 1s steps(1) infinite;\n",
              "  }\n",
              "\n",
              "  @keyframes spin {\n",
              "    0% {\n",
              "      border-color: transparent;\n",
              "      border-bottom-color: var(--fill-color);\n",
              "      border-left-color: var(--fill-color);\n",
              "    }\n",
              "    20% {\n",
              "      border-color: transparent;\n",
              "      border-left-color: var(--fill-color);\n",
              "      border-top-color: var(--fill-color);\n",
              "    }\n",
              "    30% {\n",
              "      border-color: transparent;\n",
              "      border-left-color: var(--fill-color);\n",
              "      border-top-color: var(--fill-color);\n",
              "      border-right-color: var(--fill-color);\n",
              "    }\n",
              "    40% {\n",
              "      border-color: transparent;\n",
              "      border-right-color: var(--fill-color);\n",
              "      border-top-color: var(--fill-color);\n",
              "    }\n",
              "    60% {\n",
              "      border-color: transparent;\n",
              "      border-right-color: var(--fill-color);\n",
              "    }\n",
              "    80% {\n",
              "      border-color: transparent;\n",
              "      border-right-color: var(--fill-color);\n",
              "      border-bottom-color: var(--fill-color);\n",
              "    }\n",
              "    90% {\n",
              "      border-color: transparent;\n",
              "      border-bottom-color: var(--fill-color);\n",
              "    }\n",
              "  }\n",
              "</style>\n",
              "\n",
              "  <script>\n",
              "    async function quickchart(key) {\n",
              "      const quickchartButtonEl =\n",
              "        document.querySelector('#' + key + ' button');\n",
              "      quickchartButtonEl.disabled = true;  // To prevent multiple clicks.\n",
              "      quickchartButtonEl.classList.add('colab-df-spinner');\n",
              "      try {\n",
              "        const charts = await google.colab.kernel.invokeFunction(\n",
              "            'suggestCharts', [key], {});\n",
              "      } catch (error) {\n",
              "        console.error('Error during call to suggestCharts:', error);\n",
              "      }\n",
              "      quickchartButtonEl.classList.remove('colab-df-spinner');\n",
              "      quickchartButtonEl.classList.add('colab-df-quickchart-complete');\n",
              "    }\n",
              "    (() => {\n",
              "      let quickchartButtonEl =\n",
              "        document.querySelector('#df-29c3058a-0d53-4979-b69c-cc66f2d6f0ad button');\n",
              "      quickchartButtonEl.style.display =\n",
              "        google.colab.kernel.accessAllowed ? 'block' : 'none';\n",
              "    })();\n",
              "  </script>\n",
              "</div>\n",
              "    </div>\n",
              "  </div>\n"
            ]
          },
          "metadata": {},
          "execution_count": 16
        }
      ]
    },
    {
      "cell_type": "code",
      "source": [
        "train_input['adv_dadv_combined'] = train_input['adv'] + ' ' + train_input['dadv']\n",
        "test_input['adv_dadv_combined'] = test_input['adv'] + ' ' + test_input['dadv']"
      ],
      "metadata": {
        "id": "d4Zzm-eRhLlk"
      },
      "execution_count": 17,
      "outputs": []
    },
    {
      "cell_type": "code",
      "source": [
        "train_text = train_input['adv_dadv_combined'].to_numpy()"
      ],
      "metadata": {
        "id": "c9_UUwahUQre"
      },
      "execution_count": 18,
      "outputs": []
    },
    {
      "cell_type": "code",
      "source": [
        "test_text = test_input['adv_dadv_combined'].to_numpy()"
      ],
      "metadata": {
        "id": "VD570BljWP9u"
      },
      "execution_count": 19,
      "outputs": []
    },
    {
      "cell_type": "code",
      "source": [
        "financial_train1=train_input['average_salary'].to_numpy()\n",
        "financial_train2=train_input['total_sale'].to_numpy()\n",
        "financial_test1=test_input['average_salary'].to_numpy()\n",
        "financial_test2=test_input['total_sale'].to_numpy()"
      ],
      "metadata": {
        "id": "rsEE-3s2YBni"
      },
      "execution_count": 20,
      "outputs": []
    },
    {
      "cell_type": "code",
      "source": [
        "# np.array2string(train_adv_text)\n",
        "# np.array2string(train_dadv_text)\n",
        "# np.array2string(test_adv_text)\n",
        "# np.array2string(test_dadv_text)"
      ],
      "metadata": {
        "id": "ENjYITUzWi8h"
      },
      "execution_count": 21,
      "outputs": []
    },
    {
      "cell_type": "code",
      "source": [
        "from sklearn.feature_extraction.text import TfidfTransformer\n",
        "from sklearn.feature_extraction.text import TfidfVectorizer\n",
        "\n",
        "tfidfvector = TfidfVectorizer()\n",
        "text_train = tfidfvector.fit_transform(train_text)\n",
        "text_test = tfidfvector.transform(test_text)"
      ],
      "metadata": {
        "id": "tFW9MeovVu70"
      },
      "execution_count": 22,
      "outputs": []
    },
    {
      "cell_type": "code",
      "source": [
        "financial_train1 = financial_train1.reshape(-1, 1)\n",
        "financial_train2 = financial_train2.reshape(-1, 1)\n",
        "financial_test1 = financial_test1.reshape(-1, 1)\n",
        "financial_test2 = financial_test2.reshape(-1, 1)"
      ],
      "metadata": {
        "id": "RY_wCXWvZ4ls"
      },
      "execution_count": 23,
      "outputs": []
    },
    {
      "cell_type": "code",
      "source": [
        "financial_train1 = financial_train1.astype(float)\n",
        "financial_train2 = financial_train2.astype(float)\n",
        "financial_test1 = financial_test1.astype(float)\n",
        "financial_test2 = financial_test2.astype(float)"
      ],
      "metadata": {
        "id": "YEU7WUnGaRyn"
      },
      "execution_count": 24,
      "outputs": []
    },
    {
      "cell_type": "code",
      "source": [
        "from scipy.sparse import hstack # tf-idf로 변환된 텍스트 데이터와 금융 데이터를 연결\n",
        "X_train = hstack([text_train, financial_train1, financial_train2])  # 텍스트 데이터와 금융 데이터를 수평으로 연결\n",
        "X_test = hstack([text_test, financial_test1, financial_test2])    # 테스트 데이터에 대해서도 동일하게 수행"
      ],
      "metadata": {
        "id": "3kLsPxaYXicc"
      },
      "execution_count": 25,
      "outputs": []
    },
    {
      "cell_type": "code",
      "source": [
        "y_train = train_target.to_numpy()\n",
        "y_test = test_target.to_numpy()"
      ],
      "metadata": {
        "id": "8rGiRZjybW2W"
      },
      "execution_count": 26,
      "outputs": []
    },
    {
      "cell_type": "code",
      "source": [
        "# Linear Regression\n",
        "from sklearn.model_selection import train_test_split\n",
        "from sklearn.linear_model import LinearRegression, Ridge, Lasso\n",
        "from sklearn.metrics import mean_squared_error, r2_score, mean_absolute_error\n",
        "\n",
        "\n",
        "lr_reg = LinearRegression()\n",
        "lr_reg.fit(X_train, y_train)\n",
        "\n",
        "ridge_reg = Ridge()\n",
        "ridge_reg.fit(X_train, y_train)\n",
        "\n",
        "lasso_reg = Lasso()\n",
        "lasso_reg.fit(X_train,y_train)\n",
        "\n",
        "models = [lr_reg, ridge_reg, lasso_reg]\n",
        "get_rmses(models)\n",
        "print('\\n')\n",
        "get_r2scores(models)\n",
        "print('\\n')\n",
        "get_maes(models)"
      ],
      "metadata": {
        "colab": {
          "base_uri": "https://localhost:8080/"
        },
        "id": "CUAYgbyFZT5a",
        "outputId": "1db7081b-84b0-4c43-db35-4c2e4a6394b4"
      },
      "execution_count": 27,
      "outputs": [
        {
          "output_type": "stream",
          "name": "stdout",
          "text": [
            "LinearRegression train RMSE:  0.054\n",
            "LinearRegression  RMSE:  0.171\n",
            "Ridge train RMSE:  0.085\n",
            "Ridge  RMSE:  0.17\n",
            "Lasso train RMSE:  0.177\n",
            "Lasso  RMSE:  0.186\n",
            "\n",
            "\n",
            "LinearRegression  train_R2SCORE:  0.926\n",
            "LinearRegression  R2SCORE:  0.352\n",
            "Ridge  train_R2SCORE:  0.815\n",
            "Ridge  R2SCORE:  0.357\n",
            "Lasso  train_R2SCORE:  0.189\n",
            "Lasso  R2SCORE:  0.229\n",
            "\n",
            "\n",
            "LinearRegression  train MAE:  0.041\n",
            "LinearRegression  MAE:  0.128\n",
            "Ridge  train MAE:  0.064\n",
            "Ridge  MAE:  0.125\n",
            "Lasso  train MAE:  0.137\n",
            "Lasso  MAE:  0.139\n"
          ]
        }
      ]
    },
    {
      "cell_type": "code",
      "source": [
        "from sklearn.model_selection import GridSearchCV\n",
        "\n",
        "def print_best_params(model, params):\n",
        "\n",
        "    grid_model = GridSearchCV(model, param_grid=params, verbose=3,\n",
        "                              scoring='neg_mean_squared_error', cv=5)\n",
        "    grid_model.fit(X_train,y_train)\n",
        "    mse = -1 * grid_model.best_score_\n",
        "    rmse = np.sqrt(-1*grid_model.best_score_)\n",
        "    print('train: {0} After 5 CV, best average MSE: {1}, best average RMSE: {2}, best alpha: {3}'.format(model.__class__.__name__,np.round(mse,4),\n",
        "                                                                           np.round(rmse,4),grid_model.best_params_))\n",
        "\n",
        "    grid_score = grid_model.score(X_test, y_test)\n",
        "    mse = -1 * grid_score\n",
        "    rmse = np.sqrt(-1*grid_score)\n",
        "    print('test: {0}  MSE: {1}, RMSE: {2}, best alpha: {3}'.format(model.__class__.__name__,np.round(mse,4),\n",
        "                                                                           np.round(rmse,4),grid_model.best_params_))\n",
        "    return grid_model\n",
        "ridge_params = {'alpha':[0.05, 0.1, 1, 5, 8, 10, 12, 15, 20]}\n",
        "lasso_params = {'alpha':[0.001, 0.005, 0.008, 0.05, 0.03, 0.1, 0.5, 1, 5, 10]}\n",
        "ridge_reg = print_best_params(ridge_reg,ridge_params)\n",
        "lasso_reg = print_best_params(lasso_reg,lasso_params)\n"
      ],
      "metadata": {
        "colab": {
          "base_uri": "https://localhost:8080/"
        },
        "id": "5rrJPx7VymU_",
        "outputId": "d1e9ff21-8fb5-484d-9a4a-45b4ab7a0af4"
      },
      "execution_count": 28,
      "outputs": [
        {
          "output_type": "stream",
          "name": "stdout",
          "text": [
            "Fitting 5 folds for each of 9 candidates, totalling 45 fits\n",
            "[CV 1/5] END .......................alpha=0.05;, score=-0.023 total time=   1.9s\n",
            "[CV 2/5] END .......................alpha=0.05;, score=-0.026 total time=   1.3s\n",
            "[CV 3/5] END .......................alpha=0.05;, score=-0.028 total time=   1.3s\n",
            "[CV 4/5] END .......................alpha=0.05;, score=-0.021 total time=   1.4s\n",
            "[CV 5/5] END .......................alpha=0.05;, score=-0.030 total time=   2.1s\n",
            "[CV 1/5] END ........................alpha=0.1;, score=-0.023 total time=   2.2s\n",
            "[CV 2/5] END ........................alpha=0.1;, score=-0.026 total time=   0.9s\n",
            "[CV 3/5] END ........................alpha=0.1;, score=-0.028 total time=   0.5s\n",
            "[CV 4/5] END ........................alpha=0.1;, score=-0.021 total time=   0.5s\n",
            "[CV 5/5] END ........................alpha=0.1;, score=-0.030 total time=   0.6s\n",
            "[CV 1/5] END ..........................alpha=1;, score=-0.024 total time=   0.4s\n",
            "[CV 2/5] END ..........................alpha=1;, score=-0.027 total time=   0.4s\n",
            "[CV 3/5] END ..........................alpha=1;, score=-0.029 total time=   0.4s\n",
            "[CV 4/5] END ..........................alpha=1;, score=-0.022 total time=   0.4s\n",
            "[CV 5/5] END ..........................alpha=1;, score=-0.032 total time=   0.4s\n",
            "[CV 1/5] END ..........................alpha=5;, score=-0.026 total time=   0.3s\n",
            "[CV 2/5] END ..........................alpha=5;, score=-0.029 total time=   0.3s\n",
            "[CV 3/5] END ..........................alpha=5;, score=-0.031 total time=   0.4s\n",
            "[CV 4/5] END ..........................alpha=5;, score=-0.024 total time=   0.3s\n",
            "[CV 5/5] END ..........................alpha=5;, score=-0.035 total time=   0.3s\n",
            "[CV 1/5] END ..........................alpha=8;, score=-0.026 total time=   0.3s\n",
            "[CV 2/5] END ..........................alpha=8;, score=-0.030 total time=   0.3s\n",
            "[CV 3/5] END ..........................alpha=8;, score=-0.032 total time=   0.3s\n",
            "[CV 4/5] END ..........................alpha=8;, score=-0.025 total time=   0.3s\n",
            "[CV 5/5] END ..........................alpha=8;, score=-0.036 total time=   0.3s\n",
            "[CV 1/5] END .........................alpha=10;, score=-0.027 total time=   0.3s\n",
            "[CV 2/5] END .........................alpha=10;, score=-0.030 total time=   0.3s\n",
            "[CV 3/5] END .........................alpha=10;, score=-0.032 total time=   0.3s\n",
            "[CV 4/5] END .........................alpha=10;, score=-0.025 total time=   0.3s\n",
            "[CV 5/5] END .........................alpha=10;, score=-0.036 total time=   0.5s\n",
            "[CV 1/5] END .........................alpha=12;, score=-0.027 total time=   0.6s\n",
            "[CV 2/5] END .........................alpha=12;, score=-0.030 total time=   0.7s\n",
            "[CV 3/5] END .........................alpha=12;, score=-0.032 total time=   0.5s\n",
            "[CV 4/5] END .........................alpha=12;, score=-0.025 total time=   0.6s\n",
            "[CV 5/5] END .........................alpha=12;, score=-0.037 total time=   0.6s\n",
            "[CV 1/5] END .........................alpha=15;, score=-0.027 total time=   0.5s\n",
            "[CV 2/5] END .........................alpha=15;, score=-0.030 total time=   0.5s\n",
            "[CV 3/5] END .........................alpha=15;, score=-0.032 total time=   0.4s\n",
            "[CV 4/5] END .........................alpha=15;, score=-0.025 total time=   0.3s\n",
            "[CV 5/5] END .........................alpha=15;, score=-0.037 total time=   0.3s\n",
            "[CV 1/5] END .........................alpha=20;, score=-0.027 total time=   0.3s\n",
            "[CV 2/5] END .........................alpha=20;, score=-0.031 total time=   0.3s\n",
            "[CV 3/5] END .........................alpha=20;, score=-0.033 total time=   0.3s\n",
            "[CV 4/5] END .........................alpha=20;, score=-0.026 total time=   0.3s\n",
            "[CV 5/5] END .........................alpha=20;, score=-0.037 total time=   0.3s\n",
            "train: Ridge After 5 CV, best average MSE: 0.0259, best average RMSE: 0.161, best alpha: {'alpha': 0.05}\n",
            "test: Ridge  MSE: 0.0281, RMSE: 0.1676, best alpha: {'alpha': 0.05}\n",
            "Fitting 5 folds for each of 10 candidates, totalling 50 fits\n",
            "[CV 1/5] END ......................alpha=0.001;, score=-0.029 total time=   3.7s\n",
            "[CV 2/5] END ......................alpha=0.001;, score=-0.032 total time=   3.8s\n",
            "[CV 3/5] END ......................alpha=0.001;, score=-0.034 total time=   4.3s\n",
            "[CV 4/5] END ......................alpha=0.001;, score=-0.027 total time=   4.1s\n",
            "[CV 5/5] END ......................alpha=0.001;, score=-0.039 total time=   8.7s\n",
            "[CV 1/5] END ......................alpha=0.005;, score=-0.029 total time=   6.2s\n",
            "[CV 2/5] END ......................alpha=0.005;, score=-0.032 total time=   8.4s\n",
            "[CV 3/5] END ......................alpha=0.005;, score=-0.034 total time=   5.1s\n",
            "[CV 4/5] END ......................alpha=0.005;, score=-0.027 total time=   5.1s\n",
            "[CV 5/5] END ......................alpha=0.005;, score=-0.039 total time=   5.0s\n",
            "[CV 1/5] END ......................alpha=0.008;, score=-0.029 total time=   3.7s\n",
            "[CV 2/5] END ......................alpha=0.008;, score=-0.032 total time=   3.8s\n",
            "[CV 3/5] END ......................alpha=0.008;, score=-0.034 total time=   4.4s\n",
            "[CV 4/5] END ......................alpha=0.008;, score=-0.027 total time=   3.8s\n",
            "[CV 5/5] END ......................alpha=0.008;, score=-0.039 total time=   4.3s\n",
            "[CV 1/5] END .......................alpha=0.05;, score=-0.029 total time=   4.1s\n",
            "[CV 2/5] END .......................alpha=0.05;, score=-0.032 total time=   3.9s\n",
            "[CV 3/5] END .......................alpha=0.05;, score=-0.034 total time=   3.7s\n",
            "[CV 4/5] END .......................alpha=0.05;, score=-0.027 total time=   3.8s\n",
            "[CV 5/5] END .......................alpha=0.05;, score=-0.039 total time=   4.9s\n",
            "[CV 1/5] END .......................alpha=0.03;, score=-0.029 total time=   4.1s\n",
            "[CV 2/5] END .......................alpha=0.03;, score=-0.032 total time=   3.9s\n",
            "[CV 3/5] END .......................alpha=0.03;, score=-0.034 total time=   4.1s\n",
            "[CV 4/5] END .......................alpha=0.03;, score=-0.027 total time=   3.7s\n",
            "[CV 5/5] END .......................alpha=0.03;, score=-0.039 total time=   4.6s\n",
            "[CV 1/5] END ........................alpha=0.1;, score=-0.029 total time=   4.6s\n",
            "[CV 2/5] END ........................alpha=0.1;, score=-0.032 total time=   3.8s\n",
            "[CV 3/5] END ........................alpha=0.1;, score=-0.034 total time=   3.7s\n",
            "[CV 4/5] END ........................alpha=0.1;, score=-0.027 total time=   4.8s\n",
            "[CV 5/5] END ........................alpha=0.1;, score=-0.039 total time=   4.5s\n",
            "[CV 1/5] END ........................alpha=0.5;, score=-0.029 total time=   3.8s\n",
            "[CV 2/5] END ........................alpha=0.5;, score=-0.032 total time=   3.9s\n",
            "[CV 3/5] END ........................alpha=0.5;, score=-0.034 total time=   4.3s\n",
            "[CV 4/5] END ........................alpha=0.5;, score=-0.027 total time=   4.4s\n",
            "[CV 5/5] END ........................alpha=0.5;, score=-0.039 total time=   8.2s\n",
            "[CV 1/5] END ..........................alpha=1;, score=-0.028 total time=   6.5s\n",
            "[CV 2/5] END ..........................alpha=1;, score=-0.032 total time=   7.4s\n",
            "[CV 3/5] END ..........................alpha=1;, score=-0.034 total time=   3.7s\n",
            "[CV 4/5] END ..........................alpha=1;, score=-0.027 total time=   3.9s\n",
            "[CV 5/5] END ..........................alpha=1;, score=-0.039 total time=   4.9s\n",
            "[CV 1/5] END ..........................alpha=5;, score=-0.028 total time=   3.8s\n",
            "[CV 2/5] END ..........................alpha=5;, score=-0.032 total time=   3.7s\n",
            "[CV 3/5] END ..........................alpha=5;, score=-0.034 total time=   4.1s\n",
            "[CV 4/5] END ..........................alpha=5;, score=-0.027 total time=   4.3s\n",
            "[CV 5/5] END ..........................alpha=5;, score=-0.039 total time=   4.3s\n",
            "[CV 1/5] END .........................alpha=10;, score=-0.028 total time=   3.8s\n",
            "[CV 2/5] END .........................alpha=10;, score=-0.032 total time=   4.3s\n",
            "[CV 3/5] END .........................alpha=10;, score=-0.034 total time=   3.9s\n",
            "[CV 4/5] END .........................alpha=10;, score=-0.027 total time=   3.7s\n",
            "[CV 5/5] END .........................alpha=10;, score=-0.039 total time=   4.9s\n",
            "train: Lasso After 5 CV, best average MSE: 0.032, best average RMSE: 0.1788, best alpha: {'alpha': 10}\n",
            "test: Lasso  MSE: 0.0348, RMSE: 0.1866, best alpha: {'alpha': 10}\n"
          ]
        }
      ]
    },
    {
      "cell_type": "code",
      "source": [
        "from sklearn.metrics import mean_absolute_error\n",
        "def get_MAE_RMSE(model):\n",
        "  # 모델을 사용하여 예측값 생성\n",
        "  y_pred = model.predict(X_test)\n",
        "\n",
        "  # MAE 계산\n",
        "  mae = mean_absolute_error(y_test, y_pred)\n",
        "  print(f\"MAE: {mae:.4f}\")\n",
        "  # rmse\n",
        "  grid_score = model.score(X_test, y_test)\n",
        "  mse = -1 * grid_score\n",
        "  rmse = np.sqrt(-1*grid_score)\n",
        "  print('test: {0}  MSE: {1}, RMSE: {2}, best alpha: {3}'.format(model__class__.__name__,np.round(mse,4),\n",
        "                                                                            np.round(rmse,4),ridge_reg.best_params_))"
      ],
      "metadata": {
        "id": "GW3UcrAPTjUk"
      },
      "execution_count": null,
      "outputs": []
    },
    {
      "cell_type": "code",
      "source": [
        "import matplotlib.pyplot as plt"
      ],
      "metadata": {
        "id": "Tt0GOq47U7PU"
      },
      "execution_count": null,
      "outputs": []
    },
    {
      "cell_type": "code",
      "source": [
        "def print_coeficient_graph(model):\n",
        "  # 최적 모델 추출\n",
        "  best_model = model.best_estimator_\n",
        "\n",
        "  # 최적 모델의 단어 중요도 추출\n",
        "  importances = best_model.coef_\n",
        "\n",
        "  # 중요도가 높은 순으로 정렬\n",
        "  sorted_indices = importances.argsort()[::-1]\n",
        "\n",
        "  # 상위 N개의 단어와 가중치 출력\n",
        "  top_n = 12\n",
        "  for index in sorted_indices[:top_n]:\n",
        "      word = tfidfvector.get_feature_names_out()[index]\n",
        "      importance = importances[index]\n",
        "      print(f\"단어: {word}, 가중치: {importance:.4f}\")\n",
        "\n",
        "  plt.rc('font', family='NanumBarunGothic')\n",
        "\n",
        "  # 중요도가 높은 순으로 정렬된 인덱스 추출\n",
        "  top_n = 12\n",
        "  top_indices = sorted_indices[:top_n]\n",
        "\n",
        "  # 상위 N개 단어와 가중치 추출\n",
        "  top_words = [tfidfvector.get_feature_names_out()[index] for index in top_indices]\n",
        "  top_importances = [importances[index] for index in top_indices]\n",
        "\n",
        "  # 그래프 그리기\n",
        "  plt.figure(figsize=(12, 6))\n",
        "  plt.barh(top_words, top_importances, color='skyblue')\n",
        "  plt.xlabel('가중치')\n",
        "  plt.title('상위 12개 단어의 가중치')\n",
        "  plt.gca().invert_yaxis()  # 상위 단어가 위에 오도록 순서 뒤집기\n",
        "  plt.show()"
      ],
      "metadata": {
        "id": "yBHhs7bFUWcp"
      },
      "execution_count": null,
      "outputs": []
    },
    {
      "cell_type": "code",
      "source": [
        "get_MAE_RMSE(ridge_reg)"
      ],
      "metadata": {
        "colab": {
          "base_uri": "https://localhost:8080/"
        },
        "id": "XYylZU_x99I6",
        "outputId": "98538b95-63f6-47d5-9690-0802a8133f05"
      },
      "execution_count": 29,
      "outputs": [
        {
          "output_type": "stream",
          "name": "stdout",
          "text": [
            "MAE: 0.1230\n",
            "test: GridSearchCV  MSE: 0.0281, RMSE: 0.1676, best alpha: {'alpha': 0.05}\n"
          ]
        }
      ]
    },
    {
      "cell_type": "code",
      "source": [
        "print_coeficient_graph(ridge_reg)\n"
      ],
      "metadata": {
        "colab": {
          "base_uri": "https://localhost:8080/",
          "height": 563
        },
        "id": "_v_TQbuTGV_9",
        "outputId": "7b2b173e-334c-4668-f972-cb4a2999012b"
      },
      "execution_count": 33,
      "outputs": [
        {
          "output_type": "display_data",
          "data": {
            "text/plain": [
              "<Figure size 1200x600 with 1 Axes>"
            ],
            "image/png": "[encoded data removed]"
          },
          "metadata": {}
        }
      ]
    },
    {
      "cell_type": "code",
      "source": [
        "get_MAE_RMSE(lasso_reg)"
      ],
      "metadata": {
        "id": "CUUCpvPYRRbF"
      },
      "execution_count": null,
      "outputs": []
    },
    {
      "cell_type": "code",
      "source": [
        "print_coeficient_graph(lasso_reg)"
      ],
      "metadata": {
        "id": "BKV_eG_aRYyp"
      },
      "execution_count": null,
      "outputs": []
    },
    {
      "cell_type": "code",
      "source": [
        "import joblib\n",
        "\n",
        "joblib.dump(ridge_reg.best_estimator_, 'ridge_reg_model.pkl')\n",
        "joblib.dump(lasso_reg.best_estimator_, 'lasso_reg_model.pkl')"
      ],
      "metadata": {
        "id": "eLSG-pZZzW6N",
        "colab": {
          "base_uri": "https://localhost:8080/"
        },
        "outputId": "76daa2ef-560a-48c1-9d79-a45afb9dd9de"
      },
      "execution_count": 35,
      "outputs": [
        {
          "output_type": "execute_result",
          "data": {
            "text/plain": [
              "['lasso_reg_model.pkl']"
            ]
          },
          "metadata": {},
          "execution_count": 35
        }
      ]
    },
    {
      "cell_type": "code",
      "source": [
        "from xgboost import XGBRegressor\n",
        "\n",
        "xgb_params = {'n_estimators': [500, 750 1000], 'learning_rate': [0.05, 0.1, 0.15, 0.2], 'max_depth' : [4,6,8,10], 'gpu_id':[0], 'tree_method' : ['gpu_hist'], 'predictor':['gpu_predictor']}\n",
        "xgb_reg = XGBRegressor()\n",
        "print_best_params(xgb_reg, xgb_params)\n",
        "xgb_reg.fit(X_train,y_train)\n",
        "\n"
      ],
      "metadata": {
        "id": "rCgCNCeuq8Vb"
      },
      "execution_count": null,
      "outputs": []
    },
    {
      "cell_type": "code",
      "source": [
        "get_MAE_RMSE(xgb_reg)"
      ],
      "metadata": {
        "id": "SlomrR6DQ-2b"
      },
      "execution_count": null,
      "outputs": []
    },
    {
      "cell_type": "code",
      "source": [
        "print_coeficient_graph(xgb_reg)"
      ],
      "metadata": {
        "id": "rGfmlsVGRgvh"
      },
      "execution_count": null,
      "outputs": []
    },
    {
      "cell_type": "code",
      "source": [
        "joblib.dump(xgb_reg, 'xgb_reg_model.pkl')\n",
        "xgb_reg_model = joblib.load('ridge_reg_model.pkl')"
      ],
      "metadata": {
        "id": "3NyBIYFA07zO"
      },
      "execution_count": null,
      "outputs": []
    },
    {
      "cell_type": "code",
      "source": [
        "from lightgbm import LGBMRegressor\n",
        "\n",
        "lgbm_params = {'n_estimators': [500]}\n",
        "lgbm_reg = LGBMRegressor(n_estimators=1000, learning_rate= 0.05, num_leaves=4,\n",
        "                         subsample=0.6, colsample_bytree=0.4, reg_lambda=10, n_jobs=-1)\n",
        "\n",
        "print_best_params(lgbm_reg,lgbm_params)\n",
        "\n",
        "\n",
        "lgbm_reg.fit(X_train,y_train)"
      ],
      "metadata": {
        "id": "FscKkSVINUaw"
      },
      "execution_count": null,
      "outputs": []
    },
    {
      "cell_type": "code",
      "source": [
        "get_MAE_RMSE(lgbm_reg)"
      ],
      "metadata": {
        "id": "pBKx1h8XR87y"
      },
      "execution_count": null,
      "outputs": []
    },
    {
      "cell_type": "code",
      "source": [
        "print_coeficient_graph(lgbm_reg)"
      ],
      "metadata": {
        "id": "1tJCfVu8Vfqw"
      },
      "execution_count": null,
      "outputs": []
    },
    {
      "cell_type": "code",
      "source": [
        "from sklearn.ensemble import GradientBoostingRegressor\n",
        "\n",
        "gb_params = {'n_estimators': [500]}\n",
        "gb_reg = GradientBoostingRegressor(n_estimators=1000, learning_rate= 0.05, subsample=0.6 )\n",
        "print_best_params(gb_reg,gb_params)\n",
        "\n",
        "gb_reg.fit(X_train,y_train)"
      ],
      "metadata": {
        "id": "6zHMLosmSj9_"
      },
      "execution_count": null,
      "outputs": []
    },
    {
      "cell_type": "code",
      "source": [
        "get_MAE_RMSE(gb_reg)"
      ],
      "metadata": {
        "id": "vqHTtuoFVmmi"
      },
      "execution_count": null,
      "outputs": []
    },
    {
      "cell_type": "code",
      "source": [
        "print_coeficient_graph(gb_reg)"
      ],
      "metadata": {
        "id": "pumGh6sYVuAU"
      },
      "execution_count": null,
      "outputs": []
    },
    {
      "cell_type": "code",
      "source": [
        "from sklearn.ensemble import RandomForestRegressor\n",
        "\n",
        "rf_params = {'n_estimators': [1000]}\n",
        "rf_reg = RandomForestRegressor(n_estimators=1000)\n",
        "print_best_params(rf_reg,rf_params)\n",
        "\n",
        "rf_reg.fit(X_train,y_train)"
      ],
      "metadata": {
        "id": "Ss0jhNkaV3C3"
      },
      "execution_count": null,
      "outputs": []
    },
    {
      "cell_type": "code",
      "source": [
        "get_MAE_RMSE(rf_reg)"
      ],
      "metadata": {
        "id": "Voiyj_4lV8qs"
      },
      "execution_count": null,
      "outputs": []
    },
    {
      "cell_type": "code",
      "source": [
        "print_coeficient_graph(rf_reg)"
      ],
      "metadata": {
        "id": "GOjn0CqRWAN_"
      },
      "execution_count": null,
      "outputs": []
    },
    {
      "cell_type": "code",
      "source": [
        "from sklearn.tree import DecisionTreeRegressor\n",
        "\n",
        "dt_params = {}\n",
        "dt_reg = DecisionTreeRegressor(max_depth=4)\n",
        "print_best_params(dt_reg, dt_params)\n",
        "\n",
        "dt_reg.fit(X_train,y_train)\n",
        "get_mae(dt_reg)\n",
        "print(dt_reg.score(X_train,y_train))\n",
        "print(dt_reg.score(X_test,y_test))"
      ],
      "metadata": {
        "id": "74nE5W6PWBbu"
      },
      "execution_count": null,
      "outputs": []
    },
    {
      "cell_type": "code",
      "source": [
        "get_MAE_RMSE(dt_reg)"
      ],
      "metadata": {
        "id": "r1W2WsZJWSEZ"
      },
      "execution_count": null,
      "outputs": []
    },
    {
      "cell_type": "code",
      "source": [
        "print_coeficient_graph(dt_reg)"
      ],
      "metadata": {
        "id": "WoXThZh4WWPh"
      },
      "execution_count": null,
      "outputs": []
    }
  ]
}