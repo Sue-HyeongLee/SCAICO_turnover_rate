{
 "cells": [
  {
   "cell_type": "code",
   "execution_count": 12,
   "metadata": {},
   "outputs": [],
   "source": [
    "import numpy as np\n",
    "import pandas as pd"
   ]
  },
  {
   "cell_type": "markdown",
   "metadata": {},
   "source": [
    "## IMPORT DATA"
   ]
  },
  {
   "cell_type": "markdown",
   "metadata": {},
   "source": [
    "Data type should be made in a csv file in this order: \n",
    "   \n",
    "ex:  \n",
    "  \n",
    "company_name,adv,dadv,average_salary(만원),total_sale(억원),turn_over_rate  \n",
    "삼성전자, 삼성 전자의 모든 장점 리뷰 데이터, 삼성 전자의 모든 단점 리뷰 데이터, 삼성전자의 평균 연봉 (만원), 삼성전자의 연 매출액 (억원), 삼성전자의 이직율"
   ]
  },
  {
   "cell_type": "code",
   "execution_count": 13,
   "metadata": {},
   "outputs": [
    {
     "data": {
      "text/html": [
       "<div>\n",
       "<style scoped>\n",
       "    .dataframe tbody tr th:only-of-type {\n",
       "        vertical-align: middle;\n",
       "    }\n",
       "\n",
       "    .dataframe tbody tr th {\n",
       "        vertical-align: top;\n",
       "    }\n",
       "\n",
       "    .dataframe thead th {\n",
       "        text-align: right;\n",
       "    }\n",
       "</style>\n",
       "<table border=\"1\" class=\"dataframe\">\n",
       "  <thead>\n",
       "    <tr style=\"text-align: right;\">\n",
       "      <th></th>\n",
       "      <th>company_name</th>\n",
       "      <th>adv</th>\n",
       "      <th>dadv</th>\n",
       "      <th>average_salary</th>\n",
       "      <th>total_sale</th>\n",
       "      <th>turn_over_rate</th>\n",
       "    </tr>\n",
       "  </thead>\n",
       "  <tbody>\n",
       "    <tr>\n",
       "      <th>0</th>\n",
       "      <td>현대카드</td>\n",
       "      <td>일단 오피스 환경이 쾌적한것은 장점대기업만의 성과급이나 복지의 혜택등이 좋다생각보다...</td>\n",
       "      <td>꼰대문화 부서에따라 존재.  굽신굽신 매일 퇴근은 정시에 포기 할일 다하면 다른업무...</td>\n",
       "      <td>8737</td>\n",
       "      <td>2300.0</td>\n",
       "      <td>0.35</td>\n",
       "    </tr>\n",
       "  </tbody>\n",
       "</table>\n",
       "</div>"
      ],
      "text/plain": [
       "  company_name                                                adv  \\\n",
       "0         현대카드  일단 오피스 환경이 쾌적한것은 장점대기업만의 성과급이나 복지의 혜택등이 좋다생각보다...   \n",
       "\n",
       "                                                dadv  average_salary  \\\n",
       "0  꼰대문화 부서에따라 존재.  굽신굽신 매일 퇴근은 정시에 포기 할일 다하면 다른업무...            8737   \n",
       "\n",
       "   total_sale  turn_over_rate  \n",
       "0      2300.0            0.35  "
      ]
     },
     "execution_count": 13,
     "metadata": {},
     "output_type": "execute_result"
    }
   ],
   "source": [
    "df = pd.read_csv(\"sample_input.csv\")\n",
    "df = df.drop([\"Unnamed: 0\"], axis=1)\n",
    "df"
   ]
  },
  {
   "cell_type": "markdown",
   "metadata": {},
   "source": [
    "## BOW"
   ]
  },
  {
   "cell_type": "code",
   "execution_count": null,
   "metadata": {},
   "outputs": [],
   "source": []
  },
  {
   "cell_type": "markdown",
   "metadata": {},
   "source": [
    "## Topic Modeling"
   ]
  },
  {
   "cell_type": "markdown",
   "metadata": {},
   "source": [
    "create topic modeling result"
   ]
  },
  {
   "cell_type": "code",
   "execution_count": 14,
   "metadata": {},
   "outputs": [],
   "source": [
    "from gensim.models.word2vec import Word2Vec\n",
    "from konlpy.tag import Okt\n",
    "from gensim.models import KeyedVectors\n",
    "\n",
    "import pickle\n",
    "\n",
    "model_adv = KeyedVectors.load(\"tp_model/tp_adv/tp_adv_model\")\n",
    "model_dadv = KeyedVectors.load(\"tp_model/tp_dadv/tp_dadv_model\")\n",
    "\n",
    "with open('input/corpus_adv.pkl', 'rb') as lf:\n",
    "    corpus_adv = pickle.load(lf)\n",
    "with open('input/corpus_dadv.pkl', 'rb') as lf:\n",
    "    corpus_dadv = pickle.load(lf)"
   ]
  },
  {
   "cell_type": "code",
   "execution_count": 15,
   "metadata": {},
   "outputs": [],
   "source": [
    "num_topics_adv = 6\n",
    "num_topics_dadv = 7\n",
    "\n",
    "output_df_adv = pd.DataFrame({'company_name':df.company_name})\n",
    "for col in range(num_topics_adv):\n",
    "    tmp = str(col)\n",
    "    output_df_adv[tmp] = float(0)\n",
    "output_df_adv.index = [i for i in range(len(output_df_adv))]\n",
    "\n",
    "output_df_dadv = pd.DataFrame({'company_name':df.company_name})\n",
    "for col in range(num_topics_dadv):\n",
    "    tmp = str(col)\n",
    "    output_df_dadv[tmp] = float(0)\n",
    "output_df_dadv.index = [i for i in range(len(output_df_dadv))]\n",
    "\n",
    "for i, dt in enumerate(model_adv.get_document_topics(corpus_adv)):\n",
    "    for val in dt:\n",
    "\n",
    "        idx = str(val[0])\n",
    "        pt = val[1]\n",
    "\n",
    "        output_df_adv.at[i,idx] = pt\n",
    "\n",
    "for i, dt in enumerate(model_dadv.get_document_topics(corpus_dadv)):\n",
    "    for val in dt:\n",
    "\n",
    "        idx = str(val[0])\n",
    "        pt = val[1]\n",
    "\n",
    "        output_df_dadv.at[i,idx] = pt"
   ]
  },
  {
   "cell_type": "code",
   "execution_count": 16,
   "metadata": {},
   "outputs": [
    {
     "data": {
      "text/html": [
       "<div>\n",
       "<style scoped>\n",
       "    .dataframe tbody tr th:only-of-type {\n",
       "        vertical-align: middle;\n",
       "    }\n",
       "\n",
       "    .dataframe tbody tr th {\n",
       "        vertical-align: top;\n",
       "    }\n",
       "\n",
       "    .dataframe thead th {\n",
       "        text-align: right;\n",
       "    }\n",
       "</style>\n",
       "<table border=\"1\" class=\"dataframe\">\n",
       "  <thead>\n",
       "    <tr style=\"text-align: right;\">\n",
       "      <th></th>\n",
       "      <th>company_name</th>\n",
       "      <th>adv_topic_0</th>\n",
       "      <th>adv_topic_1</th>\n",
       "      <th>adv_topic_2</th>\n",
       "      <th>adv_topic_3</th>\n",
       "      <th>adv_topic_4</th>\n",
       "      <th>adv_topic_5</th>\n",
       "      <th>dadv_topic_0</th>\n",
       "      <th>dadv_topic_1</th>\n",
       "      <th>dadv_topic_2</th>\n",
       "      <th>dadv_topic_3</th>\n",
       "      <th>dadv_topic_4</th>\n",
       "      <th>dadv_topic_5</th>\n",
       "      <th>dadv_topic_6</th>\n",
       "      <th>average_salary</th>\n",
       "      <th>total_sale</th>\n",
       "      <th>turn_over_rate</th>\n",
       "    </tr>\n",
       "  </thead>\n",
       "  <tbody>\n",
       "    <tr>\n",
       "      <th>0</th>\n",
       "      <td>현대카드</td>\n",
       "      <td>0.978254</td>\n",
       "      <td>0.0</td>\n",
       "      <td>0.01019</td>\n",
       "      <td>0.0</td>\n",
       "      <td>0.0</td>\n",
       "      <td>0.0</td>\n",
       "      <td>0.0</td>\n",
       "      <td>0.073691</td>\n",
       "      <td>0.0</td>\n",
       "      <td>0.013542</td>\n",
       "      <td>0.0</td>\n",
       "      <td>0.91249</td>\n",
       "      <td>0.0</td>\n",
       "      <td>8737</td>\n",
       "      <td>2300.0</td>\n",
       "      <td>0.35</td>\n",
       "    </tr>\n",
       "  </tbody>\n",
       "</table>\n",
       "</div>"
      ],
      "text/plain": [
       "  company_name  adv_topic_0  adv_topic_1  adv_topic_2  adv_topic_3  \\\n",
       "0         현대카드     0.978254          0.0      0.01019          0.0   \n",
       "\n",
       "   adv_topic_4  adv_topic_5  dadv_topic_0  dadv_topic_1  dadv_topic_2  \\\n",
       "0          0.0          0.0           0.0      0.073691           0.0   \n",
       "\n",
       "   dadv_topic_3  dadv_topic_4  dadv_topic_5  dadv_topic_6  average_salary  \\\n",
       "0      0.013542           0.0       0.91249           0.0            8737   \n",
       "\n",
       "   total_sale  turn_over_rate  \n",
       "0      2300.0            0.35  "
      ]
     },
     "execution_count": 16,
     "metadata": {},
     "output_type": "execute_result"
    }
   ],
   "source": [
    "# output_df\n",
    "\n",
    "df = df.drop(['adv','dadv'], axis = 1)\n",
    "\n",
    "# adv\n",
    "output_df_adv = output_df_adv.dropna()\n",
    "\n",
    "col_adv = list(output_df_adv.columns)\n",
    "\n",
    "for i in range(1, len(col_adv)):\n",
    "    col_adv[i] = \"adv_topic_\"+col_adv[i]\n",
    "output_df_adv.columns = col_adv\n",
    "\n",
    "# dadv\n",
    "output_df_dadv = output_df_dadv.dropna()\n",
    "\n",
    "col_dadv = list(output_df_dadv.columns)\n",
    "\n",
    "for i in range(1, len(col_dadv)):\n",
    "    col_dadv[i] = \"dadv_topic_\"+col_dadv[i]\n",
    "output_df_dadv.columns = col_dadv\n",
    "\n",
    "output_df = pd.merge(output_df_adv, output_df_dadv ,how='inner')\n",
    "output_df = pd.merge(output_df, df ,how='inner')\n",
    "output_df"
   ]
  },
  {
   "cell_type": "code",
   "execution_count": 17,
   "metadata": {},
   "outputs": [
    {
     "data": {
      "text/html": [
       "<div>\n",
       "<style scoped>\n",
       "    .dataframe tbody tr th:only-of-type {\n",
       "        vertical-align: middle;\n",
       "    }\n",
       "\n",
       "    .dataframe tbody tr th {\n",
       "        vertical-align: top;\n",
       "    }\n",
       "\n",
       "    .dataframe thead th {\n",
       "        text-align: right;\n",
       "    }\n",
       "</style>\n",
       "<table border=\"1\" class=\"dataframe\">\n",
       "  <thead>\n",
       "    <tr style=\"text-align: right;\">\n",
       "      <th></th>\n",
       "      <th>company_name</th>\n",
       "      <th>adv_topic_0</th>\n",
       "      <th>adv_topic_1</th>\n",
       "      <th>adv_topic_2</th>\n",
       "      <th>adv_topic_3</th>\n",
       "      <th>adv_topic_4</th>\n",
       "      <th>adv_topic_5</th>\n",
       "      <th>dadv_topic_0</th>\n",
       "      <th>dadv_topic_1</th>\n",
       "      <th>dadv_topic_2</th>\n",
       "      <th>dadv_topic_3</th>\n",
       "      <th>dadv_topic_4</th>\n",
       "      <th>dadv_topic_5</th>\n",
       "      <th>dadv_topic_6</th>\n",
       "      <th>average_salary(만원)</th>\n",
       "      <th>total_sale(억원)</th>\n",
       "      <th>turn_over_rate</th>\n",
       "    </tr>\n",
       "  </thead>\n",
       "  <tbody>\n",
       "    <tr>\n",
       "      <th>0</th>\n",
       "      <td>현대카드</td>\n",
       "      <td>0.682214</td>\n",
       "      <td>0.0</td>\n",
       "      <td>0.010139</td>\n",
       "      <td>0.0</td>\n",
       "      <td>0.0</td>\n",
       "      <td>0.0</td>\n",
       "      <td>0.0</td>\n",
       "      <td>0.071102</td>\n",
       "      <td>0.0</td>\n",
       "      <td>0.013451</td>\n",
       "      <td>0.0</td>\n",
       "      <td>0.648406</td>\n",
       "      <td>0.0</td>\n",
       "      <td>9.075437</td>\n",
       "      <td>7.741099</td>\n",
       "      <td>0.35</td>\n",
       "    </tr>\n",
       "  </tbody>\n",
       "</table>\n",
       "</div>"
      ],
      "text/plain": [
       "  company_name  adv_topic_0  adv_topic_1  adv_topic_2  adv_topic_3  \\\n",
       "0         현대카드     0.682214          0.0     0.010139          0.0   \n",
       "\n",
       "   adv_topic_4  adv_topic_5  dadv_topic_0  dadv_topic_1  dadv_topic_2  \\\n",
       "0          0.0          0.0           0.0      0.071102           0.0   \n",
       "\n",
       "   dadv_topic_3  dadv_topic_4  dadv_topic_5  dadv_topic_6  average_salary(만원)  \\\n",
       "0      0.013451           0.0      0.648406           0.0            9.075437   \n",
       "\n",
       "   total_sale(억원)  turn_over_rate  \n",
       "0        7.741099            0.35  "
      ]
     },
     "execution_count": 17,
     "metadata": {},
     "output_type": "execute_result"
    }
   ],
   "source": [
    "# log transformation of output_df\n",
    "\n",
    "for feature in list(output_df.columns)[1:-1]:\n",
    "    if feature != 'dadv_topic_4':\n",
    "        nonzero_indices = output_df[feature] != 0  # 0이 아닌 값의 인덱스를 찾음\n",
    "        output_df[feature] = np.log1p(output_df[feature])\n",
    "output_df = output_df.rename(columns={\"average_salary\":\"average_salary(만원)\", \"total_sale\":\"total_sale(억원)\"})\n",
    "output_df"
   ]
  },
  {
   "cell_type": "markdown",
   "metadata": {},
   "source": [
    "run it into machine learning"
   ]
  },
  {
   "cell_type": "code",
   "execution_count": 18,
   "metadata": {},
   "outputs": [
    {
     "name": "stdout",
     "output_type": "stream",
     "text": [
      "Predicted turnover rate of the company using lgbm model is : [0.23826028]\n",
      "Real turnover of the company is :  0.35\n"
     ]
    }
   ],
   "source": [
    "import joblib\n",
    "lgbm_model = joblib.load('ml_model/tp_lgbm_reg_model.pkl')\n",
    "\n",
    "y_target = output_df['turn_over_rate']\n",
    "x_data = output_df.drop(['company_name','turn_over_rate'], axis = 1, inplace = False)\n",
    "\n",
    "print(\"Predicted turnover rate of the company using lgbm model is :\",lgbm_model.predict(x_data))\n",
    "print(\"Real turnover of the company is : \", y_target[0])"
   ]
  },
  {
   "cell_type": "code",
   "execution_count": 19,
   "metadata": {},
   "outputs": [
    {
     "name": "stdout",
     "output_type": "stream",
     "text": [
      "Predicted turnover rate of the company using lgbm model is : [0.2879109]\n",
      "Real turnover of the company is :  0.35\n"
     ]
    }
   ],
   "source": [
    "xgb_model = joblib.load('ml_model/tp_xgb_reg_model.pkl')\n",
    "\n",
    "y_target = output_df['turn_over_rate']\n",
    "x_data = output_df.drop(['company_name','turn_over_rate'], axis = 1, inplace = False)\n",
    "\n",
    "print(\"Predicted turnover rate of the company using lgbm model is :\",xgb_model.predict(x_data))\n",
    "print(\"Real turnover of the company is : \", y_target[0])"
   ]
  }
 ],
 "metadata": {
  "kernelspec": {
   "display_name": "textmining",
   "language": "python",
   "name": "textmining"
  },
  "language_info": {
   "codemirror_mode": {
    "name": "ipython",
    "version": 3
   },
   "file_extension": ".py",
   "mimetype": "text/x-python",
   "name": "python",
   "nbconvert_exporter": "python",
   "pygments_lexer": "ipython3",
   "version": "3.8.16"
  },
  "orig_nbformat": 4
 },
 "nbformat": 4,
 "nbformat_minor": 2
}
