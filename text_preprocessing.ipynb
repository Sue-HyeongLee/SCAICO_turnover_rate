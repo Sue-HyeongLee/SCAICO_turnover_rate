{
 "cells": [
  {
   "cell_type": "code",
   "execution_count": 1,
   "metadata": {},
   "outputs": [],
   "source": [
    "import numpy as np\n",
    "import pandas as pd\n",
    "import matplotlib.pyplot as plt\n",
    "# Gensim\n",
    "from gensim.corpora.dictionary import Dictionary"
   ]
  },
  {
   "cell_type": "markdown",
   "metadata": {},
   "source": [
    "IMPORT DATA"
   ]
  },
  {
   "cell_type": "code",
   "execution_count": 2,
   "metadata": {},
   "outputs": [],
   "source": [
    "df = pd.read_csv('bow_df.csv')\n",
    "# 결측치 제거\n",
    "df = df.dropna()\n",
    "\n",
    "company_name = df.company_name\n",
    "company_name.to_csv(\"company_name.csv\")\n",
    "other_var = df.drop(['company_name','adv','dadv','Unnamed: 0'],axis=1)\n",
    "other_var.to_csv(\"other_var.csv\")"
   ]
  },
  {
   "cell_type": "markdown",
   "metadata": {},
   "source": [
    "불용어 처리"
   ]
  },
  {
   "cell_type": "code",
   "execution_count": 3,
   "metadata": {},
   "outputs": [],
   "source": [
    "import re\n",
    "\n",
    "def clean_str(text):\n",
    "    pattern = '([a-zA-Z0-9_.+-]+@[a-zA-Z0-9-]+\\.[a-zA-Z0-9-.]+)' # E-mail제거\n",
    "    text = re.sub(pattern=pattern, repl=' ', string=text)\n",
    "    pattern = '(http|ftp|https)://(?:[-\\w.]|(?:%[\\da-fA-F]{2}))+' # URL제거\n",
    "    text = re.sub(pattern=pattern, repl=' ', string=text)\n",
    "    pattern = '([ㄱ-ㅎㅏ-ㅣ]+)'  # 한글 자음, 모음 제거\n",
    "    text = re.sub(pattern=pattern, repl=' ', string=text)\n",
    "    pattern = '<[^>]*>'         # HTML 태그 제거\n",
    "    text = re.sub(pattern=pattern, repl=' ', string=text)\n",
    "    pattern = '[^\\w\\s\\n]'         # 특수기호제거\n",
    "    text = re.sub(pattern=pattern, repl=' ', string=text)\n",
    "    text = re.sub('[-=+,#/\\?:^$.@*\\\"※~&%ㆍ!』\\\\‘|\\(\\)\\[\\]\\<\\>`\\'…》]',' ', string=text)\n",
    "    text = re.sub('\\n', '.', string=text)\n",
    "    return text "
   ]
  },
  {
   "cell_type": "code",
   "execution_count": 4,
   "metadata": {},
   "outputs": [
    {
     "data": {
      "text/html": [
       "<div>\n",
       "<style scoped>\n",
       "    .dataframe tbody tr th:only-of-type {\n",
       "        vertical-align: middle;\n",
       "    }\n",
       "\n",
       "    .dataframe tbody tr th {\n",
       "        vertical-align: top;\n",
       "    }\n",
       "\n",
       "    .dataframe thead th {\n",
       "        text-align: right;\n",
       "    }\n",
       "</style>\n",
       "<table border=\"1\" class=\"dataframe\">\n",
       "  <thead>\n",
       "    <tr style=\"text-align: right;\">\n",
       "      <th></th>\n",
       "      <th>Unnamed: 0</th>\n",
       "      <th>company_name</th>\n",
       "      <th>adv</th>\n",
       "      <th>dadv</th>\n",
       "      <th>average_salary</th>\n",
       "      <th>total_sale</th>\n",
       "      <th>turn_over_rate</th>\n",
       "    </tr>\n",
       "  </thead>\n",
       "  <tbody>\n",
       "    <tr>\n",
       "      <th>0</th>\n",
       "      <td>0</td>\n",
       "      <td>국민건강보험공단</td>\n",
       "      <td>휴직 종류가 다양하지 못하나 임신출산관련해서는 잘 정리된듯하다  분위기는 지사마다 ...</td>\n",
       "      <td>악성민원 진상민원을 매일 매일 마주해야한다  개편때마다 퇴사자 생기는거 보면 말다함...</td>\n",
       "      <td>6441</td>\n",
       "      <td>75400.0</td>\n",
       "      <td>0.20</td>\n",
       "    </tr>\n",
       "    <tr>\n",
       "      <th>1</th>\n",
       "      <td>1</td>\n",
       "      <td>근로복지공단</td>\n",
       "      <td>탄력근무  복지포인트 등 직원들의 복지 계약직도 해당  1  재택근무를 쓸 수 있다...</td>\n",
       "      <td>위탁집행형 기관 치고 급여가 적음  정규직들의 최대 불만 그래서 건보 연금 등으로 ...</td>\n",
       "      <td>5817</td>\n",
       "      <td>9406.2</td>\n",
       "      <td>0.13</td>\n",
       "    </tr>\n",
       "    <tr>\n",
       "      <th>2</th>\n",
       "      <td>3</td>\n",
       "      <td>농협은행</td>\n",
       "      <td>업무 강도에 비해 높은 연봉  워라밸  정년보장  젊은 분위기 등 장점이 많은 회사...</td>\n",
       "      <td>다수 보수적인 문화가 여전히 잔재하고 있음  어르신들도 많은 회사 성격좋은 윗 상급...</td>\n",
       "      <td>6182</td>\n",
       "      <td>13100.0</td>\n",
       "      <td>0.15</td>\n",
       "    </tr>\n",
       "    <tr>\n",
       "      <th>3</th>\n",
       "      <td>4</td>\n",
       "      <td>현대카드</td>\n",
       "      <td>일단 오피스 환경이 쾌적한것은 장점대기업만의 성과급이나 복지의 혜택등이 좋다생각보다...</td>\n",
       "      <td>꼰대문화 부서에따라 존재   굽신굽신 매일 퇴근은 정시에 포기 할일 다하면 다른업무...</td>\n",
       "      <td>8737</td>\n",
       "      <td>2300.0</td>\n",
       "      <td>0.35</td>\n",
       "    </tr>\n",
       "    <tr>\n",
       "      <th>4</th>\n",
       "      <td>5</td>\n",
       "      <td>중소기업은행</td>\n",
       "      <td>5일 연차 사용가능  지바지 있을 수 있지만 훌륭한 선배들이 많음  지바지 사바사지...</td>\n",
       "      <td>느린 전산  사람 상대하는 직업이다보니 사람에 대한 스트레스가 많음 서비스직이다보니...</td>\n",
       "      <td>10065</td>\n",
       "      <td>14800.0</td>\n",
       "      <td>0.16</td>\n",
       "    </tr>\n",
       "    <tr>\n",
       "      <th>...</th>\n",
       "      <td>...</td>\n",
       "      <td>...</td>\n",
       "      <td>...</td>\n",
       "      <td>...</td>\n",
       "      <td>...</td>\n",
       "      <td>...</td>\n",
       "      <td>...</td>\n",
       "    </tr>\n",
       "    <tr>\n",
       "      <th>2498</th>\n",
       "      <td>212</td>\n",
       "      <td>유끼커뮤니케이션</td>\n",
       "      <td>연차 자유롭게 사용 가능함다양한 업무를 진행해볼 수 있는 곳 퇴근 시간이 칼 같이 ...</td>\n",
       "      <td>복지 제도의 부족함 느낌타이트한 업무 데드라인이 있을 때가 많음 사무실이 비교적 좁...</td>\n",
       "      <td>4417</td>\n",
       "      <td>28.0</td>\n",
       "      <td>0.14</td>\n",
       "    </tr>\n",
       "    <tr>\n",
       "      <th>2499</th>\n",
       "      <td>213</td>\n",
       "      <td>투어이천</td>\n",
       "      <td>기업의 장점으로는 꼰대 문화는 거의 없고 팀바이 팀이라서 연차가 자유롭게 이용 가능...</td>\n",
       "      <td>단점은 너무나 많습니다  일단 회사인데 체계가 제대로 잡혀있지 않아서 일하기가 너무...</td>\n",
       "      <td>1314</td>\n",
       "      <td>108.9</td>\n",
       "      <td>1.36</td>\n",
       "    </tr>\n",
       "    <tr>\n",
       "      <th>2500</th>\n",
       "      <td>214</td>\n",
       "      <td>휴먼코아</td>\n",
       "      <td>팀보단 본인만 잘하면 별 문제없습니다  통근버스 식비 지원 쉬는시간 많습니다  연차...</td>\n",
       "      <td>단순노동이라 힘들고 체력적으로 많이 힘듭니다  화장실 가는게 쫌 눈치보일정도로 바쁘...</td>\n",
       "      <td>3062</td>\n",
       "      <td>430.1</td>\n",
       "      <td>1.00</td>\n",
       "    </tr>\n",
       "    <tr>\n",
       "      <th>2501</th>\n",
       "      <td>215</td>\n",
       "      <td>에이치엔씨네트워크</td>\n",
       "      <td>휴가 5개줌연차 돈으로 줌화장실 비데있음커피 차 있음일못해도 돈준다  연차 눈치안봐...</td>\n",
       "      <td>너무많아서 못쓰겠다 일하는 사람만 하고 안하는 사람은 안한다안하는 사람 루팡 개많다...</td>\n",
       "      <td>3038</td>\n",
       "      <td>336.9</td>\n",
       "      <td>0.68</td>\n",
       "    </tr>\n",
       "    <tr>\n",
       "      <th>2502</th>\n",
       "      <td>216</td>\n",
       "      <td>현대엔지비</td>\n",
       "      <td>성장 기회 많고  책임급 급여는 그룹사에서 높은 편  자율출퇴근 어느 정도 지켜지고...</td>\n",
       "      <td>단점이 많지 않음  좋은 회사임  현대차 갑이어서 담당자에 따라 리스크가 있고 야근...</td>\n",
       "      <td>5898</td>\n",
       "      <td>633.4</td>\n",
       "      <td>0.33</td>\n",
       "    </tr>\n",
       "  </tbody>\n",
       "</table>\n",
       "<p>2503 rows × 7 columns</p>\n",
       "</div>"
      ],
      "text/plain": [
       "      Unnamed: 0 company_name  \\\n",
       "0              0     국민건강보험공단   \n",
       "1              1       근로복지공단   \n",
       "2              3         농협은행   \n",
       "3              4         현대카드   \n",
       "4              5       중소기업은행   \n",
       "...          ...          ...   \n",
       "2498         212     유끼커뮤니케이션   \n",
       "2499         213         투어이천   \n",
       "2500         214         휴먼코아   \n",
       "2501         215    에이치엔씨네트워크   \n",
       "2502         216        현대엔지비   \n",
       "\n",
       "                                                    adv  \\\n",
       "0     휴직 종류가 다양하지 못하나 임신출산관련해서는 잘 정리된듯하다  분위기는 지사마다 ...   \n",
       "1     탄력근무  복지포인트 등 직원들의 복지 계약직도 해당  1  재택근무를 쓸 수 있다...   \n",
       "2     업무 강도에 비해 높은 연봉  워라밸  정년보장  젊은 분위기 등 장점이 많은 회사...   \n",
       "3     일단 오피스 환경이 쾌적한것은 장점대기업만의 성과급이나 복지의 혜택등이 좋다생각보다...   \n",
       "4     5일 연차 사용가능  지바지 있을 수 있지만 훌륭한 선배들이 많음  지바지 사바사지...   \n",
       "...                                                 ...   \n",
       "2498  연차 자유롭게 사용 가능함다양한 업무를 진행해볼 수 있는 곳 퇴근 시간이 칼 같이 ...   \n",
       "2499  기업의 장점으로는 꼰대 문화는 거의 없고 팀바이 팀이라서 연차가 자유롭게 이용 가능...   \n",
       "2500  팀보단 본인만 잘하면 별 문제없습니다  통근버스 식비 지원 쉬는시간 많습니다  연차...   \n",
       "2501  휴가 5개줌연차 돈으로 줌화장실 비데있음커피 차 있음일못해도 돈준다  연차 눈치안봐...   \n",
       "2502  성장 기회 많고  책임급 급여는 그룹사에서 높은 편  자율출퇴근 어느 정도 지켜지고...   \n",
       "\n",
       "                                                   dadv average_salary  \\\n",
       "0     악성민원 진상민원을 매일 매일 마주해야한다  개편때마다 퇴사자 생기는거 보면 말다함...           6441   \n",
       "1     위탁집행형 기관 치고 급여가 적음  정규직들의 최대 불만 그래서 건보 연금 등으로 ...           5817   \n",
       "2     다수 보수적인 문화가 여전히 잔재하고 있음  어르신들도 많은 회사 성격좋은 윗 상급...           6182   \n",
       "3     꼰대문화 부서에따라 존재   굽신굽신 매일 퇴근은 정시에 포기 할일 다하면 다른업무...           8737   \n",
       "4     느린 전산  사람 상대하는 직업이다보니 사람에 대한 스트레스가 많음 서비스직이다보니...          10065   \n",
       "...                                                 ...            ...   \n",
       "2498  복지 제도의 부족함 느낌타이트한 업무 데드라인이 있을 때가 많음 사무실이 비교적 좁...           4417   \n",
       "2499  단점은 너무나 많습니다  일단 회사인데 체계가 제대로 잡혀있지 않아서 일하기가 너무...           1314   \n",
       "2500  단순노동이라 힘들고 체력적으로 많이 힘듭니다  화장실 가는게 쫌 눈치보일정도로 바쁘...           3062   \n",
       "2501  너무많아서 못쓰겠다 일하는 사람만 하고 안하는 사람은 안한다안하는 사람 루팡 개많다...           3038   \n",
       "2502  단점이 많지 않음  좋은 회사임  현대차 갑이어서 담당자에 따라 리스크가 있고 야근...           5898   \n",
       "\n",
       "     total_sale  turn_over_rate  \n",
       "0       75400.0            0.20  \n",
       "1        9406.2            0.13  \n",
       "2       13100.0            0.15  \n",
       "3        2300.0            0.35  \n",
       "4       14800.0            0.16  \n",
       "...         ...             ...  \n",
       "2498       28.0            0.14  \n",
       "2499      108.9            1.36  \n",
       "2500      430.1            1.00  \n",
       "2501      336.9            0.68  \n",
       "2502      633.4            0.33  \n",
       "\n",
       "[2503 rows x 7 columns]"
      ]
     },
     "execution_count": 4,
     "metadata": {},
     "output_type": "execute_result"
    }
   ],
   "source": [
    "df['adv'] = df['adv'].apply(clean_str)\n",
    "df['dadv'] = df['dadv'].apply(clean_str)\n",
    "df"
   ]
  },
  {
   "cell_type": "markdown",
   "metadata": {},
   "source": [
    "정규화"
   ]
  },
  {
   "cell_type": "code",
   "execution_count": 5,
   "metadata": {},
   "outputs": [],
   "source": [
    "from soynlp.normalizer import *\n",
    "\n",
    "df['adv'] = [repeat_normalize(adv,num_repeats=2) for adv in df['adv']]\n",
    "df['dadv'] = [repeat_normalize(dadv,num_repeats=2) for dadv in df['dadv']]"
   ]
  },
  {
   "cell_type": "markdown",
   "metadata": {},
   "source": [
    "TOKENIZING"
   ]
  },
  {
   "cell_type": "code",
   "execution_count": 6,
   "metadata": {},
   "outputs": [],
   "source": [
    "# Word Count\n",
    "from konlpy.tag import Okt\n",
    "\n",
    "t = Okt()\n",
    "\n",
    "def my_tokenizer(doc):\n",
    "    return [\n",
    "        token\n",
    "        for token, pos in t.pos(doc)\n",
    "        if pos in ['Noun','Verb','Adjective'] and len(token)>1\n",
    "    ]"
   ]
  },
  {
   "cell_type": "code",
   "execution_count": 7,
   "metadata": {},
   "outputs": [],
   "source": [
    "text_adv = [my_tokenizer(text) for text in df.adv]\n",
    "text_dadv = [my_tokenizer(text) for text in df.dadv]"
   ]
  },
  {
   "cell_type": "code",
   "execution_count": 8,
   "metadata": {},
   "outputs": [
    {
     "name": "stdout",
     "output_type": "stream",
     "text": [
      "#Number of initial unique words in adv_documents: 44930\n",
      "#Number of initial unique words in dadv_documents: 75700\n",
      "#Number of unique words after removing rae and common words: 3000\n",
      "#Number of unique words after removing rae and common words: 3000\n",
      "#Number of unique tokens: 3000\n",
      "#Number of documents: 2503\n",
      "#Number of unique tokens: 3000\n",
      "#Number of documents: 2503\n"
     ]
    }
   ],
   "source": [
    "dictionary_adv = Dictionary(text_adv)\n",
    "dictionary_dadv = Dictionary(text_dadv)\n",
    "print('#Number of initial unique words in adv_documents:',len(dictionary_adv))\n",
    "print('#Number of initial unique words in dadv_documents:',len(dictionary_dadv))\n",
    "\n",
    "dictionary_adv.filter_extremes(keep_n = 3000, no_below = 10, no_above = 0.5)\n",
    "dictionary_dadv.filter_extremes(keep_n = 3000, no_below = 10, no_above = 0.5)\n",
    "\n",
    "print(\"#Number of unique words after removing rae and common words:\", len(dictionary_adv))\n",
    "print(\"#Number of unique words after removing rae and common words:\", len(dictionary_dadv))\n",
    "\n",
    "corpus_adv = [dictionary_adv.doc2bow(text) for text in text_adv]\n",
    "corpus_dadv = [dictionary_dadv.doc2bow(text) for text in text_dadv]\n",
    "print('#Number of unique tokens: %d' % len(dictionary_adv))\n",
    "print('#Number of documents: %d' % len(corpus_adv))\n",
    "\n",
    "print('#Number of unique tokens: %d' % len(dictionary_dadv))\n",
    "print('#Number of documents: %d' % len(corpus_dadv))\n"
   ]
  },
  {
   "cell_type": "code",
   "execution_count": 9,
   "metadata": {},
   "outputs": [],
   "source": [
    "import pickle\n",
    "with open('corpus_adv.pkl', 'wb') as lf:\n",
    "    pickle.dump(corpus_adv, lf)"
   ]
  },
  {
   "cell_type": "code",
   "execution_count": 10,
   "metadata": {},
   "outputs": [],
   "source": [
    "with open('corpus_dadv.pkl', 'wb') as lf:\n",
    "    pickle.dump(corpus_dadv, lf)"
   ]
  },
  {
   "cell_type": "markdown",
   "metadata": {},
   "source": [
    "LDA MODEL"
   ]
  },
  {
   "cell_type": "code",
   "execution_count": 11,
   "metadata": {},
   "outputs": [],
   "source": [
    "from gensim.models import LdaModel\n",
    "\n",
    "num_topics_adv = 6\n",
    "passes = 5\n",
    "model_adv = LdaModel(corpus = corpus_adv, id2word = dictionary_adv,passes = passes, num_topics = num_topics_adv,random_state = 7)\n",
    "model_adv.save(\"tp_adv_model\")"
   ]
  },
  {
   "cell_type": "code",
   "execution_count": 12,
   "metadata": {},
   "outputs": [],
   "source": [
    "num_topics_dadv = 7\n",
    "model_dadv = LdaModel(corpus = corpus_dadv, id2word = dictionary_dadv,passes = passes, num_topics = num_topics_dadv,random_state = 7)\n",
    "model_dadv.save(\"tp_dadv_model\")"
   ]
  },
  {
   "cell_type": "code",
   "execution_count": 14,
   "metadata": {},
   "outputs": [
    {
     "name": "stdout",
     "output_type": "stream",
     "text": [
      "ADV\n",
      "[(0, '0.010*\"점심\" + 0.010*\"높은\" + 0.009*\"포인트\" + 0.008*\"기숙사\" + 0.008*\"대기업\" + 0.008*\"저녁\" + 0.008*\"식당\" + 0.007*\"업계\" + 0.007*\"사내\" + 0.007*\"부바\"'), (1, '0.009*\"사내\" + 0.009*\"간식\" + 0.008*\"카페\" + 0.008*\"식대\" + 0.008*\"커피\" + 0.008*\"재택근무\" + 0.007*\"사무실\" + 0.007*\"건물\" + 0.007*\"동료\" + 0.006*\"출근\"'), (2, '0.014*\"할인\" + 0.013*\"대기업\" + 0.009*\"수당\" + 0.006*\"혜택\" + 0.006*\"안정\" + 0.005*\"열사\" + 0.005*\"구내식당\" + 0.005*\"지급\" + 0.005*\"그룹\" + 0.005*\"강도\"'), (3, '0.009*\"안정\" + 0.008*\"공공기관\" + 0.008*\"서울\" + 0.007*\"부바\" + 0.006*\"높은\" + 0.006*\"유연근무제\" + 0.006*\"강도\" + 0.006*\"정년\" + 0.005*\"육아휴직\" + 0.005*\"공기업\"'), (4, '0.008*\"점심\" + 0.007*\"버스\" + 0.006*\"수당\" + 0.006*\"밀리\" + 0.006*\"통근\" + 0.006*\"나옴\" + 0.005*\"식당\" + 0.005*\"강도\" + 0.005*\"명절\" + 0.004*\"구내식당\"'), (5, '0.007*\"교육\" + 0.007*\"기회\" + 0.006*\"재택근무\" + 0.006*\"본인\" + 0.005*\"개인\" + 0.005*\"영업\" + 0.005*\"업계\" + 0.005*\"체계\" + 0.005*\"따라\" + 0.005*\"노력\"')]\n",
      "\n",
      " DADV\n",
      "[(0, '0.009*\"사업\" + 0.008*\"영업\" + 0.007*\"조직\" + 0.006*\"임원\" + 0.006*\"영진\" + 0.005*\"개발\" + 0.005*\"경영\" + 0.005*\"회의\" + 0.005*\"미래\" + 0.004*\"성장\"'), (1, '0.011*\"계약\" + 0.009*\"진급\" + 0.008*\"승진\" + 0.007*\"대비\" + 0.006*\"보수\" + 0.006*\"정규직\" + 0.006*\"수직\" + 0.005*\"낮음\" + 0.005*\"인상\" + 0.005*\"강도\"'), (2, '0.009*\"위치\" + 0.006*\"계약\" + 0.006*\"공공기관\" + 0.006*\"승진\" + 0.006*\"민원\" + 0.005*\"사업\" + 0.005*\"순환\" + 0.005*\"정규직\" + 0.005*\"행정\" + 0.005*\"기관\"'), (3, '0.007*\"사용\" + 0.007*\"고객\" + 0.006*\"영업\" + 0.006*\"관리자\" + 0.005*\"휴가\" + 0.005*\"현장\" + 0.004*\"출근\" + 0.004*\"강도\" + 0.004*\"본사\" + 0.004*\"생산\"'), (4, '0.010*\"대표\" + 0.005*\"임원\" + 0.005*\"회의\" + 0.004*\"자기\" + 0.004*\"매출\" + 0.004*\"관리\" + 0.004*\"영진\" + 0.003*\"실무\" + 0.003*\"정말\" + 0.003*\"진짜\"'), (5, '0.008*\"수당\" + 0.006*\"출근\" + 0.005*\"프로젝트\" + 0.005*\"교육\" + 0.005*\"주말\" + 0.005*\"직급\" + 0.005*\"무량\" + 0.004*\"관리자\" + 0.004*\"제대로\" + 0.004*\"사원\"'), (6, '0.007*\"평가\" + 0.005*\"업계\" + 0.004*\"보상\" + 0.004*\"제도\" + 0.004*\"대비\" + 0.004*\"인상\" + 0.004*\"성장\" + 0.004*\"팀바팀\" + 0.004*\"정치\" + 0.004*\"임원\"')]\n"
     ]
    }
   ],
   "source": [
    "print('ADV')\n",
    "print(model_adv.print_topics(num_words=10))\n",
    "print('\\n DADV')\n",
    "print(model_dadv.print_topics(num_words=10))\n",
    "# print('#topic distribution of the first document:',model.get_document_topics(corpus)[0])"
   ]
  },
  {
   "cell_type": "markdown",
   "metadata": {},
   "source": [
    "TOPIC MODELING COMPARISON(based on # topics)"
   ]
  },
  {
   "cell_type": "code",
   "execution_count": null,
   "metadata": {},
   "outputs": [],
   "source": [
    "# # topic_modeling csv file\n",
    "# num_topic_list_adv = [9]\n",
    "# num_topic_list_dadv = [7]\n",
    "\n",
    "# save_adv = {}\n",
    "# save_dadv = {}\n",
    "# for i in num_topic_list_adv:\n",
    "#     model = LdaModel(corpus = corpus_adv, id2word = dictionary_adv,passes = passes, num_topics = i,random_state = 7)\n",
    "#     save_adv[i] = model.print_topics(num_words=8)\n",
    "\n",
    "# for i in num_topic_list_dadv:\n",
    "#     model = LdaModel(corpus = corpus_dadv, id2word = dictionary_dadv,passes = passes, num_topics = i,random_state = 7)\n",
    "#     save_dadv[i] = model.print_topics(num_words=8)\n",
    "\n",
    "# topic_adv_csv = pd.DataFrame.from_dict(save_adv, orient='index')\n",
    "# topic_adv_csv.to_csv(\"adv_topic_selection.csv\")\n",
    "\n",
    "# topic_dadv_csv = pd.DataFrame.from_dict(save_dadv, orient='index')\n",
    "# topic_dadv_csv.to_csv(\"dadv_topic_selection.csv\")"
   ]
  },
  {
   "cell_type": "markdown",
   "metadata": {},
   "source": [
    "TOPIC MODELING OUTPUT"
   ]
  },
  {
   "cell_type": "code",
   "execution_count": 15,
   "metadata": {},
   "outputs": [],
   "source": [
    "output_df_adv = pd.DataFrame({'company_name':df.company_name})\n",
    "for col in range(num_topics_adv):\n",
    "    tmp = str(col)\n",
    "    output_df_adv[tmp] = float(0)\n",
    "output_df_adv.index = [i for i in range(len(output_df_adv))]\n"
   ]
  },
  {
   "cell_type": "code",
   "execution_count": 16,
   "metadata": {},
   "outputs": [],
   "source": [
    "output_df_dadv = pd.DataFrame({'company_name':df.company_name})\n",
    "for col in range(num_topics_dadv):\n",
    "    tmp = str(col)\n",
    "    output_df_dadv[tmp] = float(0)\n",
    "output_df_dadv.index = [i for i in range(len(output_df_dadv))]\n"
   ]
  },
  {
   "cell_type": "code",
   "execution_count": 17,
   "metadata": {},
   "outputs": [],
   "source": [
    "for i, dt in enumerate(model_adv.get_document_topics(corpus_adv)):\n",
    "    for val in dt:\n",
    "\n",
    "        idx = str(val[0])\n",
    "        pt = val[1]\n",
    "\n",
    "        output_df_adv.at[i,idx] = pt"
   ]
  },
  {
   "cell_type": "code",
   "execution_count": 18,
   "metadata": {},
   "outputs": [],
   "source": [
    "for i, dt in enumerate(model_dadv.get_document_topics(corpus_dadv)):\n",
    "    for val in dt:\n",
    "\n",
    "        idx = str(val[0])\n",
    "        pt = val[1]\n",
    "\n",
    "        output_df_dadv.at[i,idx] = pt"
   ]
  },
  {
   "cell_type": "code",
   "execution_count": 19,
   "metadata": {},
   "outputs": [],
   "source": [
    "# to csv file\n",
    "output_df_adv.to_csv('adv_topic_modeling.csv')\n",
    "output_df_dadv.to_csv('dadv_topic_modeling.csv')"
   ]
  },
  {
   "cell_type": "code",
   "execution_count": 20,
   "metadata": {},
   "outputs": [
    {
     "name": "stdout",
     "output_type": "stream",
     "text": [
      "-0.9521680663035923\n",
      "-0.7249260611283539\n"
     ]
    }
   ],
   "source": [
    "from gensim.models import CoherenceModel\n",
    "\n",
    "cm_adv = CoherenceModel(model= model_adv, corpus= corpus_adv, coherence= 'u_mass')\n",
    "cm_dadv = CoherenceModel(model= model_dadv, corpus= corpus_dadv, coherence= 'u_mass')\n",
    "\n",
    "coherence_adv = cm_adv.get_coherence()\n",
    "coherence_dadv = cm_dadv.get_coherence()\n",
    "\n",
    "print(coherence_adv)\n",
    "print(coherence_dadv)"
   ]
  },
  {
   "cell_type": "code",
   "execution_count": 21,
   "metadata": {},
   "outputs": [
    {
     "name": "stdout",
     "output_type": "stream",
     "text": [
      "num_topics: 3, perplexity: -7.301, coherence: -0.696\n",
      "num_topics: 4, perplexity: -7.298, coherence: -0.786\n",
      "num_topics: 5, perplexity: -7.303, coherence: -0.812\n",
      "num_topics: 6, perplexity: -7.308, coherence: -0.728\n",
      "num_topics: 7, perplexity: -7.311, coherence: -0.741\n",
      "num_topics: 8, perplexity: -7.320, coherence: -0.781\n",
      "num_topics: 9, perplexity: -7.331, coherence: -0.815\n",
      "num_topics: 10, perplexity: -7.342, coherence: -0.803\n",
      "num_topics: 11, perplexity: -7.350, coherence: -0.805\n",
      "num_topics: 12, perplexity: -7.359, coherence: -0.817\n",
      "num_topics: 13, perplexity: -7.368, coherence: -0.824\n",
      "num_topics: 14, perplexity: -7.379, coherence: -0.797\n",
      "num_topics: 15, perplexity: -7.383, coherence: -0.800\n",
      "num_topics: 16, perplexity: -7.389, coherence: -0.806\n"
     ]
    },
    {
     "data": {
      "image/png": "[encoded data removed]",
      "text/plain": [
       "<Figure size 640x480 with 1 Axes>"
      ]
     },
     "metadata": {},
     "output_type": "display_data"
    },
    {
     "data": {
      "image/png": "[encoded data removed]",
      "text/plain": [
       "<Figure size 640x480 with 1 Axes>"
      ]
     },
     "metadata": {},
     "output_type": "display_data"
    }
   ],
   "source": [
    "def show_coherence(corpus, dictionary, start = 6, end = 15):\n",
    "    iter_num = []\n",
    "    per_value = []\n",
    "    coh_value = []\n",
    "\n",
    "    for i in range(start, end+1):\n",
    "        model = LdaModel(corpus = corpus, id2word = dictionary, chunksize=1000, num_topics = i,random_state = 7)\n",
    "        iter_num.append(i)\n",
    "        pv = model.log_perplexity(corpus)\n",
    "        per_value.append(pv)\n",
    "\n",
    "        cm = CoherenceModel(model=model, corpus=corpus, coherence='u_mass')\n",
    "        cv = cm.get_coherence()\n",
    "        coh_value.append(cv)\n",
    "        print(f'num_topics: {i}, perplexity: {pv:0.3f}, coherence: {cv:0.3f}')\n",
    "    \n",
    "    plt.plot(iter_num, per_value, 'g-')\n",
    "    plt.xlabel(\"num_topics\")\n",
    "    plt.ylabel(\"perplexity\")\n",
    "    plt.show()\n",
    "\n",
    "    plt.plot(iter_num, coh_value, 'r--')\n",
    "    plt.xlabel(\"num_topics\")\n",
    "    plt.ylabel(\"coherence\")\n",
    "    plt.show()\n",
    "# 5, 14\n",
    "show_coherence(corpus_adv, dictionary_adv, start = 3, end = 16)"
   ]
  },
  {
   "cell_type": "code",
   "execution_count": 22,
   "metadata": {},
   "outputs": [
    {
     "name": "stdout",
     "output_type": "stream",
     "text": [
      "num_topics: 3, perplexity: -7.480, coherence: -0.610\n",
      "num_topics: 4, perplexity: -7.486, coherence: -0.631\n",
      "num_topics: 5, perplexity: -7.490, coherence: -0.612\n",
      "num_topics: 6, perplexity: -7.499, coherence: -0.645\n",
      "num_topics: 7, perplexity: -7.509, coherence: -0.660\n",
      "num_topics: 8, perplexity: -7.512, coherence: -0.664\n",
      "num_topics: 9, perplexity: -7.522, coherence: -0.673\n",
      "num_topics: 10, perplexity: -7.531, coherence: -0.665\n",
      "num_topics: 11, perplexity: -7.538, coherence: -0.671\n",
      "num_topics: 12, perplexity: -7.543, coherence: -0.664\n",
      "num_topics: 13, perplexity: -7.552, coherence: -0.665\n",
      "num_topics: 14, perplexity: -7.562, coherence: -0.670\n",
      "num_topics: 15, perplexity: -7.563, coherence: -0.687\n",
      "num_topics: 16, perplexity: -7.573, coherence: -0.671\n"
     ]
    },
    {
     "data": {
      "image/png": "[encoded data removed]",
      "text/plain": [
       "<Figure size 640x480 with 1 Axes>"
      ]
     },
     "metadata": {},
     "output_type": "display_data"
    },
    {
     "data": {
      "image/png": "[encoded data removed]",
      "text/plain": [
       "<Figure size 640x480 with 1 Axes>"
      ]
     },
     "metadata": {},
     "output_type": "display_data"
    }
   ],
   "source": [
    "show_coherence(corpus_dadv, dictionary_dadv, start = 3, end = 16)\n"
   ]
  },
  {
   "cell_type": "code",
   "execution_count": null,
   "metadata": {},
   "outputs": [],
   "source": []
  }
 ],
 "metadata": {
  "kernelspec": {
   "display_name": "textmining",
   "language": "python",
   "name": "textmining"
  },
  "language_info": {
   "codemirror_mode": {
    "name": "ipython",
    "version": 3
   },
   "file_extension": ".py",
   "mimetype": "text/x-python",
   "name": "python",
   "nbconvert_exporter": "python",
   "pygments_lexer": "ipython3",
   "version": "3.8.16"
  },
  "orig_nbformat": 4
 },
 "nbformat": 4,
 "nbformat_minor": 2
}
