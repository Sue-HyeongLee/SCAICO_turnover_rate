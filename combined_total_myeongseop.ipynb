{
  "cells": [
    {
      "cell_type": "code",
      "execution_count": 1,
      "metadata": {
        "id": "XZZOglyMPdYr"
      },
      "outputs": [],
      "source": [
        "import numpy as np\n",
        "import pandas as pd"
      ]
    },
    {
      "cell_type": "code",
      "execution_count": 2,
      "metadata": {
        "id": "i1O1kT8AywCZ"
      },
      "outputs": [],
      "source": [
        "import matplotlib\n",
        "import matplotlib.pyplot as plt\n",
        "import seaborn as sns\n",
        "\n",
        "from matplotlib import rc"
      ]
    },
    {
      "cell_type": "code",
      "execution_count": 3,
      "metadata": {
        "id": "4vlcga-TMC1J"
      },
      "outputs": [],
      "source": [
        "def get_mae(model):\n",
        "    train_pred = model.predict(X_train)\n",
        "    score = mean_absolute_error(y_train,train_pred)\n",
        "    print(model.__class__.__name__, \" train MAE: \", np.round(score,3))\n",
        "    pred = model.predict(X_test)\n",
        "    score = mean_absolute_error(y_test,pred)\n",
        "    print(model.__class__.__name__, \" MAE: \", np.round(score,3))"
      ]
    },
    {
      "cell_type": "code",
      "execution_count": 4,
      "metadata": {
        "id": "e52wUy3uMi0g"
      },
      "outputs": [],
      "source": [
        "def get_maes(models):\n",
        "    scores = []\n",
        "    for model in models:\n",
        "        score = get_mae(model)\n",
        "        # scores.append(score)\n",
        "    # return scores"
      ]
    },
    {
      "cell_type": "code",
      "execution_count": 5,
      "metadata": {
        "id": "FSawpc45uPT7"
      },
      "outputs": [],
      "source": [
        "\n",
        "def get_r2score(model):\n",
        "    train_pred = model.predict(X_train)\n",
        "    pred = model.predict(X_test)\n",
        "    train_score = r2_score(y_train,train_pred)\n",
        "    score = r2_score(y_test,pred)\n",
        "    print(model.__class__.__name__, \" train_R2SCORE: \", np.round(train_score,3))\n",
        "    print(model.__class__.__name__, \" R2SCORE: \", np.round(score,3))"
      ]
    },
    {
      "cell_type": "code",
      "execution_count": 6,
      "metadata": {
        "id": "bHg414Gbss6n"
      },
      "outputs": [],
      "source": [
        "def get_rmse(model):\n",
        "    train_pred = model.predict(X_train)\n",
        "    train_mse = mean_squared_error(y_train,train_pred)\n",
        "    rmse = np.sqrt(train_mse)\n",
        "    print(model.__class__.__name__, 'train RMSE: ', np.round(rmse,3))\n",
        "    pred = model.predict(X_test)\n",
        "    mse = mean_squared_error(y_test, pred)\n",
        "    rmse = np.sqrt(mse)\n",
        "    print(model.__class__.__name__, ' RMSE: ', np.round(rmse,3))\n",
        "    return rmse"
      ]
    },
    {
      "cell_type": "code",
      "execution_count": 7,
      "metadata": {
        "id": "uw11k7BKst6e"
      },
      "outputs": [],
      "source": [
        "def get_rmses(models):\n",
        "    rmses = []\n",
        "    for model in models:\n",
        "        rmse = get_rmse(model)\n",
        "        # rmses.append(rmse)\n",
        "    # return rmses"
      ]
    },
    {
      "cell_type": "code",
      "execution_count": 8,
      "metadata": {
        "id": "MpmrE8RbudJl"
      },
      "outputs": [],
      "source": [
        "def get_r2scores(models):\n",
        "    scores = []\n",
        "    for model in models:\n",
        "        score = get_r2score(model)\n",
        "        # scores.append(score)\n",
        "    # return scores"
      ]
    },
    {
      "cell_type": "code",
      "execution_count": 9,
      "metadata": {
        "id": "4A-UePW7TjYZ"
      },
      "outputs": [],
      "source": [
        "# Preprocessing for turn over rate\n",
        "def tor_preprocessing(tor):\n",
        "  tor_df = tor\n",
        "  tor_val = tor_df['turn_over_rate']\n",
        "\n",
        "  for i, val in enumerate(tor_val):\n",
        "    if '정보' in val:\n",
        "      tor_df.loc[i,'turn_over_rate'] = np.NAN\n",
        "    elif val == '(9999%)' :\n",
        "      tor_df.loc[i,'turn_over_rate'] = np.NAN\n",
        "    elif '(' in val:\n",
        "      tmp = float(val[1:-1].replace('%',''))*0.01\n",
        "      tor_df.loc[i,'turn_over_rate'] = tmp\n",
        "\n",
        "  return tor_df"
      ]
    },
    {
      "cell_type": "code",
      "execution_count": 10,
      "metadata": {
        "id": "KEHVA8MtTjeu"
      },
      "outputs": [],
      "source": [
        "# Preprocessing for financial variable\n",
        "def fv_preprocessing(fv):\n",
        "  fv_df = fv\n",
        "  afv = fv_df['average_salary']\n",
        "  tfv = fv_df['total_sale']\n",
        "\n",
        "  for i, val in enumerate(afv):\n",
        "    if type(val) == str:\n",
        "        if '만원' in val:\n",
        "          tmp = int(val[:-2].replace(',',''))\n",
        "          fv_df.loc[i,'average_salary'] = tmp\n",
        "        if '회사' in val:\n",
        "          fv_df.loc[i,'average_salary'] = np.NAN\n",
        "        if '수집' in val:\n",
        "          fv_df.loc[i,'average_salary'] = np.NAN\n",
        "\n",
        "  for i, val in enumerate(tfv):\n",
        "    if type(val) == str:\n",
        "        if '조원' in val:\n",
        "          tmp = float(val[:-2].replace(',',''))*1000\n",
        "          fv_df.loc[i,'total_sale'] = tmp\n",
        "        if '억원' in val:\n",
        "          tmp = float(val[:-2].replace(',',''))\n",
        "          fv_df.loc[i,'total_sale'] = tmp\n",
        "        if '억' in val:\n",
        "          tmp = float(val[:-1].replace(',',''))\n",
        "          fv_df.loc[i,'total_sale'] = tmp\n",
        "          print(fv_df.loc[i,'total_sale'])\n",
        "          print(i)\n",
        "        if '회사' in val:\n",
        "          fv_df.loc[i,'total_sale'] = np.NAN\n",
        "\n",
        "  return fv_df"
      ]
    },
    {
      "cell_type": "code",
      "execution_count": 11,
      "metadata": {
        "id": "Zf_2hCA7PjDe"
      },
      "outputs": [],
      "source": [
        "combined_data = pd.read_csv(\"new_bow_df.csv\")"
      ]
    },
    {
      "cell_type": "code",
      "execution_count": 12,
      "metadata": {
        "id": "aXS7sVi9PtxX"
      },
      "outputs": [],
      "source": [
        "from sklearn.model_selection import train_test_split\n",
        "combined_data = combined_data[combined_data['turn_over_rate']<1]\n",
        "error_firm = ['동원홈푸드','휠라홀딩스','트리','와디즈','키위컴퍼니','줌인터넷','시선인터내셔널','브이티코스메틱','유니슨이테크','씨엠비대전방송','서울비젼','더메인즈','조은시스템']\n",
        "for i in error_firm:\n",
        "    combined_data = combined_data[combined_data.company_name != i]\n",
        "combined_data.dropna(axis=0, inplace=True)\n",
        "combined_data = combined_data.drop(['Unnamed: 0'], axis=1)\n",
        "combined_data = fv_preprocessing(combined_data)\n",
        "tor = combined_data['turn_over_rate']\n",
        "combined_data.drop('turn_over_rate', axis=1, inplace=True)\n"
      ]
    },
    {
      "cell_type": "code",
      "execution_count": 13,
      "metadata": {
        "id": "9iO6ytOazvEK"
      },
      "outputs": [],
      "source": [
        "combined_data = combined_data.drop(['company_name'], axis = 1, inplace = False)"
      ]
    },
    {
      "cell_type": "code",
      "execution_count": 14,
      "metadata": {
        "id": "c7LRvV59Te59"
      },
      "outputs": [],
      "source": [
        "train_input, test_input, train_target, test_target = train_test_split(combined_data, tor, test_size=0.2)"
      ]
    },
    {
      "cell_type": "code",
      "execution_count": 15,
      "metadata": {
        "id": "d4Zzm-eRhLlk"
      },
      "outputs": [],
      "source": [
        "train_input['adv_dadv_combined'] = train_input['adv'] + ' ' + train_input['dadv']\n",
        "test_input['adv_dadv_combined'] = test_input['adv'] + ' ' + test_input['dadv']"
      ]
    },
    {
      "cell_type": "code",
      "execution_count": 16,
      "metadata": {
        "id": "c9_UUwahUQre"
      },
      "outputs": [],
      "source": [
        "train_text = train_input['adv_dadv_combined'].to_numpy()"
      ]
    },
    {
      "cell_type": "code",
      "execution_count": 17,
      "metadata": {
        "id": "VD570BljWP9u"
      },
      "outputs": [],
      "source": [
        "test_text = test_input['adv_dadv_combined'].to_numpy()"
      ]
    },
    {
      "cell_type": "code",
      "execution_count": 18,
      "metadata": {
        "id": "rsEE-3s2YBni"
      },
      "outputs": [],
      "source": [
        "financial_train1=train_input['average_salary'].to_numpy()\n",
        "financial_train2=train_input['total_sale'].to_numpy()\n",
        "financial_test1=test_input['average_salary'].to_numpy()\n",
        "financial_test2=test_input['total_sale'].to_numpy()"
      ]
    },
    {
      "cell_type": "code",
      "execution_count": 19,
      "metadata": {
        "id": "tFW9MeovVu70"
      },
      "outputs": [],
      "source": [
        "from sklearn.feature_extraction.text import TfidfTransformer\n",
        "from sklearn.feature_extraction.text import TfidfVectorizer\n",
        "\n",
        "tfidfvector = TfidfVectorizer(max_features=10000)\n",
        "text_train = tfidfvector.fit_transform(train_text)\n",
        "text_test = tfidfvector.transform(test_text)"
      ]
    },
    {
      "cell_type": "code",
      "execution_count": 20,
      "metadata": {
        "id": "RY_wCXWvZ4ls"
      },
      "outputs": [],
      "source": [
        "financial_train1 = financial_train1.reshape(-1, 1)\n",
        "financial_train2 = financial_train2.reshape(-1, 1)\n",
        "financial_test1 = financial_test1.reshape(-1, 1)\n",
        "financial_test2 = financial_test2.reshape(-1, 1)"
      ]
    },
    {
      "cell_type": "code",
      "execution_count": 21,
      "metadata": {
        "id": "YEU7WUnGaRyn"
      },
      "outputs": [],
      "source": [
        "financial_train1 = financial_train1.astype(float)\n",
        "financial_train2 = financial_train2.astype(float)\n",
        "financial_test1 = financial_test1.astype(float)\n",
        "financial_test2 = financial_test2.astype(float)"
      ]
    },
    {
      "cell_type": "code",
      "execution_count": 22,
      "metadata": {
        "id": "3kLsPxaYXicc"
      },
      "outputs": [],
      "source": [
        "from scipy.sparse import hstack # tf-idf로 변환된 텍스트 데이터와 금융 데이터를 연결\n",
        "X_train = hstack([text_train, financial_train1, financial_train2])  # 텍스트 데이터와 금융 데이터를 수평으로 연결\n",
        "X_test = hstack([text_test, financial_test1, financial_test2])    # 테스트 데이터에 대해서도 동일하게 수행"
      ]
    },
    {
      "cell_type": "code",
      "execution_count": 23,
      "metadata": {
        "id": "8rGiRZjybW2W"
      },
      "outputs": [],
      "source": [
        "\n",
        "y_train = train_target.to_numpy()\n",
        "y_test = test_target.to_numpy()"
      ]
    },
    {
      "cell_type": "code",
      "execution_count": 24,
      "metadata": {
        "colab": {
          "base_uri": "https://localhost:8080/"
        },
        "id": "Xqk40F1e3Dqc",
        "outputId": "7b869544-6278-48b8-edaf-13fd921b701e"
      },
      "outputs": [
        {
          "data": {
            "text/plain": [
              "(1844, 10000)"
            ]
          },
          "execution_count": 24,
          "metadata": {},
          "output_type": "execute_result"
        }
      ],
      "source": [
        "\n",
        "text_train.shape"
      ]
    },
    {
      "cell_type": "code",
      "execution_count": 25,
      "metadata": {
        "colab": {
          "base_uri": "https://localhost:8080/"
        },
        "id": "kBfTFfe82-xd",
        "outputId": "4e267653-a6cd-498a-d5de-30c69eba6ae4"
      },
      "outputs": [
        {
          "data": {
            "text/plain": [
              "(1844, 10002)"
            ]
          },
          "execution_count": 25,
          "metadata": {},
          "output_type": "execute_result"
        }
      ],
      "source": [
        "X_train.shape"
      ]
    },
    {
      "cell_type": "code",
      "execution_count": 26,
      "metadata": {
        "colab": {
          "base_uri": "https://localhost:8080/"
        },
        "id": "CUAYgbyFZT5a",
        "outputId": "18175804-2306-4c5e-d6c0-f114c89cecfe"
      },
      "outputs": [
        {
          "name": "stdout",
          "output_type": "stream",
          "text": [
            "LinearRegression train RMSE:  0.077\n",
            "LinearRegression  RMSE:  0.166\n",
            "Ridge train RMSE:  0.101\n",
            "Ridge  RMSE:  0.155\n",
            "Lasso train RMSE:  0.18\n",
            "Lasso  RMSE:  0.176\n",
            "\n",
            "\n",
            "LinearRegression  train_R2SCORE:  0.854\n",
            "LinearRegression  R2SCORE:  0.277\n",
            "Ridge  train_R2SCORE:  0.75\n",
            "Ridge  R2SCORE:  0.374\n",
            "Lasso  train_R2SCORE:  0.2\n",
            "Lasso  R2SCORE:  0.194\n",
            "\n",
            "\n",
            "LinearRegression  train MAE:  0.06\n",
            "LinearRegression  MAE:  0.128\n",
            "Ridge  train MAE:  0.075\n",
            "Ridge  MAE:  0.117\n",
            "Lasso  train MAE:  0.138\n",
            "Lasso  MAE:  0.136\n"
          ]
        }
      ],
      "source": [
        "# Linear Regression\n",
        "from sklearn.model_selection import train_test_split\n",
        "from sklearn.linear_model import LinearRegression, Ridge, Lasso\n",
        "from sklearn.metrics import mean_squared_error, r2_score, mean_absolute_error\n",
        "\n",
        "\n",
        "lr_reg = LinearRegression()\n",
        "lr_reg.fit(X_train, y_train)\n",
        "\n",
        "ridge_reg = Ridge()\n",
        "ridge_reg.fit(X_train, y_train)\n",
        "\n",
        "lasso_reg = Lasso()\n",
        "lasso_reg.fit(X_train,y_train)\n",
        "\n",
        "models = [lr_reg, ridge_reg, lasso_reg]\n",
        "get_rmses(models)\n",
        "print('\\n')\n",
        "get_r2scores(models)\n",
        "print('\\n')\n",
        "get_maes(models)"
      ]
    },
    {
      "cell_type": "code",
      "execution_count": 27,
      "metadata": {
        "id": "iYmK5Ly6INZg"
      },
      "outputs": [],
      "source": [
        "from sklearn.model_selection import GridSearchCV\n",
        "\n",
        "def print_best_params(model, params):\n",
        "\n",
        "    grid_model = GridSearchCV(model, param_grid=params, verbose=3,\n",
        "                              scoring='neg_mean_squared_error', cv=5)\n",
        "    grid_model.fit(X_train.astype(float),y_train.astype(float))\n",
        "    mse = -1 * grid_model.best_score_\n",
        "    rmse = np.sqrt(-1*grid_model.best_score_)\n",
        "    print('train: {0} After 5 CV, best average MSE: {1}, best average RMSE: {2}, best: {3}'.format(model.__class__.__name__,np.round(mse,4),\n",
        "                                                                           np.round(rmse,4),grid_model.best_params_))\n",
        "\n",
        "    grid_score = grid_model.score(X_test.astype(float), y_test.astype(float))\n",
        "    mse = -1 * grid_score\n",
        "    rmse = np.sqrt(-1*grid_score)\n",
        "    print('test: {0}  MSE: {1}, RMSE: {2}, best alpha: {3}'.format(model.__class__.__name__,np.round(mse,4),\n",
        "                                                                           np.round(rmse,4),grid_model.best_params_))\n",
        "    return grid_model"
      ]
    },
    {
      "cell_type": "code",
      "execution_count": 33,
      "metadata": {
        "id": "GW3UcrAPTjUk"
      },
      "outputs": [],
      "source": [
        "from sklearn.metrics import mean_absolute_error\n",
        "def get_MAE_RMSE(model):\n",
        "  # 모델을 사용하여 예측값 생성\n",
        "  y_pred = model.predict(X_test)\n",
        "\n",
        "  # MAE 계산\n",
        "  mae = mean_absolute_error(y_test, y_pred)\n",
        "  # rmse\n",
        "  mse = mean_squared_error(y_test, y_pred)\n",
        "  rmse = np.sqrt(-mse)\n",
        "  print('MSE: {0}, RMSE: {1}, MAE: {2}'.format(np.round(mse,4),np.round(rmse,4),np.round(mae,4)))"
      ]
    },
    {
      "cell_type": "code",
      "execution_count": 29,
      "metadata": {},
      "outputs": [],
      "source": [
        "import matplotlib.pyplot as plt\n",
        "from matplotlib import font_manager, rc\n",
        "\n",
        "def print_coeficient_graph(model):\n",
        "    import matplotlib.pyplot as plt\n",
        "\n",
        "    plt.rc('font', family='NanumBarunGothic')\n",
        "    # 최적 모델 추출\n",
        "    best_model = model.best_estimator_\n",
        "\n",
        "    # 최적 모델의 단어 중요도 추출\n",
        "    importances = best_model.coef_\n",
        "\n",
        "    # 중요도가 높은 순으로 정렬\n",
        "    sorted_indices = importances.argsort()[::-1]\n",
        "\n",
        "    # 상위 N개의 단어와 가중치 출력\n",
        "    top_n = 12\n",
        "    for index in sorted_indices[:top_n]:\n",
        "        word = tfidfvector.get_feature_names_out()[index]\n",
        "        importance = importances[index]\n",
        "        print(f\"단어: {word}, 가중치: {importance:.4f}\")\n",
        "\n",
        "    # 한글 폰트 설정\n",
        "    font_path = \"/System/Library/Fonts/Supplemental/Arial Unicode.ttf\"\n",
        "\n",
        "    rc('font', family='AppleGothic')\n",
        "\n",
        "    plt.rcParams['axes.unicode_minus'] = False\n",
        "\n",
        "\n",
        "    # 중요도가 높은 순으로 정렬된 인덱스 추출\n",
        "    top_n = 12\n",
        "    top_indices = sorted_indices[:top_n]\n",
        "\n",
        "    # 상위 N개 단어와 가중치 추출\n",
        "    top_words = [tfidfvector.get_feature_names_out()[index] for index in top_indices]\n",
        "    top_importances = [importances[index] for index in top_indices]\n",
        "\n",
        "    # 그래프 그리기\n",
        "    plt.figure(figsize=(12, 6))\n",
        "    plt.barh(top_words, top_importances, color='skyblue')\n",
        "    plt.xlabel('가중치')\n",
        "    plt.title('상위 12개 단어의 가중치')\n",
        "    plt.gca().invert_yaxis()  # 상위 단어가 위에 오도록 순서 뒤집기\n",
        "    plt.show()"
      ]
    },
    {
      "cell_type": "code",
      "execution_count": 30,
      "metadata": {
        "colab": {
          "background_save": true
        },
        "id": "Ss0jhNkaV3C3"
      },
      "outputs": [
        {
          "name": "stdout",
          "output_type": "stream",
          "text": [
            "Fitting 5 folds for each of 9 candidates, totalling 45 fits\n",
            "[CV 1/5] END ....max_depth=4, n_estimators=500;, score=-0.030 total time= 1.1min\n",
            "[CV 2/5] END ....max_depth=4, n_estimators=500;, score=-0.024 total time= 1.2min\n",
            "[CV 3/5] END ....max_depth=4, n_estimators=500;, score=-0.028 total time= 1.1min\n",
            "[CV 4/5] END ....max_depth=4, n_estimators=500;, score=-0.027 total time= 1.1min\n",
            "[CV 5/5] END ....max_depth=4, n_estimators=500;, score=-0.024 total time= 1.2min\n",
            "[CV 1/5] END ....max_depth=4, n_estimators=750;, score=-0.030 total time= 1.9min\n",
            "[CV 2/5] END ....max_depth=4, n_estimators=750;, score=-0.024 total time= 1.8min\n",
            "[CV 3/5] END ....max_depth=4, n_estimators=750;, score=-0.028 total time= 1.8min\n",
            "[CV 4/5] END ....max_depth=4, n_estimators=750;, score=-0.027 total time= 1.8min\n",
            "[CV 5/5] END ....max_depth=4, n_estimators=750;, score=-0.024 total time= 1.8min\n",
            "[CV 1/5] END ...max_depth=4, n_estimators=1000;, score=-0.030 total time= 2.3min\n",
            "[CV 2/5] END ...max_depth=4, n_estimators=1000;, score=-0.024 total time= 2.2min\n",
            "[CV 3/5] END ...max_depth=4, n_estimators=1000;, score=-0.028 total time= 2.3min\n",
            "[CV 4/5] END ...max_depth=4, n_estimators=1000;, score=-0.027 total time= 2.3min\n",
            "[CV 5/5] END ...max_depth=4, n_estimators=1000;, score=-0.025 total time= 2.3min\n",
            "[CV 1/5] END ....max_depth=8, n_estimators=500;, score=-0.028 total time= 2.7min\n",
            "[CV 2/5] END ....max_depth=8, n_estimators=500;, score=-0.022 total time= 2.6min\n",
            "[CV 3/5] END ....max_depth=8, n_estimators=500;, score=-0.028 total time= 2.5min\n",
            "[CV 4/5] END ....max_depth=8, n_estimators=500;, score=-0.026 total time= 2.5min\n",
            "[CV 5/5] END ....max_depth=8, n_estimators=500;, score=-0.024 total time= 2.4min\n",
            "[CV 1/5] END ....max_depth=8, n_estimators=750;, score=-0.029 total time= 3.5min\n",
            "[CV 2/5] END ....max_depth=8, n_estimators=750;, score=-0.023 total time= 3.4min\n",
            "[CV 3/5] END ....max_depth=8, n_estimators=750;, score=-0.027 total time= 3.4min\n",
            "[CV 4/5] END ....max_depth=8, n_estimators=750;, score=-0.026 total time= 3.4min\n",
            "[CV 5/5] END ....max_depth=8, n_estimators=750;, score=-0.024 total time= 3.4min\n",
            "[CV 1/5] END ...max_depth=8, n_estimators=1000;, score=-0.029 total time= 4.8min\n",
            "[CV 2/5] END ...max_depth=8, n_estimators=1000;, score=-0.023 total time= 4.8min\n",
            "[CV 3/5] END ...max_depth=8, n_estimators=1000;, score=-0.028 total time= 5.0min\n",
            "[CV 4/5] END ...max_depth=8, n_estimators=1000;, score=-0.026 total time= 4.7min\n",
            "[CV 5/5] END ...max_depth=8, n_estimators=1000;, score=-0.024 total time= 4.8min\n",
            "[CV 1/5] END ...max_depth=10, n_estimators=500;, score=-0.028 total time= 3.2min\n",
            "[CV 2/5] END ...max_depth=10, n_estimators=500;, score=-0.022 total time= 3.1min\n",
            "[CV 3/5] END ...max_depth=10, n_estimators=500;, score=-0.028 total time= 3.1min\n",
            "[CV 4/5] END ...max_depth=10, n_estimators=500;, score=-0.026 total time= 3.1min\n",
            "[CV 5/5] END ...max_depth=10, n_estimators=500;, score=-0.024 total time= 3.3min\n",
            "[CV 1/5] END ...max_depth=10, n_estimators=750;, score=-0.028 total time= 4.6min\n",
            "[CV 2/5] END ...max_depth=10, n_estimators=750;, score=-0.022 total time= 4.7min\n",
            "[CV 3/5] END ...max_depth=10, n_estimators=750;, score=-0.027 total time= 4.6min\n",
            "[CV 4/5] END ...max_depth=10, n_estimators=750;, score=-0.026 total time= 4.5min\n",
            "[CV 5/5] END ...max_depth=10, n_estimators=750;, score=-0.024 total time= 4.5min\n",
            "[CV 1/5] END ..max_depth=10, n_estimators=1000;, score=-0.028 total time= 6.0min\n",
            "[CV 2/5] END ..max_depth=10, n_estimators=1000;, score=-0.022 total time= 6.1min\n",
            "[CV 3/5] END ..max_depth=10, n_estimators=1000;, score=-0.027 total time= 6.0min\n",
            "[CV 4/5] END ..max_depth=10, n_estimators=1000;, score=-0.026 total time= 5.9min\n",
            "[CV 5/5] END ..max_depth=10, n_estimators=1000;, score=-0.024 total time= 6.0min\n",
            "train: RandomForestRegressor After 5 CV, best average MSE: 0.0256, best average RMSE: 0.1599, best: {'max_depth': 10, 'n_estimators': 1000}\n",
            "test: RandomForestRegressor  MSE: 0.0238, RMSE: 0.1542, best alpha: {'max_depth': 10, 'n_estimators': 1000}\n"
          ]
        },
        {
          "data": {
            "text/plain": [
              "GridSearchCV(cv=5, estimator=RandomForestRegressor(n_estimators=1000),\n",
              "             param_grid={'max_depth': [4, 8, 10],\n",
              "                         'n_estimators': [500, 750, 1000]},\n",
              "             scoring='neg_mean_squared_error', verbose=3)"
            ]
          },
          "execution_count": 30,
          "metadata": {},
          "output_type": "execute_result"
        }
      ],
      "source": [
        "from sklearn.ensemble import RandomForestRegressor\n",
        "\n",
        "rf_params = {'n_estimators': [500, 750, 1000],\n",
        "             'max_depth' : [4,8,10]}\n",
        "rf_reg = RandomForestRegressor(n_estimators=1000)\n",
        "print_best_params(rf_reg,rf_params)\n"
      ]
    },
    {
      "cell_type": "code",
      "execution_count": null,
      "metadata": {
        "colab": {
          "background_save": true
        },
        "id": "Voiyj_4lV8qs"
      },
      "outputs": [],
      "source": [
        "rf_reg = RandomForestRegressor(n_estimators=1000, max_depth= 10)\n",
        "rf_reg.fit(X_train,y_train)\n"
      ]
    },
    {
      "cell_type": "code",
      "execution_count": 34,
      "metadata": {},
      "outputs": [
        {
          "name": "stdout",
          "output_type": "stream",
          "text": [
            "MSE: 0.0236, RMSE: nan, MAE: 0.1129\n"
          ]
        },
        {
          "name": "stderr",
          "output_type": "stream",
          "text": [
            "/var/folders/l9/rb7j48z54n96mr23h_b6tdgc0000gn/T/ipykernel_98075/3078704814.py:10: RuntimeWarning: invalid value encountered in sqrt\n",
            "  rmse = np.sqrt(-mse)\n"
          ]
        }
      ],
      "source": [
        "get_MAE_RMSE(rf_reg)"
      ]
    },
    {
      "cell_type": "code",
      "execution_count": 36,
      "metadata": {
        "colab": {
          "background_save": true
        },
        "id": "GOjn0CqRWAN_"
      },
      "outputs": [
        {
          "name": "stdout",
          "output_type": "stream",
          "text": [
            "(10002,)\n"
          ]
        },
        {
          "data": {
            "image/png": "[encoded data removed]",
            "text/plain": [
              "<Figure size 1200x600 with 1 Axes>"
            ]
          },
          "metadata": {},
          "output_type": "display_data"
        }
      ],
      "source": [
        "import matplotlib.pyplot as plt\n",
        "\n",
        "font_path = \"/System/Library/Fonts/Supplemental/Arial Unicode.ttf\"\n",
        "rc('font', family='AppleGothic')\n",
        "# 특성 중요도를 가져옵니다.\n",
        "importances = rf_reg.feature_importances_\n",
        "print(importances.shape)\n",
        "# 중요도가 높은 순으로 정렬된 인덱스를 가져옵니다.\n",
        "sorted_indices = importances.argsort()[::-1]\n",
        "# 상위 N개의 단어와 중요도를 가져옵니다.\n",
        "# 중요도가 높은 순으로 정렬된 인덱스 추출\n",
        "\n",
        "top_n = 12\n",
        "top_indices = sorted_indices[:top_n]\n",
        "\n",
        "# 상위 N개 단어와 가중치 추출\n",
        "top_words = [tfidfvector.get_feature_names_out()[index] for index in top_indices if index < len(tfidfvector.get_feature_names_out())]\n",
        "top_importances = [importances[index] for index in top_indices if index < len(tfidfvector.get_feature_names_out())]\n",
        "\n",
        "# 그래프로 시각화합니다.\n",
        "plt.figure(figsize=(12, 6))\n",
        "plt.barh(top_words, top_importances, color='skyblue')\n",
        "plt.xlabel('중요도')\n",
        "plt.title('상위 12개 단어의 중요도 (RF)')\n",
        "plt.gca().invert_yaxis()  # 중요도가 높은 순서대로 표시하기 위해 Y 축 뒤집기\n",
        "plt.show()"
      ]
    },
    {
      "cell_type": "code",
      "execution_count": null,
      "metadata": {
        "colab": {
          "background_save": true
        },
        "id": "WajixdgommnW"
      },
      "outputs": [],
      "source": [
        "joblib.dump(rf_reg, 'tf_idf_rf_reg_model.pkl')"
      ]
    },
    {
      "cell_type": "code",
      "execution_count": null,
      "metadata": {
        "colab": {
          "background_save": true
        },
        "id": "74nE5W6PWBbu"
      },
      "outputs": [],
      "source": [
        "from sklearn.tree import DecisionTreeRegressor\n",
        "\n",
        "dt_params = {'max_depth' : [4,6,8,10]}\n",
        "dt_reg = DecisionTreeRegressor(max_depth=4)\n",
        "print_best_params(dt_reg, dt_params)"
      ]
    },
    {
      "cell_type": "code",
      "execution_count": null,
      "metadata": {
        "colab": {
          "background_save": true
        },
        "id": "r1W2WsZJWSEZ"
      },
      "outputs": [],
      "source": [
        "get_MAE_RMSE(dt_reg)"
      ]
    },
    {
      "cell_type": "code",
      "execution_count": null,
      "metadata": {
        "colab": {
          "background_save": true
        },
        "id": "WoXThZh4WWPh"
      },
      "outputs": [],
      "source": [
        "print_coeficient_graph(dt_reg)"
      ]
    },
    {
      "cell_type": "code",
      "execution_count": null,
      "metadata": {
        "colab": {
          "background_save": true
        },
        "id": "8jPBBPlsmpLb"
      },
      "outputs": [],
      "source": [
        "joblib.dump(dt_reg, 'tf_idf_dt_reg_model.pkl')"
      ]
    }
  ],
  "metadata": {
    "colab": {
      "provenance": []
    },
    "kernelspec": {
      "display_name": "textmining",
      "language": "python",
      "name": "textmining"
    },
    "language_info": {
      "codemirror_mode": {
        "name": "ipython",
        "version": 3
      },
      "file_extension": ".py",
      "mimetype": "text/x-python",
      "name": "python",
      "nbconvert_exporter": "python",
      "pygments_lexer": "ipython3",
      "version": "3.8.16"
    }
  },
  "nbformat": 4,
  "nbformat_minor": 0
}
