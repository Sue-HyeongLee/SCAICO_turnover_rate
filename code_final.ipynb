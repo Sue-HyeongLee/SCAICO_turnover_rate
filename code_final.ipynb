{
  "nbformat": 4,
  "nbformat_minor": 0,
  "metadata": {
    "colab": {
      "provenance": []
    },
    "kernelspec": {
      "name": "python3",
      "display_name": "Python 3"
    },
    "language_info": {
      "name": "python"
    }
  },
  "cells": [
    {
      "cell_type": "markdown",
      "source": [
        "google-play-scraper 설치를 한다."
      ],
      "metadata": {
        "id": "jlgKbi5UPqYk"
      }
    },
    {
      "cell_type": "code",
      "source": [
        "!pip install google-play-scraper"
      ],
      "metadata": {
        "colab": {
          "base_uri": "https://localhost:8080/"
        },
        "id": "4DtNpApwPnRq",
        "outputId": "73764ead-b0f9-4d6d-be91-2a77e11de08d"
      },
      "execution_count": 1,
      "outputs": [
        {
          "output_type": "stream",
          "name": "stdout",
          "text": [
            "Looking in indexes: https://pypi.org/simple, https://us-python.pkg.dev/colab-wheels/public/simple/\n",
            "Collecting google-play-scraper\n",
            "  Downloading google_play_scraper-1.2.3-py3-none-any.whl (28 kB)\n",
            "Installing collected packages: google-play-scraper\n",
            "Successfully installed google-play-scraper-1.2.3\n"
          ]
        }
      ]
    },
    {
      "cell_type": "code",
      "source": [
        "from google_play_scraper import Sort, reviews_all\n",
        "raw_data = reviews_all(\n",
        "    'com.ryanair.cheapflights', \n",
        "    # 'com.ryanair.cheapflights',\n",
        "    lang='en',\n",
        "    country='us',\n",
        "    sort=Sort.MOST_RELEVANT\n",
        ")"
      ],
      "metadata": {
        "id": "A8JYiQY8PxhS"
      },
      "execution_count": 2,
      "outputs": []
    },
    {
      "cell_type": "code",
      "source": [
        "from pprint import pprint\n",
        "pprint(raw_data[:5])"
      ],
      "metadata": {
        "colab": {
          "base_uri": "https://localhost:8080/"
        },
        "id": "MPCTnEWLNPf9",
        "outputId": "afddea3d-1311-4b90-916b-a54fc7e72c42"
      },
      "execution_count": 3,
      "outputs": [
        {
          "output_type": "stream",
          "name": "stdout",
          "text": [
            "[{'at': datetime.datetime(2019, 12, 8, 12, 46, 39),\n",
            "  'content': 'Cheap flights, but you get what you pay for. Check in through '\n",
            "             'the app has to be done 24hrs in advance (the app frequently '\n",
            "             'crashes when trying to do this), or they ask you to pay to check '\n",
            "             'in when you get there. I also purchased parking through the app, '\n",
            "             'but it does not provide a location for the service. The '\n",
            "             'temperature in flight was very hot and uncomfortable even with '\n",
            "             'the vents open...during the winter. Good enough for a short '\n",
            "             \"flight, but I wouldn't travel too far with Ryanair.\",\n",
            "  'repliedAt': None,\n",
            "  'replyContent': None,\n",
            "  'reviewCreatedVersion': '3.74.1',\n",
            "  'reviewId': '90298674-f009-4499-beb0-b3488189d8fa',\n",
            "  'score': 2,\n",
            "  'thumbsUpCount': 40,\n",
            "  'userImage': 'https://play-lh.googleusercontent.com/EGemoI2NTXmTsBVtJqk8jxF9rh8ApRWfsIMQSt2uE4OcpQqbFu7f7NbTK05lx80nuSijCz7sc3a277R67g',\n",
            "  'userName': 'A Google user'},\n",
            " {'at': datetime.datetime(2021, 10, 12, 21, 45, 50),\n",
            "  'content': 'Awful app tries to up sell you 4 ways, 4 times for each flight. '\n",
            "             'Impossible to go back without losing data during check-in. Tries '\n",
            "             \"to get you to check in for your return flight but then won't let \"\n",
            "             'you without purchasing a seat selection. Then when you go back '\n",
            "             'you have to start all over again for both flights. Absolute '\n",
            "             'garbage.',\n",
            "  'repliedAt': None,\n",
            "  'replyContent': None,\n",
            "  'reviewCreatedVersion': '3.114.0',\n",
            "  'reviewId': 'b257f40d-88f6-481f-9ded-f446a423a026',\n",
            "  'score': 1,\n",
            "  'thumbsUpCount': 49,\n",
            "  'userImage': 'https://play-lh.googleusercontent.com/a-/ACB-R5Tz4Z17mVcfce6uSaVSbIuKYXdhpVFLCqqgy7w2wA',\n",
            "  'userName': 'Sean Coneys'},\n",
            " {'at': datetime.datetime(2023, 4, 1, 8, 11, 18),\n",
            "  'content': \"From the user's point of view, the application is confusing. For \"\n",
            "             'example, I already ordered one cabin and one 20kg checked in '\n",
            "             'baggage. But the app is offering to order it again, so you can '\n",
            "             'have an impression that you did a mistake in the previous step '\n",
            "             'or that the Ryanair wants to charge you twice. I used Ryanair '\n",
            "             'first time, the reason was better time of departure to rhe same '\n",
            "             'destination, but next time I will think twice to use it again 😞',\n",
            "  'repliedAt': None,\n",
            "  'replyContent': None,\n",
            "  'reviewCreatedVersion': '3.151.0',\n",
            "  'reviewId': '0a410972-a82e-4a10-8919-9f9a48cb8caa',\n",
            "  'score': 1,\n",
            "  'thumbsUpCount': 23,\n",
            "  'userImage': 'https://play-lh.googleusercontent.com/a-/ACB-R5RU0bARAvyeVk9Ttj5uuo66Kt6eFA_Sao2Wuek_Zg',\n",
            "  'userName': 'Petr Bláha'},\n",
            " {'at': datetime.datetime(2023, 4, 1, 22, 28, 42),\n",
            "  'content': \"Lately (last couple of months' already) app is really \"\n",
            "             \"unreliable, as even if you're logged in you can't see your trips \"\n",
            "             '(even after trying to add it with reservation code+email) or '\n",
            "             'takes ages to check-in, sometimes may need to even reinstall it '\n",
            "             'to be able to do so. Please fix the bugs, as otherwise app was '\n",
            "             'really handy! Thanks',\n",
            "  'repliedAt': None,\n",
            "  'replyContent': None,\n",
            "  'reviewCreatedVersion': '3.151.0',\n",
            "  'reviewId': 'f0e0f5b7-e367-49e4-aa98-ed617329d381',\n",
            "  'score': 2,\n",
            "  'thumbsUpCount': 15,\n",
            "  'userImage': 'https://play-lh.googleusercontent.com/a-/ACB-R5TyeBkj1F1vZYls0aovJCeK3badlrJqtCi9-EiRjA',\n",
            "  'userName': 'Dóra Adorjánné Simon'},\n",
            " {'at': datetime.datetime(2023, 4, 14, 9, 33, 12),\n",
            "  'content': 'The app is excellent; well laid out and designed (Not much '\n",
            "             'custom UI, which is good. Follows Android standards) with '\n",
            "             'expected, but minimal noise. The check-in process is super easy '\n",
            "             'and clear. Boarding passes are clear too. Considering the things '\n",
            "             \"I've heard about Ryanair I have to say I am pleasantly surprised \"\n",
            "             'at how organised everything is.',\n",
            "  'repliedAt': None,\n",
            "  'replyContent': None,\n",
            "  'reviewCreatedVersion': '3.152.1',\n",
            "  'reviewId': 'a0ec6674-fb9a-493d-b925-2cec2320f3fe',\n",
            "  'score': 5,\n",
            "  'thumbsUpCount': 6,\n",
            "  'userImage': 'https://play-lh.googleusercontent.com/a-/ACB-R5RowPpxfjszdwBTtIQP_LbWLkze9bC3MOIalp4LYg',\n",
            "  'userName': 'George'}]\n"
          ]
        }
      ]
    },
    {
      "cell_type": "code",
      "source": [
        "from google.colab import drive\n",
        "drive.mount('/content/drive')"
      ],
      "metadata": {
        "colab": {
          "base_uri": "https://localhost:8080/"
        },
        "id": "tNKBGyDdQ17G",
        "outputId": "3c12a8d6-599d-45cb-baac-63ac24422b23"
      },
      "execution_count": 4,
      "outputs": [
        {
          "output_type": "stream",
          "name": "stdout",
          "text": [
            "Mounted at /content/drive\n"
          ]
        }
      ]
    },
    {
      "cell_type": "code",
      "source": [
        "import csv\n",
        "\n",
        "data_li = [(info['content'], info['score'], info['thumbsUpCount'], info['at']) for info in raw_data]\n",
        "\n",
        "with open(\"/content/drive/MyDrive/application_data.csv\", 'wt', encoding='utf-8', newline='') as file:\n",
        "        csv_writer = csv.writer(file)\n",
        "        csv_writer.writerow([\"contents\", \"star\", \"agree\", \"date\"])\n",
        "\n",
        "        for data in data_li:\n",
        "          \n",
        "            csv_writer.writerow(data)"
      ],
      "metadata": {
        "id": "0AHw5zCnNPvX"
      },
      "execution_count": 5,
      "outputs": []
    },
    {
      "cell_type": "code",
      "source": [
        "import pandas as pd\n",
        "\n",
        "ryanair = pd.read_csv(\"/content/drive/MyDrive/application_data.csv\")\n",
        "ryanair"
      ],
      "metadata": {
        "colab": {
          "base_uri": "https://localhost:8080/",
          "height": 423
        },
        "id": "sfm3-mftRhw4",
        "outputId": "f8f70551-318f-4624-b6a0-f8cb256caa97"
      },
      "execution_count": 6,
      "outputs": [
        {
          "output_type": "execute_result",
          "data": {
            "text/plain": [
              "                                                contents  star  agree  \\\n",
              "0      Cheap flights, but you get what you pay for. C...     2     40   \n",
              "1      Awful app tries to up sell you 4 ways, 4 times...     1     49   \n",
              "2      From the user's point of view, the application...     1     23   \n",
              "3      Lately (last couple of months' already) app is...     2     15   \n",
              "4      The app is excellent; well laid out and design...     5      6   \n",
              "...                                                  ...   ...    ...   \n",
              "23602                                                 Ok     5      0   \n",
              "23603                                                 Ok     4      0   \n",
              "23604                                                NaN     1      0   \n",
              "23605                                                NaN     1      0   \n",
              "23606                                                NaN     1      0   \n",
              "\n",
              "                      date  \n",
              "0      2019-12-08 12:46:39  \n",
              "1      2021-10-12 21:45:50  \n",
              "2      2023-04-01 08:11:18  \n",
              "3      2023-04-01 22:28:42  \n",
              "4      2023-04-14 09:33:12  \n",
              "...                    ...  \n",
              "23602  2016-09-27 21:02:31  \n",
              "23603  2016-10-14 07:07:47  \n",
              "23604  2014-02-14 21:35:30  \n",
              "23605  2014-02-22 14:06:56  \n",
              "23606  2014-02-09 04:26:20  \n",
              "\n",
              "[23607 rows x 4 columns]"
            ],
            "text/html": [
              "\n",
              "  <div id=\"df-a7bfa66f-c1e8-48a4-a664-2bbb314f37eb\">\n",
              "    <div class=\"colab-df-container\">\n",
              "      <div>\n",
              "<style scoped>\n",
              "    .dataframe tbody tr th:only-of-type {\n",
              "        vertical-align: middle;\n",
              "    }\n",
              "\n",
              "    .dataframe tbody tr th {\n",
              "        vertical-align: top;\n",
              "    }\n",
              "\n",
              "    .dataframe thead th {\n",
              "        text-align: right;\n",
              "    }\n",
              "</style>\n",
              "<table border=\"1\" class=\"dataframe\">\n",
              "  <thead>\n",
              "    <tr style=\"text-align: right;\">\n",
              "      <th></th>\n",
              "      <th>contents</th>\n",
              "      <th>star</th>\n",
              "      <th>agree</th>\n",
              "      <th>date</th>\n",
              "    </tr>\n",
              "  </thead>\n",
              "  <tbody>\n",
              "    <tr>\n",
              "      <th>0</th>\n",
              "      <td>Cheap flights, but you get what you pay for. C...</td>\n",
              "      <td>2</td>\n",
              "      <td>40</td>\n",
              "      <td>2019-12-08 12:46:39</td>\n",
              "    </tr>\n",
              "    <tr>\n",
              "      <th>1</th>\n",
              "      <td>Awful app tries to up sell you 4 ways, 4 times...</td>\n",
              "      <td>1</td>\n",
              "      <td>49</td>\n",
              "      <td>2021-10-12 21:45:50</td>\n",
              "    </tr>\n",
              "    <tr>\n",
              "      <th>2</th>\n",
              "      <td>From the user's point of view, the application...</td>\n",
              "      <td>1</td>\n",
              "      <td>23</td>\n",
              "      <td>2023-04-01 08:11:18</td>\n",
              "    </tr>\n",
              "    <tr>\n",
              "      <th>3</th>\n",
              "      <td>Lately (last couple of months' already) app is...</td>\n",
              "      <td>2</td>\n",
              "      <td>15</td>\n",
              "      <td>2023-04-01 22:28:42</td>\n",
              "    </tr>\n",
              "    <tr>\n",
              "      <th>4</th>\n",
              "      <td>The app is excellent; well laid out and design...</td>\n",
              "      <td>5</td>\n",
              "      <td>6</td>\n",
              "      <td>2023-04-14 09:33:12</td>\n",
              "    </tr>\n",
              "    <tr>\n",
              "      <th>...</th>\n",
              "      <td>...</td>\n",
              "      <td>...</td>\n",
              "      <td>...</td>\n",
              "      <td>...</td>\n",
              "    </tr>\n",
              "    <tr>\n",
              "      <th>23602</th>\n",
              "      <td>Ok</td>\n",
              "      <td>5</td>\n",
              "      <td>0</td>\n",
              "      <td>2016-09-27 21:02:31</td>\n",
              "    </tr>\n",
              "    <tr>\n",
              "      <th>23603</th>\n",
              "      <td>Ok</td>\n",
              "      <td>4</td>\n",
              "      <td>0</td>\n",
              "      <td>2016-10-14 07:07:47</td>\n",
              "    </tr>\n",
              "    <tr>\n",
              "      <th>23604</th>\n",
              "      <td>NaN</td>\n",
              "      <td>1</td>\n",
              "      <td>0</td>\n",
              "      <td>2014-02-14 21:35:30</td>\n",
              "    </tr>\n",
              "    <tr>\n",
              "      <th>23605</th>\n",
              "      <td>NaN</td>\n",
              "      <td>1</td>\n",
              "      <td>0</td>\n",
              "      <td>2014-02-22 14:06:56</td>\n",
              "    </tr>\n",
              "    <tr>\n",
              "      <th>23606</th>\n",
              "      <td>NaN</td>\n",
              "      <td>1</td>\n",
              "      <td>0</td>\n",
              "      <td>2014-02-09 04:26:20</td>\n",
              "    </tr>\n",
              "  </tbody>\n",
              "</table>\n",
              "<p>23607 rows × 4 columns</p>\n",
              "</div>\n",
              "      <button class=\"colab-df-convert\" onclick=\"convertToInteractive('df-a7bfa66f-c1e8-48a4-a664-2bbb314f37eb')\"\n",
              "              title=\"Convert this dataframe to an interactive table.\"\n",
              "              style=\"display:none;\">\n",
              "        \n",
              "  <svg xmlns=\"http://www.w3.org/2000/svg\" height=\"24px\"viewBox=\"0 0 24 24\"\n",
              "       width=\"24px\">\n",
              "    <path d=\"M0 0h24v24H0V0z\" fill=\"none\"/>\n",
              "    <path d=\"M18.56 5.44l.94 2.06.94-2.06 2.06-.94-2.06-.94-.94-2.06-.94 2.06-2.06.94zm-11 1L8.5 8.5l.94-2.06 2.06-.94-2.06-.94L8.5 2.5l-.94 2.06-2.06.94zm10 10l.94 2.06.94-2.06 2.06-.94-2.06-.94-.94-2.06-.94 2.06-2.06.94z\"/><path d=\"M17.41 7.96l-1.37-1.37c-.4-.4-.92-.59-1.43-.59-.52 0-1.04.2-1.43.59L10.3 9.45l-7.72 7.72c-.78.78-.78 2.05 0 2.83L4 21.41c.39.39.9.59 1.41.59.51 0 1.02-.2 1.41-.59l7.78-7.78 2.81-2.81c.8-.78.8-2.07 0-2.86zM5.41 20L4 18.59l7.72-7.72 1.47 1.35L5.41 20z\"/>\n",
              "  </svg>\n",
              "      </button>\n",
              "      \n",
              "  <style>\n",
              "    .colab-df-container {\n",
              "      display:flex;\n",
              "      flex-wrap:wrap;\n",
              "      gap: 12px;\n",
              "    }\n",
              "\n",
              "    .colab-df-convert {\n",
              "      background-color: #E8F0FE;\n",
              "      border: none;\n",
              "      border-radius: 50%;\n",
              "      cursor: pointer;\n",
              "      display: none;\n",
              "      fill: #1967D2;\n",
              "      height: 32px;\n",
              "      padding: 0 0 0 0;\n",
              "      width: 32px;\n",
              "    }\n",
              "\n",
              "    .colab-df-convert:hover {\n",
              "      background-color: #E2EBFA;\n",
              "      box-shadow: 0px 1px 2px rgba(60, 64, 67, 0.3), 0px 1px 3px 1px rgba(60, 64, 67, 0.15);\n",
              "      fill: #174EA6;\n",
              "    }\n",
              "\n",
              "    [theme=dark] .colab-df-convert {\n",
              "      background-color: #3B4455;\n",
              "      fill: #D2E3FC;\n",
              "    }\n",
              "\n",
              "    [theme=dark] .colab-df-convert:hover {\n",
              "      background-color: #434B5C;\n",
              "      box-shadow: 0px 1px 3px 1px rgba(0, 0, 0, 0.15);\n",
              "      filter: drop-shadow(0px 1px 2px rgba(0, 0, 0, 0.3));\n",
              "      fill: #FFFFFF;\n",
              "    }\n",
              "  </style>\n",
              "\n",
              "      <script>\n",
              "        const buttonEl =\n",
              "          document.querySelector('#df-a7bfa66f-c1e8-48a4-a664-2bbb314f37eb button.colab-df-convert');\n",
              "        buttonEl.style.display =\n",
              "          google.colab.kernel.accessAllowed ? 'block' : 'none';\n",
              "\n",
              "        async function convertToInteractive(key) {\n",
              "          const element = document.querySelector('#df-a7bfa66f-c1e8-48a4-a664-2bbb314f37eb');\n",
              "          const dataTable =\n",
              "            await google.colab.kernel.invokeFunction('convertToInteractive',\n",
              "                                                     [key], {});\n",
              "          if (!dataTable) return;\n",
              "\n",
              "          const docLinkHtml = 'Like what you see? Visit the ' +\n",
              "            '<a target=\"_blank\" href=https://colab.research.google.com/notebooks/data_table.ipynb>data table notebook</a>'\n",
              "            + ' to learn more about interactive tables.';\n",
              "          element.innerHTML = '';\n",
              "          dataTable['output_type'] = 'display_data';\n",
              "          await google.colab.output.renderOutput(dataTable, element);\n",
              "          const docLink = document.createElement('div');\n",
              "          docLink.innerHTML = docLinkHtml;\n",
              "          element.appendChild(docLink);\n",
              "        }\n",
              "      </script>\n",
              "    </div>\n",
              "  </div>\n",
              "  "
            ]
          },
          "metadata": {},
          "execution_count": 6
        }
      ]
    },
    {
      "cell_type": "code",
      "source": [
        "ryanair=ryanair[['star','contents']]\n",
        "ryanair"
      ],
      "metadata": {
        "colab": {
          "base_uri": "https://localhost:8080/",
          "height": 423
        },
        "id": "5NqoH6ZJTj7F",
        "outputId": "86868712-3388-43d9-e87d-041aabd8475b"
      },
      "execution_count": 7,
      "outputs": [
        {
          "output_type": "execute_result",
          "data": {
            "text/plain": [
              "       star                                           contents\n",
              "0         2  Cheap flights, but you get what you pay for. C...\n",
              "1         1  Awful app tries to up sell you 4 ways, 4 times...\n",
              "2         1  From the user's point of view, the application...\n",
              "3         2  Lately (last couple of months' already) app is...\n",
              "4         5  The app is excellent; well laid out and design...\n",
              "...     ...                                                ...\n",
              "23602     5                                                 Ok\n",
              "23603     4                                                 Ok\n",
              "23604     1                                                NaN\n",
              "23605     1                                                NaN\n",
              "23606     1                                                NaN\n",
              "\n",
              "[23607 rows x 2 columns]"
            ],
            "text/html": [
              "\n",
              "  <div id=\"df-74ebe8c5-ba87-43fe-8c42-7a5b2c17c0b5\">\n",
              "    <div class=\"colab-df-container\">\n",
              "      <div>\n",
              "<style scoped>\n",
              "    .dataframe tbody tr th:only-of-type {\n",
              "        vertical-align: middle;\n",
              "    }\n",
              "\n",
              "    .dataframe tbody tr th {\n",
              "        vertical-align: top;\n",
              "    }\n",
              "\n",
              "    .dataframe thead th {\n",
              "        text-align: right;\n",
              "    }\n",
              "</style>\n",
              "<table border=\"1\" class=\"dataframe\">\n",
              "  <thead>\n",
              "    <tr style=\"text-align: right;\">\n",
              "      <th></th>\n",
              "      <th>star</th>\n",
              "      <th>contents</th>\n",
              "    </tr>\n",
              "  </thead>\n",
              "  <tbody>\n",
              "    <tr>\n",
              "      <th>0</th>\n",
              "      <td>2</td>\n",
              "      <td>Cheap flights, but you get what you pay for. C...</td>\n",
              "    </tr>\n",
              "    <tr>\n",
              "      <th>1</th>\n",
              "      <td>1</td>\n",
              "      <td>Awful app tries to up sell you 4 ways, 4 times...</td>\n",
              "    </tr>\n",
              "    <tr>\n",
              "      <th>2</th>\n",
              "      <td>1</td>\n",
              "      <td>From the user's point of view, the application...</td>\n",
              "    </tr>\n",
              "    <tr>\n",
              "      <th>3</th>\n",
              "      <td>2</td>\n",
              "      <td>Lately (last couple of months' already) app is...</td>\n",
              "    </tr>\n",
              "    <tr>\n",
              "      <th>4</th>\n",
              "      <td>5</td>\n",
              "      <td>The app is excellent; well laid out and design...</td>\n",
              "    </tr>\n",
              "    <tr>\n",
              "      <th>...</th>\n",
              "      <td>...</td>\n",
              "      <td>...</td>\n",
              "    </tr>\n",
              "    <tr>\n",
              "      <th>23602</th>\n",
              "      <td>5</td>\n",
              "      <td>Ok</td>\n",
              "    </tr>\n",
              "    <tr>\n",
              "      <th>23603</th>\n",
              "      <td>4</td>\n",
              "      <td>Ok</td>\n",
              "    </tr>\n",
              "    <tr>\n",
              "      <th>23604</th>\n",
              "      <td>1</td>\n",
              "      <td>NaN</td>\n",
              "    </tr>\n",
              "    <tr>\n",
              "      <th>23605</th>\n",
              "      <td>1</td>\n",
              "      <td>NaN</td>\n",
              "    </tr>\n",
              "    <tr>\n",
              "      <th>23606</th>\n",
              "      <td>1</td>\n",
              "      <td>NaN</td>\n",
              "    </tr>\n",
              "  </tbody>\n",
              "</table>\n",
              "<p>23607 rows × 2 columns</p>\n",
              "</div>\n",
              "      <button class=\"colab-df-convert\" onclick=\"convertToInteractive('df-74ebe8c5-ba87-43fe-8c42-7a5b2c17c0b5')\"\n",
              "              title=\"Convert this dataframe to an interactive table.\"\n",
              "              style=\"display:none;\">\n",
              "        \n",
              "  <svg xmlns=\"http://www.w3.org/2000/svg\" height=\"24px\"viewBox=\"0 0 24 24\"\n",
              "       width=\"24px\">\n",
              "    <path d=\"M0 0h24v24H0V0z\" fill=\"none\"/>\n",
              "    <path d=\"M18.56 5.44l.94 2.06.94-2.06 2.06-.94-2.06-.94-.94-2.06-.94 2.06-2.06.94zm-11 1L8.5 8.5l.94-2.06 2.06-.94-2.06-.94L8.5 2.5l-.94 2.06-2.06.94zm10 10l.94 2.06.94-2.06 2.06-.94-2.06-.94-.94-2.06-.94 2.06-2.06.94z\"/><path d=\"M17.41 7.96l-1.37-1.37c-.4-.4-.92-.59-1.43-.59-.52 0-1.04.2-1.43.59L10.3 9.45l-7.72 7.72c-.78.78-.78 2.05 0 2.83L4 21.41c.39.39.9.59 1.41.59.51 0 1.02-.2 1.41-.59l7.78-7.78 2.81-2.81c.8-.78.8-2.07 0-2.86zM5.41 20L4 18.59l7.72-7.72 1.47 1.35L5.41 20z\"/>\n",
              "  </svg>\n",
              "      </button>\n",
              "      \n",
              "  <style>\n",
              "    .colab-df-container {\n",
              "      display:flex;\n",
              "      flex-wrap:wrap;\n",
              "      gap: 12px;\n",
              "    }\n",
              "\n",
              "    .colab-df-convert {\n",
              "      background-color: #E8F0FE;\n",
              "      border: none;\n",
              "      border-radius: 50%;\n",
              "      cursor: pointer;\n",
              "      display: none;\n",
              "      fill: #1967D2;\n",
              "      height: 32px;\n",
              "      padding: 0 0 0 0;\n",
              "      width: 32px;\n",
              "    }\n",
              "\n",
              "    .colab-df-convert:hover {\n",
              "      background-color: #E2EBFA;\n",
              "      box-shadow: 0px 1px 2px rgba(60, 64, 67, 0.3), 0px 1px 3px 1px rgba(60, 64, 67, 0.15);\n",
              "      fill: #174EA6;\n",
              "    }\n",
              "\n",
              "    [theme=dark] .colab-df-convert {\n",
              "      background-color: #3B4455;\n",
              "      fill: #D2E3FC;\n",
              "    }\n",
              "\n",
              "    [theme=dark] .colab-df-convert:hover {\n",
              "      background-color: #434B5C;\n",
              "      box-shadow: 0px 1px 3px 1px rgba(0, 0, 0, 0.15);\n",
              "      filter: drop-shadow(0px 1px 2px rgba(0, 0, 0, 0.3));\n",
              "      fill: #FFFFFF;\n",
              "    }\n",
              "  </style>\n",
              "\n",
              "      <script>\n",
              "        const buttonEl =\n",
              "          document.querySelector('#df-74ebe8c5-ba87-43fe-8c42-7a5b2c17c0b5 button.colab-df-convert');\n",
              "        buttonEl.style.display =\n",
              "          google.colab.kernel.accessAllowed ? 'block' : 'none';\n",
              "\n",
              "        async function convertToInteractive(key) {\n",
              "          const element = document.querySelector('#df-74ebe8c5-ba87-43fe-8c42-7a5b2c17c0b5');\n",
              "          const dataTable =\n",
              "            await google.colab.kernel.invokeFunction('convertToInteractive',\n",
              "                                                     [key], {});\n",
              "          if (!dataTable) return;\n",
              "\n",
              "          const docLinkHtml = 'Like what you see? Visit the ' +\n",
              "            '<a target=\"_blank\" href=https://colab.research.google.com/notebooks/data_table.ipynb>data table notebook</a>'\n",
              "            + ' to learn more about interactive tables.';\n",
              "          element.innerHTML = '';\n",
              "          dataTable['output_type'] = 'display_data';\n",
              "          await google.colab.output.renderOutput(dataTable, element);\n",
              "          const docLink = document.createElement('div');\n",
              "          docLink.innerHTML = docLinkHtml;\n",
              "          element.appendChild(docLink);\n",
              "        }\n",
              "      </script>\n",
              "    </div>\n",
              "  </div>\n",
              "  "
            ]
          },
          "metadata": {},
          "execution_count": 7
        }
      ]
    },
    {
      "cell_type": "code",
      "source": [
        "import pandas as pd\n",
        "import numpy as np\n",
        "import matplotlib.pyplot as plt\n",
        "import seaborn as sns\n",
        "import nltk\n",
        "import re\n",
        "import os\n",
        "import json\n",
        "import sklearn\n",
        "\n",
        "from sklearn.model_selection import train_test_split"
      ],
      "metadata": {
        "id": "KR8vjbtXXtMH"
      },
      "execution_count": 8,
      "outputs": []
    },
    {
      "cell_type": "code",
      "source": [
        "ryanair.info()"
      ],
      "metadata": {
        "colab": {
          "base_uri": "https://localhost:8080/"
        },
        "id": "pPL0t0h-Xxd9",
        "outputId": "092877e4-8912-4d33-eb2e-cbe0c39bcc7f"
      },
      "execution_count": 9,
      "outputs": [
        {
          "output_type": "stream",
          "name": "stdout",
          "text": [
            "<class 'pandas.core.frame.DataFrame'>\n",
            "RangeIndex: 23607 entries, 0 to 23606\n",
            "Data columns (total 2 columns):\n",
            " #   Column    Non-Null Count  Dtype \n",
            "---  ------    --------------  ----- \n",
            " 0   star      23607 non-null  int64 \n",
            " 1   contents  23586 non-null  object\n",
            "dtypes: int64(1), object(1)\n",
            "memory usage: 369.0+ KB\n"
          ]
        }
      ]
    },
    {
      "cell_type": "code",
      "source": [
        "sns.countplot(x='star', data=ryanair)"
      ],
      "metadata": {
        "colab": {
          "base_uri": "https://localhost:8080/",
          "height": 467
        },
        "id": "SlcKXxTZX2eF",
        "outputId": "513d2fa1-3d07-4027-9cf9-a33a7c0ab679"
      },
      "execution_count": 10,
      "outputs": [
        {
          "output_type": "execute_result",
          "data": {
            "text/plain": [
              "<Axes: xlabel='star', ylabel='count'>"
            ]
          },
          "metadata": {},
          "execution_count": 10
        },
        {
          "output_type": "display_data",
          "data": {
            "text/plain": [
              "<Figure size 640x480 with 1 Axes>"
            ],
            "image/png": "[encoded data removed]"
          },
          "metadata": {}
        }
      ]
    },
    {
      "cell_type": "markdown",
      "source": [
        "별점을 이용한 긍정/부정 리뷰의 구분"
      ],
      "metadata": {
        "id": "TKpm7x_TX-pl"
      }
    },
    {
      "cell_type": "code",
      "source": [
        "#아마존 리뷰 데이터 참고\n",
        "#1, 2점은 class 1로(negative), 4, 5점은 class 2로(positive). 3은 제거한다.\n",
        "star3=ryanair[ryanair['star']==3].index\n",
        "ryanair=ryanair.drop(star3)\n",
        "\n",
        "# nan 값 제거\n",
        "ryanair = ryanair.dropna()\n",
        "\n",
        "ryanair.reset_index(drop=True, inplace=True)\n",
        "\n",
        "ryanair"
      ],
      "metadata": {
        "colab": {
          "base_uri": "https://localhost:8080/",
          "height": 423
        },
        "id": "ffAn_k3XUG3g",
        "outputId": "e2e17d5a-f091-4ae6-967f-0f23cba11ec8"
      },
      "execution_count": 11,
      "outputs": [
        {
          "output_type": "execute_result",
          "data": {
            "text/plain": [
              "       star                                           contents\n",
              "0         2  Cheap flights, but you get what you pay for. C...\n",
              "1         1  Awful app tries to up sell you 4 ways, 4 times...\n",
              "2         1  From the user's point of view, the application...\n",
              "3         2  Lately (last couple of months' already) app is...\n",
              "4         5  The app is excellent; well laid out and design...\n",
              "...     ...                                                ...\n",
              "22640     1                                         Απαράδεκτο\n",
              "22641     1  La mia esperienza: prima di partire per le vac...\n",
              "22642     1                                        😂😂😂😂😂😂😂😂😂😂😂\n",
              "22643     5                                                 Ok\n",
              "22644     4                                                 Ok\n",
              "\n",
              "[22645 rows x 2 columns]"
            ],
            "text/html": [
              "\n",
              "  <div id=\"df-b4964aa5-163e-4fb3-a95c-58291de3e866\">\n",
              "    <div class=\"colab-df-container\">\n",
              "      <div>\n",
              "<style scoped>\n",
              "    .dataframe tbody tr th:only-of-type {\n",
              "        vertical-align: middle;\n",
              "    }\n",
              "\n",
              "    .dataframe tbody tr th {\n",
              "        vertical-align: top;\n",
              "    }\n",
              "\n",
              "    .dataframe thead th {\n",
              "        text-align: right;\n",
              "    }\n",
              "</style>\n",
              "<table border=\"1\" class=\"dataframe\">\n",
              "  <thead>\n",
              "    <tr style=\"text-align: right;\">\n",
              "      <th></th>\n",
              "      <th>star</th>\n",
              "      <th>contents</th>\n",
              "    </tr>\n",
              "  </thead>\n",
              "  <tbody>\n",
              "    <tr>\n",
              "      <th>0</th>\n",
              "      <td>2</td>\n",
              "      <td>Cheap flights, but you get what you pay for. C...</td>\n",
              "    </tr>\n",
              "    <tr>\n",
              "      <th>1</th>\n",
              "      <td>1</td>\n",
              "      <td>Awful app tries to up sell you 4 ways, 4 times...</td>\n",
              "    </tr>\n",
              "    <tr>\n",
              "      <th>2</th>\n",
              "      <td>1</td>\n",
              "      <td>From the user's point of view, the application...</td>\n",
              "    </tr>\n",
              "    <tr>\n",
              "      <th>3</th>\n",
              "      <td>2</td>\n",
              "      <td>Lately (last couple of months' already) app is...</td>\n",
              "    </tr>\n",
              "    <tr>\n",
              "      <th>4</th>\n",
              "      <td>5</td>\n",
              "      <td>The app is excellent; well laid out and design...</td>\n",
              "    </tr>\n",
              "    <tr>\n",
              "      <th>...</th>\n",
              "      <td>...</td>\n",
              "      <td>...</td>\n",
              "    </tr>\n",
              "    <tr>\n",
              "      <th>22640</th>\n",
              "      <td>1</td>\n",
              "      <td>Απαράδεκτο</td>\n",
              "    </tr>\n",
              "    <tr>\n",
              "      <th>22641</th>\n",
              "      <td>1</td>\n",
              "      <td>La mia esperienza: prima di partire per le vac...</td>\n",
              "    </tr>\n",
              "    <tr>\n",
              "      <th>22642</th>\n",
              "      <td>1</td>\n",
              "      <td>😂😂😂😂😂😂😂😂😂😂😂</td>\n",
              "    </tr>\n",
              "    <tr>\n",
              "      <th>22643</th>\n",
              "      <td>5</td>\n",
              "      <td>Ok</td>\n",
              "    </tr>\n",
              "    <tr>\n",
              "      <th>22644</th>\n",
              "      <td>4</td>\n",
              "      <td>Ok</td>\n",
              "    </tr>\n",
              "  </tbody>\n",
              "</table>\n",
              "<p>22645 rows × 2 columns</p>\n",
              "</div>\n",
              "      <button class=\"colab-df-convert\" onclick=\"convertToInteractive('df-b4964aa5-163e-4fb3-a95c-58291de3e866')\"\n",
              "              title=\"Convert this dataframe to an interactive table.\"\n",
              "              style=\"display:none;\">\n",
              "        \n",
              "  <svg xmlns=\"http://www.w3.org/2000/svg\" height=\"24px\"viewBox=\"0 0 24 24\"\n",
              "       width=\"24px\">\n",
              "    <path d=\"M0 0h24v24H0V0z\" fill=\"none\"/>\n",
              "    <path d=\"M18.56 5.44l.94 2.06.94-2.06 2.06-.94-2.06-.94-.94-2.06-.94 2.06-2.06.94zm-11 1L8.5 8.5l.94-2.06 2.06-.94-2.06-.94L8.5 2.5l-.94 2.06-2.06.94zm10 10l.94 2.06.94-2.06 2.06-.94-2.06-.94-.94-2.06-.94 2.06-2.06.94z\"/><path d=\"M17.41 7.96l-1.37-1.37c-.4-.4-.92-.59-1.43-.59-.52 0-1.04.2-1.43.59L10.3 9.45l-7.72 7.72c-.78.78-.78 2.05 0 2.83L4 21.41c.39.39.9.59 1.41.59.51 0 1.02-.2 1.41-.59l7.78-7.78 2.81-2.81c.8-.78.8-2.07 0-2.86zM5.41 20L4 18.59l7.72-7.72 1.47 1.35L5.41 20z\"/>\n",
              "  </svg>\n",
              "      </button>\n",
              "      \n",
              "  <style>\n",
              "    .colab-df-container {\n",
              "      display:flex;\n",
              "      flex-wrap:wrap;\n",
              "      gap: 12px;\n",
              "    }\n",
              "\n",
              "    .colab-df-convert {\n",
              "      background-color: #E8F0FE;\n",
              "      border: none;\n",
              "      border-radius: 50%;\n",
              "      cursor: pointer;\n",
              "      display: none;\n",
              "      fill: #1967D2;\n",
              "      height: 32px;\n",
              "      padding: 0 0 0 0;\n",
              "      width: 32px;\n",
              "    }\n",
              "\n",
              "    .colab-df-convert:hover {\n",
              "      background-color: #E2EBFA;\n",
              "      box-shadow: 0px 1px 2px rgba(60, 64, 67, 0.3), 0px 1px 3px 1px rgba(60, 64, 67, 0.15);\n",
              "      fill: #174EA6;\n",
              "    }\n",
              "\n",
              "    [theme=dark] .colab-df-convert {\n",
              "      background-color: #3B4455;\n",
              "      fill: #D2E3FC;\n",
              "    }\n",
              "\n",
              "    [theme=dark] .colab-df-convert:hover {\n",
              "      background-color: #434B5C;\n",
              "      box-shadow: 0px 1px 3px 1px rgba(0, 0, 0, 0.15);\n",
              "      filter: drop-shadow(0px 1px 2px rgba(0, 0, 0, 0.3));\n",
              "      fill: #FFFFFF;\n",
              "    }\n",
              "  </style>\n",
              "\n",
              "      <script>\n",
              "        const buttonEl =\n",
              "          document.querySelector('#df-b4964aa5-163e-4fb3-a95c-58291de3e866 button.colab-df-convert');\n",
              "        buttonEl.style.display =\n",
              "          google.colab.kernel.accessAllowed ? 'block' : 'none';\n",
              "\n",
              "        async function convertToInteractive(key) {\n",
              "          const element = document.querySelector('#df-b4964aa5-163e-4fb3-a95c-58291de3e866');\n",
              "          const dataTable =\n",
              "            await google.colab.kernel.invokeFunction('convertToInteractive',\n",
              "                                                     [key], {});\n",
              "          if (!dataTable) return;\n",
              "\n",
              "          const docLinkHtml = 'Like what you see? Visit the ' +\n",
              "            '<a target=\"_blank\" href=https://colab.research.google.com/notebooks/data_table.ipynb>data table notebook</a>'\n",
              "            + ' to learn more about interactive tables.';\n",
              "          element.innerHTML = '';\n",
              "          dataTable['output_type'] = 'display_data';\n",
              "          await google.colab.output.renderOutput(dataTable, element);\n",
              "          const docLink = document.createElement('div');\n",
              "          docLink.innerHTML = docLinkHtml;\n",
              "          element.appendChild(docLink);\n",
              "        }\n",
              "      </script>\n",
              "    </div>\n",
              "  </div>\n",
              "  "
            ]
          },
          "metadata": {},
          "execution_count": 11
        }
      ]
    },
    {
      "cell_type": "code",
      "source": [
        "ryanair=ryanair.reset_index() #중간에 빈 인덱스마다 땡기기 위해 리셋\n",
        "ryanair=ryanair[['star','contents']] #새로 생긴 인덱스라는 열 제거\n",
        "ryanair.info()"
      ],
      "metadata": {
        "colab": {
          "base_uri": "https://localhost:8080/"
        },
        "id": "DUlXqhikWbf6",
        "outputId": "1f0c4c5d-12e3-4c6b-e394-e91d3790058e"
      },
      "execution_count": 12,
      "outputs": [
        {
          "output_type": "stream",
          "name": "stdout",
          "text": [
            "<class 'pandas.core.frame.DataFrame'>\n",
            "RangeIndex: 22645 entries, 0 to 22644\n",
            "Data columns (total 2 columns):\n",
            " #   Column    Non-Null Count  Dtype \n",
            "---  ------    --------------  ----- \n",
            " 0   star      22645 non-null  int64 \n",
            " 1   contents  22645 non-null  object\n",
            "dtypes: int64(1), object(1)\n",
            "memory usage: 354.0+ KB\n"
          ]
        }
      ]
    },
    {
      "cell_type": "code",
      "source": [
        "ryanair['class']=[1 if x==1 or x==2 else 2 for x in ryanair['star']]\n",
        "ryanair #1점과 2점은 부정적인 리뷰인 클래스 1로, 이외에는 긍정적 리뷰인 클래스 2로 배치한다.\n",
        "ryanair.head(20)"
      ],
      "metadata": {
        "colab": {
          "base_uri": "https://localhost:8080/",
          "height": 676
        },
        "id": "OvFkjN7bWrRX",
        "outputId": "5aac31b3-cd03-4544-d8c9-51650f810c3d"
      },
      "execution_count": 13,
      "outputs": [
        {
          "output_type": "execute_result",
          "data": {
            "text/plain": [
              "    star                                           contents  class\n",
              "0      2  Cheap flights, but you get what you pay for. C...      1\n",
              "1      1  Awful app tries to up sell you 4 ways, 4 times...      1\n",
              "2      1  From the user's point of view, the application...      1\n",
              "3      2  Lately (last couple of months' already) app is...      1\n",
              "4      5  The app is excellent; well laid out and design...      2\n",
              "5      1  I have found this app really frustrating to us...      1\n",
              "6      1  If you check-in for a friend or family you can...      1\n",
              "7      1  First review I bothered myself to write, just ...      1\n",
              "8      2  Ryanair uses taxi hire service that is a scam....      1\n",
              "9      5  App is easy to use. You get what you pay for w...      2\n",
              "10     1  This app and airline are horrible! Do you thin...      1\n",
              "11     4  An easy to use application & definitely saves ...      2\n",
              "12     1  Ryanair is a group of thiefs. I was trying to ...      1\n",
              "13     1  This app tries to force you to buy random usel...      1\n",
              "14     1  The app notifies me for the final call for boa...      1\n",
              "15     1  Dear Ryanair, I am writing to provide feedback...      1\n",
              "16     1  I tried to postpone my flight many times (it w...      1\n",
              "17     2  Updated the app to book my flights 2 weeks ago...      1\n",
              "18     1  Ryan Air are absolute scammers. The app will g...      1\n",
              "19     1  Total piece of junk on Android 12. App don't i...      1"
            ],
            "text/html": [
              "\n",
              "  <div id=\"df-970a1f6d-551a-4f8a-b59d-e1f3724305fb\">\n",
              "    <div class=\"colab-df-container\">\n",
              "      <div>\n",
              "<style scoped>\n",
              "    .dataframe tbody tr th:only-of-type {\n",
              "        vertical-align: middle;\n",
              "    }\n",
              "\n",
              "    .dataframe tbody tr th {\n",
              "        vertical-align: top;\n",
              "    }\n",
              "\n",
              "    .dataframe thead th {\n",
              "        text-align: right;\n",
              "    }\n",
              "</style>\n",
              "<table border=\"1\" class=\"dataframe\">\n",
              "  <thead>\n",
              "    <tr style=\"text-align: right;\">\n",
              "      <th></th>\n",
              "      <th>star</th>\n",
              "      <th>contents</th>\n",
              "      <th>class</th>\n",
              "    </tr>\n",
              "  </thead>\n",
              "  <tbody>\n",
              "    <tr>\n",
              "      <th>0</th>\n",
              "      <td>2</td>\n",
              "      <td>Cheap flights, but you get what you pay for. C...</td>\n",
              "      <td>1</td>\n",
              "    </tr>\n",
              "    <tr>\n",
              "      <th>1</th>\n",
              "      <td>1</td>\n",
              "      <td>Awful app tries to up sell you 4 ways, 4 times...</td>\n",
              "      <td>1</td>\n",
              "    </tr>\n",
              "    <tr>\n",
              "      <th>2</th>\n",
              "      <td>1</td>\n",
              "      <td>From the user's point of view, the application...</td>\n",
              "      <td>1</td>\n",
              "    </tr>\n",
              "    <tr>\n",
              "      <th>3</th>\n",
              "      <td>2</td>\n",
              "      <td>Lately (last couple of months' already) app is...</td>\n",
              "      <td>1</td>\n",
              "    </tr>\n",
              "    <tr>\n",
              "      <th>4</th>\n",
              "      <td>5</td>\n",
              "      <td>The app is excellent; well laid out and design...</td>\n",
              "      <td>2</td>\n",
              "    </tr>\n",
              "    <tr>\n",
              "      <th>5</th>\n",
              "      <td>1</td>\n",
              "      <td>I have found this app really frustrating to us...</td>\n",
              "      <td>1</td>\n",
              "    </tr>\n",
              "    <tr>\n",
              "      <th>6</th>\n",
              "      <td>1</td>\n",
              "      <td>If you check-in for a friend or family you can...</td>\n",
              "      <td>1</td>\n",
              "    </tr>\n",
              "    <tr>\n",
              "      <th>7</th>\n",
              "      <td>1</td>\n",
              "      <td>First review I bothered myself to write, just ...</td>\n",
              "      <td>1</td>\n",
              "    </tr>\n",
              "    <tr>\n",
              "      <th>8</th>\n",
              "      <td>2</td>\n",
              "      <td>Ryanair uses taxi hire service that is a scam....</td>\n",
              "      <td>1</td>\n",
              "    </tr>\n",
              "    <tr>\n",
              "      <th>9</th>\n",
              "      <td>5</td>\n",
              "      <td>App is easy to use. You get what you pay for w...</td>\n",
              "      <td>2</td>\n",
              "    </tr>\n",
              "    <tr>\n",
              "      <th>10</th>\n",
              "      <td>1</td>\n",
              "      <td>This app and airline are horrible! Do you thin...</td>\n",
              "      <td>1</td>\n",
              "    </tr>\n",
              "    <tr>\n",
              "      <th>11</th>\n",
              "      <td>4</td>\n",
              "      <td>An easy to use application &amp; definitely saves ...</td>\n",
              "      <td>2</td>\n",
              "    </tr>\n",
              "    <tr>\n",
              "      <th>12</th>\n",
              "      <td>1</td>\n",
              "      <td>Ryanair is a group of thiefs. I was trying to ...</td>\n",
              "      <td>1</td>\n",
              "    </tr>\n",
              "    <tr>\n",
              "      <th>13</th>\n",
              "      <td>1</td>\n",
              "      <td>This app tries to force you to buy random usel...</td>\n",
              "      <td>1</td>\n",
              "    </tr>\n",
              "    <tr>\n",
              "      <th>14</th>\n",
              "      <td>1</td>\n",
              "      <td>The app notifies me for the final call for boa...</td>\n",
              "      <td>1</td>\n",
              "    </tr>\n",
              "    <tr>\n",
              "      <th>15</th>\n",
              "      <td>1</td>\n",
              "      <td>Dear Ryanair, I am writing to provide feedback...</td>\n",
              "      <td>1</td>\n",
              "    </tr>\n",
              "    <tr>\n",
              "      <th>16</th>\n",
              "      <td>1</td>\n",
              "      <td>I tried to postpone my flight many times (it w...</td>\n",
              "      <td>1</td>\n",
              "    </tr>\n",
              "    <tr>\n",
              "      <th>17</th>\n",
              "      <td>2</td>\n",
              "      <td>Updated the app to book my flights 2 weeks ago...</td>\n",
              "      <td>1</td>\n",
              "    </tr>\n",
              "    <tr>\n",
              "      <th>18</th>\n",
              "      <td>1</td>\n",
              "      <td>Ryan Air are absolute scammers. The app will g...</td>\n",
              "      <td>1</td>\n",
              "    </tr>\n",
              "    <tr>\n",
              "      <th>19</th>\n",
              "      <td>1</td>\n",
              "      <td>Total piece of junk on Android 12. App don't i...</td>\n",
              "      <td>1</td>\n",
              "    </tr>\n",
              "  </tbody>\n",
              "</table>\n",
              "</div>\n",
              "      <button class=\"colab-df-convert\" onclick=\"convertToInteractive('df-970a1f6d-551a-4f8a-b59d-e1f3724305fb')\"\n",
              "              title=\"Convert this dataframe to an interactive table.\"\n",
              "              style=\"display:none;\">\n",
              "        \n",
              "  <svg xmlns=\"http://www.w3.org/2000/svg\" height=\"24px\"viewBox=\"0 0 24 24\"\n",
              "       width=\"24px\">\n",
              "    <path d=\"M0 0h24v24H0V0z\" fill=\"none\"/>\n",
              "    <path d=\"M18.56 5.44l.94 2.06.94-2.06 2.06-.94-2.06-.94-.94-2.06-.94 2.06-2.06.94zm-11 1L8.5 8.5l.94-2.06 2.06-.94-2.06-.94L8.5 2.5l-.94 2.06-2.06.94zm10 10l.94 2.06.94-2.06 2.06-.94-2.06-.94-.94-2.06-.94 2.06-2.06.94z\"/><path d=\"M17.41 7.96l-1.37-1.37c-.4-.4-.92-.59-1.43-.59-.52 0-1.04.2-1.43.59L10.3 9.45l-7.72 7.72c-.78.78-.78 2.05 0 2.83L4 21.41c.39.39.9.59 1.41.59.51 0 1.02-.2 1.41-.59l7.78-7.78 2.81-2.81c.8-.78.8-2.07 0-2.86zM5.41 20L4 18.59l7.72-7.72 1.47 1.35L5.41 20z\"/>\n",
              "  </svg>\n",
              "      </button>\n",
              "      \n",
              "  <style>\n",
              "    .colab-df-container {\n",
              "      display:flex;\n",
              "      flex-wrap:wrap;\n",
              "      gap: 12px;\n",
              "    }\n",
              "\n",
              "    .colab-df-convert {\n",
              "      background-color: #E8F0FE;\n",
              "      border: none;\n",
              "      border-radius: 50%;\n",
              "      cursor: pointer;\n",
              "      display: none;\n",
              "      fill: #1967D2;\n",
              "      height: 32px;\n",
              "      padding: 0 0 0 0;\n",
              "      width: 32px;\n",
              "    }\n",
              "\n",
              "    .colab-df-convert:hover {\n",
              "      background-color: #E2EBFA;\n",
              "      box-shadow: 0px 1px 2px rgba(60, 64, 67, 0.3), 0px 1px 3px 1px rgba(60, 64, 67, 0.15);\n",
              "      fill: #174EA6;\n",
              "    }\n",
              "\n",
              "    [theme=dark] .colab-df-convert {\n",
              "      background-color: #3B4455;\n",
              "      fill: #D2E3FC;\n",
              "    }\n",
              "\n",
              "    [theme=dark] .colab-df-convert:hover {\n",
              "      background-color: #434B5C;\n",
              "      box-shadow: 0px 1px 3px 1px rgba(0, 0, 0, 0.15);\n",
              "      filter: drop-shadow(0px 1px 2px rgba(0, 0, 0, 0.3));\n",
              "      fill: #FFFFFF;\n",
              "    }\n",
              "  </style>\n",
              "\n",
              "      <script>\n",
              "        const buttonEl =\n",
              "          document.querySelector('#df-970a1f6d-551a-4f8a-b59d-e1f3724305fb button.colab-df-convert');\n",
              "        buttonEl.style.display =\n",
              "          google.colab.kernel.accessAllowed ? 'block' : 'none';\n",
              "\n",
              "        async function convertToInteractive(key) {\n",
              "          const element = document.querySelector('#df-970a1f6d-551a-4f8a-b59d-e1f3724305fb');\n",
              "          const dataTable =\n",
              "            await google.colab.kernel.invokeFunction('convertToInteractive',\n",
              "                                                     [key], {});\n",
              "          if (!dataTable) return;\n",
              "\n",
              "          const docLinkHtml = 'Like what you see? Visit the ' +\n",
              "            '<a target=\"_blank\" href=https://colab.research.google.com/notebooks/data_table.ipynb>data table notebook</a>'\n",
              "            + ' to learn more about interactive tables.';\n",
              "          element.innerHTML = '';\n",
              "          dataTable['output_type'] = 'display_data';\n",
              "          await google.colab.output.renderOutput(dataTable, element);\n",
              "          const docLink = document.createElement('div');\n",
              "          docLink.innerHTML = docLinkHtml;\n",
              "          element.appendChild(docLink);\n",
              "        }\n",
              "      </script>\n",
              "    </div>\n",
              "  </div>\n",
              "  "
            ]
          },
          "metadata": {},
          "execution_count": 13
        }
      ]
    },
    {
      "cell_type": "code",
      "source": [
        "ryanair=ryanair[['class', 'contents']]\n",
        "ryanair"
      ],
      "metadata": {
        "colab": {
          "base_uri": "https://localhost:8080/",
          "height": 423
        },
        "id": "kK2rZ-_3Yr2E",
        "outputId": "3a9f7f4c-1fc3-4f4b-f1df-442eae82648c"
      },
      "execution_count": 14,
      "outputs": [
        {
          "output_type": "execute_result",
          "data": {
            "text/plain": [
              "       class                                           contents\n",
              "0          1  Cheap flights, but you get what you pay for. C...\n",
              "1          1  Awful app tries to up sell you 4 ways, 4 times...\n",
              "2          1  From the user's point of view, the application...\n",
              "3          1  Lately (last couple of months' already) app is...\n",
              "4          2  The app is excellent; well laid out and design...\n",
              "...      ...                                                ...\n",
              "22640      1                                         Απαράδεκτο\n",
              "22641      1  La mia esperienza: prima di partire per le vac...\n",
              "22642      1                                        😂😂😂😂😂😂😂😂😂😂😂\n",
              "22643      2                                                 Ok\n",
              "22644      2                                                 Ok\n",
              "\n",
              "[22645 rows x 2 columns]"
            ],
            "text/html": [
              "\n",
              "  <div id=\"df-636a4499-ad8e-42cf-ad89-ea809ffdf033\">\n",
              "    <div class=\"colab-df-container\">\n",
              "      <div>\n",
              "<style scoped>\n",
              "    .dataframe tbody tr th:only-of-type {\n",
              "        vertical-align: middle;\n",
              "    }\n",
              "\n",
              "    .dataframe tbody tr th {\n",
              "        vertical-align: top;\n",
              "    }\n",
              "\n",
              "    .dataframe thead th {\n",
              "        text-align: right;\n",
              "    }\n",
              "</style>\n",
              "<table border=\"1\" class=\"dataframe\">\n",
              "  <thead>\n",
              "    <tr style=\"text-align: right;\">\n",
              "      <th></th>\n",
              "      <th>class</th>\n",
              "      <th>contents</th>\n",
              "    </tr>\n",
              "  </thead>\n",
              "  <tbody>\n",
              "    <tr>\n",
              "      <th>0</th>\n",
              "      <td>1</td>\n",
              "      <td>Cheap flights, but you get what you pay for. C...</td>\n",
              "    </tr>\n",
              "    <tr>\n",
              "      <th>1</th>\n",
              "      <td>1</td>\n",
              "      <td>Awful app tries to up sell you 4 ways, 4 times...</td>\n",
              "    </tr>\n",
              "    <tr>\n",
              "      <th>2</th>\n",
              "      <td>1</td>\n",
              "      <td>From the user's point of view, the application...</td>\n",
              "    </tr>\n",
              "    <tr>\n",
              "      <th>3</th>\n",
              "      <td>1</td>\n",
              "      <td>Lately (last couple of months' already) app is...</td>\n",
              "    </tr>\n",
              "    <tr>\n",
              "      <th>4</th>\n",
              "      <td>2</td>\n",
              "      <td>The app is excellent; well laid out and design...</td>\n",
              "    </tr>\n",
              "    <tr>\n",
              "      <th>...</th>\n",
              "      <td>...</td>\n",
              "      <td>...</td>\n",
              "    </tr>\n",
              "    <tr>\n",
              "      <th>22640</th>\n",
              "      <td>1</td>\n",
              "      <td>Απαράδεκτο</td>\n",
              "    </tr>\n",
              "    <tr>\n",
              "      <th>22641</th>\n",
              "      <td>1</td>\n",
              "      <td>La mia esperienza: prima di partire per le vac...</td>\n",
              "    </tr>\n",
              "    <tr>\n",
              "      <th>22642</th>\n",
              "      <td>1</td>\n",
              "      <td>😂😂😂😂😂😂😂😂😂😂😂</td>\n",
              "    </tr>\n",
              "    <tr>\n",
              "      <th>22643</th>\n",
              "      <td>2</td>\n",
              "      <td>Ok</td>\n",
              "    </tr>\n",
              "    <tr>\n",
              "      <th>22644</th>\n",
              "      <td>2</td>\n",
              "      <td>Ok</td>\n",
              "    </tr>\n",
              "  </tbody>\n",
              "</table>\n",
              "<p>22645 rows × 2 columns</p>\n",
              "</div>\n",
              "      <button class=\"colab-df-convert\" onclick=\"convertToInteractive('df-636a4499-ad8e-42cf-ad89-ea809ffdf033')\"\n",
              "              title=\"Convert this dataframe to an interactive table.\"\n",
              "              style=\"display:none;\">\n",
              "        \n",
              "  <svg xmlns=\"http://www.w3.org/2000/svg\" height=\"24px\"viewBox=\"0 0 24 24\"\n",
              "       width=\"24px\">\n",
              "    <path d=\"M0 0h24v24H0V0z\" fill=\"none\"/>\n",
              "    <path d=\"M18.56 5.44l.94 2.06.94-2.06 2.06-.94-2.06-.94-.94-2.06-.94 2.06-2.06.94zm-11 1L8.5 8.5l.94-2.06 2.06-.94-2.06-.94L8.5 2.5l-.94 2.06-2.06.94zm10 10l.94 2.06.94-2.06 2.06-.94-2.06-.94-.94-2.06-.94 2.06-2.06.94z\"/><path d=\"M17.41 7.96l-1.37-1.37c-.4-.4-.92-.59-1.43-.59-.52 0-1.04.2-1.43.59L10.3 9.45l-7.72 7.72c-.78.78-.78 2.05 0 2.83L4 21.41c.39.39.9.59 1.41.59.51 0 1.02-.2 1.41-.59l7.78-7.78 2.81-2.81c.8-.78.8-2.07 0-2.86zM5.41 20L4 18.59l7.72-7.72 1.47 1.35L5.41 20z\"/>\n",
              "  </svg>\n",
              "      </button>\n",
              "      \n",
              "  <style>\n",
              "    .colab-df-container {\n",
              "      display:flex;\n",
              "      flex-wrap:wrap;\n",
              "      gap: 12px;\n",
              "    }\n",
              "\n",
              "    .colab-df-convert {\n",
              "      background-color: #E8F0FE;\n",
              "      border: none;\n",
              "      border-radius: 50%;\n",
              "      cursor: pointer;\n",
              "      display: none;\n",
              "      fill: #1967D2;\n",
              "      height: 32px;\n",
              "      padding: 0 0 0 0;\n",
              "      width: 32px;\n",
              "    }\n",
              "\n",
              "    .colab-df-convert:hover {\n",
              "      background-color: #E2EBFA;\n",
              "      box-shadow: 0px 1px 2px rgba(60, 64, 67, 0.3), 0px 1px 3px 1px rgba(60, 64, 67, 0.15);\n",
              "      fill: #174EA6;\n",
              "    }\n",
              "\n",
              "    [theme=dark] .colab-df-convert {\n",
              "      background-color: #3B4455;\n",
              "      fill: #D2E3FC;\n",
              "    }\n",
              "\n",
              "    [theme=dark] .colab-df-convert:hover {\n",
              "      background-color: #434B5C;\n",
              "      box-shadow: 0px 1px 3px 1px rgba(0, 0, 0, 0.15);\n",
              "      filter: drop-shadow(0px 1px 2px rgba(0, 0, 0, 0.3));\n",
              "      fill: #FFFFFF;\n",
              "    }\n",
              "  </style>\n",
              "\n",
              "      <script>\n",
              "        const buttonEl =\n",
              "          document.querySelector('#df-636a4499-ad8e-42cf-ad89-ea809ffdf033 button.colab-df-convert');\n",
              "        buttonEl.style.display =\n",
              "          google.colab.kernel.accessAllowed ? 'block' : 'none';\n",
              "\n",
              "        async function convertToInteractive(key) {\n",
              "          const element = document.querySelector('#df-636a4499-ad8e-42cf-ad89-ea809ffdf033');\n",
              "          const dataTable =\n",
              "            await google.colab.kernel.invokeFunction('convertToInteractive',\n",
              "                                                     [key], {});\n",
              "          if (!dataTable) return;\n",
              "\n",
              "          const docLinkHtml = 'Like what you see? Visit the ' +\n",
              "            '<a target=\"_blank\" href=https://colab.research.google.com/notebooks/data_table.ipynb>data table notebook</a>'\n",
              "            + ' to learn more about interactive tables.';\n",
              "          element.innerHTML = '';\n",
              "          dataTable['output_type'] = 'display_data';\n",
              "          await google.colab.output.renderOutput(dataTable, element);\n",
              "          const docLink = document.createElement('div');\n",
              "          docLink.innerHTML = docLinkHtml;\n",
              "          element.appendChild(docLink);\n",
              "        }\n",
              "      </script>\n",
              "    </div>\n",
              "  </div>\n",
              "  "
            ]
          },
          "metadata": {},
          "execution_count": 14
        }
      ]
    },
    {
      "cell_type": "code",
      "source": [
        "import seaborn as sns\n",
        "\n",
        "sns.countplot(x='class', data=ryanair)\n",
        "print(\"긍정 개수:\", (ryanair[\"class\"] == 2).sum())\n",
        "print(\"부정 개수:\", (ryanair[\"class\"] == 1).sum()) "
      ],
      "metadata": {
        "colab": {
          "base_uri": "https://localhost:8080/",
          "height": 485
        },
        "id": "S-xx8xC-ZRni",
        "outputId": "d4af2424-0c0b-4ae8-d761-e7977f892d84"
      },
      "execution_count": 15,
      "outputs": [
        {
          "output_type": "stream",
          "name": "stdout",
          "text": [
            "긍정 개수: 15795\n",
            "부정 개수: 6850\n"
          ]
        },
        {
          "output_type": "display_data",
          "data": {
            "text/plain": [
              "<Figure size 640x480 with 1 Axes>"
            ],
            "image/png": "[encoded data removed]"
          },
          "metadata": {}
        }
      ]
    },
    {
      "cell_type": "code",
      "source": [
        "data1=ryanair['class'].to_numpy()\n",
        "data2=ryanair['contents'].to_numpy()"
      ],
      "metadata": {
        "id": "NbRtbXFqaNx4"
      },
      "execution_count": 16,
      "outputs": []
    },
    {
      "cell_type": "markdown",
      "source": [
        "train data, test data 나누기"
      ],
      "metadata": {
        "id": "ALwYe-XxezQ-"
      }
    },
    {
      "cell_type": "code",
      "source": [
        "import numpy as np\n",
        "np.array2string(data2)"
      ],
      "metadata": {
        "colab": {
          "base_uri": "https://localhost:8080/",
          "height": 127
        },
        "id": "GKLp1N2cnJXg",
        "outputId": "9c648a6e-88fc-4513-a026-4d7327905443"
      },
      "execution_count": 17,
      "outputs": [
        {
          "output_type": "execute_result",
          "data": {
            "text/plain": [
              "'[\"Cheap flights, but you get what you pay for. Check in through the app has to be done 24hrs in advance (the app frequently crashes when trying to do this), or they ask you to pay to check in when you get there. I also purchased parking through the app, but it does not provide a location for the service. The temperature in flight was very hot and uncomfortable even with the vents open...during the winter. Good enough for a short flight, but I wouldn\\'t travel too far with Ryanair.\"\\n \"Awful app tries to up sell you 4 ways, 4 times for each flight. Impossible to go back without losing data during check-in. Tries to get you to check in for your return flight but then won\\'t let you without purchasing a seat selection. Then when you go back you have to start all over again for both flights. Absolute garbage.\"\\n \"From the user\\'s point of view, the application is confusing. For example, I already ordered one cabin and one 20kg checked in baggage. But the app is offering to order it again, so you can have an impression that you did a mistake in the previous step or that the Ryanair wants to charge you twice. I used Ryanair first time, the reason was better time of departure to rhe same destination, but next time I will think twice to use it again 😞\"\\n ... \\'😂😂😂😂😂😂😂😂😂😂😂\\' \\'Ok\\' \\'Ok\\']'"
            ],
            "application/vnd.google.colaboratory.intrinsic+json": {
              "type": "string"
            }
          },
          "metadata": {},
          "execution_count": 17
        }
      ]
    },
    {
      "cell_type": "code",
      "source": [
        "from sklearn.model_selection import train_test_split\n",
        "train_input, test_input, train_target, test_target = train_test_split(data2, data1, stratify=data1, test_size=0.2, random_state=42)"
      ],
      "metadata": {
        "id": "94QmiHHpe247"
      },
      "execution_count": 18,
      "outputs": []
    },
    {
      "cell_type": "code",
      "source": [
        "test_input"
      ],
      "metadata": {
        "colab": {
          "base_uri": "https://localhost:8080/"
        },
        "id": "xHJz_EXxlYaZ",
        "outputId": "1a8ac103-c680-47de-ac97-f99ca144dc2d"
      },
      "execution_count": 19,
      "outputs": [
        {
          "output_type": "execute_result",
          "data": {
            "text/plain": [
              "array([\"It's fine nothing wow\",\n",
              "       'Had a flight to lanzarote today left on time arrived on time crew were nice \\nhad bit of a laugh with them plane was spotless',\n",
              "       'A very efficient app that does what it should be.', ...,\n",
              "       'great app!', 'Great all round experience',\n",
              "       'Easy and quick. Keep up the good work.'], dtype=object)"
            ]
          },
          "metadata": {},
          "execution_count": 19
        }
      ]
    },
    {
      "cell_type": "markdown",
      "source": [
        "여기부터 분석 시작\n",
        "tf-idf"
      ],
      "metadata": {
        "id": "HNtKavQweHNH"
      }
    },
    {
      "cell_type": "code",
      "source": [
        "from sklearn.feature_extraction.text import TfidfTransformer\n",
        "from sklearn.feature_extraction.text import TfidfVectorizer\n",
        "from sklearn.naive_bayes import MultinomialNB\n",
        "\n",
        "tfidfvector = TfidfVectorizer()\n",
        "x_train_tfidf = tfidfvector.fit_transform(train_input)\n",
        "tfidfv_test = tfidfvector.transform(test_input)"
      ],
      "metadata": {
        "id": "J7dy28hheEvB"
      },
      "execution_count": 20,
      "outputs": []
    },
    {
      "cell_type": "code",
      "source": [
        "from sklearn.model_selection import GridSearchCV\n",
        "from sklearn.metrics import accuracy_score\n",
        "params = {'alpha' : range(1, 1000)}\n",
        "gs = GridSearchCV(MultinomialNB(), params, n_jobs = -1 )\n",
        "gs.fit(x_train_tfidf, train_target)\n",
        "print(gs.best_params_)\n",
        "print(np.max(gs.cv_results_['mean_test_score']))\n",
        "dt= gs.best_estimator_\n",
        "print(dt.score(x_train_tfidf, train_target))\n",
        "predicted = dt.predict(tfidfv_test)\n",
        "print(\"정확도 : \", accuracy_score(test_target, predicted))"
      ],
      "metadata": {
        "colab": {
          "base_uri": "https://localhost:8080/"
        },
        "id": "HkJYZBQ3eFVi",
        "outputId": "41c46abb-1e8d-4574-f4dc-c651e122dec0"
      },
      "execution_count": 21,
      "outputs": [
        {
          "output_type": "stream",
          "name": "stdout",
          "text": [
            "{'alpha': 1}\n",
            "0.9308348246029323\n",
            "0.9506513579156547\n",
            "정확도 :  0.9282402296312652\n"
          ]
        }
      ]
    },
    {
      "cell_type": "markdown",
      "source": [
        "bow"
      ],
      "metadata": {
        "id": "Lu-Oik57eWPg"
      }
    },
    {
      "cell_type": "code",
      "source": [
        "from sklearn.feature_extraction.text import CountVectorizer\n",
        "dtmvector = CountVectorizer()\n",
        "x_train_dtm = dtmvector.fit_transform(train_input)\n",
        "x_test_dtm= dtmvector.transform(test_input)"
      ],
      "metadata": {
        "id": "dXkJzsnleRlm"
      },
      "execution_count": 22,
      "outputs": []
    },
    {
      "cell_type": "code",
      "source": [
        "params = {'alpha' : range(1,1000)}\n",
        "ks = GridSearchCV(MultinomialNB(), params, n_jobs = -1)\n",
        "ks.fit(x_train_dtm, train_target)\n",
        "print(ks.best_params_)\n",
        "print(np.max(ks.cv_results_['mean_test_score']))\n",
        "dt= ks.best_estimator_\n",
        "print(dt.score(x_train_dtm, train_target))\n",
        "predicted = dt.predict(x_test_dtm)\n",
        "print(\"정확도 : \", accuracy_score(test_target, predicted))"
      ],
      "metadata": {
        "colab": {
          "base_uri": "https://localhost:8080/"
        },
        "id": "YAPikjAveRoD",
        "outputId": "9aa32eca-5bd3-4b7e-e444-ce94854ab719"
      },
      "execution_count": 23,
      "outputs": [
        {
          "output_type": "stream",
          "name": "stdout",
          "text": [
            "{'alpha': 1}\n",
            "0.9285164259005043\n",
            "0.9461801722234489\n",
            "정확도 :  0.9271362331640539\n"
          ]
        }
      ]
    },
    {
      "cell_type": "code",
      "source": [
        "params = {'alpha' : [0.1,0.2,0.3,0.4,0.5,0.6,0.7,0.8,0.9,1,1.1,1.2,1.3,1.4,1.5]}\n",
        "ks = GridSearchCV(MultinomialNB(), params, n_jobs = -1)\n",
        "ks.fit(x_train_dtm, train_target)\n",
        "print(ks.best_params_)\n",
        "print(np.max(ks.cv_results_['mean_test_score']))\n",
        "dt= ks.best_estimator_\n",
        "print(dt.score(x_train_dtm, train_target))\n",
        "predicted = dt.predict(x_test_dtm)\n",
        "print(\"정확도 : \", accuracy_score(test_target, predicted))"
      ],
      "metadata": {
        "colab": {
          "base_uri": "https://localhost:8080/"
        },
        "id": "yPrGUGpdLxyt",
        "outputId": "02d57c55-ddd9-4f59-e496-562ef1b45029"
      },
      "execution_count": 24,
      "outputs": [
        {
          "output_type": "stream",
          "name": "stdout",
          "text": [
            "{'alpha': 0.3}\n",
            "0.9301172329835323\n",
            "0.9540185471406492\n",
            "정확도 :  0.9282402296312652\n"
          ]
        }
      ]
    },
    {
      "cell_type": "code",
      "source": [
        "params = {'alpha' : [0.26,0.27,0.28,0.29,0.3,0.31,0.32,0.33,0.34,0.35]}\n",
        "ks = GridSearchCV(MultinomialNB(), params, n_jobs = -1)\n",
        "ks.fit(x_train_dtm, train_target)\n",
        "print(ks.best_params_)\n",
        "print(np.max(ks.cv_results_['mean_test_score']))\n",
        "dt= ks.best_estimator_\n",
        "print(dt.score(x_train_dtm, train_target))\n",
        "predicted = dt.predict(x_test_dtm)\n",
        "print(\"정확도 : \", accuracy_score(test_target, predicted))"
      ],
      "metadata": {
        "colab": {
          "base_uri": "https://localhost:8080/"
        },
        "id": "nB7tsvtGL_zu",
        "outputId": "f43914fc-ecf3-4d98-bba7-01f0b3b5411a"
      },
      "execution_count": 25,
      "outputs": [
        {
          "output_type": "stream",
          "name": "stdout",
          "text": [
            "{'alpha': 0.31}\n",
            "0.93028284159518\n",
            "0.9537425480238463\n",
            "정확도 :  0.9282402296312652\n"
          ]
        }
      ]
    },
    {
      "cell_type": "markdown",
      "source": [
        "베르누이"
      ],
      "metadata": {
        "id": "1zVtu8PaQRTF"
      }
    },
    {
      "cell_type": "code",
      "source": [
        "from sklearn.naive_bayes import BernoulliNB\n",
        "params = {'alpha' : range(1, 1000)}\n",
        "gs = GridSearchCV(BernoulliNB(), params, n_jobs = -1 )\n",
        "gs.fit(x_train_dtm, train_target)\n",
        "print(gs.best_params_)\n",
        "print(np.max(gs.cv_results_['mean_test_score']))\n",
        "dt= gs.best_estimator_\n",
        "print(dt.score(x_train_dtm, train_target))\n",
        "predicted = dt.predict(x_test_dtm)\n",
        "print(\"정확도 : \", accuracy_score(test_target, predicted))"
      ],
      "metadata": {
        "id": "8iSDkJLmQUmI",
        "colab": {
          "base_uri": "https://localhost:8080/"
        },
        "outputId": "d3b3899c-b661-45e0-b8b8-b436b76ef4c3"
      },
      "execution_count": 26,
      "outputs": [
        {
          "output_type": "stream",
          "name": "stdout",
          "text": [
            "{'alpha': 1}\n",
            "0.8388717776238271\n",
            "0.8475380878781188\n",
            "정확도 :  0.8377125193199382\n"
          ]
        }
      ]
    },
    {
      "cell_type": "code",
      "source": [
        "from sklearn.naive_bayes import BernoulliNB\n",
        "params = {'alpha' : range(1, 1000)}\n",
        "gs = GridSearchCV(BernoulliNB(), params, n_jobs = -1 )\n",
        "gs.fit(x_train_tfidf, train_target)\n",
        "print(gs.best_params_)\n",
        "print(np.max(gs.cv_results_['mean_test_score']))\n",
        "dt= gs.best_estimator_\n",
        "print(dt.score(x_train_tfidf, train_target))\n",
        "predicted = dt.predict(tfidfv_test)\n",
        "print(\"정확도 : \", accuracy_score(test_target, predicted))"
      ],
      "metadata": {
        "id": "1m-YhQM1QPyy",
        "colab": {
          "base_uri": "https://localhost:8080/"
        },
        "outputId": "304a158a-6452-41f7-c9da-f7cc5c63eeea"
      },
      "execution_count": 27,
      "outputs": [
        {
          "output_type": "stream",
          "name": "stdout",
          "text": [
            "{'alpha': 1}\n",
            "0.8388717776238271\n",
            "0.8475380878781188\n",
            "정확도 :  0.8377125193199382\n"
          ]
        }
      ]
    },
    {
      "cell_type": "markdown",
      "source": [
        "결정 트리"
      ],
      "metadata": {
        "id": "BY9w5y_keba1"
      }
    },
    {
      "cell_type": "code",
      "source": [
        "from sklearn.tree import DecisionTreeClassifier\n",
        "from scipy.stats import uniform, randint\n",
        "params = {'min_impurity_decrease' : uniform(0.0001, 0.001), 'max_depth' : randint(20,50), 'min_samples_split' : randint(2,25), 'min_samples_leaf' : randint(1,25)}"
      ],
      "metadata": {
        "id": "r4lP2VpCeRqX"
      },
      "execution_count": 38,
      "outputs": []
    },
    {
      "cell_type": "code",
      "source": [
        "from sklearn.model_selection import RandomizedSearchCV\n",
        "ms = RandomizedSearchCV(DecisionTreeClassifier(), params, n_iter = 100, n_jobs=-1)\n",
        "ms.fit(x_train_tfidf, train_target)\n",
        "print(ms.best_params_)\n",
        "print(np.max(ms.cv_results_['mean_test_score']))\n",
        "dt= ms.best_estimator_\n",
        "print(dt.score(x_train_tfidf, train_target))\n",
        "predicted = dt.predict(tfidfv_test)\n",
        "print(\"정확도 : \", accuracy_score(test_target, predicted))"
      ],
      "metadata": {
        "colab": {
          "base_uri": "https://localhost:8080/"
        },
        "id": "C0waCayieRst",
        "outputId": "49890b34-7fdb-4baf-9034-6c596269647a"
      },
      "execution_count": 39,
      "outputs": [
        {
          "metadata": {
            "tags": null
          },
          "name": "stdout",
          "output_type": "stream",
          "text": [
            "{'max_depth': 49, 'min_impurity_decrease': 0.0003042993609316767, 'min_samples_leaf': 4, 'min_samples_split': 3}\n",
            "0.880216671266906\n",
            "0.9047251048796644\n",
            "정확도 :  0.8778979907264297\n"
          ]
        }
      ]
    },
    {
      "cell_type": "code",
      "source": [
        "bs = RandomizedSearchCV(DecisionTreeClassifier(), params, n_iter = 100, n_jobs=-1)\n",
        "bs.fit(x_train_dtm, train_target)\n",
        "print(bs.best_params_)\n",
        "print(np.max(bs.cv_results_['mean_test_score']))\n",
        "dt= bs.best_estimator_\n",
        "print(dt.score(x_train_dtm, train_target))\n",
        "predicted = dt.predict(x_test_dtm)\n",
        "print(\"정확도 : \", accuracy_score(test_target, predicted))"
      ],
      "metadata": {
        "colab": {
          "base_uri": "https://localhost:8080/"
        },
        "id": "SH185PMgehsV",
        "outputId": "15221e00-902d-4d97-de16-161efb51f7db"
      },
      "execution_count": 30,
      "outputs": [
        {
          "output_type": "stream",
          "name": "stdout",
          "text": [
            "{'max_depth': 41, 'min_impurity_decrease': 0.00022999352169069868, 'min_samples_leaf': 3, 'min_samples_split': 16}\n",
            "0.8781742412194837\n",
            "0.9005299183042614\n",
            "정확도 :  0.8816515787149481\n"
          ]
        }
      ]
    },
    {
      "cell_type": "markdown",
      "source": [
        "로지스틱 회귀"
      ],
      "metadata": {
        "id": "WALAJaVSefpv"
      }
    },
    {
      "cell_type": "code",
      "source": [
        "from sklearn.linear_model import LogisticRegression\n",
        "params = {'C': np.logspace(-4, 4, 50), 'penalty':['l2'], 'max_iter':[500]}\n",
        "rs = GridSearchCV(LogisticRegression(random_state=0), params, cv=5,n_jobs=-1)\n",
        "rs.fit(x_train_tfidf, train_target)\n",
        "print(rs.best_params_)\n",
        "print(np.max(rs.cv_results_['mean_test_score']))\n",
        "dt= rs.best_estimator_\n",
        "print(dt.score(x_train_tfidf, train_target))\n",
        "predicted = dt.predict(tfidfv_test)\n",
        "print(\"정확도 : \", accuracy_score(test_target, predicted))"
      ],
      "metadata": {
        "colab": {
          "base_uri": "https://localhost:8080/"
        },
        "id": "xA_pFsqweRwT",
        "outputId": "169517aa-267c-40a6-cc13-cdfc8265ae14"
      },
      "execution_count": 31,
      "outputs": [
        {
          "output_type": "stream",
          "name": "stdout",
          "text": [
            "{'C': 2.559547922699533, 'max_iter': 500, 'penalty': 'l2'}\n",
            "0.9354164648349794\n",
            "0.9674321042172666\n",
            "정확도 :  0.9383969971296092\n"
          ]
        }
      ]
    },
    {
      "cell_type": "code",
      "source": [
        "from sklearn.linear_model import LogisticRegression\n",
        "params = {'C': np.logspace(-4, 4, 50), 'penalty':['l2'], 'max_iter':[500]}\n",
        "ps = GridSearchCV(LogisticRegression(random_state=0), params, cv=5, n_jobs=-1)\n",
        "ps.fit(x_train_dtm, train_target) # 수정\n",
        "print(ps.best_params_)\n",
        "print(np.max(ps.cv_results_['mean_test_score']))\n",
        "dt= ps.best_estimator_\n",
        "print(dt.score(x_train_dtm, train_target))\n",
        "predicted = dt.predict(x_test_dtm)\n",
        "print(\"정확도 : \", accuracy_score(test_target, predicted))"
      ],
      "metadata": {
        "colab": {
          "base_uri": "https://localhost:8080/"
        },
        "id": "6U8acVAYtEie",
        "outputId": "1f6077a5-2350-475a-c6c0-6d4b890ef74a"
      },
      "execution_count": 32,
      "outputs": [
        {
          "output_type": "stream",
          "name": "stdout",
          "text": [
            "{'C': 1.7575106248547894, 'max_iter': 500, 'penalty': 'l2'}\n",
            "0.9325461745202803\n",
            "0.9756568778979907\n",
            "정확도 :  0.9313314197394569\n"
          ]
        }
      ]
    },
    {
      "cell_type": "markdown",
      "source": [
        "LightGBM"
      ],
      "metadata": {
        "id": "r8Ur77RyewB5"
      }
    },
    {
      "cell_type": "code",
      "source": [
        "from lightgbm import LGBMClassifier\n",
        "params = {'learning_rate' : [0.1,0.2,0.3,0.4,0.5], 'n_estimators' : [100,200,300,400,500], 'max_depth' : [3,4,5,6,7,8,9,10]}\n",
        "gs = GridSearchCV(LGBMClassifier(), params, n_jobs = -1 )\n",
        "gs.fit(x_train_tfidf, train_target)\n",
        "print(gs.best_params_)\n",
        "print(np.max(gs.cv_results_['mean_test_score']))\n",
        "dt= gs.best_estimator_\n",
        "print(dt.score(x_train_tfidf, train_target))\n",
        "predicted = dt.predict(tfidfv_test)\n",
        "print(\"정확도 : \", accuracy_score(test_target, predicted))"
      ],
      "metadata": {
        "colab": {
          "base_uri": "https://localhost:8080/"
        },
        "id": "YwCGfjhTx4hc",
        "outputId": "005f6038-5a0d-4cfa-d8c3-1ba64cb10d9e"
      },
      "execution_count": 33,
      "outputs": [
        {
          "output_type": "stream",
          "name": "stdout",
          "text": [
            "{'learning_rate': 0.2, 'max_depth': 10, 'n_estimators': 400}\n",
            "0.9286818060234496\n",
            "0.9863656436299404\n",
            "정확도 :  0.9308898211525723\n"
          ]
        }
      ]
    }
  ]
}