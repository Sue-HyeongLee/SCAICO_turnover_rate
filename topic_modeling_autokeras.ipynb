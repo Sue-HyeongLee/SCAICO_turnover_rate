{
 "cells": [
  {
   "cell_type": "code",
   "execution_count": 10,
   "metadata": {},
   "outputs": [],
   "source": [
    "import numpy as np\n",
    "import pandas as pd"
   ]
  },
  {
   "cell_type": "code",
   "execution_count": 11,
   "metadata": {},
   "outputs": [],
   "source": [
    "# Import Data\n",
    "df = pd.read_csv(\"tp_df.csv\")\n",
    "df = df.drop([\"Unnamed: 0\"], axis=1)"
   ]
  },
  {
   "cell_type": "code",
   "execution_count": 12,
   "metadata": {},
   "outputs": [],
   "source": [
    "# Drop Errors and NAN values\n",
    "df = df[df['turn_over_rate']<1]\n",
    "error_firm = ['동원홈푸드','휠라홀딩스','트리','와디즈','키위컴퍼니','줌인터넷','시선인터내셔널','브이티코스메틱','유니슨이테크','씨엠비대전방송','서울비젼','더메인즈','조은시스템']\n",
    "\n",
    "for i in error_firm:\n",
    "    df = df[df.company_name != i]\n",
    "\n",
    "# Rename the columns\n",
    "df = df.rename(columns={\"average_salary\":\"average_salary(만원)\", \"total_sale\":\"total_sale(억원)\"})\n"
   ]
  },
  {
   "cell_type": "markdown",
   "metadata": {},
   "source": [
    "**Machine Learning**"
   ]
  },
  {
   "cell_type": "code",
   "execution_count": 14,
   "metadata": {},
   "outputs": [],
   "source": [
    "# Linear Regression\n",
    "from sklearn.model_selection import train_test_split\n",
    "\n",
    "y_target = df['turn_over_rate']\n",
    "x_data = df.drop(['company_name','turn_over_rate'], axis = 1, inplace = False)\n",
    "\n",
    "X_train, X_test, y_train, y_test = train_test_split(x_data, y_target, test_size = 0.1, random_state = 7)"
   ]
  },
  {
   "cell_type": "code",
   "execution_count": 17,
   "metadata": {},
   "outputs": [
    {
     "name": "stdout",
     "output_type": "stream",
     "text": [
      "Using TensorFlow backend\n"
     ]
    }
   ],
   "source": [
    "import autokeras as ak"
   ]
  },
  {
   "cell_type": "code",
   "execution_count": 23,
   "metadata": {},
   "outputs": [
    {
     "name": "stdout",
     "output_type": "stream",
     "text": [
      "Trial 3 Complete [00h 00m 01s]\n",
      "val_loss: 858.916259765625\n",
      "\n",
      "Best val_loss So Far: 0.032836299389600754\n",
      "Total elapsed time: 00h 00m 03s\n",
      "Epoch 1/10\n",
      "65/65 [==============================] - 0s 638us/step - loss: 0.1978 - mean_squared_error: 0.1978\n",
      "Epoch 2/10\n",
      "65/65 [==============================] - 0s 995us/step - loss: 0.0544 - mean_squared_error: 0.0544\n",
      "Epoch 3/10\n",
      "65/65 [==============================] - 0s 588us/step - loss: 0.0366 - mean_squared_error: 0.0366\n",
      "Epoch 4/10\n",
      "65/65 [==============================] - 0s 573us/step - loss: 0.0318 - mean_squared_error: 0.0318\n",
      "Epoch 5/10\n",
      "65/65 [==============================] - 0s 560us/step - loss: 0.0296 - mean_squared_error: 0.0296\n",
      "Epoch 6/10\n",
      "65/65 [==============================] - 0s 586us/step - loss: 0.0281 - mean_squared_error: 0.0281\n",
      "Epoch 7/10\n",
      "65/65 [==============================] - 0s 555us/step - loss: 0.0271 - mean_squared_error: 0.0271\n",
      "Epoch 8/10\n",
      "65/65 [==============================] - 0s 580us/step - loss: 0.0264 - mean_squared_error: 0.0264\n",
      "Epoch 9/10\n",
      "65/65 [==============================] - 0s 558us/step - loss: 0.0258 - mean_squared_error: 0.0258\n",
      "Epoch 10/10\n",
      "65/65 [==============================] - 0s 563us/step - loss: 0.0253 - mean_squared_error: 0.0253\n",
      "INFO:tensorflow:Assets written to: ./structured_data_regressor/best_model/assets\n",
      "8/8 [==============================] - 0s 644us/step\n",
      "8/8 [==============================] - 0s 838us/step\n",
      "8/8 [==============================] - 0s 633us/step - loss: 0.0267 - mean_squared_error: 0.0267\n",
      "[0.026662666350603104, 0.026662666350603104]\n"
     ]
    }
   ],
   "source": [
    "reg = ak.StructuredDataRegressor(\n",
    "    overwrite = True, max_trials = 3\n",
    ")\n",
    "reg.fit(x=X_train, y=y_train, epochs = 10)\n",
    "predicted_y = reg.predict(x = X_test)\n",
    "print(reg.evaluate(X_test, y_test))"
   ]
  },
  {
   "cell_type": "code",
   "execution_count": null,
   "metadata": {},
   "outputs": [],
   "source": []
  }
 ],
 "metadata": {
  "kernelspec": {
   "display_name": "textmining",
   "language": "python",
   "name": "textmining"
  },
  "language_info": {
   "codemirror_mode": {
    "name": "ipython",
    "version": 3
   },
   "file_extension": ".py",
   "mimetype": "text/x-python",
   "name": "python",
   "nbconvert_exporter": "python",
   "pygments_lexer": "ipython3",
   "version": "3.8.16"
  },
  "orig_nbformat": 4
 },
 "nbformat": 4,
 "nbformat_minor": 2
}
