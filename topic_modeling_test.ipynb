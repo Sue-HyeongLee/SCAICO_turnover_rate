{
 "cells": [
  {
   "cell_type": "code",
   "execution_count": 1,
   "id": "cbfbc1d7-24c5-423b-bafb-7111daf71d0f",
   "metadata": {},
   "outputs": [],
   "source": [
    "import numpy as np\n",
    "import pandas as pd\n",
    "\n",
    "# LDA\n",
    "from sklearn.decomposition import LatentDirichletAllocation\n"
   ]
  },
  {
   "cell_type": "code",
   "execution_count": 2,
   "id": "f2036d0a-01c7-47f8-9dc2-af04479b8839",
   "metadata": {},
   "outputs": [
    {
     "data": {
      "text/html": [
       "<div>\n",
       "<style scoped>\n",
       "    .dataframe tbody tr th:only-of-type {\n",
       "        vertical-align: middle;\n",
       "    }\n",
       "\n",
       "    .dataframe tbody tr th {\n",
       "        vertical-align: top;\n",
       "    }\n",
       "\n",
       "    .dataframe thead th {\n",
       "        text-align: right;\n",
       "    }\n",
       "</style>\n",
       "<table border=\"1\" class=\"dataframe\">\n",
       "  <thead>\n",
       "    <tr style=\"text-align: right;\">\n",
       "      <th></th>\n",
       "      <th>Unnamed: 0</th>\n",
       "      <th>cmp</th>\n",
       "      <th>adv</th>\n",
       "      <th>dadv</th>\n",
       "    </tr>\n",
       "  </thead>\n",
       "  <tbody>\n",
       "    <tr>\n",
       "      <th>0</th>\n",
       "      <td>0</td>\n",
       "      <td>한국토지주택공사</td>\n",
       "      <td>공공기관 특성상 상대적으로 자유로운 휴가사용이 가능하다는것.전문자격증 취득을 원할경...</td>\n",
       "      <td>1.쓸데없는 자료요청과 잦은 회의 수직적구조2.노력대비 적은보상3.브랜드이미지 최하...</td>\n",
       "    </tr>\n",
       "    <tr>\n",
       "      <th>1</th>\n",
       "      <td>1</td>\n",
       "      <td>한전KPS(주)</td>\n",
       "      <td>연봉 초임4넘고 3년차기준 5천넘어가며높은워라벨을즐김 공기업답게 워라벨이 좋고 복지...</td>\n",
       "      <td>돈은많이 벌지만 그돈이 오지생활이기에 술값으로 다나감. 발전소에서 근무를 하게 되면...</td>\n",
       "    </tr>\n",
       "    <tr>\n",
       "      <th>2</th>\n",
       "      <td>2</td>\n",
       "      <td>현대엔지니어링(주)</td>\n",
       "      <td>계약직이어서 복지는 거의 해당이 없었지만 그래도 대기업인 만큼 사람들도 괜찮고 분위...</td>\n",
       "      <td>급여가 좀 적고 남녀성비가 안맞는게 단점이라면 단점이지만 나랑은 잘 맞았음 예산 사...</td>\n",
       "    </tr>\n",
       "    <tr>\n",
       "      <th>3</th>\n",
       "      <td>3</td>\n",
       "      <td>현대건설(주)</td>\n",
       "      <td>연차를 자유롭게 사용가능. 현장에 따라서 자유로운 분위기 연차를 윗사람과 많이 겹치...</td>\n",
       "      <td>복지제도가 많으나 쓰기가 힘들고 아직 건설업의 문화가 남아있음 업무가 소장의 지시에...</td>\n",
       "    </tr>\n",
       "    <tr>\n",
       "      <th>4</th>\n",
       "      <td>4</td>\n",
       "      <td>(주)대우건설</td>\n",
       "      <td>대우 직원 분들 정이 많고 잘 챙겨주십니다.사람마다 케바케지만 대부분 정많고 오래 ...</td>\n",
       "      <td>중흥에서 인수하면서 회사 체계가 나락으로 가고 있음... 독자경영 약속하고 인수한거...</td>\n",
       "    </tr>\n",
       "  </tbody>\n",
       "</table>\n",
       "</div>"
      ],
      "text/plain": [
       "   Unnamed: 0         cmp                                                adv  \\\n",
       "0           0    한국토지주택공사  공공기관 특성상 상대적으로 자유로운 휴가사용이 가능하다는것.전문자격증 취득을 원할경...   \n",
       "1           1    한전KPS(주)  연봉 초임4넘고 3년차기준 5천넘어가며높은워라벨을즐김 공기업답게 워라벨이 좋고 복지...   \n",
       "2           2  현대엔지니어링(주)  계약직이어서 복지는 거의 해당이 없었지만 그래도 대기업인 만큼 사람들도 괜찮고 분위...   \n",
       "3           3     현대건설(주)  연차를 자유롭게 사용가능. 현장에 따라서 자유로운 분위기 연차를 윗사람과 많이 겹치...   \n",
       "4           4     (주)대우건설  대우 직원 분들 정이 많고 잘 챙겨주십니다.사람마다 케바케지만 대부분 정많고 오래 ...   \n",
       "\n",
       "                                                dadv  \n",
       "0  1.쓸데없는 자료요청과 잦은 회의 수직적구조2.노력대비 적은보상3.브랜드이미지 최하...  \n",
       "1  돈은많이 벌지만 그돈이 오지생활이기에 술값으로 다나감. 발전소에서 근무를 하게 되면...  \n",
       "2  급여가 좀 적고 남녀성비가 안맞는게 단점이라면 단점이지만 나랑은 잘 맞았음 예산 사...  \n",
       "3  복지제도가 많으나 쓰기가 힘들고 아직 건설업의 문화가 남아있음 업무가 소장의 지시에...  \n",
       "4  중흥에서 인수하면서 회사 체계가 나락으로 가고 있음... 독자경영 약속하고 인수한거...  "
      ]
     },
     "execution_count": 2,
     "metadata": {},
     "output_type": "execute_result"
    }
   ],
   "source": [
    "# Read Data\n",
    "df = pd.read_csv('construction_review.csv')\n",
    "# 결측치 제거\n",
    "df = df.dropna()\n",
    "adv = df['adv'] # Advantage review\n",
    "dadv = df['dadv'] # Disadvantage review\n",
    "df.head()"
   ]
  },
  {
   "cell_type": "code",
   "execution_count": 41,
   "id": "5b639564-e78c-4270-8580-4b04221e79e5",
   "metadata": {},
   "outputs": [],
   "source": [
    "# Word Count\n",
    "from konlpy.tag import Okt\n",
    "\n",
    "t = Okt()\n",
    "\n",
    "def my_tokenizer(doc):\n",
    "    return [\n",
    "        token\n",
    "        for token, pos in t.pos(doc)\n",
    "        if pos == 'Noun' and len(token)>1\n",
    "    ]"
   ]
  },
  {
   "cell_type": "code",
   "execution_count": 44,
   "id": "863566c0-958e-4293-9a7c-93f51dd8e2f7",
   "metadata": {},
   "outputs": [],
   "source": [
    "# Count Vectorizer\n",
    "from sklearn.feature_extraction.text import CountVectorizer\n",
    "\n",
    "cv = CountVectorizer(max_features=1000, tokenizer = my_tokenizer)\n",
    "review_cv = cv.fit_transform(df.adv)"
   ]
  },
  {
   "cell_type": "code",
   "execution_count": 45,
   "id": "953f7c86-e713-4660-a0a6-e2dd084e877a",
   "metadata": {},
   "outputs": [
    {
     "name": "stdout",
     "output_type": "stream",
     "text": [
      "['가기' '가끔' '가능' '가능성' '가도' '가면' '가스' '가장' '가정' '가족' '가지' '각자' '각종' '간다'\n",
      " '간섭' '간식' '간의' '간판' '간혹' '갈수' '강남' '강남역' '강도' '강요' '강제' '개개인' '개념' '개발'\n",
      " '개선' '개월' '개인' '개인주의' '거나' '거리' '거의' '거주' '걱정' '건강검진' '건물' '건설' '건설업'\n",
      " '건축' '결재' '결정' '결제' '경기' '경기도' '경력' '경비' '경상' '경영' '경우' '경쟁' '경쟁력' '경조사'\n",
      " '경험' '계룡' '계발' '계속' '계약' '계열' '계획' '고객' '고려' '고민' '고용' '고정' '고함' '곳도'\n",
      " '공공기관' '공기업' '공단' '공동' '공무원' '공부' '공사' '공유' '공장' '공제' '공짜' '공채' '공함'\n",
      " '공휴일' '과거' '과금' '과장' '과정' '관계' '관련' '관리' '관리소' '관리자' '관바관' '관심' '괜찬음'\n",
      " '교대' '교대근무' '교보' '교육' '교육비']\n"
     ]
    }
   ],
   "source": [
    "print(cv.get_feature_names_out()[:100])"
   ]
  },
  {
   "cell_type": "code",
   "execution_count": 47,
   "id": "070c8a91-0d01-4803-a2b8-251cb1ef4eea",
   "metadata": {},
   "outputs": [
    {
     "name": "stdout",
     "output_type": "stream",
     "text": [
      "#Shape of review_topics: (108, 10)\n",
      "#Sample of review_topics: [5.666e-04 6.017e-04 6.777e-04 5.637e-04 5.256e-04 1.994e-03 6.296e-04\n",
      " 5.953e-04 6.352e-04 9.932e-01]\n",
      "#Sum of topic weights of documents: [0.008 0.009 0.039 0.009 0.008 0.355 0.014 0.015 0.011 0.533]\n",
      "#shape of topic word distribution: (10, 1000)\n"
     ]
    }
   ],
   "source": [
    "# LDA\n",
    "from sklearn.decomposition import LatentDirichletAllocation\n",
    "np.set_printoptions(precision = 3)\n",
    "\n",
    "lda = LatentDirichletAllocation(n_components = 10,\n",
    "                                max_iter = 5,\n",
    "                                topic_word_prior = 0.1, doc_topic_prior = 1.0,\n",
    "                                learning_method = 'online',\n",
    "                                n_jobs = -1,\n",
    "                                random_state=0)\n",
    "\n",
    "review_topics = lda.fit_transform(review_cv)\n",
    "print('#Shape of review_topics:', review_topics.shape)\n",
    "print('#Sample of review_topics:', review_topics[0])\n",
    "\n",
    "gross_topic_weights = np.mean(review_topics, axis=0)\n",
    "print('#Sum of topic weights of documents:',gross_topic_weights)\n",
    "print('#shape of topic word distribution:', lda.components_.shape)"
   ]
  },
  {
   "cell_type": "code",
   "execution_count": 51,
   "id": "4ccc81f8-8699-4525-9a4e-344e0590b904",
   "metadata": {},
   "outputs": [
    {
     "name": "stdout",
     "output_type": "stream",
     "text": [
      "Topic #0 연차, 복지, 사용, 가능, 근무, 장점, 회사, 분위기, 연봉, 현장\n",
      "Topic #1 연차, 복지, 회사, 눈치, 업무, 사용, 가능, 근무, 분위기, 연봉\n",
      "Topic #2 회사, 프로젝트, 연봉, 경험, 지원, 업무, 연차, 장점, 복지, 야근\n",
      "Topic #3 연차, 사용, 회사, 연봉, 눈치, 복지, 장점, 현장, 분위기, 근무\n",
      "Topic #4 연차, 사용, 회사, 가능, 사람, 분위기, 복지, 현장, 눈치, 월급\n",
      "Topic #5 연차, 회사, 사용, 분위기, 눈치, 복지, 업무, 사람, 야근, 연봉\n",
      "Topic #6 연차, 복지, 회사, 사용, 선물, 분위기, 눈치, 제공, 사람, 지원\n",
      "Topic #7 회사, 연차, 복지, 연봉, 장점, 직원, 급여, 사용, 업무, 월급\n",
      "Topic #8 연차, 회사, 업무, 사람, 현장, 월급, 장점, 가능, 사용, 급여\n",
      "Topic #9 연차, 복지, 사용, 회사, 현장, 업무, 사람, 눈치, 가능, 분위기\n",
      "\n"
     ]
    }
   ],
   "source": [
    "def print_top_words(model, feature_names, n_top_words):\n",
    "    for topic_idx, topic in enumerate(model.components_):\n",
    "        print(\"Topic #%d \" % topic_idx, end='')\n",
    "        print( \", \".join([feature_names[i] for i in topic.argsort()[:-n_top_words - 1:-1]]))\n",
    "    print()\n",
    "print_top_words(lda, cv.get_feature_names_out(),10)"
   ]
  },
  {
   "cell_type": "code",
   "execution_count": null,
   "id": "25fdb83e-cca7-4b0c-a7f9-98225f1d9b73",
   "metadata": {},
   "outputs": [],
   "source": [
    "_"
   ]
  }
 ],
 "metadata": {
  "kernelspec": {
   "display_name": "textmining",
   "language": "python",
   "name": "textmining"
  },
  "language_info": {
   "codemirror_mode": {
    "name": "ipython",
    "version": 3
   },
   "file_extension": ".py",
   "mimetype": "text/x-python",
   "name": "python",
   "nbconvert_exporter": "python",
   "pygments_lexer": "ipython3",
   "version": "3.8.16"
  }
 },
 "nbformat": 4,
 "nbformat_minor": 5
}
