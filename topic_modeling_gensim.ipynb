{
 "cells": [
  {
   "cell_type": "code",
   "execution_count": 15,
   "metadata": {},
   "outputs": [],
   "source": [
    "import numpy as np\n",
    "import pandas as pd\n",
    "import matplotlib.pyplot as plt\n",
    "# Gensim\n",
    "from gensim.corpora.dictionary import Dictionary"
   ]
  },
  {
   "cell_type": "markdown",
   "metadata": {},
   "source": [
    "IMPORT DATA"
   ]
  },
  {
   "cell_type": "code",
   "execution_count": 16,
   "metadata": {},
   "outputs": [],
   "source": [
    "df = pd.read_csv('bow_df.csv')\n",
    "# 결측치 제거\n",
    "df = df.dropna()\n",
    "\n",
    "company_name = df.company_name\n",
    "company_name.to_csv(\"company_name.csv\")\n",
    "other_var = df.drop(['company_name','adv','dadv','Unnamed: 0'],axis=1)\n",
    "other_var.to_csv(\"other_var.csv\")"
   ]
  },
  {
   "cell_type": "markdown",
   "metadata": {},
   "source": [
    "TOKENIZING"
   ]
  },
  {
   "cell_type": "code",
   "execution_count": 17,
   "metadata": {},
   "outputs": [],
   "source": [
    "# Word Count\n",
    "from konlpy.tag import Okt\n",
    "\n",
    "t = Okt()\n",
    "\n",
    "def my_tokenizer(doc):\n",
    "    return [\n",
    "        token\n",
    "        for token, pos in t.pos(doc)\n",
    "        if len(token)>1\n",
    "    ]"
   ]
  },
  {
   "cell_type": "code",
   "execution_count": 18,
   "metadata": {},
   "outputs": [],
   "source": [
    "text_adv = [my_tokenizer(text) for text in df.adv]\n",
    "text_dadv = [my_tokenizer(text) for text in df.dadv]"
   ]
  },
  {
   "cell_type": "code",
   "execution_count": 19,
   "metadata": {},
   "outputs": [
    {
     "name": "stdout",
     "output_type": "stream",
     "text": [
      "#Number of initial unique words in adv_documents: 49505\n",
      "#Number of initial unique words in dadv_documents: 81585\n",
      "#Number of unique words after removing rae and common words: 2000\n",
      "#Number of unique words after removing rae and common words: 2000\n",
      "#Number of unique tokens: 2000\n",
      "#Number of documents: 2503\n",
      "#Number of unique tokens: 2000\n",
      "#Number of documents: 2503\n"
     ]
    }
   ],
   "source": [
    "dictionary_adv = Dictionary(text_adv)\n",
    "dictionary_dadv = Dictionary(text_dadv)\n",
    "print('#Number of initial unique words in adv_documents:',len(dictionary_adv))\n",
    "print('#Number of initial unique words in dadv_documents:',len(dictionary_dadv))\n",
    "\n",
    "dictionary_adv.filter_extremes(keep_n = 2000, no_below = 10, no_above = 0.5)\n",
    "dictionary_dadv.filter_extremes(keep_n = 2000, no_below = 10, no_above = 0.5)\n",
    "\n",
    "print(\"#Number of unique words after removing rae and common words:\", len(dictionary_adv))\n",
    "print(\"#Number of unique words after removing rae and common words:\", len(dictionary_dadv))\n",
    "\n",
    "corpus_adv = [dictionary_adv.doc2bow(text) for text in text_adv]\n",
    "corpus_dadv = [dictionary_dadv.doc2bow(text) for text in text_dadv]\n",
    "print('#Number of unique tokens: %d' % len(dictionary_adv))\n",
    "print('#Number of documents: %d' % len(corpus_adv))\n",
    "\n",
    "print('#Number of unique tokens: %d' % len(dictionary_dadv))\n",
    "print('#Number of documents: %d' % len(corpus_dadv))\n"
   ]
  },
  {
   "cell_type": "code",
   "execution_count": 20,
   "metadata": {},
   "outputs": [],
   "source": [
    "import pickle\n",
    "with open('corpus_adv_no_preprocessing.pkl', 'wb') as lf:\n",
    "    pickle.dump(corpus_adv, lf)"
   ]
  },
  {
   "cell_type": "code",
   "execution_count": 21,
   "metadata": {},
   "outputs": [],
   "source": [
    "import pickle\n",
    "with open('corpus_dadv_no_preprocessing.pkl', 'wb') as lf:\n",
    "    pickle.dump(corpus_dadv, lf)"
   ]
  },
  {
   "cell_type": "markdown",
   "metadata": {},
   "source": [
    "LDA MODEL"
   ]
  },
  {
   "cell_type": "code",
   "execution_count": 22,
   "metadata": {},
   "outputs": [],
   "source": [
    "from gensim.models import LdaModel\n",
    "\n",
    "num_topics_adv = 6\n",
    "passes = 5\n",
    "model_adv = LdaModel(corpus = corpus_adv, id2word = dictionary_adv,passes = passes, num_topics = num_topics_adv,random_state = 7)\n",
    "model_adv.save(\"tp_adv_model_no_preprocessing\")"
   ]
  },
  {
   "cell_type": "code",
   "execution_count": 23,
   "metadata": {},
   "outputs": [],
   "source": [
    "num_topics_dadv = 7\n",
    "model_dadv = LdaModel(corpus = corpus_dadv, id2word = dictionary_dadv,passes = passes, num_topics = num_topics_dadv,random_state = 7)\n",
    "model_dadv.save(\"tp_dadv_model_no_preprocessing\")"
   ]
  },
  {
   "cell_type": "code",
   "execution_count": 24,
   "metadata": {},
   "outputs": [
    {
     "name": "stdout",
     "output_type": "stream",
     "text": [
      "ADV\n",
      "[(0, '0.007*\"높은\" + 0.006*\"지급\" + 0.006*\"수당\" + 0.006*\"영업\" + 0.006*\"밀리\" + 0.005*\"나옴\" + 0.004*\"일이\" + 0.004*\"업계\" + 0.004*\"따라\" + 0.004*\"초봉\"'), (1, '0.016*\"대기업\" + 0.008*\"높은\" + 0.007*\"안정\" + 0.007*\"포인트\" + 0.007*\"할인\" + 0.006*\"부바\" + 0.006*\"강도\" + 0.005*\"그룹\" + 0.005*\"괜찮은\" + 0.005*\"않은\"'), (2, '0.011*\"재택근무\" + 0.007*\"유연근무제\" + 0.006*\"부바\" + 0.006*\"자율\" + 0.006*\"재택\" + 0.006*\"포인트\" + 0.005*\"제도\" + 0.005*\"데이\" + 0.005*\"롭고\" + 0.005*\"출근\"'), (3, '0.014*\"\\n \\n\" + 0.007*\"서울\" + 0.007*\"공공기관\" + 0.006*\"기회\" + 0.006*\"안정\" + 0.005*\"높은\" + 0.005*\"일이\" + 0.005*\"할인\" + 0.005*\"동료\" + 0.005*\"대한\"'), (4, '0.015*\"기숙사\" + 0.014*\"버스\" + 0.012*\"통근\" + 0.011*\"점심\" + 0.011*\"맛있음\" + 0.010*\"저녁\" + 0.009*\"식당\" + 0.008*\"식사\" + 0.007*\"수당\" + 0.007*\"아침\"'), (5, '0.012*\"점심\" + 0.011*\"카페\" + 0.010*\"커피\" + 0.010*\"사내\" + 0.009*\"건물\" + 0.009*\"식대\" + 0.008*\"사옥\" + 0.008*\"간식\" + 0.006*\"사무실\" + 0.006*\"구내식당\"')]\n",
      "\n",
      " DADV\n",
      "[(0, '0.015*\"영업\" + 0.006*\"보수\" + 0.006*\"조직\" + 0.006*\"대비\" + 0.005*\"승진\" + 0.005*\"성장\" + 0.005*\"압박\" + 0.005*\"낮음\" + 0.005*\"실적\" + 0.004*\"수직\"'), (1, '0.009*\"계약\" + 0.007*\"파견\" + 0.006*\"교육\" + 0.006*\"평가\" + 0.006*\"고객\" + 0.005*\"수당\" + 0.005*\"매장\" + 0.005*\"본사\" + 0.005*\"관리\" + 0.005*\"정규직\"'), (2, '0.009*\"승진\" + 0.008*\"사업\" + 0.007*\"순환\" + 0.006*\"보수\" + 0.006*\"공공기관\" + 0.005*\"강도\" + 0.005*\"꼰대\" + 0.005*\"무량\" + 0.005*\"수직\" + 0.005*\"기관\"'), (3, '0.007*\"프로젝트\" + 0.006*\"무량\" + 0.005*\"평가\" + 0.004*\"팀바팀\" + 0.004*\"리더\" + 0.004*\"강도\" + 0.004*\"부분\" + 0.004*\"조직\" + 0.004*\"보상\" + 0.004*\"업계\"'), (4, '0.006*\"사용\" + 0.006*\"관리자\" + 0.006*\"수당\" + 0.005*\"출근\" + 0.004*\"사원\" + 0.004*\"정말\" + 0.004*\"진짜\" + 0.004*\"기본\" + 0.004*\"휴가\" + 0.004*\"제대로\"'), (5, '0.010*\"임원\" + 0.008*\"대표\" + 0.006*\"영진\" + 0.006*\"매출\" + 0.005*\"회의\" + 0.005*\"사업\" + 0.005*\"실무\" + 0.005*\"경영\" + 0.004*\"미래\" + 0.004*\"정치\"'), (6, '0.011*\"계약\" + 0.008*\"정규직\" + 0.006*\"위치\" + 0.006*\"생산\" + 0.006*\"진급\" + 0.005*\"교대\" + 0.005*\"강도\" + 0.004*\"차이\" + 0.004*\"승진\" + 0.004*\"현장\"')]\n"
     ]
    }
   ],
   "source": [
    "print('ADV')\n",
    "print(model_adv.print_topics(num_words=10))\n",
    "print('\\n DADV')\n",
    "print(model_dadv.print_topics(num_words=10))\n",
    "# print('#topic distribution of the first document:',model.get_document_topics(corpus)[0])"
   ]
  },
  {
   "cell_type": "markdown",
   "metadata": {},
   "source": [
    "TOPIC MODELING COMPARISON(based on # topics)"
   ]
  },
  {
   "cell_type": "code",
   "execution_count": 25,
   "metadata": {},
   "outputs": [],
   "source": [
    "# # topic_modeling csv file\n",
    "# num_topic_list_adv = [9]\n",
    "# num_topic_list_dadv = [7]\n",
    "\n",
    "# save_adv = {}\n",
    "# save_dadv = {}\n",
    "# for i in num_topic_list_adv:\n",
    "#     model = LdaModel(corpus = corpus_adv, id2word = dictionary_adv,passes = passes, num_topics = i,random_state = 7)\n",
    "#     save_adv[i] = model.print_topics(num_words=8)\n",
    "\n",
    "# for i in num_topic_list_dadv:\n",
    "#     model = LdaModel(corpus = corpus_dadv, id2word = dictionary_dadv,passes = passes, num_topics = i,random_state = 7)\n",
    "#     save_dadv[i] = model.print_topics(num_words=8)\n",
    "\n",
    "# topic_adv_csv = pd.DataFrame.from_dict(save_adv, orient='index')\n",
    "# topic_adv_csv.to_csv(\"adv_topic_selection.csv\")\n",
    "\n",
    "# topic_dadv_csv = pd.DataFrame.from_dict(save_dadv, orient='index')\n",
    "# topic_dadv_csv.to_csv(\"dadv_topic_selection.csv\")"
   ]
  },
  {
   "cell_type": "markdown",
   "metadata": {},
   "source": [
    "TOPIC MODELING OUTPUT"
   ]
  },
  {
   "cell_type": "code",
   "execution_count": 26,
   "metadata": {},
   "outputs": [],
   "source": [
    "output_df_adv = pd.DataFrame({'company_name':df.company_name})\n",
    "for col in range(num_topics_adv):\n",
    "    tmp = str(col)\n",
    "    output_df_adv[tmp] = float(0)\n",
    "output_df_adv.index = [i for i in range(len(output_df_adv))]\n"
   ]
  },
  {
   "cell_type": "code",
   "execution_count": 27,
   "metadata": {},
   "outputs": [],
   "source": [
    "output_df_dadv = pd.DataFrame({'company_name':df.company_name})\n",
    "for col in range(num_topics_dadv):\n",
    "    tmp = str(col)\n",
    "    output_df_dadv[tmp] = float(0)\n",
    "output_df_dadv.index = [i for i in range(len(output_df_dadv))]\n"
   ]
  },
  {
   "cell_type": "code",
   "execution_count": 28,
   "metadata": {},
   "outputs": [],
   "source": [
    "for i, dt in enumerate(model_adv.get_document_topics(corpus_adv)):\n",
    "    for val in dt:\n",
    "\n",
    "        idx = str(val[0])\n",
    "        pt = val[1]\n",
    "\n",
    "        output_df_adv.at[i,idx] = pt"
   ]
  },
  {
   "cell_type": "code",
   "execution_count": 29,
   "metadata": {},
   "outputs": [],
   "source": [
    "for i, dt in enumerate(model_dadv.get_document_topics(corpus_dadv)):\n",
    "    for val in dt:\n",
    "\n",
    "        idx = str(val[0])\n",
    "        pt = val[1]\n",
    "\n",
    "        output_df_dadv.at[i,idx] = pt"
   ]
  },
  {
   "cell_type": "code",
   "execution_count": 30,
   "metadata": {},
   "outputs": [],
   "source": [
    "# to csv file\n",
    "output_df_adv.to_csv('adv_topic_modeling_no_preprocesing.csv')\n",
    "output_df_dadv.to_csv('dadv_topic_modeling_no_preprocesing.csv')"
   ]
  },
  {
   "cell_type": "code",
   "execution_count": 53,
   "metadata": {},
   "outputs": [],
   "source": [
    "adv_cols = ['company_name']+['adv_topic_'+str(i) for i in range(len(output_df_adv.columns)-1)]\n",
    "dadv_cols = ['company_name']+['dadv_topic_'+str(i) for i in range(len(output_df_dadv.columns)-1)]\n",
    "output_df_adv.columns = adv_cols\n",
    "output_df_dadv.columns = dadv_cols"
   ]
  },
  {
   "cell_type": "code",
   "execution_count": 54,
   "metadata": {},
   "outputs": [
    {
     "data": {
      "text/html": [
       "<div>\n",
       "<style scoped>\n",
       "    .dataframe tbody tr th:only-of-type {\n",
       "        vertical-align: middle;\n",
       "    }\n",
       "\n",
       "    .dataframe tbody tr th {\n",
       "        vertical-align: top;\n",
       "    }\n",
       "\n",
       "    .dataframe thead th {\n",
       "        text-align: right;\n",
       "    }\n",
       "</style>\n",
       "<table border=\"1\" class=\"dataframe\">\n",
       "  <thead>\n",
       "    <tr style=\"text-align: right;\">\n",
       "      <th></th>\n",
       "      <th>company_name</th>\n",
       "      <th>adv_topic_0</th>\n",
       "      <th>adv_topic_1</th>\n",
       "      <th>adv_topic_2</th>\n",
       "      <th>adv_topic_3</th>\n",
       "      <th>adv_topic_4</th>\n",
       "      <th>adv_topic_5</th>\n",
       "      <th>dadv_topic_0</th>\n",
       "      <th>dadv_topic_1</th>\n",
       "      <th>dadv_topic_2</th>\n",
       "      <th>dadv_topic_3</th>\n",
       "      <th>dadv_topic_4</th>\n",
       "      <th>dadv_topic_5</th>\n",
       "      <th>dadv_topic_6</th>\n",
       "    </tr>\n",
       "  </thead>\n",
       "  <tbody>\n",
       "    <tr>\n",
       "      <th>0</th>\n",
       "      <td>국민건강보험공단</td>\n",
       "      <td>0.000000</td>\n",
       "      <td>0.000000</td>\n",
       "      <td>0.687372</td>\n",
       "      <td>0.302117</td>\n",
       "      <td>0.000000</td>\n",
       "      <td>0.000000</td>\n",
       "      <td>0.000000</td>\n",
       "      <td>0.048617</td>\n",
       "      <td>0.876745</td>\n",
       "      <td>0.019960</td>\n",
       "      <td>0.036149</td>\n",
       "      <td>0.000000</td>\n",
       "      <td>0.018385</td>\n",
       "    </tr>\n",
       "    <tr>\n",
       "      <th>1</th>\n",
       "      <td>근로복지공단</td>\n",
       "      <td>0.000000</td>\n",
       "      <td>0.000000</td>\n",
       "      <td>0.898357</td>\n",
       "      <td>0.099757</td>\n",
       "      <td>0.000000</td>\n",
       "      <td>0.000000</td>\n",
       "      <td>0.000000</td>\n",
       "      <td>0.098602</td>\n",
       "      <td>0.784741</td>\n",
       "      <td>0.013738</td>\n",
       "      <td>0.046056</td>\n",
       "      <td>0.000000</td>\n",
       "      <td>0.056697</td>\n",
       "    </tr>\n",
       "    <tr>\n",
       "      <th>2</th>\n",
       "      <td>농협은행</td>\n",
       "      <td>0.176674</td>\n",
       "      <td>0.506896</td>\n",
       "      <td>0.029714</td>\n",
       "      <td>0.286448</td>\n",
       "      <td>0.000000</td>\n",
       "      <td>0.000000</td>\n",
       "      <td>0.413914</td>\n",
       "      <td>0.085252</td>\n",
       "      <td>0.388159</td>\n",
       "      <td>0.000000</td>\n",
       "      <td>0.077294</td>\n",
       "      <td>0.000000</td>\n",
       "      <td>0.026577</td>\n",
       "    </tr>\n",
       "    <tr>\n",
       "      <th>3</th>\n",
       "      <td>현대카드</td>\n",
       "      <td>0.000000</td>\n",
       "      <td>0.266990</td>\n",
       "      <td>0.289331</td>\n",
       "      <td>0.000000</td>\n",
       "      <td>0.082022</td>\n",
       "      <td>0.361301</td>\n",
       "      <td>0.198092</td>\n",
       "      <td>0.355471</td>\n",
       "      <td>0.000000</td>\n",
       "      <td>0.230317</td>\n",
       "      <td>0.000000</td>\n",
       "      <td>0.049685</td>\n",
       "      <td>0.162927</td>\n",
       "    </tr>\n",
       "    <tr>\n",
       "      <th>4</th>\n",
       "      <td>중소기업은행</td>\n",
       "      <td>0.000000</td>\n",
       "      <td>0.341051</td>\n",
       "      <td>0.000000</td>\n",
       "      <td>0.658176</td>\n",
       "      <td>0.000000</td>\n",
       "      <td>0.000000</td>\n",
       "      <td>0.461317</td>\n",
       "      <td>0.000000</td>\n",
       "      <td>0.537841</td>\n",
       "      <td>0.000000</td>\n",
       "      <td>0.000000</td>\n",
       "      <td>0.000000</td>\n",
       "      <td>0.000000</td>\n",
       "    </tr>\n",
       "    <tr>\n",
       "      <th>...</th>\n",
       "      <td>...</td>\n",
       "      <td>...</td>\n",
       "      <td>...</td>\n",
       "      <td>...</td>\n",
       "      <td>...</td>\n",
       "      <td>...</td>\n",
       "      <td>...</td>\n",
       "      <td>...</td>\n",
       "      <td>...</td>\n",
       "      <td>...</td>\n",
       "      <td>...</td>\n",
       "      <td>...</td>\n",
       "      <td>...</td>\n",
       "      <td>...</td>\n",
       "    </tr>\n",
       "    <tr>\n",
       "      <th>2498</th>\n",
       "      <td>유끼커뮤니케이션</td>\n",
       "      <td>0.010481</td>\n",
       "      <td>0.010481</td>\n",
       "      <td>0.010533</td>\n",
       "      <td>0.010519</td>\n",
       "      <td>0.010519</td>\n",
       "      <td>0.947466</td>\n",
       "      <td>0.000000</td>\n",
       "      <td>0.000000</td>\n",
       "      <td>0.000000</td>\n",
       "      <td>0.959036</td>\n",
       "      <td>0.000000</td>\n",
       "      <td>0.000000</td>\n",
       "      <td>0.000000</td>\n",
       "    </tr>\n",
       "    <tr>\n",
       "      <th>2499</th>\n",
       "      <td>투어이천</td>\n",
       "      <td>0.281603</td>\n",
       "      <td>0.488103</td>\n",
       "      <td>0.198677</td>\n",
       "      <td>0.010537</td>\n",
       "      <td>0.010538</td>\n",
       "      <td>0.010543</td>\n",
       "      <td>0.000000</td>\n",
       "      <td>0.000000</td>\n",
       "      <td>0.000000</td>\n",
       "      <td>0.000000</td>\n",
       "      <td>0.949345</td>\n",
       "      <td>0.000000</td>\n",
       "      <td>0.000000</td>\n",
       "    </tr>\n",
       "    <tr>\n",
       "      <th>2500</th>\n",
       "      <td>휴먼코아</td>\n",
       "      <td>0.995102</td>\n",
       "      <td>0.000000</td>\n",
       "      <td>0.000000</td>\n",
       "      <td>0.000000</td>\n",
       "      <td>0.000000</td>\n",
       "      <td>0.000000</td>\n",
       "      <td>0.000000</td>\n",
       "      <td>0.352978</td>\n",
       "      <td>0.000000</td>\n",
       "      <td>0.000000</td>\n",
       "      <td>0.470019</td>\n",
       "      <td>0.000000</td>\n",
       "      <td>0.173178</td>\n",
       "    </tr>\n",
       "    <tr>\n",
       "      <th>2501</th>\n",
       "      <td>에이치엔씨네트워크</td>\n",
       "      <td>0.526662</td>\n",
       "      <td>0.187961</td>\n",
       "      <td>0.000000</td>\n",
       "      <td>0.000000</td>\n",
       "      <td>0.000000</td>\n",
       "      <td>0.280168</td>\n",
       "      <td>0.019182</td>\n",
       "      <td>0.216211</td>\n",
       "      <td>0.000000</td>\n",
       "      <td>0.000000</td>\n",
       "      <td>0.669438</td>\n",
       "      <td>0.000000</td>\n",
       "      <td>0.090043</td>\n",
       "    </tr>\n",
       "    <tr>\n",
       "      <th>2502</th>\n",
       "      <td>현대엔지비</td>\n",
       "      <td>0.000000</td>\n",
       "      <td>0.346558</td>\n",
       "      <td>0.628720</td>\n",
       "      <td>0.000000</td>\n",
       "      <td>0.000000</td>\n",
       "      <td>0.017939</td>\n",
       "      <td>0.645015</td>\n",
       "      <td>0.000000</td>\n",
       "      <td>0.000000</td>\n",
       "      <td>0.000000</td>\n",
       "      <td>0.000000</td>\n",
       "      <td>0.000000</td>\n",
       "      <td>0.352116</td>\n",
       "    </tr>\n",
       "  </tbody>\n",
       "</table>\n",
       "<p>2503 rows × 14 columns</p>\n",
       "</div>"
      ],
      "text/plain": [
       "     company_name  adv_topic_0  adv_topic_1  adv_topic_2  adv_topic_3  \\\n",
       "0        국민건강보험공단     0.000000     0.000000     0.687372     0.302117   \n",
       "1          근로복지공단     0.000000     0.000000     0.898357     0.099757   \n",
       "2            농협은행     0.176674     0.506896     0.029714     0.286448   \n",
       "3            현대카드     0.000000     0.266990     0.289331     0.000000   \n",
       "4          중소기업은행     0.000000     0.341051     0.000000     0.658176   \n",
       "...           ...          ...          ...          ...          ...   \n",
       "2498     유끼커뮤니케이션     0.010481     0.010481     0.010533     0.010519   \n",
       "2499         투어이천     0.281603     0.488103     0.198677     0.010537   \n",
       "2500         휴먼코아     0.995102     0.000000     0.000000     0.000000   \n",
       "2501    에이치엔씨네트워크     0.526662     0.187961     0.000000     0.000000   \n",
       "2502        현대엔지비     0.000000     0.346558     0.628720     0.000000   \n",
       "\n",
       "      adv_topic_4  adv_topic_5  dadv_topic_0  dadv_topic_1  dadv_topic_2  \\\n",
       "0        0.000000     0.000000      0.000000      0.048617      0.876745   \n",
       "1        0.000000     0.000000      0.000000      0.098602      0.784741   \n",
       "2        0.000000     0.000000      0.413914      0.085252      0.388159   \n",
       "3        0.082022     0.361301      0.198092      0.355471      0.000000   \n",
       "4        0.000000     0.000000      0.461317      0.000000      0.537841   \n",
       "...           ...          ...           ...           ...           ...   \n",
       "2498     0.010519     0.947466      0.000000      0.000000      0.000000   \n",
       "2499     0.010538     0.010543      0.000000      0.000000      0.000000   \n",
       "2500     0.000000     0.000000      0.000000      0.352978      0.000000   \n",
       "2501     0.000000     0.280168      0.019182      0.216211      0.000000   \n",
       "2502     0.000000     0.017939      0.645015      0.000000      0.000000   \n",
       "\n",
       "      dadv_topic_3  dadv_topic_4  dadv_topic_5  dadv_topic_6  \n",
       "0         0.019960      0.036149      0.000000      0.018385  \n",
       "1         0.013738      0.046056      0.000000      0.056697  \n",
       "2         0.000000      0.077294      0.000000      0.026577  \n",
       "3         0.230317      0.000000      0.049685      0.162927  \n",
       "4         0.000000      0.000000      0.000000      0.000000  \n",
       "...            ...           ...           ...           ...  \n",
       "2498      0.959036      0.000000      0.000000      0.000000  \n",
       "2499      0.000000      0.949345      0.000000      0.000000  \n",
       "2500      0.000000      0.470019      0.000000      0.173178  \n",
       "2501      0.000000      0.669438      0.000000      0.090043  \n",
       "2502      0.000000      0.000000      0.000000      0.352116  \n",
       "\n",
       "[2503 rows x 14 columns]"
      ]
     },
     "execution_count": 54,
     "metadata": {},
     "output_type": "execute_result"
    }
   ],
   "source": [
    "output_df = output_df_adv.merge(output_df_dadv,left_on = 'company_name', right_on = 'company_name')\n",
    "output_df"
   ]
  },
  {
   "cell_type": "code",
   "execution_count": 55,
   "metadata": {},
   "outputs": [],
   "source": [
    "output_df.to_csv(\"tp_df_no_preprocessing.csv\")"
   ]
  },
  {
   "cell_type": "code",
   "execution_count": 31,
   "metadata": {},
   "outputs": [
    {
     "name": "stdout",
     "output_type": "stream",
     "text": [
      "-0.8541177306147181\n",
      "-0.7079803669193115\n"
     ]
    }
   ],
   "source": [
    "from gensim.models import CoherenceModel\n",
    "\n",
    "cm_adv = CoherenceModel(model= model_adv, corpus= corpus_adv, coherence= 'u_mass')\n",
    "cm_dadv = CoherenceModel(model= model_dadv, corpus= corpus_dadv, coherence= 'u_mass')\n",
    "\n",
    "coherence_adv = cm_adv.get_coherence()\n",
    "coherence_dadv = cm_dadv.get_coherence()\n",
    "\n",
    "print(coherence_adv)\n",
    "print(coherence_dadv)"
   ]
  },
  {
   "cell_type": "code",
   "execution_count": 32,
   "metadata": {},
   "outputs": [
    {
     "name": "stdout",
     "output_type": "stream",
     "text": [
      "num_topics: 3, perplexity: -7.101, coherence: -0.746\n",
      "num_topics: 4, perplexity: -7.104, coherence: -0.772\n",
      "num_topics: 5, perplexity: -7.107, coherence: -0.799\n",
      "num_topics: 6, perplexity: -7.106, coherence: -0.753\n",
      "num_topics: 7, perplexity: -7.112, coherence: -0.732\n",
      "num_topics: 8, perplexity: -7.114, coherence: -0.759\n",
      "num_topics: 9, perplexity: -7.120, coherence: -0.776\n",
      "num_topics: 10, perplexity: -7.128, coherence: -0.763\n",
      "num_topics: 11, perplexity: -7.130, coherence: -0.794\n",
      "num_topics: 12, perplexity: -7.132, coherence: -0.786\n",
      "num_topics: 13, perplexity: -7.133, coherence: -0.786\n",
      "num_topics: 14, perplexity: -7.143, coherence: -0.779\n",
      "num_topics: 15, perplexity: -7.148, coherence: -0.787\n",
      "num_topics: 16, perplexity: -7.153, coherence: -0.760\n"
     ]
    },
    {
     "data": {
      "image/png": "[encoded data removed]",
      "text/plain": [
       "<Figure size 640x480 with 1 Axes>"
      ]
     },
     "metadata": {},
     "output_type": "display_data"
    },
    {
     "data": {
      "image/png": "[encoded data removed]",
      "text/plain": [
       "<Figure size 640x480 with 1 Axes>"
      ]
     },
     "metadata": {},
     "output_type": "display_data"
    }
   ],
   "source": [
    "def show_coherence(corpus, dictionary, start = 6, end = 15):\n",
    "    iter_num = []\n",
    "    per_value = []\n",
    "    coh_value = []\n",
    "\n",
    "    for i in range(start, end+1):\n",
    "        model = LdaModel(corpus = corpus, id2word = dictionary, chunksize=1000, num_topics = i,random_state = 7)\n",
    "        iter_num.append(i)\n",
    "        pv = model.log_perplexity(corpus)\n",
    "        per_value.append(pv)\n",
    "\n",
    "        cm = CoherenceModel(model=model, corpus=corpus, coherence='u_mass')\n",
    "        cv = cm.get_coherence()\n",
    "        coh_value.append(cv)\n",
    "        print(f'num_topics: {i}, perplexity: {pv:0.3f}, coherence: {cv:0.3f}')\n",
    "    \n",
    "    plt.plot(iter_num, per_value, 'g-')\n",
    "    plt.xlabel(\"num_topics\")\n",
    "    plt.ylabel(\"perplexity\")\n",
    "    plt.show()\n",
    "\n",
    "    plt.plot(iter_num, coh_value, 'r--')\n",
    "    plt.xlabel(\"num_topics\")\n",
    "    plt.ylabel(\"coherence\")\n",
    "    plt.show()\n",
    "# 5, 14\n",
    "show_coherence(corpus_adv, dictionary_adv, start = 3, end = 16)"
   ]
  },
  {
   "cell_type": "code",
   "execution_count": 33,
   "metadata": {},
   "outputs": [
    {
     "name": "stdout",
     "output_type": "stream",
     "text": [
      "num_topics: 3, perplexity: -7.233, coherence: -0.621\n",
      "num_topics: 4, perplexity: -7.238, coherence: -0.622\n",
      "num_topics: 5, perplexity: -7.245, coherence: -0.620\n",
      "num_topics: 6, perplexity: -7.248, coherence: -0.638\n",
      "num_topics: 7, perplexity: -7.251, coherence: -0.630\n",
      "num_topics: 8, perplexity: -7.258, coherence: -0.630\n",
      "num_topics: 9, perplexity: -7.264, coherence: -0.624\n",
      "num_topics: 10, perplexity: -7.267, coherence: -0.630\n",
      "num_topics: 11, perplexity: -7.273, coherence: -0.657\n",
      "num_topics: 12, perplexity: -7.280, coherence: -0.686\n",
      "num_topics: 13, perplexity: -7.285, coherence: -0.656\n",
      "num_topics: 14, perplexity: -7.294, coherence: -0.666\n",
      "num_topics: 15, perplexity: -7.298, coherence: -0.692\n",
      "num_topics: 16, perplexity: -7.304, coherence: -0.670\n"
     ]
    },
    {
     "data": {
      "image/png": "[encoded data removed]",
      "text/plain": [
       "<Figure size 640x480 with 1 Axes>"
      ]
     },
     "metadata": {},
     "output_type": "display_data"
    },
    {
     "data": {
      "image/png": "[encoded data removed]",
      "text/plain": [
       "<Figure size 640x480 with 1 Axes>"
      ]
     },
     "metadata": {},
     "output_type": "display_data"
    }
   ],
   "source": [
    "show_coherence(corpus_dadv, dictionary_dadv, start = 3, end = 16)\n"
   ]
  },
  {
   "cell_type": "code",
   "execution_count": null,
   "metadata": {},
   "outputs": [],
   "source": []
  }
 ],
 "metadata": {
  "kernelspec": {
   "display_name": "textmining",
   "language": "python",
   "name": "textmining"
  },
  "language_info": {
   "codemirror_mode": {
    "name": "ipython",
    "version": 3
   },
   "file_extension": ".py",
   "mimetype": "text/x-python",
   "name": "python",
   "nbconvert_exporter": "python",
   "pygments_lexer": "ipython3",
   "version": "3.8.16"
  },
  "orig_nbformat": 4
 },
 "nbformat": 4,
 "nbformat_minor": 2
}
