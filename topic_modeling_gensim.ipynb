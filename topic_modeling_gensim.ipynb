{
 "cells": [
  {
   "cell_type": "code",
   "execution_count": 121,
   "metadata": {},
   "outputs": [],
   "source": [
    "import numpy as np\n",
    "import pandas as pd\n",
    "import matplotlib.pyplot as plt\n",
    "# Gensim\n",
    "from gensim.corpora.dictionary import Dictionary"
   ]
  },
  {
   "cell_type": "code",
   "execution_count": 122,
   "metadata": {},
   "outputs": [
    {
     "data": {
      "text/plain": [
       "'\\nbank_financial_business_review\\nconstruction_review\\ndistribution_trade_transport_reviews\\neducation_review\\nmanufacture_chemistry_review\\nmedia_design_reviews\\norganization_association_reviews\\nmedical_medicine_welfare_reviews\\nservice_reviews\\n'"
      ]
     },
     "execution_count": 122,
     "metadata": {},
     "output_type": "execute_result"
    }
   ],
   "source": [
    "# Categories\n",
    "'''\n",
    "bank_financial_business_review\n",
    "construction_review\n",
    "distribution_trade_transport_reviews\n",
    "education_review\n",
    "manufacture_chemistry_review\n",
    "media_design_reviews\n",
    "organization_association_reviews\n",
    "medical_medicine_welfare_reviews\n",
    "service_reviews\n",
    "'''"
   ]
  },
  {
   "cell_type": "code",
   "execution_count": 123,
   "metadata": {},
   "outputs": [
    {
     "data": {
      "text/html": [
       "<div>\n",
       "<style scoped>\n",
       "    .dataframe tbody tr th:only-of-type {\n",
       "        vertical-align: middle;\n",
       "    }\n",
       "\n",
       "    .dataframe tbody tr th {\n",
       "        vertical-align: top;\n",
       "    }\n",
       "\n",
       "    .dataframe thead th {\n",
       "        text-align: right;\n",
       "    }\n",
       "</style>\n",
       "<table border=\"1\" class=\"dataframe\">\n",
       "  <thead>\n",
       "    <tr style=\"text-align: right;\">\n",
       "      <th></th>\n",
       "      <th>Unnamed: 0</th>\n",
       "      <th>cmp</th>\n",
       "      <th>adv</th>\n",
       "      <th>dadv</th>\n",
       "    </tr>\n",
       "  </thead>\n",
       "  <tbody>\n",
       "    <tr>\n",
       "      <th>0</th>\n",
       "      <td>0</td>\n",
       "      <td>한미약품(주)</td>\n",
       "      <td>연차 사용 자유로움 나이 많은 사람이 적어서 분위기도 자유로움 워라벨이 너무 좋은것...</td>\n",
       "      <td>연장 수당을 주다가 이제 안줘서 다들 책임감이 떨어졌다고 생각됨 급여를 올려주시면 ...</td>\n",
       "    </tr>\n",
       "    <tr>\n",
       "      <th>1</th>\n",
       "      <td>1</td>\n",
       "      <td>(주)대웅제약</td>\n",
       "      <td>사유를 묻지 않는 연차사용팀에서도 교육은 적극 권장하고 있어 교육에 참여할 기회가 ...</td>\n",
       "      <td>본인이 성장하는 만큼 일이 많음.평가가 많아서 작성해야 되는 자료가 많음.점심시간 ...</td>\n",
       "    </tr>\n",
       "    <tr>\n",
       "      <th>2</th>\n",
       "      <td>2</td>\n",
       "      <td>오스템임플란트(주)</td>\n",
       "      <td>명절 선물이 선택할 수 있게 다양하고 직원들을 챙기는 많은 이벤트들이 준비되어 있습...</td>\n",
       "      <td>잦은 야근과 많은 업무량 업무의 종류도 많음 그리고 적응하는 기간이 오래걸릴 것 같...</td>\n",
       "    </tr>\n",
       "    <tr>\n",
       "      <th>3</th>\n",
       "      <td>3</td>\n",
       "      <td>(주)종근당</td>\n",
       "      <td>다른업계와 비교했을때 말도안되게 높은 연봉달성했을시 받을 수 있는 인센티브주유비 지...</td>\n",
       "      <td>쓰잘데기없는 방향으로 자꾸가능 경향이 있음 오늘은 이거집중, 내일은 저거 집중몇개월...</td>\n",
       "    </tr>\n",
       "    <tr>\n",
       "      <th>4</th>\n",
       "      <td>4</td>\n",
       "      <td>삼성바이오로직스(주)</td>\n",
       "      <td>빠른 성장중인 회사. 10년후가 기대되고, 바이오 산업 커리어 시작하기에 최고. 아...</td>\n",
       "      <td>빠른 성장으로 인해 다양한 사람 문제가 많음. 인사팀도 관리하기 힘들어 함. 또한,...</td>\n",
       "    </tr>\n",
       "  </tbody>\n",
       "</table>\n",
       "</div>"
      ],
      "text/plain": [
       "   Unnamed: 0          cmp                                                adv  \\\n",
       "0           0      한미약품(주)  연차 사용 자유로움 나이 많은 사람이 적어서 분위기도 자유로움 워라벨이 너무 좋은것...   \n",
       "1           1      (주)대웅제약  사유를 묻지 않는 연차사용팀에서도 교육은 적극 권장하고 있어 교육에 참여할 기회가 ...   \n",
       "2           2   오스템임플란트(주)  명절 선물이 선택할 수 있게 다양하고 직원들을 챙기는 많은 이벤트들이 준비되어 있습...   \n",
       "3           3       (주)종근당  다른업계와 비교했을때 말도안되게 높은 연봉달성했을시 받을 수 있는 인센티브주유비 지...   \n",
       "4           4  삼성바이오로직스(주)  빠른 성장중인 회사. 10년후가 기대되고, 바이오 산업 커리어 시작하기에 최고. 아...   \n",
       "\n",
       "                                                dadv  \n",
       "0  연장 수당을 주다가 이제 안줘서 다들 책임감이 떨어졌다고 생각됨 급여를 올려주시면 ...  \n",
       "1  본인이 성장하는 만큼 일이 많음.평가가 많아서 작성해야 되는 자료가 많음.점심시간 ...  \n",
       "2  잦은 야근과 많은 업무량 업무의 종류도 많음 그리고 적응하는 기간이 오래걸릴 것 같...  \n",
       "3  쓰잘데기없는 방향으로 자꾸가능 경향이 있음 오늘은 이거집중, 내일은 저거 집중몇개월...  \n",
       "4  빠른 성장으로 인해 다양한 사람 문제가 많음. 인사팀도 관리하기 힘들어 함. 또한,...  "
      ]
     },
     "execution_count": 123,
     "metadata": {},
     "output_type": "execute_result"
    }
   ],
   "source": [
    "# Read Data\n",
    "\n",
    "df = pd.read_csv('/Users/myeongseop.kim/Desktop/SCAISCO/csv files/medical_medicine_welfare_reviews.csv')\n",
    "# 결측치 제거\n",
    "df = df.dropna()\n",
    "df.head()"
   ]
  },
  {
   "cell_type": "code",
   "execution_count": 124,
   "metadata": {},
   "outputs": [],
   "source": [
    "# # only for it data\n",
    "# it1 = pd.read_csv('/Users/myeongseop.kim/Desktop/SCAISCO/csv files/it_web_communication_reviews_1_100.csv')\n",
    "# it2 = pd.read_csv('/Users/myeongseop.kim/Desktop/SCAISCO/csv files/it_web_communication_reviews_101_200.csv')\n",
    "# it3 = pd.read_csv('/Users/myeongseop.kim/Desktop/SCAISCO/csv files/it_web_communication_reviews_201_300.csv')\n",
    "# it4 = pd.read_csv('/Users/myeongseop.kim/Desktop/SCAISCO/csv files/it_web_communication_reviews_300_end.csv')\n",
    "\n",
    "# df= pd.concat([it1,it2,it3,it4],axis=0)\n",
    "# df.index= [i for i in range(563)]\n",
    "# # 결측치 제거\n",
    "# df = df.dropna()\n",
    "# adv = df['adv'] # Advantage review\n",
    "# dadv = df['dadv'] # Disadvantage review\n",
    "# df.head()"
   ]
  },
  {
   "cell_type": "code",
   "execution_count": 125,
   "metadata": {},
   "outputs": [],
   "source": [
    "# Word Count\n",
    "from konlpy.tag import Okt\n",
    "\n",
    "t = Okt()\n",
    "\n",
    "def my_tokenizer(doc):\n",
    "    return [\n",
    "        token\n",
    "        for token, pos in t.pos(doc)\n",
    "        if pos == 'Noun' and len(token)>1\n",
    "    ]"
   ]
  },
  {
   "cell_type": "code",
   "execution_count": 126,
   "metadata": {},
   "outputs": [],
   "source": [
    "texts = [my_tokenizer(text) for text in df.dadv]"
   ]
  },
  {
   "cell_type": "code",
   "execution_count": 127,
   "metadata": {},
   "outputs": [
    {
     "name": "stdout",
     "output_type": "stream",
     "text": [
      "#Number of initial unique words in documents: 8220\n",
      "#Number of unique words after removing rae and common words: 1259\n",
      "#Number of unique tokens: 1259\n",
      "#Number of documents: 182\n"
     ]
    }
   ],
   "source": [
    "dictionary = Dictionary(texts)\n",
    "print('#Number of initial unique words in documents:',len(dictionary))\n",
    "\n",
    "dictionary.filter_extremes(keep_n = 2000, no_below = 10, no_above = 0.5)\n",
    "print(\"#Number of unique words after removing rae and common words:\", len(dictionary))\n",
    "\n",
    "corpus = [dictionary.doc2bow(text) for text in texts]\n",
    "print('#Number of unique tokens: %d' % len(dictionary))\n",
    "print('#Number of documents: %d' % len(corpus))"
   ]
  },
  {
   "cell_type": "code",
   "execution_count": 128,
   "metadata": {},
   "outputs": [],
   "source": [
    "from gensim.models import LdaModel\n",
    "\n",
    "num_topics = 3\n",
    "passes = 5\n",
    "model = LdaModel(corpus = corpus, id2word = dictionary,passes = passes, num_topics = num_topics,random_state = 7)"
   ]
  },
  {
   "cell_type": "code",
   "execution_count": 129,
   "metadata": {},
   "outputs": [
    {
     "name": "stdout",
     "output_type": "stream",
     "text": [
      "[(0, '0.008*\"생산\" + 0.006*\"휴가\" + 0.006*\"위치\" + 0.005*\"매출\" + 0.005*\"업계\" + 0.005*\"경영\" + 0.005*\"차이\" + 0.005*\"중간\" + 0.005*\"제품\" + 0.004*\"부바\"'), (1, '0.010*\"병원\" + 0.009*\"생산\" + 0.009*\"계약\" + 0.007*\"정규직\" + 0.005*\"임금\" + 0.005*\"승률\" + 0.005*\"주말\" + 0.004*\"공장\" + 0.004*\"신규\" + 0.004*\"환자\"'), (2, '0.010*\"회의\" + 0.010*\"대표\" + 0.005*\"매출\" + 0.005*\"코로나\" + 0.005*\"실무\" + 0.005*\"미래\" + 0.004*\"가족\" + 0.004*\"상사\" + 0.004*\"회장\" + 0.004*\"문서\"')]\n"
     ]
    }
   ],
   "source": [
    "print(model.print_topics(num_words=10))\n",
    "# print('#topic distribution of the first document:',model.get_document_topics(corpus)[0])"
   ]
  },
  {
   "cell_type": "code",
   "execution_count": 130,
   "metadata": {},
   "outputs": [],
   "source": [
    "# # topic_modeling csv file\n",
    "# num_topic_list = [8, 11, 15]\n",
    "# save = {}\n",
    "# for i in num_topic_list:\n",
    "#     model = LdaModel(corpus = corpus, id2word = dictionary,passes = passes, num_topics = i,random_state = 7)\n",
    "#     save[i] = model.print_topics(num_words=10)\n",
    "# topic_csv = pd.DataFrame.from_dict(save, orient='index')\n",
    "# topic_csv.to_csv(\"it_topic_selection.csv\")"
   ]
  },
  {
   "cell_type": "code",
   "execution_count": 131,
   "metadata": {},
   "outputs": [
    {
     "data": {
      "text/html": [
       "<div>\n",
       "<style scoped>\n",
       "    .dataframe tbody tr th:only-of-type {\n",
       "        vertical-align: middle;\n",
       "    }\n",
       "\n",
       "    .dataframe tbody tr th {\n",
       "        vertical-align: top;\n",
       "    }\n",
       "\n",
       "    .dataframe thead th {\n",
       "        text-align: right;\n",
       "    }\n",
       "</style>\n",
       "<table border=\"1\" class=\"dataframe\">\n",
       "  <thead>\n",
       "    <tr style=\"text-align: right;\">\n",
       "      <th></th>\n",
       "      <th>cmp</th>\n",
       "      <th>0</th>\n",
       "      <th>1</th>\n",
       "      <th>2</th>\n",
       "    </tr>\n",
       "  </thead>\n",
       "  <tbody>\n",
       "    <tr>\n",
       "      <th>0</th>\n",
       "      <td>한미약품(주)</td>\n",
       "      <td>0.0</td>\n",
       "      <td>0.0</td>\n",
       "      <td>0.0</td>\n",
       "    </tr>\n",
       "    <tr>\n",
       "      <th>1</th>\n",
       "      <td>(주)대웅제약</td>\n",
       "      <td>0.0</td>\n",
       "      <td>0.0</td>\n",
       "      <td>0.0</td>\n",
       "    </tr>\n",
       "    <tr>\n",
       "      <th>2</th>\n",
       "      <td>오스템임플란트(주)</td>\n",
       "      <td>0.0</td>\n",
       "      <td>0.0</td>\n",
       "      <td>0.0</td>\n",
       "    </tr>\n",
       "    <tr>\n",
       "      <th>3</th>\n",
       "      <td>(주)종근당</td>\n",
       "      <td>0.0</td>\n",
       "      <td>0.0</td>\n",
       "      <td>0.0</td>\n",
       "    </tr>\n",
       "    <tr>\n",
       "      <th>4</th>\n",
       "      <td>삼성바이오로직스(주)</td>\n",
       "      <td>0.0</td>\n",
       "      <td>0.0</td>\n",
       "      <td>0.0</td>\n",
       "    </tr>\n",
       "    <tr>\n",
       "      <th>...</th>\n",
       "      <td>...</td>\n",
       "      <td>...</td>\n",
       "      <td>...</td>\n",
       "      <td>...</td>\n",
       "    </tr>\n",
       "    <tr>\n",
       "      <th>177</th>\n",
       "      <td>애니젠(주)</td>\n",
       "      <td>0.0</td>\n",
       "      <td>0.0</td>\n",
       "      <td>0.0</td>\n",
       "    </tr>\n",
       "    <tr>\n",
       "      <th>178</th>\n",
       "      <td>코오롱제약(주)</td>\n",
       "      <td>0.0</td>\n",
       "      <td>0.0</td>\n",
       "      <td>0.0</td>\n",
       "    </tr>\n",
       "    <tr>\n",
       "      <th>179</th>\n",
       "      <td>(주)비보존제약</td>\n",
       "      <td>0.0</td>\n",
       "      <td>0.0</td>\n",
       "      <td>0.0</td>\n",
       "    </tr>\n",
       "    <tr>\n",
       "      <th>180</th>\n",
       "      <td>(주)제뉴원사이언스</td>\n",
       "      <td>0.0</td>\n",
       "      <td>0.0</td>\n",
       "      <td>0.0</td>\n",
       "    </tr>\n",
       "    <tr>\n",
       "      <th>181</th>\n",
       "      <td>엔티엘의료재단</td>\n",
       "      <td>0.0</td>\n",
       "      <td>0.0</td>\n",
       "      <td>0.0</td>\n",
       "    </tr>\n",
       "  </tbody>\n",
       "</table>\n",
       "<p>182 rows × 4 columns</p>\n",
       "</div>"
      ],
      "text/plain": [
       "             cmp    0    1    2\n",
       "0        한미약품(주)  0.0  0.0  0.0\n",
       "1        (주)대웅제약  0.0  0.0  0.0\n",
       "2     오스템임플란트(주)  0.0  0.0  0.0\n",
       "3         (주)종근당  0.0  0.0  0.0\n",
       "4    삼성바이오로직스(주)  0.0  0.0  0.0\n",
       "..           ...  ...  ...  ...\n",
       "177       애니젠(주)  0.0  0.0  0.0\n",
       "178     코오롱제약(주)  0.0  0.0  0.0\n",
       "179     (주)비보존제약  0.0  0.0  0.0\n",
       "180   (주)제뉴원사이언스  0.0  0.0  0.0\n",
       "181      엔티엘의료재단  0.0  0.0  0.0\n",
       "\n",
       "[182 rows x 4 columns]"
      ]
     },
     "execution_count": 131,
     "metadata": {},
     "output_type": "execute_result"
    }
   ],
   "source": [
    "# 결과물 코딩\n",
    "output_df = pd.DataFrame({'cmp':df.cmp})\n",
    "for col in range(num_topics):\n",
    "    tmp = str(col)\n",
    "    output_df[tmp] = float(0)\n",
    "output_df.index = [i for i in range(len(output_df))]\n",
    "output_df"
   ]
  },
  {
   "cell_type": "code",
   "execution_count": 132,
   "metadata": {},
   "outputs": [],
   "source": [
    "# 결과물 코딩\n",
    "# print((model.get_document_topics(corpus)[0][0][1]))\n",
    "\n",
    "for i, dt in enumerate(model.get_document_topics(corpus)):\n",
    "    for val in dt:\n",
    "\n",
    "        idx = str(val[0])\n",
    "        pt = val[1]\n",
    "\n",
    "        output_df.at[i,idx] = pt"
   ]
  },
  {
   "cell_type": "code",
   "execution_count": 133,
   "metadata": {},
   "outputs": [],
   "source": [
    "# to csv file\n",
    "# output_df.to_csv('construction_topic_modeling.csv')"
   ]
  },
  {
   "cell_type": "code",
   "execution_count": 134,
   "metadata": {},
   "outputs": [
    {
     "name": "stdout",
     "output_type": "stream",
     "text": [
      "-0.7249009490968871\n"
     ]
    }
   ],
   "source": [
    "from gensim.models import CoherenceModel\n",
    "\n",
    "cm = CoherenceModel(model= model, corpus= corpus, coherence= 'u_mass')\n",
    "coherence = cm.get_coherence()\n",
    "print(coherence)"
   ]
  },
  {
   "cell_type": "code",
   "execution_count": 135,
   "metadata": {},
   "outputs": [
    {
     "name": "stdout",
     "output_type": "stream",
     "text": [
      "num_topics: 3, perplexity: -6.949, coherence: -0.630\n",
      "num_topics: 4, perplexity: -7.003, coherence: -0.685\n",
      "num_topics: 5, perplexity: -7.056, coherence: -0.697\n",
      "num_topics: 6, perplexity: -7.103, coherence: -0.672\n",
      "num_topics: 7, perplexity: -7.157, coherence: -0.700\n",
      "num_topics: 8, perplexity: -7.208, coherence: -0.686\n",
      "num_topics: 9, perplexity: -7.260, coherence: -0.666\n",
      "num_topics: 10, perplexity: -7.310, coherence: -0.686\n",
      "num_topics: 11, perplexity: -7.364, coherence: -0.679\n",
      "num_topics: 12, perplexity: -7.419, coherence: -0.684\n",
      "num_topics: 13, perplexity: -7.466, coherence: -0.704\n",
      "num_topics: 14, perplexity: -7.521, coherence: -0.702\n",
      "num_topics: 15, perplexity: -7.571, coherence: -0.686\n",
      "num_topics: 16, perplexity: -7.635, coherence: -0.709\n",
      "num_topics: 17, perplexity: -7.674, coherence: -0.678\n",
      "num_topics: 18, perplexity: -7.726, coherence: -0.686\n",
      "num_topics: 19, perplexity: -7.783, coherence: -0.697\n",
      "num_topics: 20, perplexity: -7.829, coherence: -0.703\n",
      "num_topics: 21, perplexity: -7.878, coherence: -0.718\n",
      "num_topics: 22, perplexity: -7.939, coherence: -0.719\n",
      "num_topics: 23, perplexity: -7.978, coherence: -0.711\n",
      "num_topics: 24, perplexity: -8.043, coherence: -0.698\n",
      "num_topics: 25, perplexity: -8.092, coherence: -0.714\n",
      "num_topics: 26, perplexity: -8.149, coherence: -0.732\n",
      "num_topics: 27, perplexity: -8.194, coherence: -0.720\n",
      "num_topics: 28, perplexity: -8.250, coherence: -0.731\n",
      "num_topics: 29, perplexity: -8.293, coherence: -0.740\n",
      "num_topics: 30, perplexity: -8.344, coherence: -0.735\n"
     ]
    },
    {
     "data": {
      "image/png": "[encoded data removed]",
      "text/plain": [
       "<Figure size 640x480 with 1 Axes>"
      ]
     },
     "metadata": {},
     "output_type": "display_data"
    },
    {
     "data": {
      "image/png": "[encoded data removed]",
      "text/plain": [
       "<Figure size 640x480 with 1 Axes>"
      ]
     },
     "metadata": {},
     "output_type": "display_data"
    }
   ],
   "source": [
    "def show_coherence(corpus, dictionary, start = 6, end = 15):\n",
    "    iter_num = []\n",
    "    per_value = []\n",
    "    coh_value = []\n",
    "\n",
    "    for i in range(start, end+1):\n",
    "        model = LdaModel(corpus = corpus, id2word = dictionary, chunksize=1000, num_topics = i,random_state = 7)\n",
    "        iter_num.append(i)\n",
    "        pv = model.log_perplexity(corpus)\n",
    "        per_value.append(pv)\n",
    "\n",
    "        cm = CoherenceModel(model=model, corpus=corpus, coherence='u_mass')\n",
    "        cv = cm.get_coherence()\n",
    "        coh_value.append(cv)\n",
    "        print(f'num_topics: {i}, perplexity: {pv:0.3f}, coherence: {cv:0.3f}')\n",
    "    \n",
    "    plt.plot(iter_num, per_value, 'g-')\n",
    "    plt.xlabel(\"num_topics\")\n",
    "    plt.ylabel(\"perplexity\")\n",
    "    plt.show()\n",
    "\n",
    "    plt.plot(iter_num, coh_value, 'r--')\n",
    "    plt.xlabel(\"num_topics\")\n",
    "    plt.ylabel(\"coherence\")\n",
    "    plt.show()\n",
    "# 5, 14\n",
    "show_coherence(corpus, dictionary, start = 3, end = 30)"
   ]
  },
  {
   "cell_type": "code",
   "execution_count": null,
   "metadata": {},
   "outputs": [],
   "source": []
  }
 ],
 "metadata": {
  "kernelspec": {
   "display_name": "textmining",
   "language": "python",
   "name": "textmining"
  },
  "language_info": {
   "codemirror_mode": {
    "name": "ipython",
    "version": 3
   },
   "file_extension": ".py",
   "mimetype": "text/x-python",
   "name": "python",
   "nbconvert_exporter": "python",
   "pygments_lexer": "ipython3",
   "version": "3.8.16"
  },
  "orig_nbformat": 4
 },
 "nbformat": 4,
 "nbformat_minor": 2
}
