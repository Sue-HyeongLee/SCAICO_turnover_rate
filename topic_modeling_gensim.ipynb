{
 "cells": [
  {
   "cell_type": "code",
   "execution_count": 21,
   "metadata": {},
   "outputs": [],
   "source": [
    "import numpy as np\n",
    "import pandas as pd\n",
    "import matplotlib.pyplot as plt\n",
    "# Gensim\n",
    "from gensim.corpora.dictionary import Dictionary"
   ]
  },
  {
   "cell_type": "code",
   "execution_count": 2,
   "metadata": {},
   "outputs": [
    {
     "data": {
      "text/html": [
       "<div>\n",
       "<style scoped>\n",
       "    .dataframe tbody tr th:only-of-type {\n",
       "        vertical-align: middle;\n",
       "    }\n",
       "\n",
       "    .dataframe tbody tr th {\n",
       "        vertical-align: top;\n",
       "    }\n",
       "\n",
       "    .dataframe thead th {\n",
       "        text-align: right;\n",
       "    }\n",
       "</style>\n",
       "<table border=\"1\" class=\"dataframe\">\n",
       "  <thead>\n",
       "    <tr style=\"text-align: right;\">\n",
       "      <th></th>\n",
       "      <th>Unnamed: 0</th>\n",
       "      <th>cmp</th>\n",
       "      <th>adv</th>\n",
       "      <th>dadv</th>\n",
       "    </tr>\n",
       "  </thead>\n",
       "  <tbody>\n",
       "    <tr>\n",
       "      <th>0</th>\n",
       "      <td>0</td>\n",
       "      <td>한국토지주택공사</td>\n",
       "      <td>공공기관 특성상 상대적으로 자유로운 휴가사용이 가능하다는것.전문자격증 취득을 원할경...</td>\n",
       "      <td>1.쓸데없는 자료요청과 잦은 회의 수직적구조2.노력대비 적은보상3.브랜드이미지 최하...</td>\n",
       "    </tr>\n",
       "    <tr>\n",
       "      <th>1</th>\n",
       "      <td>1</td>\n",
       "      <td>한전KPS(주)</td>\n",
       "      <td>연봉 초임4넘고 3년차기준 5천넘어가며높은워라벨을즐김 공기업답게 워라벨이 좋고 복지...</td>\n",
       "      <td>돈은많이 벌지만 그돈이 오지생활이기에 술값으로 다나감. 발전소에서 근무를 하게 되면...</td>\n",
       "    </tr>\n",
       "    <tr>\n",
       "      <th>2</th>\n",
       "      <td>2</td>\n",
       "      <td>현대엔지니어링(주)</td>\n",
       "      <td>계약직이어서 복지는 거의 해당이 없었지만 그래도 대기업인 만큼 사람들도 괜찮고 분위...</td>\n",
       "      <td>급여가 좀 적고 남녀성비가 안맞는게 단점이라면 단점이지만 나랑은 잘 맞았음 예산 사...</td>\n",
       "    </tr>\n",
       "    <tr>\n",
       "      <th>3</th>\n",
       "      <td>3</td>\n",
       "      <td>현대건설(주)</td>\n",
       "      <td>연차를 자유롭게 사용가능. 현장에 따라서 자유로운 분위기 연차를 윗사람과 많이 겹치...</td>\n",
       "      <td>복지제도가 많으나 쓰기가 힘들고 아직 건설업의 문화가 남아있음 업무가 소장의 지시에...</td>\n",
       "    </tr>\n",
       "    <tr>\n",
       "      <th>4</th>\n",
       "      <td>4</td>\n",
       "      <td>(주)대우건설</td>\n",
       "      <td>대우 직원 분들 정이 많고 잘 챙겨주십니다.사람마다 케바케지만 대부분 정많고 오래 ...</td>\n",
       "      <td>중흥에서 인수하면서 회사 체계가 나락으로 가고 있음... 독자경영 약속하고 인수한거...</td>\n",
       "    </tr>\n",
       "  </tbody>\n",
       "</table>\n",
       "</div>"
      ],
      "text/plain": [
       "   Unnamed: 0         cmp                                                adv  \\\n",
       "0           0    한국토지주택공사  공공기관 특성상 상대적으로 자유로운 휴가사용이 가능하다는것.전문자격증 취득을 원할경...   \n",
       "1           1    한전KPS(주)  연봉 초임4넘고 3년차기준 5천넘어가며높은워라벨을즐김 공기업답게 워라벨이 좋고 복지...   \n",
       "2           2  현대엔지니어링(주)  계약직이어서 복지는 거의 해당이 없었지만 그래도 대기업인 만큼 사람들도 괜찮고 분위...   \n",
       "3           3     현대건설(주)  연차를 자유롭게 사용가능. 현장에 따라서 자유로운 분위기 연차를 윗사람과 많이 겹치...   \n",
       "4           4     (주)대우건설  대우 직원 분들 정이 많고 잘 챙겨주십니다.사람마다 케바케지만 대부분 정많고 오래 ...   \n",
       "\n",
       "                                                dadv  \n",
       "0  1.쓸데없는 자료요청과 잦은 회의 수직적구조2.노력대비 적은보상3.브랜드이미지 최하...  \n",
       "1  돈은많이 벌지만 그돈이 오지생활이기에 술값으로 다나감. 발전소에서 근무를 하게 되면...  \n",
       "2  급여가 좀 적고 남녀성비가 안맞는게 단점이라면 단점이지만 나랑은 잘 맞았음 예산 사...  \n",
       "3  복지제도가 많으나 쓰기가 힘들고 아직 건설업의 문화가 남아있음 업무가 소장의 지시에...  \n",
       "4  중흥에서 인수하면서 회사 체계가 나락으로 가고 있음... 독자경영 약속하고 인수한거...  "
      ]
     },
     "execution_count": 2,
     "metadata": {},
     "output_type": "execute_result"
    }
   ],
   "source": [
    "# Read Data\n",
    "df = pd.read_csv('construction_review.csv')\n",
    "# 결측치 제거\n",
    "df = df.dropna()\n",
    "adv = df['adv'] # Advantage review\n",
    "dadv = df['dadv'] # Disadvantage review\n",
    "df.head()"
   ]
  },
  {
   "cell_type": "code",
   "execution_count": 3,
   "metadata": {},
   "outputs": [],
   "source": [
    "# Word Count\n",
    "from konlpy.tag import Okt\n",
    "\n",
    "t = Okt()\n",
    "\n",
    "def my_tokenizer(doc):\n",
    "    return [\n",
    "        token\n",
    "        for token, pos in t.pos(doc)\n",
    "        if pos == 'Noun' and len(token)>1\n",
    "    ]"
   ]
  },
  {
   "cell_type": "code",
   "execution_count": 6,
   "metadata": {},
   "outputs": [],
   "source": [
    "texts = [my_tokenizer(text) for text in df.adv]"
   ]
  },
  {
   "cell_type": "code",
   "execution_count": 12,
   "metadata": {},
   "outputs": [
    {
     "name": "stdout",
     "output_type": "stream",
     "text": [
      "#Number of initial unique words in documents: 3998\n",
      "#Number of unique words after removing rae and common words: 480\n",
      "#Number of unique tokens: 480\n",
      "#Number of documents: 108\n"
     ]
    }
   ],
   "source": [
    "dictionary = Dictionary(texts)\n",
    "print('#Number of initial unique words in documents:',len(dictionary))\n",
    "\n",
    "dictionary.filter_extremes(keep_n = 2000, no_below = 10, no_above = 0.5)\n",
    "print(\"#Number of unique words after removing rae and common words:\", len(dictionary))\n",
    "\n",
    "corpus = [dictionary.doc2bow(text) for text in texts]\n",
    "print('#Number of unique tokens: %d' % len(dictionary))\n",
    "print('#Number of documents: %d' % len(corpus))"
   ]
  },
  {
   "cell_type": "code",
   "execution_count": 14,
   "metadata": {},
   "outputs": [],
   "source": [
    "from gensim.models import LdaModel\n",
    "\n",
    "num_topics = 10\n",
    "passes = 5\n",
    "model = LdaModel(corpus = corpus, id2word = dictionary,passes = passes, num_topics = num_topics,random_state = 7)"
   ]
  },
  {
   "cell_type": "code",
   "execution_count": 15,
   "metadata": {},
   "outputs": [
    {
     "data": {
      "text/plain": [
       "[(0,\n",
       "  '0.025*\"대기업\" + 0.023*\"프로젝트\" + 0.016*\"시스템\" + 0.016*\"건설\" + 0.014*\"할인\" + 0.013*\"식대\" + 0.011*\"성과급\" + 0.010*\"선물\" + 0.009*\"규모\" + 0.009*\"커리어\"'),\n",
       " (1,\n",
       "  '0.018*\"때문\" + 0.015*\"점심\" + 0.013*\"건설\" + 0.012*\"사내\" + 0.011*\"신입\" + 0.011*\"식당\" + 0.011*\"휴무\" + 0.010*\"출퇴근\" + 0.009*\"구내식당\" + 0.009*\"기준\"'),\n",
       " (2,\n",
       "  '0.022*\"경력\" + 0.021*\"건설\" + 0.017*\"개인\" + 0.016*\"법카\" + 0.016*\"카드\" + 0.015*\"도급\" + 0.014*\"순위\" + 0.013*\"기준\" + 0.011*\"입사\" + 0.010*\"토목\"'),\n",
       " (3,\n",
       "  '0.038*\"공기업\" + 0.019*\"초봉\" + 0.018*\"보장\" + 0.017*\"강도\" + 0.015*\"기술\" + 0.014*\"경우\" + 0.013*\"기간\" + 0.012*\"도서\" + 0.011*\"숙소\" + 0.010*\"사택\"'),\n",
       " (4,\n",
       "  '0.052*\"공기업\" + 0.027*\"보장\" + 0.022*\"정년\" + 0.014*\"강도\" + 0.013*\"본인\" + 0.012*\"포인트\" + 0.012*\"수평\" + 0.010*\"교육\" + 0.010*\"때문\" + 0.010*\"개인\"'),\n",
       " (5,\n",
       "  '0.020*\"사옥\" + 0.017*\"건물\" + 0.016*\"식대\" + 0.009*\"지급\" + 0.009*\"서울\" + 0.009*\"부바\" + 0.008*\"신입\" + 0.008*\"노력\" + 0.008*\"숙소\" + 0.008*\"거의\"'),\n",
       " (6,\n",
       "  '0.029*\"건설\" + 0.016*\"대기업\" + 0.013*\"수준\" + 0.012*\"숙소\" + 0.010*\"시스템\" + 0.009*\"건설업\" + 0.009*\"그룹\" + 0.009*\"식대\" + 0.008*\"수평\" + 0.008*\"정규직\"'),\n",
       " (7,\n",
       "  '0.043*\"서울\" + 0.019*\"부바\" + 0.015*\"출퇴근\" + 0.015*\"엔지니어링\" + 0.013*\"설계\" + 0.011*\"대기업\" + 0.011*\"구내식당\" + 0.011*\"강남\" + 0.009*\"최근\" + 0.009*\"토목\"'),\n",
       " (8,\n",
       "  '0.082*\"구내식당\" + 0.026*\"점심\" + 0.024*\"식당\" + 0.018*\"수당\" + 0.016*\"식비\" + 0.015*\"무료\" + 0.014*\"사옥\" + 0.014*\"금요일\" + 0.013*\"서울\" + 0.013*\"편임\"'),\n",
       " (9,\n",
       "  '0.016*\"대기업\" + 0.015*\"수평\" + 0.012*\"계약\" + 0.011*\"포인트\" + 0.010*\"사내\" + 0.010*\"식당\" + 0.010*\"관리\" + 0.009*\"제도\" + 0.009*\"출퇴근\" + 0.009*\"시스템\"')]"
      ]
     },
     "execution_count": 15,
     "metadata": {},
     "output_type": "execute_result"
    }
   ],
   "source": [
    "model.print_topics(num_words=10)"
   ]
  },
  {
   "cell_type": "code",
   "execution_count": 16,
   "metadata": {},
   "outputs": [
    {
     "name": "stdout",
     "output_type": "stream",
     "text": [
      "#topic distribution of the first document: [(3, 0.53063893), (9, 0.4685849)]\n"
     ]
    }
   ],
   "source": [
    "print('#topic distribution of the first document:',model.get_document_topics(corpus)[0])"
   ]
  },
  {
   "cell_type": "code",
   "execution_count": 20,
   "metadata": {},
   "outputs": [
    {
     "name": "stdout",
     "output_type": "stream",
     "text": [
      "-0.8803410016146204\n"
     ]
    }
   ],
   "source": [
    "from gensim.models import CoherenceModel\n",
    "\n",
    "cm = CoherenceModel(model= model, corpus= corpus, coherence= 'u_mass')\n",
    "coherence = cm.get_coherence()\n",
    "print(coherence)"
   ]
  },
  {
   "cell_type": "code",
   "execution_count": 24,
   "metadata": {},
   "outputs": [
    {
     "name": "stdout",
     "output_type": "stream",
     "text": [
      "num_topics: 6, perplexity: -6.227, coherence: -0.720\n",
      "num_topics: 7, perplexity: -6.274, coherence: -0.753\n",
      "num_topics: 8, perplexity: -6.329, coherence: -0.746\n",
      "num_topics: 9, perplexity: -6.372, coherence: -0.777\n",
      "num_topics: 10, perplexity: -6.434, coherence: -0.756\n",
      "num_topics: 11, perplexity: -6.495, coherence: -0.777\n",
      "num_topics: 12, perplexity: -6.540, coherence: -0.772\n",
      "num_topics: 13, perplexity: -6.605, coherence: -0.754\n",
      "num_topics: 14, perplexity: -6.662, coherence: -0.745\n",
      "num_topics: 15, perplexity: -6.703, coherence: -0.790\n",
      "num_topics: 16, perplexity: -6.752, coherence: -0.769\n",
      "num_topics: 17, perplexity: -6.810, coherence: -0.786\n",
      "num_topics: 18, perplexity: -6.841, coherence: -0.790\n",
      "num_topics: 19, perplexity: -6.927, coherence: -0.811\n",
      "num_topics: 20, perplexity: -6.955, coherence: -0.799\n",
      "num_topics: 21, perplexity: -7.025, coherence: -0.785\n",
      "num_topics: 22, perplexity: -7.074, coherence: -0.787\n",
      "num_topics: 23, perplexity: -7.147, coherence: -0.785\n",
      "num_topics: 24, perplexity: -7.176, coherence: -0.803\n",
      "num_topics: 25, perplexity: -7.216, coherence: -0.820\n",
      "num_topics: 26, perplexity: -7.273, coherence: -0.803\n",
      "num_topics: 27, perplexity: -7.336, coherence: -0.825\n",
      "num_topics: 28, perplexity: -7.389, coherence: -0.796\n",
      "num_topics: 29, perplexity: -7.470, coherence: -0.827\n",
      "num_topics: 30, perplexity: -7.521, coherence: -0.820\n"
     ]
    },
    {
     "data": {
      "image/png": "[encoded data removed]",
      "text/plain": [
       "<Figure size 640x480 with 1 Axes>"
      ]
     },
     "metadata": {},
     "output_type": "display_data"
    },
    {
     "data": {
      "image/png": "[encoded data removed]",
      "text/plain": [
       "<Figure size 640x480 with 1 Axes>"
      ]
     },
     "metadata": {},
     "output_type": "display_data"
    }
   ],
   "source": [
    "def show_coherence(corpus, dictionary, start = 6, end = 15):\n",
    "    iter_num = []\n",
    "    per_value = []\n",
    "    coh_value = []\n",
    "\n",
    "    for i in range(start, end+1):\n",
    "        model = LdaModel(corpus = corpus, id2word = dictionary, chunksize=1000, num_topics = i,random_state = 7)\n",
    "        iter_num.append(i)\n",
    "        pv = model.log_perplexity(corpus)\n",
    "        per_value.append(pv)\n",
    "\n",
    "        cm = CoherenceModel(model=model, corpus=corpus, coherence='u_mass')\n",
    "        cv = cm.get_coherence()\n",
    "        coh_value.append(cv)\n",
    "        print(f'num_topics: {i}, perplexity: {pv:0.3f}, coherence: {cv:0.3f}')\n",
    "    \n",
    "    plt.plot(iter_num, per_value, 'g-')\n",
    "    plt.xlabel(\"num_topics\")\n",
    "    plt.ylabel(\"perplexity\")\n",
    "    plt.show()\n",
    "\n",
    "    plt.plot(iter_num, coh_value, 'r--')\n",
    "    plt.xlabel(\"num_topics\")\n",
    "    plt.ylabel(\"coherence\")\n",
    "    plt.show()\n",
    "\n",
    "show_coherence(corpus, dictionary, start = 6, end = 30)"
   ]
  },
  {
   "cell_type": "code",
   "execution_count": null,
   "metadata": {},
   "outputs": [],
   "source": []
  }
 ],
 "metadata": {
  "kernelspec": {
   "display_name": "textmining",
   "language": "python",
   "name": "textmining"
  },
  "language_info": {
   "codemirror_mode": {
    "name": "ipython",
    "version": 3
   },
   "file_extension": ".py",
   "mimetype": "text/x-python",
   "name": "python",
   "nbconvert_exporter": "python",
   "pygments_lexer": "ipython3",
   "version": "3.8.16"
  },
  "orig_nbformat": 4
 },
 "nbformat": 4,
 "nbformat_minor": 2
}
