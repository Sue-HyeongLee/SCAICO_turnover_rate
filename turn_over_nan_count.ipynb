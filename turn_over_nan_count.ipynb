{
 "cells": [
  {
   "cell_type": "code",
   "execution_count": 1,
   "metadata": {},
   "outputs": [],
   "source": [
    "import numpy as np\n",
    "import pandas as pd"
   ]
  },
  {
   "cell_type": "code",
   "execution_count": 2,
   "metadata": {},
   "outputs": [],
   "source": [
    "file_list = ['/Users/myeongseop.kim/Desktop/SCAISCO/turn_over_rate/bank_financial_business_turn_over_rate.csv',\n",
    "'/Users/myeongseop.kim/Desktop/SCAISCO/turn_over_rate/construction_turn_over_rate.csv',\n",
    "'/Users/myeongseop.kim/Desktop/SCAISCO/turn_over_rate/distribution_trade_transport_turn_over_rate.csv',\n",
    "'/Users/myeongseop.kim/Desktop/SCAISCO/turn_over_rate/education_turn_over_rate.csv',\n",
    "'/Users/myeongseop.kim/Desktop/SCAISCO/turn_over_rate/it_web_communication_1_100_turn_over_rate.csv',\n",
    "'/Users/myeongseop.kim/Desktop/SCAISCO/turn_over_rate/it_web_communication_101_200_turn_over_rate.csv',\n",
    "'/Users/myeongseop.kim/Desktop/SCAISCO/turn_over_rate/it_web_communication_201_300_turn_over_rate.csv',\n",
    "'/Users/myeongseop.kim/Desktop/SCAISCO/turn_over_rate/manufacture_chemistry_turn_over_rate.csv',\n",
    "'/Users/myeongseop.kim/Desktop/SCAISCO/turn_over_rate/media_design_turn_over_rate.csv',\n",
    "'/Users/myeongseop.kim/Desktop/SCAISCO/turn_over_rate/medical_medicine_welfare_turn_over_rate.csv',\n",
    "'/Users/myeongseop.kim/Desktop/SCAISCO/turn_over_rate/organization_association_turn_over_rate.csv',\n",
    "'/Users/myeongseop.kim/Desktop/SCAISCO/turn_over_rate/service_turn_over_rate.csv']"
   ]
  },
  {
   "cell_type": "code",
   "execution_count": 20,
   "metadata": {},
   "outputs": [
    {
     "name": "stdout",
     "output_type": "stream",
     "text": [
      "bank_financial_business_need_data.txt\n",
      "construction_need_data.txt\n",
      "distribution_trade_transport_need_data.txt\n",
      "education_need_data.txt\n",
      "it_web_communication_1_100_need_data.txt\n",
      "it_web_communication_101_200_need_data.txt\n",
      "it_web_communication_201_300_need_data.txt\n",
      "manufacture_chemistry_need_data.txt\n",
      "media_design_need_data.txt\n",
      "medical_medicine_welfare_need_data.txt\n",
      "organization_association_need_data.txt\n",
      "service_need_data.txt\n"
     ]
    }
   ],
   "source": [
    "for route in file_list:\n",
    "    cmp9999 = []\n",
    "    cmp_nodb = []\n",
    "    f_name = route[53:-19]\n",
    "    df = pd.read_csv(route)\n",
    "    to = list(df.turn_over_rate)\n",
    "    cmp = list(df.company_name)\n",
    "    for i in range(len(to)):\n",
    "        if to[i] == '(9999%)' :\n",
    "            cmp9999.append(cmp[i])\n",
    "        if to[i] == '정보없음.':\n",
    "            cmp_nodb.append(cmp[i])\n",
    "    file_name = f_name +'_need_data.txt'\n",
    "    print(file_name)\n",
    "    with open(file_name, 'w+') as file:\n",
    "        file.write('9999\\n')\n",
    "        file.write('\\n'.join(cmp9999))\n",
    "        file.write('\\n')\n",
    "        file.write('\\n정보 없음\\n')\n",
    "        file.write('\\n'.join(cmp_nodb))\n",
    "\n"
   ]
  }
 ],
 "metadata": {
  "kernelspec": {
   "display_name": "textmining",
   "language": "python",
   "name": "textmining"
  },
  "language_info": {
   "codemirror_mode": {
    "name": "ipython",
    "version": 3
   },
   "file_extension": ".py",
   "mimetype": "text/x-python",
   "name": "python",
   "nbconvert_exporter": "python",
   "pygments_lexer": "ipython3",
   "version": "3.8.16"
  },
  "orig_nbformat": 4
 },
 "nbformat": 4,
 "nbformat_minor": 2
}
