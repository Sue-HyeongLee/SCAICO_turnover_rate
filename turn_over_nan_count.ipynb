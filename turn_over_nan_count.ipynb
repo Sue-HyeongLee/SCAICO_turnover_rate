{
 "cells": [
  {
   "cell_type": "code",
   "execution_count": 1,
   "metadata": {},
   "outputs": [],
   "source": [
    "import numpy as np\n",
    "import pandas as pd"
   ]
  },
  {
   "cell_type": "code",
   "execution_count": 4,
   "metadata": {},
   "outputs": [],
   "source": [
    "file_list = ['/Users/myeongseop.kim/Desktop/SCAISCO/turn_over_rate/bank_financial_business_turn_over_rate.csv',\n",
    "'/Users/myeongseop.kim/Desktop/SCAISCO/turn_over_rate/construction_turn_over_rate.csv',\n",
    "'/Users/myeongseop.kim/Desktop/SCAISCO/turn_over_rate/distribution_trade_transport_turn_over_rate.csv',\n",
    "'/Users/myeongseop.kim/Desktop/SCAISCO/turn_over_rate/education_turn_over_rate.csv',\n",
    "'/Users/myeongseop.kim/Desktop/SCAISCO/turn_over_rate/it_web_communication_1_100_turn_over_rate.csv',\n",
    "'/Users/myeongseop.kim/Desktop/SCAISCO/turn_over_rate/it_web_communication_101_200_turn_over_rate.csv',\n",
    "'/Users/myeongseop.kim/Desktop/SCAISCO/turn_over_rate/it_web_communication_201_300_turn_over_rate.csv',\n",
    "'/Users/myeongseop.kim/Desktop/SCAISCO/turn_over_rate/manufacture_chemistry_turn_over_rate.csv',\n",
    "'/Users/myeongseop.kim/Desktop/SCAISCO/turn_over_rate/media_design_turn_over_rate.csv',\n",
    "'/Users/myeongseop.kim/Desktop/SCAISCO/turn_over_rate/medical_medicine_welfare_turn_over_rate.csv',\n",
    "'/Users/myeongseop.kim/Desktop/SCAISCO/turn_over_rate/organization_association_turn_over_rate.csv',\n",
    "'/Users/myeongseop.kim/Desktop/SCAISCO/turn_over_rate/service_turn_over_rate.csv']"
   ]
  },
  {
   "cell_type": "code",
   "execution_count": 9,
   "metadata": {},
   "outputs": [
    {
     "name": "stdout",
     "output_type": "stream",
     "text": [
      "237\n"
     ]
    }
   ],
   "source": [
    "cnt = 0\n",
    "for route in file_list:\n",
    "    df = pd.read_csv(route)\n",
    "    for i in list(df.turn_over_rate):\n",
    "        if i == '(9999%)':\n",
    "            cnt+=1\n",
    "print(cnt)\n",
    "\n"
   ]
  },
  {
   "cell_type": "code",
   "execution_count": null,
   "metadata": {},
   "outputs": [],
   "source": []
  }
 ],
 "metadata": {
  "kernelspec": {
   "display_name": "textmining",
   "language": "python",
   "name": "textmining"
  },
  "language_info": {
   "codemirror_mode": {
    "name": "ipython",
    "version": 3
   },
   "file_extension": ".py",
   "mimetype": "text/x-python",
   "name": "python",
   "nbconvert_exporter": "python",
   "pygments_lexer": "ipython3",
   "version": "3.8.16"
  },
  "orig_nbformat": 4
 },
 "nbformat": 4,
 "nbformat_minor": 2
}
