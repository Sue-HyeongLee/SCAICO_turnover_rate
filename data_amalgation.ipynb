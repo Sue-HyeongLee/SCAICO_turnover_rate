{
 "cells": [
  {
   "cell_type": "code",
   "execution_count": 44,
   "metadata": {},
   "outputs": [],
   "source": [
    "import numpy as np\n",
    "import pandas as pd"
   ]
  },
  {
   "cell_type": "code",
   "execution_count": 57,
   "metadata": {},
   "outputs": [],
   "source": [
    "# File name and Route\n",
    "rv_route = '/Users/myeongseop.kim/Desktop/SCAISCO/csv files/'\n",
    "tor_route = '/Users/myeongseop.kim/Desktop/SCAISCO/turn_over_rate/'\n",
    "fv_route = '/Users/myeongseop.kim/Desktop/SCAISCO/financial_variable/'\n",
    "\n",
    "rv_name = ['bank_financial_business_review.csv',\n",
    "'construction_review.csv',\n",
    "'distribution_trade_transport_reviews.csv',\n",
    "'education_review.csv',\n",
    "'it_web_communication_reviews_101_200.csv',\n",
    "'it_web_communication_reviews_1_100.csv',\n",
    "'it_web_communication_reviews_201_300.csv',\n",
    "'it_web_communication_reviews_300_end.csv',\n",
    "'manufacture_chemistry_review.csv',\n",
    "'media_design_reviews.csv',\n",
    "'medical_medicine_welfare_reviews.csv',\n",
    "'organization_association_reviews.csv',\n",
    "'service_reviews.csv']\n",
    "\n",
    "tor_name = [\n",
    "    'bank_financial_business_turn_over_rate.csv',\n",
    "    'construction_turn_over_rate.csv',\n",
    "    'distribution_trade_transport_turn_over_rate.csv',\n",
    "    'education_turn_over_rate.csv',\n",
    "    'it_web_communication_101_200_turn_over_rate.csv',\n",
    "    'it_web_communication_1_100_turn_over_rate.csv',\n",
    "    'it_web_communication_201_300_turn_over_rate.csv',\n",
    "    'it_web_communication_300_end_turn_over_rate.csv',\n",
    "    'manufacture_chemistry_turn_over_rate.csv',\n",
    "    'media_design_turn_over_rate.csv',\n",
    "    'medical_medicine_welfare_turn_over_rate.csv',\n",
    "    'organization_association_turn_over_rate.csv',\n",
    "    'service_turn_over_rate.csv'\n",
    "]\n",
    "\n",
    "fv_name = [\n",
    "    'bank_financial_financial_variable.csv',\n",
    "    'construction_financial_variable.csv',\n",
    "    'distribution_trade_transport_financial_variable.csv',\n",
    "    'education_financial_variable.csv',\n",
    "    'it_web_communication_101_200_financial_variable.csv',\n",
    "    'it_web_communication_1_100_financial_variable.csv',\n",
    "    'it_web_communication_201_300_financial_variable.csv',\n",
    "    'it_web_communication_300_end_financial_variable.csv',\n",
    "    'manufacture_chemistry_financial_variable.csv',\n",
    "    'media_design_financial_variable.csv',\n",
    "    'medical_medicine_welfare_financial_variable.csv',\n",
    "    'organization_association_financial_variable.csv',\n",
    "    'service_financial_variable.csv'\n",
    "]\n"
   ]
  },
  {
   "cell_type": "code",
   "execution_count": 58,
   "metadata": {},
   "outputs": [
    {
     "name": "stdout",
     "output_type": "stream",
     "text": [
      "13\n",
      "13\n",
      "13\n"
     ]
    }
   ],
   "source": [
    "print(len(fv_name))\n",
    "print(len(tor_name))\n",
    "print(len(rv_name))"
   ]
  },
  {
   "cell_type": "code",
   "execution_count": 59,
   "metadata": {},
   "outputs": [],
   "source": [
    "def rv_preprocessing(rv):\n",
    "    rv_df = rv\n",
    "    cn = rv_df['cmp']\n",
    "    \n",
    "    for i, val in enumerate(cn):\n",
    "        if '(주)' in val:\n",
    "            tmp = val.replace('(주)','')\n",
    "            rv_df.loc[i,'cmp'] = tmp\n",
    "    \n",
    "    col_list = list(rv_df.columns)\n",
    "    col_list[0] = 'company_name'\n",
    "    rv_df.columns = col_list\n",
    "\n",
    "    return rv_df"
   ]
  },
  {
   "cell_type": "code",
   "execution_count": 60,
   "metadata": {},
   "outputs": [],
   "source": [
    "# Preprocessing for financial variable\n",
    "\n",
    "def fv_preprocessing(fv):\n",
    "  fv_df = fv\n",
    "  afv = fv_df['average_salary']\n",
    "  tfv = fv_df['total_sale']\n",
    "\n",
    "  for i, val in enumerate(afv):\n",
    "    if '만원' in val:\n",
    "      tmp = int(val[:-2].replace(',',''))\n",
    "      fv_df.loc[i,'average_salary'] = tmp\n",
    "    if '회사' in val:\n",
    "      fv_df.loc[i,'average_salary'] = np.NAN\n",
    "    if '수집' in val:\n",
    "      fv_df.loc[i,'average_salary'] = np.NAN\n",
    "\n",
    "\n",
    "  for i, val in enumerate(tfv):\n",
    "    if '조원' in val:\n",
    "      tmp = float(val[:-2].replace(',',''))*1000\n",
    "      fv_df.loc[i,'total_sale'] = tmp\n",
    "    if '억원' in val:\n",
    "      tmp = float(val[:-2].replace(',',''))\n",
    "      fv_df.loc[i,'total_sale'] = tmp\n",
    "    if '회사' in val:\n",
    "      fv_df.loc[i,'total_sale'] = np.NAN\n",
    "\n",
    "\n",
    "  \n",
    "  return fv_df"
   ]
  },
  {
   "cell_type": "code",
   "execution_count": 61,
   "metadata": {},
   "outputs": [],
   "source": [
    "# Preprocessing for turn over rate\n",
    "def tor_preprocessing(tor):\n",
    "  tor_df = tor\n",
    "  tor_val = tor_df['turn_over_rate']\n",
    "\n",
    "  for i, val in enumerate(tor_val):\n",
    "    if '정보' in val:\n",
    "      tor_df.loc[i,'turn_over_rate'] = np.NAN\n",
    "    elif val == '(9999%)' :\n",
    "      tor_df.loc[i,'turn_over_rate'] = np.NAN\n",
    "    elif '(' in val:\n",
    "      tmp = float(val[1:-1].replace('%',''))*0.01\n",
    "      tor_df.loc[i,'turn_over_rate'] = tmp\n",
    "\n",
    "  return tor_df"
   ]
  },
  {
   "cell_type": "code",
   "execution_count": 65,
   "metadata": {},
   "outputs": [],
   "source": [
    "# BOW DF\n",
    "\n",
    "def bow_categorical_amalgation(num):\n",
    "\n",
    "    rv_tmp = pd.read_csv(rv_route+rv_name[num])\n",
    "    fv_tmp = pd.read_csv(fv_route+fv_name[num])\n",
    "    tor_tmp = pd.read_csv(tor_route+tor_name[num])\n",
    "\n",
    "    rv_tmp = rv_tmp.drop(['Unnamed: 0'], axis=1)\n",
    "    fv_tmp = fv_tmp.drop(['Unnamed: 0'], axis=1)\n",
    "    tor_tmp = tor_tmp.drop(['Unnamed: 0'], axis=1)\n",
    "\n",
    "    rv_tmp = rv_preprocessing(rv_tmp)\n",
    "    fv_tmp = fv_preprocessing(fv_tmp)\n",
    "    tor_tmp = tor_preprocessing(tor_tmp)\n",
    "\n",
    "    bow_df = pd.merge(rv_tmp, fv_tmp, on = 'company_name', how = 'inner')\n",
    "    bow_df = pd.merge(bow_df, tor_tmp, on = 'company_name', how = 'inner')\n",
    "    bow_df = bow_df.dropna()\n",
    "    return bow_df\n",
    "\n",
    "for i in range(len(rv_name)):\n",
    "    if i == 0:\n",
    "        bow_df = bow_categorical_amalgation(i)\n",
    "    else:\n",
    "        bow_df = pd.concat([bow_df,bow_categorical_amalgation(i)])\n",
    "\n",
    "bow_df.to_csv(\"bow_df.csv\")\n"
   ]
  },
  {
   "cell_type": "code",
   "execution_count": null,
   "metadata": {},
   "outputs": [],
   "source": [
    "# Topic Modeling DF\n"
   ]
  }
 ],
 "metadata": {
  "kernelspec": {
   "display_name": "textmining",
   "language": "python",
   "name": "textmining"
  },
  "language_info": {
   "codemirror_mode": {
    "name": "ipython",
    "version": 3
   },
   "file_extension": ".py",
   "mimetype": "text/x-python",
   "name": "python",
   "nbconvert_exporter": "python",
   "pygments_lexer": "ipython3",
   "version": "3.8.16"
  },
  "orig_nbformat": 4
 },
 "nbformat": 4,
 "nbformat_minor": 2
}
