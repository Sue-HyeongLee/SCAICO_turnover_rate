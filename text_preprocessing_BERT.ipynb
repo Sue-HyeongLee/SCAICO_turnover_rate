{
 "cells": [
  {
   "cell_type": "code",
   "execution_count": 8,
   "metadata": {},
   "outputs": [],
   "source": [
    "import numpy as np\n",
    "import pandas as pd\n",
    "import matplotlib.pyplot as plt"
   ]
  },
  {
   "cell_type": "markdown",
   "metadata": {},
   "source": [
    "IMPORT DATA"
   ]
  },
  {
   "cell_type": "code",
   "execution_count": 9,
   "metadata": {},
   "outputs": [],
   "source": [
    "df = pd.read_csv('bow_df.csv')\n",
    "# 결측치 제거\n",
    "df = df.dropna()\n",
    "\n",
    "company_name = df.company_name\n",
    "company_name.to_csv(\"company_name.csv\")\n",
    "other_var = df.drop(['company_name','adv','dadv','Unnamed: 0'],axis=1)\n",
    "other_var.to_csv(\"other_var.csv\")"
   ]
  },
  {
   "cell_type": "markdown",
   "metadata": {},
   "source": [
    "String to float"
   ]
  },
  {
   "cell_type": "code",
   "execution_count": 10,
   "metadata": {},
   "outputs": [],
   "source": [
    "import re\n",
    "\n",
    "def extract_float_from_input(input_str):\n",
    "    # Use regular expressions to extract numerical parts from the input\n",
    "    numbers = re.findall(r\"[-+]?\\d*\\.\\d+|[-+]?\\d+\", input_str)\n",
    "\n",
    "    # If there are no numerical parts, return None\n",
    "    if not numbers:\n",
    "        return None\n",
    "\n",
    "    # Convert the first numerical part to a float and return it\n",
    "    return float(numbers[0])"
   ]
  },
  {
   "cell_type": "code",
   "execution_count": 11,
   "metadata": {},
   "outputs": [
    {
     "data": {
      "text/html": [
       "<div>\n",
       "<style scoped>\n",
       "    .dataframe tbody tr th:only-of-type {\n",
       "        vertical-align: middle;\n",
       "    }\n",
       "\n",
       "    .dataframe tbody tr th {\n",
       "        vertical-align: top;\n",
       "    }\n",
       "\n",
       "    .dataframe thead th {\n",
       "        text-align: right;\n",
       "    }\n",
       "</style>\n",
       "<table border=\"1\" class=\"dataframe\">\n",
       "  <thead>\n",
       "    <tr style=\"text-align: right;\">\n",
       "      <th></th>\n",
       "      <th>Unnamed: 0</th>\n",
       "      <th>company_name</th>\n",
       "      <th>adv</th>\n",
       "      <th>dadv</th>\n",
       "      <th>average_salary</th>\n",
       "      <th>total_sale</th>\n",
       "      <th>turn_over_rate</th>\n",
       "    </tr>\n",
       "  </thead>\n",
       "  <tbody>\n",
       "    <tr>\n",
       "      <th>0</th>\n",
       "      <td>0</td>\n",
       "      <td>국민건강보험공단</td>\n",
       "      <td>휴직 종류가 다양하지 못하나 임신출산관련해서는 잘 정리된듯하다. 분위기는 지사마다 ...</td>\n",
       "      <td>악성민원 진상민원을 매일 매일 마주해야한다. 개편때마다 퇴사자 생기는거 보면 말다함...</td>\n",
       "      <td>6441.0</td>\n",
       "      <td>75400.0</td>\n",
       "      <td>0.20</td>\n",
       "    </tr>\n",
       "    <tr>\n",
       "      <th>1</th>\n",
       "      <td>1</td>\n",
       "      <td>근로복지공단</td>\n",
       "      <td>탄력근무, 복지포인트 등 직원들의 복지(계약직도 해당) 1. 재택근무를 쓸 수 있다...</td>\n",
       "      <td>위탁집행형 기관 치고 급여가 적음. 정규직들의 최대 불만 그래서 건보 연금 등으로 ...</td>\n",
       "      <td>5817.0</td>\n",
       "      <td>9406.2</td>\n",
       "      <td>0.13</td>\n",
       "    </tr>\n",
       "    <tr>\n",
       "      <th>2</th>\n",
       "      <td>3</td>\n",
       "      <td>농협은행</td>\n",
       "      <td>업무 강도에 비해 높은 연봉, 워라밸, 정년보장, 젊은 분위기 등 장점이 많은 회사...</td>\n",
       "      <td>다수 보수적인 문화가 여전히 잔재하고 있음. 어르신들도 많은 회사 성격좋은 윗 상급...</td>\n",
       "      <td>6182.0</td>\n",
       "      <td>13100.0</td>\n",
       "      <td>0.15</td>\n",
       "    </tr>\n",
       "    <tr>\n",
       "      <th>3</th>\n",
       "      <td>4</td>\n",
       "      <td>현대카드</td>\n",
       "      <td>일단 오피스 환경이 쾌적한것은 장점대기업만의 성과급이나 복지의 혜택등이 좋다생각보다...</td>\n",
       "      <td>꼰대문화 부서에따라 존재.  굽신굽신 매일 퇴근은 정시에 포기 할일 다하면 다른업무...</td>\n",
       "      <td>8737.0</td>\n",
       "      <td>2300.0</td>\n",
       "      <td>0.35</td>\n",
       "    </tr>\n",
       "    <tr>\n",
       "      <th>4</th>\n",
       "      <td>5</td>\n",
       "      <td>중소기업은행</td>\n",
       "      <td>5일 연차 사용가능. 지바지 있을 수 있지만 훌륭한 선배들이 많음. 지바지 사바사지...</td>\n",
       "      <td>느린 전산, 사람 상대하는 직업이다보니 사람에 대한 스트레스가 많음 서비스직이다보니...</td>\n",
       "      <td>10065.0</td>\n",
       "      <td>14800.0</td>\n",
       "      <td>0.16</td>\n",
       "    </tr>\n",
       "    <tr>\n",
       "      <th>...</th>\n",
       "      <td>...</td>\n",
       "      <td>...</td>\n",
       "      <td>...</td>\n",
       "      <td>...</td>\n",
       "      <td>...</td>\n",
       "      <td>...</td>\n",
       "      <td>...</td>\n",
       "    </tr>\n",
       "    <tr>\n",
       "      <th>2498</th>\n",
       "      <td>212</td>\n",
       "      <td>유끼커뮤니케이션</td>\n",
       "      <td>연차 자유롭게 사용 가능함다양한 업무를 진행해볼 수 있는 곳 퇴근 시간이 칼 같이 ...</td>\n",
       "      <td>복지 제도의 부족함 느낌타이트한 업무 데드라인이 있을 때가 많음 사무실이 비교적 좁...</td>\n",
       "      <td>4417.0</td>\n",
       "      <td>28.0</td>\n",
       "      <td>0.14</td>\n",
       "    </tr>\n",
       "    <tr>\n",
       "      <th>2499</th>\n",
       "      <td>213</td>\n",
       "      <td>투어이천</td>\n",
       "      <td>기업의 장점으로는 꼰대 문화는 거의 없고 팀바이 팀이라서 연차가 자유롭게 이용 가능...</td>\n",
       "      <td>단점은 너무나 많습니다. 일단 회사인데 체계가 제대로 잡혀있지 않아서 일하기가 너무...</td>\n",
       "      <td>1314.0</td>\n",
       "      <td>108.9</td>\n",
       "      <td>1.36</td>\n",
       "    </tr>\n",
       "    <tr>\n",
       "      <th>2500</th>\n",
       "      <td>214</td>\n",
       "      <td>휴먼코아</td>\n",
       "      <td>팀보단 본인만 잘하면 별 문제없습니다. 통근버스 식비 지원 쉬는시간 많습니다. 연차...</td>\n",
       "      <td>단순노동이라 힘들고 체력적으로 많이 힘듭니다. 화장실 가는게 쫌 눈치보일정도로 바쁘...</td>\n",
       "      <td>3062.0</td>\n",
       "      <td>430.1</td>\n",
       "      <td>1.00</td>\n",
       "    </tr>\n",
       "    <tr>\n",
       "      <th>2501</th>\n",
       "      <td>215</td>\n",
       "      <td>에이치엔씨네트워크</td>\n",
       "      <td>휴가 5개줌연차 돈으로 줌화장실 비데있음커피 차 있음일못해도 돈준다. 연차 눈치안봐...</td>\n",
       "      <td>너무많아서 못쓰겠다.일하는 사람만 하고 안하는 사람은 안한다안하는 사람 루팡 개많다...</td>\n",
       "      <td>3038.0</td>\n",
       "      <td>336.9</td>\n",
       "      <td>0.68</td>\n",
       "    </tr>\n",
       "    <tr>\n",
       "      <th>2502</th>\n",
       "      <td>216</td>\n",
       "      <td>현대엔지비</td>\n",
       "      <td>성장 기회 많고, 책임급 급여는 그룹사에서 높은 편. 자율출퇴근 어느 정도 지켜지고...</td>\n",
       "      <td>단점이 많지 않음. 좋은 회사임. 현대차 갑이어서 담당자에 따라 리스크가 있고 야근...</td>\n",
       "      <td>5898.0</td>\n",
       "      <td>633.4</td>\n",
       "      <td>0.33</td>\n",
       "    </tr>\n",
       "  </tbody>\n",
       "</table>\n",
       "<p>2503 rows × 7 columns</p>\n",
       "</div>"
      ],
      "text/plain": [
       "      Unnamed: 0 company_name  \\\n",
       "0              0     국민건강보험공단   \n",
       "1              1       근로복지공단   \n",
       "2              3         농협은행   \n",
       "3              4         현대카드   \n",
       "4              5       중소기업은행   \n",
       "...          ...          ...   \n",
       "2498         212     유끼커뮤니케이션   \n",
       "2499         213         투어이천   \n",
       "2500         214         휴먼코아   \n",
       "2501         215    에이치엔씨네트워크   \n",
       "2502         216        현대엔지비   \n",
       "\n",
       "                                                    adv  \\\n",
       "0     휴직 종류가 다양하지 못하나 임신출산관련해서는 잘 정리된듯하다. 분위기는 지사마다 ...   \n",
       "1     탄력근무, 복지포인트 등 직원들의 복지(계약직도 해당) 1. 재택근무를 쓸 수 있다...   \n",
       "2     업무 강도에 비해 높은 연봉, 워라밸, 정년보장, 젊은 분위기 등 장점이 많은 회사...   \n",
       "3     일단 오피스 환경이 쾌적한것은 장점대기업만의 성과급이나 복지의 혜택등이 좋다생각보다...   \n",
       "4     5일 연차 사용가능. 지바지 있을 수 있지만 훌륭한 선배들이 많음. 지바지 사바사지...   \n",
       "...                                                 ...   \n",
       "2498  연차 자유롭게 사용 가능함다양한 업무를 진행해볼 수 있는 곳 퇴근 시간이 칼 같이 ...   \n",
       "2499  기업의 장점으로는 꼰대 문화는 거의 없고 팀바이 팀이라서 연차가 자유롭게 이용 가능...   \n",
       "2500  팀보단 본인만 잘하면 별 문제없습니다. 통근버스 식비 지원 쉬는시간 많습니다. 연차...   \n",
       "2501  휴가 5개줌연차 돈으로 줌화장실 비데있음커피 차 있음일못해도 돈준다. 연차 눈치안봐...   \n",
       "2502  성장 기회 많고, 책임급 급여는 그룹사에서 높은 편. 자율출퇴근 어느 정도 지켜지고...   \n",
       "\n",
       "                                                   dadv  average_salary  \\\n",
       "0     악성민원 진상민원을 매일 매일 마주해야한다. 개편때마다 퇴사자 생기는거 보면 말다함...          6441.0   \n",
       "1     위탁집행형 기관 치고 급여가 적음. 정규직들의 최대 불만 그래서 건보 연금 등으로 ...          5817.0   \n",
       "2     다수 보수적인 문화가 여전히 잔재하고 있음. 어르신들도 많은 회사 성격좋은 윗 상급...          6182.0   \n",
       "3     꼰대문화 부서에따라 존재.  굽신굽신 매일 퇴근은 정시에 포기 할일 다하면 다른업무...          8737.0   \n",
       "4     느린 전산, 사람 상대하는 직업이다보니 사람에 대한 스트레스가 많음 서비스직이다보니...         10065.0   \n",
       "...                                                 ...             ...   \n",
       "2498  복지 제도의 부족함 느낌타이트한 업무 데드라인이 있을 때가 많음 사무실이 비교적 좁...          4417.0   \n",
       "2499  단점은 너무나 많습니다. 일단 회사인데 체계가 제대로 잡혀있지 않아서 일하기가 너무...          1314.0   \n",
       "2500  단순노동이라 힘들고 체력적으로 많이 힘듭니다. 화장실 가는게 쫌 눈치보일정도로 바쁘...          3062.0   \n",
       "2501  너무많아서 못쓰겠다.일하는 사람만 하고 안하는 사람은 안한다안하는 사람 루팡 개많다...          3038.0   \n",
       "2502  단점이 많지 않음. 좋은 회사임. 현대차 갑이어서 담당자에 따라 리스크가 있고 야근...          5898.0   \n",
       "\n",
       "      total_sale  turn_over_rate  \n",
       "0        75400.0            0.20  \n",
       "1         9406.2            0.13  \n",
       "2        13100.0            0.15  \n",
       "3         2300.0            0.35  \n",
       "4        14800.0            0.16  \n",
       "...          ...             ...  \n",
       "2498        28.0            0.14  \n",
       "2499       108.9            1.36  \n",
       "2500       430.1            1.00  \n",
       "2501       336.9            0.68  \n",
       "2502       633.4            0.33  \n",
       "\n",
       "[2503 rows x 7 columns]"
      ]
     },
     "execution_count": 11,
     "metadata": {},
     "output_type": "execute_result"
    }
   ],
   "source": [
    "df['average_salary'] = df['average_salary'].apply(extract_float_from_input)\n",
    "df['total_sale'] = df['total_sale'].apply(extract_float_from_input)\n",
    "df"
   ]
  },
  {
   "cell_type": "markdown",
   "metadata": {},
   "source": [
    "불용어 처리"
   ]
  },
  {
   "cell_type": "code",
   "execution_count": 12,
   "metadata": {},
   "outputs": [],
   "source": [
    "import re\n",
    "\n",
    "def clean_str(text):\n",
    "    pattern = '([a-zA-Z0-9_.+-]+@[a-zA-Z0-9-]+\\.[a-zA-Z0-9-.]+)' # E-mail제거\n",
    "    text = re.sub(pattern=pattern, repl=' ', string=text)\n",
    "    pattern = '(http|ftp|https)://(?:[-\\w.]|(?:%[\\da-fA-F]{2}))+' # URL제거\n",
    "    text = re.sub(pattern=pattern, repl=' ', string=text)\n",
    "    pattern = '([ㄱ-ㅎㅏ-ㅣ]+)'  # 한글 자음, 모음 제거\n",
    "    text = re.sub(pattern=pattern, repl=' ', string=text)\n",
    "    pattern = '<[^>]*>'         # HTML 태그 제거\n",
    "    text = re.sub(pattern=pattern, repl=' ', string=text)\n",
    "    pattern = '[^\\w\\s\\n]'         # 특수기호제거\n",
    "    text = re.sub(pattern=pattern, repl=' ', string=text)\n",
    "    text = re.sub('[-=+,#/\\?:^$.@*\\\"※~&%ㆍ!』\\\\‘|\\(\\)\\[\\]\\<\\>`\\'…》]',' ', string=text)\n",
    "    text = re.sub('\\n', '.', string=text)\n",
    "    return text "
   ]
  },
  {
   "cell_type": "code",
   "execution_count": 13,
   "metadata": {},
   "outputs": [
    {
     "data": {
      "text/html": [
       "<div>\n",
       "<style scoped>\n",
       "    .dataframe tbody tr th:only-of-type {\n",
       "        vertical-align: middle;\n",
       "    }\n",
       "\n",
       "    .dataframe tbody tr th {\n",
       "        vertical-align: top;\n",
       "    }\n",
       "\n",
       "    .dataframe thead th {\n",
       "        text-align: right;\n",
       "    }\n",
       "</style>\n",
       "<table border=\"1\" class=\"dataframe\">\n",
       "  <thead>\n",
       "    <tr style=\"text-align: right;\">\n",
       "      <th></th>\n",
       "      <th>Unnamed: 0</th>\n",
       "      <th>company_name</th>\n",
       "      <th>adv</th>\n",
       "      <th>dadv</th>\n",
       "      <th>average_salary</th>\n",
       "      <th>total_sale</th>\n",
       "      <th>turn_over_rate</th>\n",
       "    </tr>\n",
       "  </thead>\n",
       "  <tbody>\n",
       "    <tr>\n",
       "      <th>0</th>\n",
       "      <td>0</td>\n",
       "      <td>국민건강보험공단</td>\n",
       "      <td>휴직 종류가 다양하지 못하나 임신출산관련해서는 잘 정리된듯하다  분위기는 지사마다 ...</td>\n",
       "      <td>악성민원 진상민원을 매일 매일 마주해야한다  개편때마다 퇴사자 생기는거 보면 말다함...</td>\n",
       "      <td>6441.0</td>\n",
       "      <td>75400.0</td>\n",
       "      <td>0.20</td>\n",
       "    </tr>\n",
       "    <tr>\n",
       "      <th>1</th>\n",
       "      <td>1</td>\n",
       "      <td>근로복지공단</td>\n",
       "      <td>탄력근무  복지포인트 등 직원들의 복지 계약직도 해당  1  재택근무를 쓸 수 있다...</td>\n",
       "      <td>위탁집행형 기관 치고 급여가 적음  정규직들의 최대 불만 그래서 건보 연금 등으로 ...</td>\n",
       "      <td>5817.0</td>\n",
       "      <td>9406.2</td>\n",
       "      <td>0.13</td>\n",
       "    </tr>\n",
       "    <tr>\n",
       "      <th>2</th>\n",
       "      <td>3</td>\n",
       "      <td>농협은행</td>\n",
       "      <td>업무 강도에 비해 높은 연봉  워라밸  정년보장  젊은 분위기 등 장점이 많은 회사...</td>\n",
       "      <td>다수 보수적인 문화가 여전히 잔재하고 있음  어르신들도 많은 회사 성격좋은 윗 상급...</td>\n",
       "      <td>6182.0</td>\n",
       "      <td>13100.0</td>\n",
       "      <td>0.15</td>\n",
       "    </tr>\n",
       "    <tr>\n",
       "      <th>3</th>\n",
       "      <td>4</td>\n",
       "      <td>현대카드</td>\n",
       "      <td>일단 오피스 환경이 쾌적한것은 장점대기업만의 성과급이나 복지의 혜택등이 좋다생각보다...</td>\n",
       "      <td>꼰대문화 부서에따라 존재   굽신굽신 매일 퇴근은 정시에 포기 할일 다하면 다른업무...</td>\n",
       "      <td>8737.0</td>\n",
       "      <td>2300.0</td>\n",
       "      <td>0.35</td>\n",
       "    </tr>\n",
       "    <tr>\n",
       "      <th>4</th>\n",
       "      <td>5</td>\n",
       "      <td>중소기업은행</td>\n",
       "      <td>5일 연차 사용가능  지바지 있을 수 있지만 훌륭한 선배들이 많음  지바지 사바사지...</td>\n",
       "      <td>느린 전산  사람 상대하는 직업이다보니 사람에 대한 스트레스가 많음 서비스직이다보니...</td>\n",
       "      <td>10065.0</td>\n",
       "      <td>14800.0</td>\n",
       "      <td>0.16</td>\n",
       "    </tr>\n",
       "    <tr>\n",
       "      <th>...</th>\n",
       "      <td>...</td>\n",
       "      <td>...</td>\n",
       "      <td>...</td>\n",
       "      <td>...</td>\n",
       "      <td>...</td>\n",
       "      <td>...</td>\n",
       "      <td>...</td>\n",
       "    </tr>\n",
       "    <tr>\n",
       "      <th>2498</th>\n",
       "      <td>212</td>\n",
       "      <td>유끼커뮤니케이션</td>\n",
       "      <td>연차 자유롭게 사용 가능함다양한 업무를 진행해볼 수 있는 곳 퇴근 시간이 칼 같이 ...</td>\n",
       "      <td>복지 제도의 부족함 느낌타이트한 업무 데드라인이 있을 때가 많음 사무실이 비교적 좁...</td>\n",
       "      <td>4417.0</td>\n",
       "      <td>28.0</td>\n",
       "      <td>0.14</td>\n",
       "    </tr>\n",
       "    <tr>\n",
       "      <th>2499</th>\n",
       "      <td>213</td>\n",
       "      <td>투어이천</td>\n",
       "      <td>기업의 장점으로는 꼰대 문화는 거의 없고 팀바이 팀이라서 연차가 자유롭게 이용 가능...</td>\n",
       "      <td>단점은 너무나 많습니다  일단 회사인데 체계가 제대로 잡혀있지 않아서 일하기가 너무...</td>\n",
       "      <td>1314.0</td>\n",
       "      <td>108.9</td>\n",
       "      <td>1.36</td>\n",
       "    </tr>\n",
       "    <tr>\n",
       "      <th>2500</th>\n",
       "      <td>214</td>\n",
       "      <td>휴먼코아</td>\n",
       "      <td>팀보단 본인만 잘하면 별 문제없습니다  통근버스 식비 지원 쉬는시간 많습니다  연차...</td>\n",
       "      <td>단순노동이라 힘들고 체력적으로 많이 힘듭니다  화장실 가는게 쫌 눈치보일정도로 바쁘...</td>\n",
       "      <td>3062.0</td>\n",
       "      <td>430.1</td>\n",
       "      <td>1.00</td>\n",
       "    </tr>\n",
       "    <tr>\n",
       "      <th>2501</th>\n",
       "      <td>215</td>\n",
       "      <td>에이치엔씨네트워크</td>\n",
       "      <td>휴가 5개줌연차 돈으로 줌화장실 비데있음커피 차 있음일못해도 돈준다  연차 눈치안봐...</td>\n",
       "      <td>너무많아서 못쓰겠다 일하는 사람만 하고 안하는 사람은 안한다안하는 사람 루팡 개많다...</td>\n",
       "      <td>3038.0</td>\n",
       "      <td>336.9</td>\n",
       "      <td>0.68</td>\n",
       "    </tr>\n",
       "    <tr>\n",
       "      <th>2502</th>\n",
       "      <td>216</td>\n",
       "      <td>현대엔지비</td>\n",
       "      <td>성장 기회 많고  책임급 급여는 그룹사에서 높은 편  자율출퇴근 어느 정도 지켜지고...</td>\n",
       "      <td>단점이 많지 않음  좋은 회사임  현대차 갑이어서 담당자에 따라 리스크가 있고 야근...</td>\n",
       "      <td>5898.0</td>\n",
       "      <td>633.4</td>\n",
       "      <td>0.33</td>\n",
       "    </tr>\n",
       "  </tbody>\n",
       "</table>\n",
       "<p>2503 rows × 7 columns</p>\n",
       "</div>"
      ],
      "text/plain": [
       "      Unnamed: 0 company_name  \\\n",
       "0              0     국민건강보험공단   \n",
       "1              1       근로복지공단   \n",
       "2              3         농협은행   \n",
       "3              4         현대카드   \n",
       "4              5       중소기업은행   \n",
       "...          ...          ...   \n",
       "2498         212     유끼커뮤니케이션   \n",
       "2499         213         투어이천   \n",
       "2500         214         휴먼코아   \n",
       "2501         215    에이치엔씨네트워크   \n",
       "2502         216        현대엔지비   \n",
       "\n",
       "                                                    adv  \\\n",
       "0     휴직 종류가 다양하지 못하나 임신출산관련해서는 잘 정리된듯하다  분위기는 지사마다 ...   \n",
       "1     탄력근무  복지포인트 등 직원들의 복지 계약직도 해당  1  재택근무를 쓸 수 있다...   \n",
       "2     업무 강도에 비해 높은 연봉  워라밸  정년보장  젊은 분위기 등 장점이 많은 회사...   \n",
       "3     일단 오피스 환경이 쾌적한것은 장점대기업만의 성과급이나 복지의 혜택등이 좋다생각보다...   \n",
       "4     5일 연차 사용가능  지바지 있을 수 있지만 훌륭한 선배들이 많음  지바지 사바사지...   \n",
       "...                                                 ...   \n",
       "2498  연차 자유롭게 사용 가능함다양한 업무를 진행해볼 수 있는 곳 퇴근 시간이 칼 같이 ...   \n",
       "2499  기업의 장점으로는 꼰대 문화는 거의 없고 팀바이 팀이라서 연차가 자유롭게 이용 가능...   \n",
       "2500  팀보단 본인만 잘하면 별 문제없습니다  통근버스 식비 지원 쉬는시간 많습니다  연차...   \n",
       "2501  휴가 5개줌연차 돈으로 줌화장실 비데있음커피 차 있음일못해도 돈준다  연차 눈치안봐...   \n",
       "2502  성장 기회 많고  책임급 급여는 그룹사에서 높은 편  자율출퇴근 어느 정도 지켜지고...   \n",
       "\n",
       "                                                   dadv  average_salary  \\\n",
       "0     악성민원 진상민원을 매일 매일 마주해야한다  개편때마다 퇴사자 생기는거 보면 말다함...          6441.0   \n",
       "1     위탁집행형 기관 치고 급여가 적음  정규직들의 최대 불만 그래서 건보 연금 등으로 ...          5817.0   \n",
       "2     다수 보수적인 문화가 여전히 잔재하고 있음  어르신들도 많은 회사 성격좋은 윗 상급...          6182.0   \n",
       "3     꼰대문화 부서에따라 존재   굽신굽신 매일 퇴근은 정시에 포기 할일 다하면 다른업무...          8737.0   \n",
       "4     느린 전산  사람 상대하는 직업이다보니 사람에 대한 스트레스가 많음 서비스직이다보니...         10065.0   \n",
       "...                                                 ...             ...   \n",
       "2498  복지 제도의 부족함 느낌타이트한 업무 데드라인이 있을 때가 많음 사무실이 비교적 좁...          4417.0   \n",
       "2499  단점은 너무나 많습니다  일단 회사인데 체계가 제대로 잡혀있지 않아서 일하기가 너무...          1314.0   \n",
       "2500  단순노동이라 힘들고 체력적으로 많이 힘듭니다  화장실 가는게 쫌 눈치보일정도로 바쁘...          3062.0   \n",
       "2501  너무많아서 못쓰겠다 일하는 사람만 하고 안하는 사람은 안한다안하는 사람 루팡 개많다...          3038.0   \n",
       "2502  단점이 많지 않음  좋은 회사임  현대차 갑이어서 담당자에 따라 리스크가 있고 야근...          5898.0   \n",
       "\n",
       "      total_sale  turn_over_rate  \n",
       "0        75400.0            0.20  \n",
       "1         9406.2            0.13  \n",
       "2        13100.0            0.15  \n",
       "3         2300.0            0.35  \n",
       "4        14800.0            0.16  \n",
       "...          ...             ...  \n",
       "2498        28.0            0.14  \n",
       "2499       108.9            1.36  \n",
       "2500       430.1            1.00  \n",
       "2501       336.9            0.68  \n",
       "2502       633.4            0.33  \n",
       "\n",
       "[2503 rows x 7 columns]"
      ]
     },
     "execution_count": 13,
     "metadata": {},
     "output_type": "execute_result"
    }
   ],
   "source": [
    "df['adv'] = df['adv'].apply(clean_str)\n",
    "df['dadv'] = df['dadv'].apply(clean_str)\n",
    "df"
   ]
  },
  {
   "cell_type": "markdown",
   "metadata": {},
   "source": [
    "정규화"
   ]
  },
  {
   "cell_type": "code",
   "execution_count": 14,
   "metadata": {},
   "outputs": [],
   "source": [
    "from soynlp.normalizer import *\n",
    "\n",
    "df['adv'] = [repeat_normalize(adv,num_repeats=2) for adv in df['adv']]\n",
    "df['dadv'] = [repeat_normalize(dadv,num_repeats=2) for dadv in df['dadv']]"
   ]
  },
  {
   "cell_type": "markdown",
   "metadata": {},
   "source": [
    "Tokeninzing"
   ]
  },
  {
   "cell_type": "code",
   "execution_count": 15,
   "metadata": {},
   "outputs": [],
   "source": [
    "# Word Count\n",
    "from konlpy.tag import Okt\n",
    "\n",
    "t = Okt()\n",
    "\n",
    "def my_tokenizer(doc):\n",
    "    return [\n",
    "        token\n",
    "        for token, pos in t.pos(doc)\n",
    "        if pos in ['Noun'] and len(token)>1\n",
    "    ]"
   ]
  },
  {
   "cell_type": "code",
   "execution_count": 16,
   "metadata": {},
   "outputs": [],
   "source": [
    "df['adv'] = [my_tokenizer(adv) for adv in df['adv']]\n",
    "df['dadv'] = [my_tokenizer(dadv) for dadv in df['dadv']]"
   ]
  },
  {
   "cell_type": "code",
   "execution_count": 17,
   "metadata": {},
   "outputs": [],
   "source": [
    "df['adv'] = [' '.join(adv) for adv in df['adv']]\n",
    "df['dadv'] = [' '.join(dadv) for dadv in df['dadv']]"
   ]
  },
  {
   "cell_type": "markdown",
   "metadata": {},
   "source": [
    "KOBERT"
   ]
  },
  {
   "cell_type": "code",
   "execution_count": 18,
   "metadata": {},
   "outputs": [],
   "source": [
    "from tqdm import tqdm\n",
    "from sklearn.feature_extraction.text import CountVectorizer\n",
    "from konlpy.tag import Mecab\n",
    "from bertopic import BERTopic"
   ]
  },
  {
   "cell_type": "code",
   "execution_count": 49,
   "metadata": {},
   "outputs": [],
   "source": [
    "n_topics = 10"
   ]
  },
  {
   "cell_type": "code",
   "execution_count": 50,
   "metadata": {},
   "outputs": [],
   "source": [
    "topic_adv_model = BERTopic(embedding_model=\"sentence-transformers/xlm-r-100langs-bert-base-nli-stsb-mean-tokens\",\n",
    "                           nr_topics=n_topics,\n",
    "                           top_n_words=10,\n",
    "                           calculate_probabilities=True\n",
    "                           )"
   ]
  },
  {
   "cell_type": "code",
   "execution_count": 51,
   "metadata": {},
   "outputs": [],
   "source": [
    "topic_dadv_model = BERTopic(embedding_model=\"sentence-transformers/xlm-r-100langs-bert-base-nli-stsb-mean-tokens\",\n",
    "                           nr_topics=n_topics,\n",
    "                           top_n_words=10,\n",
    "                           calculate_probabilities=True\n",
    "                           )"
   ]
  },
  {
   "cell_type": "code",
   "execution_count": 52,
   "metadata": {},
   "outputs": [],
   "source": [
    "topics, probs = topic_adv_model.fit_transform(df['adv'].to_list())"
   ]
  },
  {
   "cell_type": "code",
   "execution_count": 53,
   "metadata": {},
   "outputs": [],
   "source": [
    "d_topics, d_probs = topic_dadv_model.fit_transform(df['dadv'].to_list())"
   ]
  },
  {
   "cell_type": "code",
   "execution_count": 54,
   "metadata": {},
   "outputs": [
    {
     "data": {
      "text/html": [
       "<div>\n",
       "<style scoped>\n",
       "    .dataframe tbody tr th:only-of-type {\n",
       "        vertical-align: middle;\n",
       "    }\n",
       "\n",
       "    .dataframe tbody tr th {\n",
       "        vertical-align: top;\n",
       "    }\n",
       "\n",
       "    .dataframe thead th {\n",
       "        text-align: right;\n",
       "    }\n",
       "</style>\n",
       "<table border=\"1\" class=\"dataframe\">\n",
       "  <thead>\n",
       "    <tr style=\"text-align: right;\">\n",
       "      <th></th>\n",
       "      <th>topic</th>\n",
       "      <th>document</th>\n",
       "    </tr>\n",
       "  </thead>\n",
       "  <tbody>\n",
       "    <tr>\n",
       "      <th>0</th>\n",
       "      <td>0</td>\n",
       "      <td>휴직 종류 하나 임신 출산 관련 정리 분위기 지사 라벨 최고 지사 바이 지사 지사 ...</td>\n",
       "    </tr>\n",
       "    <tr>\n",
       "      <th>1</th>\n",
       "      <td>-1</td>\n",
       "      <td>탄력 근무 복지 포인트 직원 복지 계약 직도 해당 재택근무 휴가 사용 시간 선택 사...</td>\n",
       "    </tr>\n",
       "    <tr>\n",
       "      <th>2</th>\n",
       "      <td>1</td>\n",
       "      <td>업무 강도 연봉 정년 보장 분위기 장점 회사 생각 구내식당 간식 복지 포인트 가족 ...</td>\n",
       "    </tr>\n",
       "    <tr>\n",
       "      <th>3</th>\n",
       "      <td>0</td>\n",
       "      <td>일단 오피스 환경 장점 대기업 성과급 복지 혜택 생각 근무 연차 사용 가능 자율 분...</td>\n",
       "    </tr>\n",
       "    <tr>\n",
       "      <th>4</th>\n",
       "      <td>0</td>\n",
       "      <td>연차 사용 가능 지바 선배 지바 바사 사람 회사 다리 문화 점점 변화 복장 완전 자...</td>\n",
       "    </tr>\n",
       "    <tr>\n",
       "      <th>...</th>\n",
       "      <td>...</td>\n",
       "      <td>...</td>\n",
       "    </tr>\n",
       "    <tr>\n",
       "      <th>2498</th>\n",
       "      <td>6</td>\n",
       "      <td>연차 사용 업무 진행 퇴근 시간 전체 분위기 소통 눈치 보지 비교 수평 회사 분위기...</td>\n",
       "    </tr>\n",
       "    <tr>\n",
       "      <th>2499</th>\n",
       "      <td>6</td>\n",
       "      <td>기업 장점 꼰대 문화 거의 바이 연차 이용 장점 연차 바이 사람 갠찬슴니 가나 이건...</td>\n",
       "    </tr>\n",
       "    <tr>\n",
       "      <th>2500</th>\n",
       "      <td>0</td>\n",
       "      <td>본인 문제 통근 버스 식비 지원 쉬는시간 연차 눈치 보고 사용 가능 칼퇴 가능성 과...</td>\n",
       "    </tr>\n",
       "    <tr>\n",
       "      <th>2501</th>\n",
       "      <td>0</td>\n",
       "      <td>휴가 개줌 연차 화장실 커피 해도 연차 치안 사용 시차 출근 육아휴직 차수 매년 연...</td>\n",
       "    </tr>\n",
       "    <tr>\n",
       "      <th>2502</th>\n",
       "      <td>0</td>\n",
       "      <td>성장 기회 책임 급여 그룹 자율 출퇴근 정도 재탁 근무 전반 회사 차출 점심 대가 ...</td>\n",
       "    </tr>\n",
       "  </tbody>\n",
       "</table>\n",
       "<p>2503 rows × 2 columns</p>\n",
       "</div>"
      ],
      "text/plain": [
       "      topic                                           document\n",
       "0         0  휴직 종류 하나 임신 출산 관련 정리 분위기 지사 라벨 최고 지사 바이 지사 지사 ...\n",
       "1        -1  탄력 근무 복지 포인트 직원 복지 계약 직도 해당 재택근무 휴가 사용 시간 선택 사...\n",
       "2         1  업무 강도 연봉 정년 보장 분위기 장점 회사 생각 구내식당 간식 복지 포인트 가족 ...\n",
       "3         0  일단 오피스 환경 장점 대기업 성과급 복지 혜택 생각 근무 연차 사용 가능 자율 분...\n",
       "4         0  연차 사용 가능 지바 선배 지바 바사 사람 회사 다리 문화 점점 변화 복장 완전 자...\n",
       "...     ...                                                ...\n",
       "2498      6  연차 사용 업무 진행 퇴근 시간 전체 분위기 소통 눈치 보지 비교 수평 회사 분위기...\n",
       "2499      6  기업 장점 꼰대 문화 거의 바이 연차 이용 장점 연차 바이 사람 갠찬슴니 가나 이건...\n",
       "2500      0  본인 문제 통근 버스 식비 지원 쉬는시간 연차 눈치 보고 사용 가능 칼퇴 가능성 과...\n",
       "2501      0  휴가 개줌 연차 화장실 커피 해도 연차 치안 사용 시차 출근 육아휴직 차수 매년 연...\n",
       "2502      0  성장 기회 책임 급여 그룹 자율 출퇴근 정도 재탁 근무 전반 회사 차출 점심 대가 ...\n",
       "\n",
       "[2503 rows x 2 columns]"
      ]
     },
     "execution_count": 54,
     "metadata": {},
     "output_type": "execute_result"
    }
   ],
   "source": [
    "tp_df = pd.DataFrame({\"topic\":topics,\"document\":df.adv.to_list()})\n",
    "tp_df"
   ]
  },
  {
   "cell_type": "code",
   "execution_count": 55,
   "metadata": {},
   "outputs": [
    {
     "data": {
      "application/vnd.plotly.v1+json": {
       "config": {
        "plotlyServerURL": "https://plot.ly"
       },
       "data": [
        {
         "customdata": [
          [
           0,
           "연차 | 복지 | 회사 | 사용 | 사람",
           1003
          ],
          [
           1,
           "연차 | 회사 | 복지 | 사용 | 사람",
           282
          ],
          [
           2,
           "연차 | 회사 | 사람 | 사용 | 장점",
           91
          ],
          [
           3,
           "연차 | 회사 | 복지 | 사용 | 사람",
           86
          ],
          [
           4,
           "연차 | 사용 | 복지 | 분위기 | 업무",
           73
          ],
          [
           5,
           "연차 | 복지 | 사람 | 회사 | 사용",
           65
          ],
          [
           6,
           "회사 | 분위기 | 사람 | 연차 | 눈치",
           60
          ],
          [
           7,
           "복지 | 회사 | 연차 | 연봉 | 사용",
           49
          ],
          [
           8,
           "삼성 | 복지 | 자율 | 출퇴근 | 연봉",
           16
          ]
         ],
         "hovertemplate": "<b>Topic %{customdata[0]}</b><br>%{customdata[1]}<br>Size: %{customdata[2]}",
         "legendgroup": "",
         "marker": {
          "color": "#B0BEC5",
          "line": {
           "color": "DarkSlateGrey",
           "width": 2
          },
          "size": [
           1003,
           282,
           91,
           86,
           73,
           65,
           60,
           49,
           16
          ],
          "sizemode": "area",
          "sizeref": 0.626875,
          "symbol": "circle"
         },
         "mode": "markers",
         "name": "",
         "orientation": "v",
         "showlegend": false,
         "type": "scatter",
         "x": [
          3.0018112659454346,
          4.855268955230713,
          4.851648330688477,
          3.478537082672119,
          4.64452600479126,
          4.20402717590332,
          2.7282731533050537,
          3.0798041820526123,
          3.249232530593872
         ],
         "xaxis": "x",
         "y": [
          -9.194186210632324,
          -9.062400817871094,
          -9.69306468963623,
          -6.4686665534973145,
          -7.091577529907227,
          -6.738973617553711,
          -9.640425682067871,
          -8.498640060424805,
          -6.916064739227295
         ],
         "yaxis": "y"
        }
       ],
       "layout": {
        "annotations": [
         {
          "showarrow": false,
          "text": "D1",
          "x": 2.3190321803092955,
          "y": -8.322695481777192,
          "yshift": 10
         },
         {
          "showarrow": false,
          "text": "D2",
          "x": 3.951295739412308,
          "xshift": 10,
          "y": -5.498366570472717
         }
        ],
        "height": 650,
        "hoverlabel": {
         "bgcolor": "white",
         "font": {
          "family": "Rockwell",
          "size": 16
         }
        },
        "legend": {
         "itemsizing": "constant",
         "tracegroupgap": 0
        },
        "margin": {
         "t": 60
        },
        "shapes": [
         {
          "line": {
           "color": "#CFD8DC",
           "width": 2
          },
          "type": "line",
          "x0": 3.951295739412308,
          "x1": 3.951295739412308,
          "y0": -11.147024393081665,
          "y1": -5.498366570472717
         },
         {
          "line": {
           "color": "#9E9E9E",
           "width": 2
          },
          "type": "line",
          "x0": 2.3190321803092955,
          "x1": 5.58355929851532,
          "y0": -8.322695481777192,
          "y1": -8.322695481777192
         }
        ],
        "sliders": [
         {
          "active": 0,
          "pad": {
           "t": 50
          },
          "steps": [
           {
            "args": [
             {
              "marker.color": [
               [
                "red",
                "#B0BEC5",
                "#B0BEC5",
                "#B0BEC5",
                "#B0BEC5",
                "#B0BEC5",
                "#B0BEC5",
                "#B0BEC5",
                "#B0BEC5"
               ]
              ]
             }
            ],
            "label": "Topic 0",
            "method": "update"
           },
           {
            "args": [
             {
              "marker.color": [
               [
                "#B0BEC5",
                "red",
                "#B0BEC5",
                "#B0BEC5",
                "#B0BEC5",
                "#B0BEC5",
                "#B0BEC5",
                "#B0BEC5",
                "#B0BEC5"
               ]
              ]
             }
            ],
            "label": "Topic 1",
            "method": "update"
           },
           {
            "args": [
             {
              "marker.color": [
               [
                "#B0BEC5",
                "#B0BEC5",
                "red",
                "#B0BEC5",
                "#B0BEC5",
                "#B0BEC5",
                "#B0BEC5",
                "#B0BEC5",
                "#B0BEC5"
               ]
              ]
             }
            ],
            "label": "Topic 2",
            "method": "update"
           },
           {
            "args": [
             {
              "marker.color": [
               [
                "#B0BEC5",
                "#B0BEC5",
                "#B0BEC5",
                "red",
                "#B0BEC5",
                "#B0BEC5",
                "#B0BEC5",
                "#B0BEC5",
                "#B0BEC5"
               ]
              ]
             }
            ],
            "label": "Topic 3",
            "method": "update"
           },
           {
            "args": [
             {
              "marker.color": [
               [
                "#B0BEC5",
                "#B0BEC5",
                "#B0BEC5",
                "#B0BEC5",
                "red",
                "#B0BEC5",
                "#B0BEC5",
                "#B0BEC5",
                "#B0BEC5"
               ]
              ]
             }
            ],
            "label": "Topic 4",
            "method": "update"
           },
           {
            "args": [
             {
              "marker.color": [
               [
                "#B0BEC5",
                "#B0BEC5",
                "#B0BEC5",
                "#B0BEC5",
                "#B0BEC5",
                "red",
                "#B0BEC5",
                "#B0BEC5",
                "#B0BEC5"
               ]
              ]
             }
            ],
            "label": "Topic 5",
            "method": "update"
           },
           {
            "args": [
             {
              "marker.color": [
               [
                "#B0BEC5",
                "#B0BEC5",
                "#B0BEC5",
                "#B0BEC5",
                "#B0BEC5",
                "#B0BEC5",
                "red",
                "#B0BEC5",
                "#B0BEC5"
               ]
              ]
             }
            ],
            "label": "Topic 6",
            "method": "update"
           },
           {
            "args": [
             {
              "marker.color": [
               [
                "#B0BEC5",
                "#B0BEC5",
                "#B0BEC5",
                "#B0BEC5",
                "#B0BEC5",
                "#B0BEC5",
                "#B0BEC5",
                "red",
                "#B0BEC5"
               ]
              ]
             }
            ],
            "label": "Topic 7",
            "method": "update"
           },
           {
            "args": [
             {
              "marker.color": [
               [
                "#B0BEC5",
                "#B0BEC5",
                "#B0BEC5",
                "#B0BEC5",
                "#B0BEC5",
                "#B0BEC5",
                "#B0BEC5",
                "#B0BEC5",
                "red"
               ]
              ]
             }
            ],
            "label": "Topic 8",
            "method": "update"
           }
          ]
         }
        ],
        "template": {
         "data": {
          "bar": [
           {
            "error_x": {
             "color": "rgb(36,36,36)"
            },
            "error_y": {
             "color": "rgb(36,36,36)"
            },
            "marker": {
             "line": {
              "color": "white",
              "width": 0.5
             },
             "pattern": {
              "fillmode": "overlay",
              "size": 10,
              "solidity": 0.2
             }
            },
            "type": "bar"
           }
          ],
          "barpolar": [
           {
            "marker": {
             "line": {
              "color": "white",
              "width": 0.5
             },
             "pattern": {
              "fillmode": "overlay",
              "size": 10,
              "solidity": 0.2
             }
            },
            "type": "barpolar"
           }
          ],
          "carpet": [
           {
            "aaxis": {
             "endlinecolor": "rgb(36,36,36)",
             "gridcolor": "white",
             "linecolor": "white",
             "minorgridcolor": "white",
             "startlinecolor": "rgb(36,36,36)"
            },
            "baxis": {
             "endlinecolor": "rgb(36,36,36)",
             "gridcolor": "white",
             "linecolor": "white",
             "minorgridcolor": "white",
             "startlinecolor": "rgb(36,36,36)"
            },
            "type": "carpet"
           }
          ],
          "choropleth": [
           {
            "colorbar": {
             "outlinewidth": 1,
             "tickcolor": "rgb(36,36,36)",
             "ticks": "outside"
            },
            "type": "choropleth"
           }
          ],
          "contour": [
           {
            "colorbar": {
             "outlinewidth": 1,
             "tickcolor": "rgb(36,36,36)",
             "ticks": "outside"
            },
            "colorscale": [
             [
              0,
              "#440154"
             ],
             [
              0.1111111111111111,
              "#482878"
             ],
             [
              0.2222222222222222,
              "#3e4989"
             ],
             [
              0.3333333333333333,
              "#31688e"
             ],
             [
              0.4444444444444444,
              "#26828e"
             ],
             [
              0.5555555555555556,
              "#1f9e89"
             ],
             [
              0.6666666666666666,
              "#35b779"
             ],
             [
              0.7777777777777778,
              "#6ece58"
             ],
             [
              0.8888888888888888,
              "#b5de2b"
             ],
             [
              1,
              "#fde725"
             ]
            ],
            "type": "contour"
           }
          ],
          "contourcarpet": [
           {
            "colorbar": {
             "outlinewidth": 1,
             "tickcolor": "rgb(36,36,36)",
             "ticks": "outside"
            },
            "type": "contourcarpet"
           }
          ],
          "heatmap": [
           {
            "colorbar": {
             "outlinewidth": 1,
             "tickcolor": "rgb(36,36,36)",
             "ticks": "outside"
            },
            "colorscale": [
             [
              0,
              "#440154"
             ],
             [
              0.1111111111111111,
              "#482878"
             ],
             [
              0.2222222222222222,
              "#3e4989"
             ],
             [
              0.3333333333333333,
              "#31688e"
             ],
             [
              0.4444444444444444,
              "#26828e"
             ],
             [
              0.5555555555555556,
              "#1f9e89"
             ],
             [
              0.6666666666666666,
              "#35b779"
             ],
             [
              0.7777777777777778,
              "#6ece58"
             ],
             [
              0.8888888888888888,
              "#b5de2b"
             ],
             [
              1,
              "#fde725"
             ]
            ],
            "type": "heatmap"
           }
          ],
          "heatmapgl": [
           {
            "colorbar": {
             "outlinewidth": 1,
             "tickcolor": "rgb(36,36,36)",
             "ticks": "outside"
            },
            "colorscale": [
             [
              0,
              "#440154"
             ],
             [
              0.1111111111111111,
              "#482878"
             ],
             [
              0.2222222222222222,
              "#3e4989"
             ],
             [
              0.3333333333333333,
              "#31688e"
             ],
             [
              0.4444444444444444,
              "#26828e"
             ],
             [
              0.5555555555555556,
              "#1f9e89"
             ],
             [
              0.6666666666666666,
              "#35b779"
             ],
             [
              0.7777777777777778,
              "#6ece58"
             ],
             [
              0.8888888888888888,
              "#b5de2b"
             ],
             [
              1,
              "#fde725"
             ]
            ],
            "type": "heatmapgl"
           }
          ],
          "histogram": [
           {
            "marker": {
             "line": {
              "color": "white",
              "width": 0.6
             }
            },
            "type": "histogram"
           }
          ],
          "histogram2d": [
           {
            "colorbar": {
             "outlinewidth": 1,
             "tickcolor": "rgb(36,36,36)",
             "ticks": "outside"
            },
            "colorscale": [
             [
              0,
              "#440154"
             ],
             [
              0.1111111111111111,
              "#482878"
             ],
             [
              0.2222222222222222,
              "#3e4989"
             ],
             [
              0.3333333333333333,
              "#31688e"
             ],
             [
              0.4444444444444444,
              "#26828e"
             ],
             [
              0.5555555555555556,
              "#1f9e89"
             ],
             [
              0.6666666666666666,
              "#35b779"
             ],
             [
              0.7777777777777778,
              "#6ece58"
             ],
             [
              0.8888888888888888,
              "#b5de2b"
             ],
             [
              1,
              "#fde725"
             ]
            ],
            "type": "histogram2d"
           }
          ],
          "histogram2dcontour": [
           {
            "colorbar": {
             "outlinewidth": 1,
             "tickcolor": "rgb(36,36,36)",
             "ticks": "outside"
            },
            "colorscale": [
             [
              0,
              "#440154"
             ],
             [
              0.1111111111111111,
              "#482878"
             ],
             [
              0.2222222222222222,
              "#3e4989"
             ],
             [
              0.3333333333333333,
              "#31688e"
             ],
             [
              0.4444444444444444,
              "#26828e"
             ],
             [
              0.5555555555555556,
              "#1f9e89"
             ],
             [
              0.6666666666666666,
              "#35b779"
             ],
             [
              0.7777777777777778,
              "#6ece58"
             ],
             [
              0.8888888888888888,
              "#b5de2b"
             ],
             [
              1,
              "#fde725"
             ]
            ],
            "type": "histogram2dcontour"
           }
          ],
          "mesh3d": [
           {
            "colorbar": {
             "outlinewidth": 1,
             "tickcolor": "rgb(36,36,36)",
             "ticks": "outside"
            },
            "type": "mesh3d"
           }
          ],
          "parcoords": [
           {
            "line": {
             "colorbar": {
              "outlinewidth": 1,
              "tickcolor": "rgb(36,36,36)",
              "ticks": "outside"
             }
            },
            "type": "parcoords"
           }
          ],
          "pie": [
           {
            "automargin": true,
            "type": "pie"
           }
          ],
          "scatter": [
           {
            "fillpattern": {
             "fillmode": "overlay",
             "size": 10,
             "solidity": 0.2
            },
            "type": "scatter"
           }
          ],
          "scatter3d": [
           {
            "line": {
             "colorbar": {
              "outlinewidth": 1,
              "tickcolor": "rgb(36,36,36)",
              "ticks": "outside"
             }
            },
            "marker": {
             "colorbar": {
              "outlinewidth": 1,
              "tickcolor": "rgb(36,36,36)",
              "ticks": "outside"
             }
            },
            "type": "scatter3d"
           }
          ],
          "scattercarpet": [
           {
            "marker": {
             "colorbar": {
              "outlinewidth": 1,
              "tickcolor": "rgb(36,36,36)",
              "ticks": "outside"
             }
            },
            "type": "scattercarpet"
           }
          ],
          "scattergeo": [
           {
            "marker": {
             "colorbar": {
              "outlinewidth": 1,
              "tickcolor": "rgb(36,36,36)",
              "ticks": "outside"
             }
            },
            "type": "scattergeo"
           }
          ],
          "scattergl": [
           {
            "marker": {
             "colorbar": {
              "outlinewidth": 1,
              "tickcolor": "rgb(36,36,36)",
              "ticks": "outside"
             }
            },
            "type": "scattergl"
           }
          ],
          "scattermapbox": [
           {
            "marker": {
             "colorbar": {
              "outlinewidth": 1,
              "tickcolor": "rgb(36,36,36)",
              "ticks": "outside"
             }
            },
            "type": "scattermapbox"
           }
          ],
          "scatterpolar": [
           {
            "marker": {
             "colorbar": {
              "outlinewidth": 1,
              "tickcolor": "rgb(36,36,36)",
              "ticks": "outside"
             }
            },
            "type": "scatterpolar"
           }
          ],
          "scatterpolargl": [
           {
            "marker": {
             "colorbar": {
              "outlinewidth": 1,
              "tickcolor": "rgb(36,36,36)",
              "ticks": "outside"
             }
            },
            "type": "scatterpolargl"
           }
          ],
          "scatterternary": [
           {
            "marker": {
             "colorbar": {
              "outlinewidth": 1,
              "tickcolor": "rgb(36,36,36)",
              "ticks": "outside"
             }
            },
            "type": "scatterternary"
           }
          ],
          "surface": [
           {
            "colorbar": {
             "outlinewidth": 1,
             "tickcolor": "rgb(36,36,36)",
             "ticks": "outside"
            },
            "colorscale": [
             [
              0,
              "#440154"
             ],
             [
              0.1111111111111111,
              "#482878"
             ],
             [
              0.2222222222222222,
              "#3e4989"
             ],
             [
              0.3333333333333333,
              "#31688e"
             ],
             [
              0.4444444444444444,
              "#26828e"
             ],
             [
              0.5555555555555556,
              "#1f9e89"
             ],
             [
              0.6666666666666666,
              "#35b779"
             ],
             [
              0.7777777777777778,
              "#6ece58"
             ],
             [
              0.8888888888888888,
              "#b5de2b"
             ],
             [
              1,
              "#fde725"
             ]
            ],
            "type": "surface"
           }
          ],
          "table": [
           {
            "cells": {
             "fill": {
              "color": "rgb(237,237,237)"
             },
             "line": {
              "color": "white"
             }
            },
            "header": {
             "fill": {
              "color": "rgb(217,217,217)"
             },
             "line": {
              "color": "white"
             }
            },
            "type": "table"
           }
          ]
         },
         "layout": {
          "annotationdefaults": {
           "arrowhead": 0,
           "arrowwidth": 1
          },
          "autotypenumbers": "strict",
          "coloraxis": {
           "colorbar": {
            "outlinewidth": 1,
            "tickcolor": "rgb(36,36,36)",
            "ticks": "outside"
           }
          },
          "colorscale": {
           "diverging": [
            [
             0,
             "rgb(103,0,31)"
            ],
            [
             0.1,
             "rgb(178,24,43)"
            ],
            [
             0.2,
             "rgb(214,96,77)"
            ],
            [
             0.3,
             "rgb(244,165,130)"
            ],
            [
             0.4,
             "rgb(253,219,199)"
            ],
            [
             0.5,
             "rgb(247,247,247)"
            ],
            [
             0.6,
             "rgb(209,229,240)"
            ],
            [
             0.7,
             "rgb(146,197,222)"
            ],
            [
             0.8,
             "rgb(67,147,195)"
            ],
            [
             0.9,
             "rgb(33,102,172)"
            ],
            [
             1,
             "rgb(5,48,97)"
            ]
           ],
           "sequential": [
            [
             0,
             "#440154"
            ],
            [
             0.1111111111111111,
             "#482878"
            ],
            [
             0.2222222222222222,
             "#3e4989"
            ],
            [
             0.3333333333333333,
             "#31688e"
            ],
            [
             0.4444444444444444,
             "#26828e"
            ],
            [
             0.5555555555555556,
             "#1f9e89"
            ],
            [
             0.6666666666666666,
             "#35b779"
            ],
            [
             0.7777777777777778,
             "#6ece58"
            ],
            [
             0.8888888888888888,
             "#b5de2b"
            ],
            [
             1,
             "#fde725"
            ]
           ],
           "sequentialminus": [
            [
             0,
             "#440154"
            ],
            [
             0.1111111111111111,
             "#482878"
            ],
            [
             0.2222222222222222,
             "#3e4989"
            ],
            [
             0.3333333333333333,
             "#31688e"
            ],
            [
             0.4444444444444444,
             "#26828e"
            ],
            [
             0.5555555555555556,
             "#1f9e89"
            ],
            [
             0.6666666666666666,
             "#35b779"
            ],
            [
             0.7777777777777778,
             "#6ece58"
            ],
            [
             0.8888888888888888,
             "#b5de2b"
            ],
            [
             1,
             "#fde725"
            ]
           ]
          },
          "colorway": [
           "#1F77B4",
           "#FF7F0E",
           "#2CA02C",
           "#D62728",
           "#9467BD",
           "#8C564B",
           "#E377C2",
           "#7F7F7F",
           "#BCBD22",
           "#17BECF"
          ],
          "font": {
           "color": "rgb(36,36,36)"
          },
          "geo": {
           "bgcolor": "white",
           "lakecolor": "white",
           "landcolor": "white",
           "showlakes": true,
           "showland": true,
           "subunitcolor": "white"
          },
          "hoverlabel": {
           "align": "left"
          },
          "hovermode": "closest",
          "mapbox": {
           "style": "light"
          },
          "paper_bgcolor": "white",
          "plot_bgcolor": "white",
          "polar": {
           "angularaxis": {
            "gridcolor": "rgb(232,232,232)",
            "linecolor": "rgb(36,36,36)",
            "showgrid": false,
            "showline": true,
            "ticks": "outside"
           },
           "bgcolor": "white",
           "radialaxis": {
            "gridcolor": "rgb(232,232,232)",
            "linecolor": "rgb(36,36,36)",
            "showgrid": false,
            "showline": true,
            "ticks": "outside"
           }
          },
          "scene": {
           "xaxis": {
            "backgroundcolor": "white",
            "gridcolor": "rgb(232,232,232)",
            "gridwidth": 2,
            "linecolor": "rgb(36,36,36)",
            "showbackground": true,
            "showgrid": false,
            "showline": true,
            "ticks": "outside",
            "zeroline": false,
            "zerolinecolor": "rgb(36,36,36)"
           },
           "yaxis": {
            "backgroundcolor": "white",
            "gridcolor": "rgb(232,232,232)",
            "gridwidth": 2,
            "linecolor": "rgb(36,36,36)",
            "showbackground": true,
            "showgrid": false,
            "showline": true,
            "ticks": "outside",
            "zeroline": false,
            "zerolinecolor": "rgb(36,36,36)"
           },
           "zaxis": {
            "backgroundcolor": "white",
            "gridcolor": "rgb(232,232,232)",
            "gridwidth": 2,
            "linecolor": "rgb(36,36,36)",
            "showbackground": true,
            "showgrid": false,
            "showline": true,
            "ticks": "outside",
            "zeroline": false,
            "zerolinecolor": "rgb(36,36,36)"
           }
          },
          "shapedefaults": {
           "fillcolor": "black",
           "line": {
            "width": 0
           },
           "opacity": 0.3
          },
          "ternary": {
           "aaxis": {
            "gridcolor": "rgb(232,232,232)",
            "linecolor": "rgb(36,36,36)",
            "showgrid": false,
            "showline": true,
            "ticks": "outside"
           },
           "baxis": {
            "gridcolor": "rgb(232,232,232)",
            "linecolor": "rgb(36,36,36)",
            "showgrid": false,
            "showline": true,
            "ticks": "outside"
           },
           "bgcolor": "white",
           "caxis": {
            "gridcolor": "rgb(232,232,232)",
            "linecolor": "rgb(36,36,36)",
            "showgrid": false,
            "showline": true,
            "ticks": "outside"
           }
          },
          "title": {
           "x": 0.05
          },
          "xaxis": {
           "automargin": true,
           "gridcolor": "rgb(232,232,232)",
           "linecolor": "rgb(36,36,36)",
           "showgrid": false,
           "showline": true,
           "ticks": "outside",
           "title": {
            "standoff": 15
           },
           "zeroline": false,
           "zerolinecolor": "rgb(36,36,36)"
          },
          "yaxis": {
           "automargin": true,
           "gridcolor": "rgb(232,232,232)",
           "linecolor": "rgb(36,36,36)",
           "showgrid": false,
           "showline": true,
           "ticks": "outside",
           "title": {
            "standoff": 15
           },
           "zeroline": false,
           "zerolinecolor": "rgb(36,36,36)"
          }
         }
        },
        "title": {
         "font": {
          "color": "Black",
          "size": 22
         },
         "text": "<b>Intertopic Distance Map</b>",
         "x": 0.5,
         "xanchor": "center",
         "y": 0.95,
         "yanchor": "top"
        },
        "width": 650,
        "xaxis": {
         "anchor": "y",
         "domain": [
          0,
          1
         ],
         "range": [
          2.3190321803092955,
          5.58355929851532
         ],
         "title": {
          "text": ""
         },
         "visible": false
        },
        "yaxis": {
         "anchor": "x",
         "domain": [
          0,
          1
         ],
         "range": [
          -11.147024393081665,
          -5.498366570472717
         ],
         "title": {
          "text": ""
         },
         "visible": false
        }
       }
      }
     },
     "metadata": {},
     "output_type": "display_data"
    }
   ],
   "source": [
    "topic_adv_model.visualize_topics()"
   ]
  },
  {
   "cell_type": "code",
   "execution_count": 56,
   "metadata": {},
   "outputs": [
    {
     "data": {
      "application/vnd.plotly.v1+json": {
       "config": {
        "plotlyServerURL": "https://plot.ly"
       },
       "data": [
        {
         "marker": {
          "color": "#D55E00"
         },
         "orientation": "h",
         "type": "bar",
         "x": [
          0.03163412643324332,
          0.03525481106595664,
          0.035887216452543724,
          0.036159329964955626,
          0.04736507942202605
         ],
         "xaxis": "x",
         "y": [
          "사람  ",
          "사용  ",
          "회사  ",
          "복지  ",
          "연차  "
         ],
         "yaxis": "y"
        },
        {
         "marker": {
          "color": "#0072B2"
         },
         "orientation": "h",
         "type": "bar",
         "x": [
          0.031227491428298525,
          0.035330574551783345,
          0.03551169499814135,
          0.0360082843571419,
          0.045661293762588755
         ],
         "xaxis": "x2",
         "y": [
          "사람  ",
          "사용  ",
          "복지  ",
          "회사  ",
          "연차  "
         ],
         "yaxis": "y2"
        },
        {
         "marker": {
          "color": "#CC79A7"
         },
         "orientation": "h",
         "type": "bar",
         "x": [
          0.02956206902660767,
          0.03006047887908305,
          0.031977869374851954,
          0.034240279728819774,
          0.04483040409426977
         ],
         "xaxis": "x3",
         "y": [
          "장점  ",
          "사용  ",
          "사람  ",
          "회사  ",
          "연차  "
         ],
         "yaxis": "y3"
        },
        {
         "marker": {
          "color": "#E69F00"
         },
         "orientation": "h",
         "type": "bar",
         "x": [
          0.0324188907833223,
          0.03329427311307473,
          0.035299520172583095,
          0.03711807556168187,
          0.04582053125939418
         ],
         "xaxis": "x4",
         "y": [
          "사람  ",
          "사용  ",
          "복지  ",
          "회사  ",
          "연차  "
         ],
         "yaxis": "y4"
        },
        {
         "marker": {
          "color": "#56B4E9"
         },
         "orientation": "h",
         "type": "bar",
         "x": [
          0.03534403361947493,
          0.03591068757470495,
          0.04034946137058517,
          0.04042448145286734,
          0.054085571914993726
         ],
         "xaxis": "x5",
         "y": [
          "업무  ",
          "분위기  ",
          "복지  ",
          "사용  ",
          "연차  "
         ],
         "yaxis": "y5"
        },
        {
         "marker": {
          "color": "#009E73"
         },
         "orientation": "h",
         "type": "bar",
         "x": [
          0.028759980252970503,
          0.03223236219197637,
          0.035046906756341915,
          0.03809306604709666,
          0.041287198380777775
         ],
         "xaxis": "x6",
         "y": [
          "사용  ",
          "회사  ",
          "사람  ",
          "복지  ",
          "연차  "
         ],
         "yaxis": "y6"
        },
        {
         "marker": {
          "color": "#F0E442"
         },
         "orientation": "h",
         "type": "bar",
         "x": [
          0.042413229200462574,
          0.05020502363772679,
          0.05024965351175566,
          0.05026482686958246,
          0.05513473544245845
         ],
         "xaxis": "x7",
         "y": [
          "눈치  ",
          "연차  ",
          "사람  ",
          "분위기  ",
          "회사  "
         ],
         "yaxis": "y7"
        },
        {
         "marker": {
          "color": "#D55E00"
         },
         "orientation": "h",
         "type": "bar",
         "x": [
          0.030650927242314583,
          0.030758119852551512,
          0.04231170044395095,
          0.04271189616604546,
          0.04975751010055567
         ],
         "xaxis": "x8",
         "y": [
          "사용  ",
          "연봉  ",
          "연차  ",
          "회사  ",
          "복지  "
         ],
         "yaxis": "y8"
        }
       ],
       "layout": {
        "annotations": [
         {
          "font": {
           "size": 16
          },
          "showarrow": false,
          "text": "Topic 0",
          "x": 0.0875,
          "xanchor": "center",
          "xref": "paper",
          "y": 1,
          "yanchor": "bottom",
          "yref": "paper"
         },
         {
          "font": {
           "size": 16
          },
          "showarrow": false,
          "text": "Topic 1",
          "x": 0.36250000000000004,
          "xanchor": "center",
          "xref": "paper",
          "y": 1,
          "yanchor": "bottom",
          "yref": "paper"
         },
         {
          "font": {
           "size": 16
          },
          "showarrow": false,
          "text": "Topic 2",
          "x": 0.6375000000000001,
          "xanchor": "center",
          "xref": "paper",
          "y": 1,
          "yanchor": "bottom",
          "yref": "paper"
         },
         {
          "font": {
           "size": 16
          },
          "showarrow": false,
          "text": "Topic 3",
          "x": 0.9125,
          "xanchor": "center",
          "xref": "paper",
          "y": 1,
          "yanchor": "bottom",
          "yref": "paper"
         },
         {
          "font": {
           "size": 16
          },
          "showarrow": false,
          "text": "Topic 4",
          "x": 0.0875,
          "xanchor": "center",
          "xref": "paper",
          "y": 0.4,
          "yanchor": "bottom",
          "yref": "paper"
         },
         {
          "font": {
           "size": 16
          },
          "showarrow": false,
          "text": "Topic 5",
          "x": 0.36250000000000004,
          "xanchor": "center",
          "xref": "paper",
          "y": 0.4,
          "yanchor": "bottom",
          "yref": "paper"
         },
         {
          "font": {
           "size": 16
          },
          "showarrow": false,
          "text": "Topic 6",
          "x": 0.6375000000000001,
          "xanchor": "center",
          "xref": "paper",
          "y": 0.4,
          "yanchor": "bottom",
          "yref": "paper"
         },
         {
          "font": {
           "size": 16
          },
          "showarrow": false,
          "text": "Topic 7",
          "x": 0.9125,
          "xanchor": "center",
          "xref": "paper",
          "y": 0.4,
          "yanchor": "bottom",
          "yref": "paper"
         }
        ],
        "height": 500,
        "hoverlabel": {
         "bgcolor": "white",
         "font": {
          "family": "Rockwell",
          "size": 16
         }
        },
        "showlegend": false,
        "template": {
         "data": {
          "bar": [
           {
            "error_x": {
             "color": "#2a3f5f"
            },
            "error_y": {
             "color": "#2a3f5f"
            },
            "marker": {
             "line": {
              "color": "white",
              "width": 0.5
             },
             "pattern": {
              "fillmode": "overlay",
              "size": 10,
              "solidity": 0.2
             }
            },
            "type": "bar"
           }
          ],
          "barpolar": [
           {
            "marker": {
             "line": {
              "color": "white",
              "width": 0.5
             },
             "pattern": {
              "fillmode": "overlay",
              "size": 10,
              "solidity": 0.2
             }
            },
            "type": "barpolar"
           }
          ],
          "carpet": [
           {
            "aaxis": {
             "endlinecolor": "#2a3f5f",
             "gridcolor": "#C8D4E3",
             "linecolor": "#C8D4E3",
             "minorgridcolor": "#C8D4E3",
             "startlinecolor": "#2a3f5f"
            },
            "baxis": {
             "endlinecolor": "#2a3f5f",
             "gridcolor": "#C8D4E3",
             "linecolor": "#C8D4E3",
             "minorgridcolor": "#C8D4E3",
             "startlinecolor": "#2a3f5f"
            },
            "type": "carpet"
           }
          ],
          "choropleth": [
           {
            "colorbar": {
             "outlinewidth": 0,
             "ticks": ""
            },
            "type": "choropleth"
           }
          ],
          "contour": [
           {
            "colorbar": {
             "outlinewidth": 0,
             "ticks": ""
            },
            "colorscale": [
             [
              0,
              "#0d0887"
             ],
             [
              0.1111111111111111,
              "#46039f"
             ],
             [
              0.2222222222222222,
              "#7201a8"
             ],
             [
              0.3333333333333333,
              "#9c179e"
             ],
             [
              0.4444444444444444,
              "#bd3786"
             ],
             [
              0.5555555555555556,
              "#d8576b"
             ],
             [
              0.6666666666666666,
              "#ed7953"
             ],
             [
              0.7777777777777778,
              "#fb9f3a"
             ],
             [
              0.8888888888888888,
              "#fdca26"
             ],
             [
              1,
              "#f0f921"
             ]
            ],
            "type": "contour"
           }
          ],
          "contourcarpet": [
           {
            "colorbar": {
             "outlinewidth": 0,
             "ticks": ""
            },
            "type": "contourcarpet"
           }
          ],
          "heatmap": [
           {
            "colorbar": {
             "outlinewidth": 0,
             "ticks": ""
            },
            "colorscale": [
             [
              0,
              "#0d0887"
             ],
             [
              0.1111111111111111,
              "#46039f"
             ],
             [
              0.2222222222222222,
              "#7201a8"
             ],
             [
              0.3333333333333333,
              "#9c179e"
             ],
             [
              0.4444444444444444,
              "#bd3786"
             ],
             [
              0.5555555555555556,
              "#d8576b"
             ],
             [
              0.6666666666666666,
              "#ed7953"
             ],
             [
              0.7777777777777778,
              "#fb9f3a"
             ],
             [
              0.8888888888888888,
              "#fdca26"
             ],
             [
              1,
              "#f0f921"
             ]
            ],
            "type": "heatmap"
           }
          ],
          "heatmapgl": [
           {
            "colorbar": {
             "outlinewidth": 0,
             "ticks": ""
            },
            "colorscale": [
             [
              0,
              "#0d0887"
             ],
             [
              0.1111111111111111,
              "#46039f"
             ],
             [
              0.2222222222222222,
              "#7201a8"
             ],
             [
              0.3333333333333333,
              "#9c179e"
             ],
             [
              0.4444444444444444,
              "#bd3786"
             ],
             [
              0.5555555555555556,
              "#d8576b"
             ],
             [
              0.6666666666666666,
              "#ed7953"
             ],
             [
              0.7777777777777778,
              "#fb9f3a"
             ],
             [
              0.8888888888888888,
              "#fdca26"
             ],
             [
              1,
              "#f0f921"
             ]
            ],
            "type": "heatmapgl"
           }
          ],
          "histogram": [
           {
            "marker": {
             "pattern": {
              "fillmode": "overlay",
              "size": 10,
              "solidity": 0.2
             }
            },
            "type": "histogram"
           }
          ],
          "histogram2d": [
           {
            "colorbar": {
             "outlinewidth": 0,
             "ticks": ""
            },
            "colorscale": [
             [
              0,
              "#0d0887"
             ],
             [
              0.1111111111111111,
              "#46039f"
             ],
             [
              0.2222222222222222,
              "#7201a8"
             ],
             [
              0.3333333333333333,
              "#9c179e"
             ],
             [
              0.4444444444444444,
              "#bd3786"
             ],
             [
              0.5555555555555556,
              "#d8576b"
             ],
             [
              0.6666666666666666,
              "#ed7953"
             ],
             [
              0.7777777777777778,
              "#fb9f3a"
             ],
             [
              0.8888888888888888,
              "#fdca26"
             ],
             [
              1,
              "#f0f921"
             ]
            ],
            "type": "histogram2d"
           }
          ],
          "histogram2dcontour": [
           {
            "colorbar": {
             "outlinewidth": 0,
             "ticks": ""
            },
            "colorscale": [
             [
              0,
              "#0d0887"
             ],
             [
              0.1111111111111111,
              "#46039f"
             ],
             [
              0.2222222222222222,
              "#7201a8"
             ],
             [
              0.3333333333333333,
              "#9c179e"
             ],
             [
              0.4444444444444444,
              "#bd3786"
             ],
             [
              0.5555555555555556,
              "#d8576b"
             ],
             [
              0.6666666666666666,
              "#ed7953"
             ],
             [
              0.7777777777777778,
              "#fb9f3a"
             ],
             [
              0.8888888888888888,
              "#fdca26"
             ],
             [
              1,
              "#f0f921"
             ]
            ],
            "type": "histogram2dcontour"
           }
          ],
          "mesh3d": [
           {
            "colorbar": {
             "outlinewidth": 0,
             "ticks": ""
            },
            "type": "mesh3d"
           }
          ],
          "parcoords": [
           {
            "line": {
             "colorbar": {
              "outlinewidth": 0,
              "ticks": ""
             }
            },
            "type": "parcoords"
           }
          ],
          "pie": [
           {
            "automargin": true,
            "type": "pie"
           }
          ],
          "scatter": [
           {
            "fillpattern": {
             "fillmode": "overlay",
             "size": 10,
             "solidity": 0.2
            },
            "type": "scatter"
           }
          ],
          "scatter3d": [
           {
            "line": {
             "colorbar": {
              "outlinewidth": 0,
              "ticks": ""
             }
            },
            "marker": {
             "colorbar": {
              "outlinewidth": 0,
              "ticks": ""
             }
            },
            "type": "scatter3d"
           }
          ],
          "scattercarpet": [
           {
            "marker": {
             "colorbar": {
              "outlinewidth": 0,
              "ticks": ""
             }
            },
            "type": "scattercarpet"
           }
          ],
          "scattergeo": [
           {
            "marker": {
             "colorbar": {
              "outlinewidth": 0,
              "ticks": ""
             }
            },
            "type": "scattergeo"
           }
          ],
          "scattergl": [
           {
            "marker": {
             "colorbar": {
              "outlinewidth": 0,
              "ticks": ""
             }
            },
            "type": "scattergl"
           }
          ],
          "scattermapbox": [
           {
            "marker": {
             "colorbar": {
              "outlinewidth": 0,
              "ticks": ""
             }
            },
            "type": "scattermapbox"
           }
          ],
          "scatterpolar": [
           {
            "marker": {
             "colorbar": {
              "outlinewidth": 0,
              "ticks": ""
             }
            },
            "type": "scatterpolar"
           }
          ],
          "scatterpolargl": [
           {
            "marker": {
             "colorbar": {
              "outlinewidth": 0,
              "ticks": ""
             }
            },
            "type": "scatterpolargl"
           }
          ],
          "scatterternary": [
           {
            "marker": {
             "colorbar": {
              "outlinewidth": 0,
              "ticks": ""
             }
            },
            "type": "scatterternary"
           }
          ],
          "surface": [
           {
            "colorbar": {
             "outlinewidth": 0,
             "ticks": ""
            },
            "colorscale": [
             [
              0,
              "#0d0887"
             ],
             [
              0.1111111111111111,
              "#46039f"
             ],
             [
              0.2222222222222222,
              "#7201a8"
             ],
             [
              0.3333333333333333,
              "#9c179e"
             ],
             [
              0.4444444444444444,
              "#bd3786"
             ],
             [
              0.5555555555555556,
              "#d8576b"
             ],
             [
              0.6666666666666666,
              "#ed7953"
             ],
             [
              0.7777777777777778,
              "#fb9f3a"
             ],
             [
              0.8888888888888888,
              "#fdca26"
             ],
             [
              1,
              "#f0f921"
             ]
            ],
            "type": "surface"
           }
          ],
          "table": [
           {
            "cells": {
             "fill": {
              "color": "#EBF0F8"
             },
             "line": {
              "color": "white"
             }
            },
            "header": {
             "fill": {
              "color": "#C8D4E3"
             },
             "line": {
              "color": "white"
             }
            },
            "type": "table"
           }
          ]
         },
         "layout": {
          "annotationdefaults": {
           "arrowcolor": "#2a3f5f",
           "arrowhead": 0,
           "arrowwidth": 1
          },
          "autotypenumbers": "strict",
          "coloraxis": {
           "colorbar": {
            "outlinewidth": 0,
            "ticks": ""
           }
          },
          "colorscale": {
           "diverging": [
            [
             0,
             "#8e0152"
            ],
            [
             0.1,
             "#c51b7d"
            ],
            [
             0.2,
             "#de77ae"
            ],
            [
             0.3,
             "#f1b6da"
            ],
            [
             0.4,
             "#fde0ef"
            ],
            [
             0.5,
             "#f7f7f7"
            ],
            [
             0.6,
             "#e6f5d0"
            ],
            [
             0.7,
             "#b8e186"
            ],
            [
             0.8,
             "#7fbc41"
            ],
            [
             0.9,
             "#4d9221"
            ],
            [
             1,
             "#276419"
            ]
           ],
           "sequential": [
            [
             0,
             "#0d0887"
            ],
            [
             0.1111111111111111,
             "#46039f"
            ],
            [
             0.2222222222222222,
             "#7201a8"
            ],
            [
             0.3333333333333333,
             "#9c179e"
            ],
            [
             0.4444444444444444,
             "#bd3786"
            ],
            [
             0.5555555555555556,
             "#d8576b"
            ],
            [
             0.6666666666666666,
             "#ed7953"
            ],
            [
             0.7777777777777778,
             "#fb9f3a"
            ],
            [
             0.8888888888888888,
             "#fdca26"
            ],
            [
             1,
             "#f0f921"
            ]
           ],
           "sequentialminus": [
            [
             0,
             "#0d0887"
            ],
            [
             0.1111111111111111,
             "#46039f"
            ],
            [
             0.2222222222222222,
             "#7201a8"
            ],
            [
             0.3333333333333333,
             "#9c179e"
            ],
            [
             0.4444444444444444,
             "#bd3786"
            ],
            [
             0.5555555555555556,
             "#d8576b"
            ],
            [
             0.6666666666666666,
             "#ed7953"
            ],
            [
             0.7777777777777778,
             "#fb9f3a"
            ],
            [
             0.8888888888888888,
             "#fdca26"
            ],
            [
             1,
             "#f0f921"
            ]
           ]
          },
          "colorway": [
           "#636efa",
           "#EF553B",
           "#00cc96",
           "#ab63fa",
           "#FFA15A",
           "#19d3f3",
           "#FF6692",
           "#B6E880",
           "#FF97FF",
           "#FECB52"
          ],
          "font": {
           "color": "#2a3f5f"
          },
          "geo": {
           "bgcolor": "white",
           "lakecolor": "white",
           "landcolor": "white",
           "showlakes": true,
           "showland": true,
           "subunitcolor": "#C8D4E3"
          },
          "hoverlabel": {
           "align": "left"
          },
          "hovermode": "closest",
          "mapbox": {
           "style": "light"
          },
          "paper_bgcolor": "white",
          "plot_bgcolor": "white",
          "polar": {
           "angularaxis": {
            "gridcolor": "#EBF0F8",
            "linecolor": "#EBF0F8",
            "ticks": ""
           },
           "bgcolor": "white",
           "radialaxis": {
            "gridcolor": "#EBF0F8",
            "linecolor": "#EBF0F8",
            "ticks": ""
           }
          },
          "scene": {
           "xaxis": {
            "backgroundcolor": "white",
            "gridcolor": "#DFE8F3",
            "gridwidth": 2,
            "linecolor": "#EBF0F8",
            "showbackground": true,
            "ticks": "",
            "zerolinecolor": "#EBF0F8"
           },
           "yaxis": {
            "backgroundcolor": "white",
            "gridcolor": "#DFE8F3",
            "gridwidth": 2,
            "linecolor": "#EBF0F8",
            "showbackground": true,
            "ticks": "",
            "zerolinecolor": "#EBF0F8"
           },
           "zaxis": {
            "backgroundcolor": "white",
            "gridcolor": "#DFE8F3",
            "gridwidth": 2,
            "linecolor": "#EBF0F8",
            "showbackground": true,
            "ticks": "",
            "zerolinecolor": "#EBF0F8"
           }
          },
          "shapedefaults": {
           "line": {
            "color": "#2a3f5f"
           }
          },
          "ternary": {
           "aaxis": {
            "gridcolor": "#DFE8F3",
            "linecolor": "#A2B1C6",
            "ticks": ""
           },
           "baxis": {
            "gridcolor": "#DFE8F3",
            "linecolor": "#A2B1C6",
            "ticks": ""
           },
           "bgcolor": "white",
           "caxis": {
            "gridcolor": "#DFE8F3",
            "linecolor": "#A2B1C6",
            "ticks": ""
           }
          },
          "title": {
           "x": 0.05
          },
          "xaxis": {
           "automargin": true,
           "gridcolor": "#EBF0F8",
           "linecolor": "#EBF0F8",
           "ticks": "",
           "title": {
            "standoff": 15
           },
           "zerolinecolor": "#EBF0F8",
           "zerolinewidth": 2
          },
          "yaxis": {
           "automargin": true,
           "gridcolor": "#EBF0F8",
           "linecolor": "#EBF0F8",
           "ticks": "",
           "title": {
            "standoff": 15
           },
           "zerolinecolor": "#EBF0F8",
           "zerolinewidth": 2
          }
         }
        },
        "title": {
         "font": {
          "color": "Black",
          "size": 22
         },
         "text": "Topic Word Scores",
         "x": 0.5,
         "xanchor": "center",
         "yanchor": "top"
        },
        "width": 1000,
        "xaxis": {
         "anchor": "y",
         "domain": [
          0,
          0.175
         ],
         "showgrid": true
        },
        "xaxis2": {
         "anchor": "y2",
         "domain": [
          0.275,
          0.45
         ],
         "showgrid": true
        },
        "xaxis3": {
         "anchor": "y3",
         "domain": [
          0.55,
          0.7250000000000001
         ],
         "showgrid": true
        },
        "xaxis4": {
         "anchor": "y4",
         "domain": [
          0.825,
          1
         ],
         "showgrid": true
        },
        "xaxis5": {
         "anchor": "y5",
         "domain": [
          0,
          0.175
         ],
         "showgrid": true
        },
        "xaxis6": {
         "anchor": "y6",
         "domain": [
          0.275,
          0.45
         ],
         "showgrid": true
        },
        "xaxis7": {
         "anchor": "y7",
         "domain": [
          0.55,
          0.7250000000000001
         ],
         "showgrid": true
        },
        "xaxis8": {
         "anchor": "y8",
         "domain": [
          0.825,
          1
         ],
         "showgrid": true
        },
        "yaxis": {
         "anchor": "x",
         "domain": [
          0.6000000000000001,
          1
         ],
         "showgrid": true
        },
        "yaxis2": {
         "anchor": "x2",
         "domain": [
          0.6000000000000001,
          1
         ],
         "showgrid": true
        },
        "yaxis3": {
         "anchor": "x3",
         "domain": [
          0.6000000000000001,
          1
         ],
         "showgrid": true
        },
        "yaxis4": {
         "anchor": "x4",
         "domain": [
          0.6000000000000001,
          1
         ],
         "showgrid": true
        },
        "yaxis5": {
         "anchor": "x5",
         "domain": [
          0,
          0.4
         ],
         "showgrid": true
        },
        "yaxis6": {
         "anchor": "x6",
         "domain": [
          0,
          0.4
         ],
         "showgrid": true
        },
        "yaxis7": {
         "anchor": "x7",
         "domain": [
          0,
          0.4
         ],
         "showgrid": true
        },
        "yaxis8": {
         "anchor": "x8",
         "domain": [
          0,
          0.4
         ],
         "showgrid": true
        }
       }
      }
     },
     "metadata": {},
     "output_type": "display_data"
    }
   ],
   "source": [
    "topic_adv_model.visualize_barchart()\n"
   ]
  },
  {
   "cell_type": "code",
   "execution_count": 57,
   "metadata": {},
   "outputs": [
    {
     "data": {
      "application/vnd.plotly.v1+json": {
       "config": {
        "plotlyServerURL": "https://plot.ly"
       },
       "data": [
        {
         "customdata": [
          [
           0,
           "회사 | 사람 | 업무 | 연봉 | 직원",
           679
          ],
          [
           1,
           "업무 | 사람 | 회사 | 연봉 | 복지",
           380
          ],
          [
           2,
           "업무 | 사람 | 회사 | 연봉 | 직원",
           132
          ],
          [
           3,
           "업무 | 연봉 | 사람 | 직원 | 회사",
           56
          ],
          [
           4,
           "사람 | 회사 | 업무 | 직원 | 복지",
           48
          ],
          [
           5,
           "업무 | 사람 | 회사 | 연봉 | 야근",
           35
          ],
          [
           6,
           "회사 | 체계 | 거의 | 업무 | 부족함",
           33
          ],
          [
           7,
           "사람 | 회사 | 업무 | 직원 | 연봉",
           32
          ],
          [
           8,
           "사람 | 회사 | 업무 | 연봉 | 복지",
           26
          ]
         ],
         "hovertemplate": "<b>Topic %{customdata[0]}</b><br>%{customdata[1]}<br>Size: %{customdata[2]}",
         "legendgroup": "",
         "marker": {
          "color": "#B0BEC5",
          "line": {
           "color": "DarkSlateGrey",
           "width": 2
          },
          "size": [
           679,
           380,
           132,
           56,
           48,
           35,
           33,
           32,
           26
          ],
          "sizemode": "area",
          "sizeref": 0.424375,
          "symbol": "circle"
         },
         "mode": "markers",
         "name": "",
         "orientation": "v",
         "showlegend": false,
         "type": "scatter",
         "x": [
          5.589980602264404,
          5.073360919952393,
          4.249427795410156,
          4.289745807647705,
          3.338460922241211,
          2.8937158584594727,
          2.0273404121398926,
          2.392545461654663,
          1.8310281038284302
         ],
         "xaxis": "x",
         "y": [
          4.944638729095459,
          5.313729763031006,
          5.629448890686035,
          5.051229953765869,
          5.100831985473633,
          4.607680797576904,
          3.7303483486175537,
          4.17025899887085,
          4.645987510681152
         ],
         "yaxis": "y"
        }
       ],
       "layout": {
        "annotations": [
         {
          "showarrow": false,
          "text": "D1",
          "x": 1.5563738882541656,
          "y": 4.8223311603069305,
          "yshift": 10
         },
         {
          "showarrow": false,
          "text": "D2",
          "x": 3.992425790429115,
          "xshift": 10,
          "y": 6.47386622428894
         }
        ],
        "height": 650,
        "hoverlabel": {
         "bgcolor": "white",
         "font": {
          "family": "Rockwell",
          "size": 16
         }
        },
        "legend": {
         "itemsizing": "constant",
         "tracegroupgap": 0
        },
        "margin": {
         "t": 60
        },
        "shapes": [
         {
          "line": {
           "color": "#CFD8DC",
           "width": 2
          },
          "type": "line",
          "x0": 3.992425790429115,
          "x1": 3.992425790429115,
          "y0": 3.1707960963249207,
          "y1": 6.47386622428894
         },
         {
          "line": {
           "color": "#9E9E9E",
           "width": 2
          },
          "type": "line",
          "x0": 1.5563738882541656,
          "x1": 6.428477692604065,
          "y0": 4.8223311603069305,
          "y1": 4.8223311603069305
         }
        ],
        "sliders": [
         {
          "active": 0,
          "pad": {
           "t": 50
          },
          "steps": [
           {
            "args": [
             {
              "marker.color": [
               [
                "red",
                "#B0BEC5",
                "#B0BEC5",
                "#B0BEC5",
                "#B0BEC5",
                "#B0BEC5",
                "#B0BEC5",
                "#B0BEC5",
                "#B0BEC5"
               ]
              ]
             }
            ],
            "label": "Topic 0",
            "method": "update"
           },
           {
            "args": [
             {
              "marker.color": [
               [
                "#B0BEC5",
                "red",
                "#B0BEC5",
                "#B0BEC5",
                "#B0BEC5",
                "#B0BEC5",
                "#B0BEC5",
                "#B0BEC5",
                "#B0BEC5"
               ]
              ]
             }
            ],
            "label": "Topic 1",
            "method": "update"
           },
           {
            "args": [
             {
              "marker.color": [
               [
                "#B0BEC5",
                "#B0BEC5",
                "red",
                "#B0BEC5",
                "#B0BEC5",
                "#B0BEC5",
                "#B0BEC5",
                "#B0BEC5",
                "#B0BEC5"
               ]
              ]
             }
            ],
            "label": "Topic 2",
            "method": "update"
           },
           {
            "args": [
             {
              "marker.color": [
               [
                "#B0BEC5",
                "#B0BEC5",
                "#B0BEC5",
                "red",
                "#B0BEC5",
                "#B0BEC5",
                "#B0BEC5",
                "#B0BEC5",
                "#B0BEC5"
               ]
              ]
             }
            ],
            "label": "Topic 3",
            "method": "update"
           },
           {
            "args": [
             {
              "marker.color": [
               [
                "#B0BEC5",
                "#B0BEC5",
                "#B0BEC5",
                "#B0BEC5",
                "red",
                "#B0BEC5",
                "#B0BEC5",
                "#B0BEC5",
                "#B0BEC5"
               ]
              ]
             }
            ],
            "label": "Topic 4",
            "method": "update"
           },
           {
            "args": [
             {
              "marker.color": [
               [
                "#B0BEC5",
                "#B0BEC5",
                "#B0BEC5",
                "#B0BEC5",
                "#B0BEC5",
                "red",
                "#B0BEC5",
                "#B0BEC5",
                "#B0BEC5"
               ]
              ]
             }
            ],
            "label": "Topic 5",
            "method": "update"
           },
           {
            "args": [
             {
              "marker.color": [
               [
                "#B0BEC5",
                "#B0BEC5",
                "#B0BEC5",
                "#B0BEC5",
                "#B0BEC5",
                "#B0BEC5",
                "red",
                "#B0BEC5",
                "#B0BEC5"
               ]
              ]
             }
            ],
            "label": "Topic 6",
            "method": "update"
           },
           {
            "args": [
             {
              "marker.color": [
               [
                "#B0BEC5",
                "#B0BEC5",
                "#B0BEC5",
                "#B0BEC5",
                "#B0BEC5",
                "#B0BEC5",
                "#B0BEC5",
                "red",
                "#B0BEC5"
               ]
              ]
             }
            ],
            "label": "Topic 7",
            "method": "update"
           },
           {
            "args": [
             {
              "marker.color": [
               [
                "#B0BEC5",
                "#B0BEC5",
                "#B0BEC5",
                "#B0BEC5",
                "#B0BEC5",
                "#B0BEC5",
                "#B0BEC5",
                "#B0BEC5",
                "red"
               ]
              ]
             }
            ],
            "label": "Topic 8",
            "method": "update"
           }
          ]
         }
        ],
        "template": {
         "data": {
          "bar": [
           {
            "error_x": {
             "color": "rgb(36,36,36)"
            },
            "error_y": {
             "color": "rgb(36,36,36)"
            },
            "marker": {
             "line": {
              "color": "white",
              "width": 0.5
             },
             "pattern": {
              "fillmode": "overlay",
              "size": 10,
              "solidity": 0.2
             }
            },
            "type": "bar"
           }
          ],
          "barpolar": [
           {
            "marker": {
             "line": {
              "color": "white",
              "width": 0.5
             },
             "pattern": {
              "fillmode": "overlay",
              "size": 10,
              "solidity": 0.2
             }
            },
            "type": "barpolar"
           }
          ],
          "carpet": [
           {
            "aaxis": {
             "endlinecolor": "rgb(36,36,36)",
             "gridcolor": "white",
             "linecolor": "white",
             "minorgridcolor": "white",
             "startlinecolor": "rgb(36,36,36)"
            },
            "baxis": {
             "endlinecolor": "rgb(36,36,36)",
             "gridcolor": "white",
             "linecolor": "white",
             "minorgridcolor": "white",
             "startlinecolor": "rgb(36,36,36)"
            },
            "type": "carpet"
           }
          ],
          "choropleth": [
           {
            "colorbar": {
             "outlinewidth": 1,
             "tickcolor": "rgb(36,36,36)",
             "ticks": "outside"
            },
            "type": "choropleth"
           }
          ],
          "contour": [
           {
            "colorbar": {
             "outlinewidth": 1,
             "tickcolor": "rgb(36,36,36)",
             "ticks": "outside"
            },
            "colorscale": [
             [
              0,
              "#440154"
             ],
             [
              0.1111111111111111,
              "#482878"
             ],
             [
              0.2222222222222222,
              "#3e4989"
             ],
             [
              0.3333333333333333,
              "#31688e"
             ],
             [
              0.4444444444444444,
              "#26828e"
             ],
             [
              0.5555555555555556,
              "#1f9e89"
             ],
             [
              0.6666666666666666,
              "#35b779"
             ],
             [
              0.7777777777777778,
              "#6ece58"
             ],
             [
              0.8888888888888888,
              "#b5de2b"
             ],
             [
              1,
              "#fde725"
             ]
            ],
            "type": "contour"
           }
          ],
          "contourcarpet": [
           {
            "colorbar": {
             "outlinewidth": 1,
             "tickcolor": "rgb(36,36,36)",
             "ticks": "outside"
            },
            "type": "contourcarpet"
           }
          ],
          "heatmap": [
           {
            "colorbar": {
             "outlinewidth": 1,
             "tickcolor": "rgb(36,36,36)",
             "ticks": "outside"
            },
            "colorscale": [
             [
              0,
              "#440154"
             ],
             [
              0.1111111111111111,
              "#482878"
             ],
             [
              0.2222222222222222,
              "#3e4989"
             ],
             [
              0.3333333333333333,
              "#31688e"
             ],
             [
              0.4444444444444444,
              "#26828e"
             ],
             [
              0.5555555555555556,
              "#1f9e89"
             ],
             [
              0.6666666666666666,
              "#35b779"
             ],
             [
              0.7777777777777778,
              "#6ece58"
             ],
             [
              0.8888888888888888,
              "#b5de2b"
             ],
             [
              1,
              "#fde725"
             ]
            ],
            "type": "heatmap"
           }
          ],
          "heatmapgl": [
           {
            "colorbar": {
             "outlinewidth": 1,
             "tickcolor": "rgb(36,36,36)",
             "ticks": "outside"
            },
            "colorscale": [
             [
              0,
              "#440154"
             ],
             [
              0.1111111111111111,
              "#482878"
             ],
             [
              0.2222222222222222,
              "#3e4989"
             ],
             [
              0.3333333333333333,
              "#31688e"
             ],
             [
              0.4444444444444444,
              "#26828e"
             ],
             [
              0.5555555555555556,
              "#1f9e89"
             ],
             [
              0.6666666666666666,
              "#35b779"
             ],
             [
              0.7777777777777778,
              "#6ece58"
             ],
             [
              0.8888888888888888,
              "#b5de2b"
             ],
             [
              1,
              "#fde725"
             ]
            ],
            "type": "heatmapgl"
           }
          ],
          "histogram": [
           {
            "marker": {
             "line": {
              "color": "white",
              "width": 0.6
             }
            },
            "type": "histogram"
           }
          ],
          "histogram2d": [
           {
            "colorbar": {
             "outlinewidth": 1,
             "tickcolor": "rgb(36,36,36)",
             "ticks": "outside"
            },
            "colorscale": [
             [
              0,
              "#440154"
             ],
             [
              0.1111111111111111,
              "#482878"
             ],
             [
              0.2222222222222222,
              "#3e4989"
             ],
             [
              0.3333333333333333,
              "#31688e"
             ],
             [
              0.4444444444444444,
              "#26828e"
             ],
             [
              0.5555555555555556,
              "#1f9e89"
             ],
             [
              0.6666666666666666,
              "#35b779"
             ],
             [
              0.7777777777777778,
              "#6ece58"
             ],
             [
              0.8888888888888888,
              "#b5de2b"
             ],
             [
              1,
              "#fde725"
             ]
            ],
            "type": "histogram2d"
           }
          ],
          "histogram2dcontour": [
           {
            "colorbar": {
             "outlinewidth": 1,
             "tickcolor": "rgb(36,36,36)",
             "ticks": "outside"
            },
            "colorscale": [
             [
              0,
              "#440154"
             ],
             [
              0.1111111111111111,
              "#482878"
             ],
             [
              0.2222222222222222,
              "#3e4989"
             ],
             [
              0.3333333333333333,
              "#31688e"
             ],
             [
              0.4444444444444444,
              "#26828e"
             ],
             [
              0.5555555555555556,
              "#1f9e89"
             ],
             [
              0.6666666666666666,
              "#35b779"
             ],
             [
              0.7777777777777778,
              "#6ece58"
             ],
             [
              0.8888888888888888,
              "#b5de2b"
             ],
             [
              1,
              "#fde725"
             ]
            ],
            "type": "histogram2dcontour"
           }
          ],
          "mesh3d": [
           {
            "colorbar": {
             "outlinewidth": 1,
             "tickcolor": "rgb(36,36,36)",
             "ticks": "outside"
            },
            "type": "mesh3d"
           }
          ],
          "parcoords": [
           {
            "line": {
             "colorbar": {
              "outlinewidth": 1,
              "tickcolor": "rgb(36,36,36)",
              "ticks": "outside"
             }
            },
            "type": "parcoords"
           }
          ],
          "pie": [
           {
            "automargin": true,
            "type": "pie"
           }
          ],
          "scatter": [
           {
            "fillpattern": {
             "fillmode": "overlay",
             "size": 10,
             "solidity": 0.2
            },
            "type": "scatter"
           }
          ],
          "scatter3d": [
           {
            "line": {
             "colorbar": {
              "outlinewidth": 1,
              "tickcolor": "rgb(36,36,36)",
              "ticks": "outside"
             }
            },
            "marker": {
             "colorbar": {
              "outlinewidth": 1,
              "tickcolor": "rgb(36,36,36)",
              "ticks": "outside"
             }
            },
            "type": "scatter3d"
           }
          ],
          "scattercarpet": [
           {
            "marker": {
             "colorbar": {
              "outlinewidth": 1,
              "tickcolor": "rgb(36,36,36)",
              "ticks": "outside"
             }
            },
            "type": "scattercarpet"
           }
          ],
          "scattergeo": [
           {
            "marker": {
             "colorbar": {
              "outlinewidth": 1,
              "tickcolor": "rgb(36,36,36)",
              "ticks": "outside"
             }
            },
            "type": "scattergeo"
           }
          ],
          "scattergl": [
           {
            "marker": {
             "colorbar": {
              "outlinewidth": 1,
              "tickcolor": "rgb(36,36,36)",
              "ticks": "outside"
             }
            },
            "type": "scattergl"
           }
          ],
          "scattermapbox": [
           {
            "marker": {
             "colorbar": {
              "outlinewidth": 1,
              "tickcolor": "rgb(36,36,36)",
              "ticks": "outside"
             }
            },
            "type": "scattermapbox"
           }
          ],
          "scatterpolar": [
           {
            "marker": {
             "colorbar": {
              "outlinewidth": 1,
              "tickcolor": "rgb(36,36,36)",
              "ticks": "outside"
             }
            },
            "type": "scatterpolar"
           }
          ],
          "scatterpolargl": [
           {
            "marker": {
             "colorbar": {
              "outlinewidth": 1,
              "tickcolor": "rgb(36,36,36)",
              "ticks": "outside"
             }
            },
            "type": "scatterpolargl"
           }
          ],
          "scatterternary": [
           {
            "marker": {
             "colorbar": {
              "outlinewidth": 1,
              "tickcolor": "rgb(36,36,36)",
              "ticks": "outside"
             }
            },
            "type": "scatterternary"
           }
          ],
          "surface": [
           {
            "colorbar": {
             "outlinewidth": 1,
             "tickcolor": "rgb(36,36,36)",
             "ticks": "outside"
            },
            "colorscale": [
             [
              0,
              "#440154"
             ],
             [
              0.1111111111111111,
              "#482878"
             ],
             [
              0.2222222222222222,
              "#3e4989"
             ],
             [
              0.3333333333333333,
              "#31688e"
             ],
             [
              0.4444444444444444,
              "#26828e"
             ],
             [
              0.5555555555555556,
              "#1f9e89"
             ],
             [
              0.6666666666666666,
              "#35b779"
             ],
             [
              0.7777777777777778,
              "#6ece58"
             ],
             [
              0.8888888888888888,
              "#b5de2b"
             ],
             [
              1,
              "#fde725"
             ]
            ],
            "type": "surface"
           }
          ],
          "table": [
           {
            "cells": {
             "fill": {
              "color": "rgb(237,237,237)"
             },
             "line": {
              "color": "white"
             }
            },
            "header": {
             "fill": {
              "color": "rgb(217,217,217)"
             },
             "line": {
              "color": "white"
             }
            },
            "type": "table"
           }
          ]
         },
         "layout": {
          "annotationdefaults": {
           "arrowhead": 0,
           "arrowwidth": 1
          },
          "autotypenumbers": "strict",
          "coloraxis": {
           "colorbar": {
            "outlinewidth": 1,
            "tickcolor": "rgb(36,36,36)",
            "ticks": "outside"
           }
          },
          "colorscale": {
           "diverging": [
            [
             0,
             "rgb(103,0,31)"
            ],
            [
             0.1,
             "rgb(178,24,43)"
            ],
            [
             0.2,
             "rgb(214,96,77)"
            ],
            [
             0.3,
             "rgb(244,165,130)"
            ],
            [
             0.4,
             "rgb(253,219,199)"
            ],
            [
             0.5,
             "rgb(247,247,247)"
            ],
            [
             0.6,
             "rgb(209,229,240)"
            ],
            [
             0.7,
             "rgb(146,197,222)"
            ],
            [
             0.8,
             "rgb(67,147,195)"
            ],
            [
             0.9,
             "rgb(33,102,172)"
            ],
            [
             1,
             "rgb(5,48,97)"
            ]
           ],
           "sequential": [
            [
             0,
             "#440154"
            ],
            [
             0.1111111111111111,
             "#482878"
            ],
            [
             0.2222222222222222,
             "#3e4989"
            ],
            [
             0.3333333333333333,
             "#31688e"
            ],
            [
             0.4444444444444444,
             "#26828e"
            ],
            [
             0.5555555555555556,
             "#1f9e89"
            ],
            [
             0.6666666666666666,
             "#35b779"
            ],
            [
             0.7777777777777778,
             "#6ece58"
            ],
            [
             0.8888888888888888,
             "#b5de2b"
            ],
            [
             1,
             "#fde725"
            ]
           ],
           "sequentialminus": [
            [
             0,
             "#440154"
            ],
            [
             0.1111111111111111,
             "#482878"
            ],
            [
             0.2222222222222222,
             "#3e4989"
            ],
            [
             0.3333333333333333,
             "#31688e"
            ],
            [
             0.4444444444444444,
             "#26828e"
            ],
            [
             0.5555555555555556,
             "#1f9e89"
            ],
            [
             0.6666666666666666,
             "#35b779"
            ],
            [
             0.7777777777777778,
             "#6ece58"
            ],
            [
             0.8888888888888888,
             "#b5de2b"
            ],
            [
             1,
             "#fde725"
            ]
           ]
          },
          "colorway": [
           "#1F77B4",
           "#FF7F0E",
           "#2CA02C",
           "#D62728",
           "#9467BD",
           "#8C564B",
           "#E377C2",
           "#7F7F7F",
           "#BCBD22",
           "#17BECF"
          ],
          "font": {
           "color": "rgb(36,36,36)"
          },
          "geo": {
           "bgcolor": "white",
           "lakecolor": "white",
           "landcolor": "white",
           "showlakes": true,
           "showland": true,
           "subunitcolor": "white"
          },
          "hoverlabel": {
           "align": "left"
          },
          "hovermode": "closest",
          "mapbox": {
           "style": "light"
          },
          "paper_bgcolor": "white",
          "plot_bgcolor": "white",
          "polar": {
           "angularaxis": {
            "gridcolor": "rgb(232,232,232)",
            "linecolor": "rgb(36,36,36)",
            "showgrid": false,
            "showline": true,
            "ticks": "outside"
           },
           "bgcolor": "white",
           "radialaxis": {
            "gridcolor": "rgb(232,232,232)",
            "linecolor": "rgb(36,36,36)",
            "showgrid": false,
            "showline": true,
            "ticks": "outside"
           }
          },
          "scene": {
           "xaxis": {
            "backgroundcolor": "white",
            "gridcolor": "rgb(232,232,232)",
            "gridwidth": 2,
            "linecolor": "rgb(36,36,36)",
            "showbackground": true,
            "showgrid": false,
            "showline": true,
            "ticks": "outside",
            "zeroline": false,
            "zerolinecolor": "rgb(36,36,36)"
           },
           "yaxis": {
            "backgroundcolor": "white",
            "gridcolor": "rgb(232,232,232)",
            "gridwidth": 2,
            "linecolor": "rgb(36,36,36)",
            "showbackground": true,
            "showgrid": false,
            "showline": true,
            "ticks": "outside",
            "zeroline": false,
            "zerolinecolor": "rgb(36,36,36)"
           },
           "zaxis": {
            "backgroundcolor": "white",
            "gridcolor": "rgb(232,232,232)",
            "gridwidth": 2,
            "linecolor": "rgb(36,36,36)",
            "showbackground": true,
            "showgrid": false,
            "showline": true,
            "ticks": "outside",
            "zeroline": false,
            "zerolinecolor": "rgb(36,36,36)"
           }
          },
          "shapedefaults": {
           "fillcolor": "black",
           "line": {
            "width": 0
           },
           "opacity": 0.3
          },
          "ternary": {
           "aaxis": {
            "gridcolor": "rgb(232,232,232)",
            "linecolor": "rgb(36,36,36)",
            "showgrid": false,
            "showline": true,
            "ticks": "outside"
           },
           "baxis": {
            "gridcolor": "rgb(232,232,232)",
            "linecolor": "rgb(36,36,36)",
            "showgrid": false,
            "showline": true,
            "ticks": "outside"
           },
           "bgcolor": "white",
           "caxis": {
            "gridcolor": "rgb(232,232,232)",
            "linecolor": "rgb(36,36,36)",
            "showgrid": false,
            "showline": true,
            "ticks": "outside"
           }
          },
          "title": {
           "x": 0.05
          },
          "xaxis": {
           "automargin": true,
           "gridcolor": "rgb(232,232,232)",
           "linecolor": "rgb(36,36,36)",
           "showgrid": false,
           "showline": true,
           "ticks": "outside",
           "title": {
            "standoff": 15
           },
           "zeroline": false,
           "zerolinecolor": "rgb(36,36,36)"
          },
          "yaxis": {
           "automargin": true,
           "gridcolor": "rgb(232,232,232)",
           "linecolor": "rgb(36,36,36)",
           "showgrid": false,
           "showline": true,
           "ticks": "outside",
           "title": {
            "standoff": 15
           },
           "zeroline": false,
           "zerolinecolor": "rgb(36,36,36)"
          }
         }
        },
        "title": {
         "font": {
          "color": "Black",
          "size": 22
         },
         "text": "<b>Intertopic Distance Map</b>",
         "x": 0.5,
         "xanchor": "center",
         "y": 0.95,
         "yanchor": "top"
        },
        "width": 650,
        "xaxis": {
         "anchor": "y",
         "domain": [
          0,
          1
         ],
         "range": [
          1.5563738882541656,
          6.428477692604065
         ],
         "title": {
          "text": ""
         },
         "visible": false
        },
        "yaxis": {
         "anchor": "x",
         "domain": [
          0,
          1
         ],
         "range": [
          3.1707960963249207,
          6.47386622428894
         ],
         "title": {
          "text": ""
         },
         "visible": false
        }
       }
      }
     },
     "metadata": {},
     "output_type": "display_data"
    }
   ],
   "source": [
    "topic_dadv_model.visualize_topics()"
   ]
  },
  {
   "cell_type": "code",
   "execution_count": 58,
   "metadata": {},
   "outputs": [
    {
     "data": {
      "application/vnd.plotly.v1+json": {
       "config": {
        "plotlyServerURL": "https://plot.ly"
       },
       "data": [
        {
         "marker": {
          "color": "#D55E00"
         },
         "orientation": "h",
         "type": "bar",
         "x": [
          0.026546938746485865,
          0.030740948125337942,
          0.034822860329741336,
          0.036965361525288364,
          0.03703263347310308
         ],
         "xaxis": "x",
         "y": [
          "직원  ",
          "연봉  ",
          "업무  ",
          "사람  ",
          "회사  "
         ],
         "yaxis": "y"
        },
        {
         "marker": {
          "color": "#0072B2"
         },
         "orientation": "h",
         "type": "bar",
         "x": [
          0.0267797436293924,
          0.03401888754112355,
          0.03599250570915879,
          0.036354177302373315,
          0.03766006259218355
         ],
         "xaxis": "x2",
         "y": [
          "복지  ",
          "연봉  ",
          "회사  ",
          "사람  ",
          "업무  "
         ],
         "yaxis": "y2"
        },
        {
         "marker": {
          "color": "#CC79A7"
         },
         "orientation": "h",
         "type": "bar",
         "x": [
          0.029585654222679288,
          0.03338265814413075,
          0.03527626216387135,
          0.03695882290281862,
          0.03819082784605673
         ],
         "xaxis": "x3",
         "y": [
          "직원  ",
          "연봉  ",
          "회사  ",
          "사람  ",
          "업무  "
         ],
         "yaxis": "y3"
        },
        {
         "marker": {
          "color": "#E69F00"
         },
         "orientation": "h",
         "type": "bar",
         "x": [
          0.031618009917901896,
          0.03195826668587782,
          0.03614625043962718,
          0.036296036451178106,
          0.04192460049242977
         ],
         "xaxis": "x4",
         "y": [
          "회사  ",
          "직원  ",
          "사람  ",
          "연봉  ",
          "업무  "
         ],
         "yaxis": "y4"
        },
        {
         "marker": {
          "color": "#56B4E9"
         },
         "orientation": "h",
         "type": "bar",
         "x": [
          0.026200791814312313,
          0.031230386302540124,
          0.032794844293661335,
          0.04213260023774835,
          0.04424341890595174
         ],
         "xaxis": "x5",
         "y": [
          "복지  ",
          "직원  ",
          "업무  ",
          "회사  ",
          "사람  "
         ],
         "yaxis": "y5"
        },
        {
         "marker": {
          "color": "#009E73"
         },
         "orientation": "h",
         "type": "bar",
         "x": [
          0.027047939714351047,
          0.028327055304925894,
          0.034110661577849304,
          0.037876973797502586,
          0.039483694623437524
         ],
         "xaxis": "x6",
         "y": [
          "야근  ",
          "연봉  ",
          "회사  ",
          "사람  ",
          "업무  "
         ],
         "yaxis": "y6"
        },
        {
         "marker": {
          "color": "#F0E442"
         },
         "orientation": "h",
         "type": "bar",
         "x": [
          0.03706215498713043,
          0.04022872225066148,
          0.04040755064840781,
          0.04517057707846089,
          0.05009072300815484
         ],
         "xaxis": "x7",
         "y": [
          "부족함  ",
          "업무  ",
          "거의  ",
          "체계  ",
          "회사  "
         ],
         "yaxis": "y7"
        },
        {
         "marker": {
          "color": "#D55E00"
         },
         "orientation": "h",
         "type": "bar",
         "x": [
          0.03190580836407005,
          0.032984142241263684,
          0.03309029226588407,
          0.03482260544779189,
          0.04225414436973388
         ],
         "xaxis": "x8",
         "y": [
          "연봉  ",
          "직원  ",
          "업무  ",
          "회사  ",
          "사람  "
         ],
         "yaxis": "y8"
        }
       ],
       "layout": {
        "annotations": [
         {
          "font": {
           "size": 16
          },
          "showarrow": false,
          "text": "Topic 0",
          "x": 0.0875,
          "xanchor": "center",
          "xref": "paper",
          "y": 1,
          "yanchor": "bottom",
          "yref": "paper"
         },
         {
          "font": {
           "size": 16
          },
          "showarrow": false,
          "text": "Topic 1",
          "x": 0.36250000000000004,
          "xanchor": "center",
          "xref": "paper",
          "y": 1,
          "yanchor": "bottom",
          "yref": "paper"
         },
         {
          "font": {
           "size": 16
          },
          "showarrow": false,
          "text": "Topic 2",
          "x": 0.6375000000000001,
          "xanchor": "center",
          "xref": "paper",
          "y": 1,
          "yanchor": "bottom",
          "yref": "paper"
         },
         {
          "font": {
           "size": 16
          },
          "showarrow": false,
          "text": "Topic 3",
          "x": 0.9125,
          "xanchor": "center",
          "xref": "paper",
          "y": 1,
          "yanchor": "bottom",
          "yref": "paper"
         },
         {
          "font": {
           "size": 16
          },
          "showarrow": false,
          "text": "Topic 4",
          "x": 0.0875,
          "xanchor": "center",
          "xref": "paper",
          "y": 0.4,
          "yanchor": "bottom",
          "yref": "paper"
         },
         {
          "font": {
           "size": 16
          },
          "showarrow": false,
          "text": "Topic 5",
          "x": 0.36250000000000004,
          "xanchor": "center",
          "xref": "paper",
          "y": 0.4,
          "yanchor": "bottom",
          "yref": "paper"
         },
         {
          "font": {
           "size": 16
          },
          "showarrow": false,
          "text": "Topic 6",
          "x": 0.6375000000000001,
          "xanchor": "center",
          "xref": "paper",
          "y": 0.4,
          "yanchor": "bottom",
          "yref": "paper"
         },
         {
          "font": {
           "size": 16
          },
          "showarrow": false,
          "text": "Topic 7",
          "x": 0.9125,
          "xanchor": "center",
          "xref": "paper",
          "y": 0.4,
          "yanchor": "bottom",
          "yref": "paper"
         }
        ],
        "height": 500,
        "hoverlabel": {
         "bgcolor": "white",
         "font": {
          "family": "Rockwell",
          "size": 16
         }
        },
        "showlegend": false,
        "template": {
         "data": {
          "bar": [
           {
            "error_x": {
             "color": "#2a3f5f"
            },
            "error_y": {
             "color": "#2a3f5f"
            },
            "marker": {
             "line": {
              "color": "white",
              "width": 0.5
             },
             "pattern": {
              "fillmode": "overlay",
              "size": 10,
              "solidity": 0.2
             }
            },
            "type": "bar"
           }
          ],
          "barpolar": [
           {
            "marker": {
             "line": {
              "color": "white",
              "width": 0.5
             },
             "pattern": {
              "fillmode": "overlay",
              "size": 10,
              "solidity": 0.2
             }
            },
            "type": "barpolar"
           }
          ],
          "carpet": [
           {
            "aaxis": {
             "endlinecolor": "#2a3f5f",
             "gridcolor": "#C8D4E3",
             "linecolor": "#C8D4E3",
             "minorgridcolor": "#C8D4E3",
             "startlinecolor": "#2a3f5f"
            },
            "baxis": {
             "endlinecolor": "#2a3f5f",
             "gridcolor": "#C8D4E3",
             "linecolor": "#C8D4E3",
             "minorgridcolor": "#C8D4E3",
             "startlinecolor": "#2a3f5f"
            },
            "type": "carpet"
           }
          ],
          "choropleth": [
           {
            "colorbar": {
             "outlinewidth": 0,
             "ticks": ""
            },
            "type": "choropleth"
           }
          ],
          "contour": [
           {
            "colorbar": {
             "outlinewidth": 0,
             "ticks": ""
            },
            "colorscale": [
             [
              0,
              "#0d0887"
             ],
             [
              0.1111111111111111,
              "#46039f"
             ],
             [
              0.2222222222222222,
              "#7201a8"
             ],
             [
              0.3333333333333333,
              "#9c179e"
             ],
             [
              0.4444444444444444,
              "#bd3786"
             ],
             [
              0.5555555555555556,
              "#d8576b"
             ],
             [
              0.6666666666666666,
              "#ed7953"
             ],
             [
              0.7777777777777778,
              "#fb9f3a"
             ],
             [
              0.8888888888888888,
              "#fdca26"
             ],
             [
              1,
              "#f0f921"
             ]
            ],
            "type": "contour"
           }
          ],
          "contourcarpet": [
           {
            "colorbar": {
             "outlinewidth": 0,
             "ticks": ""
            },
            "type": "contourcarpet"
           }
          ],
          "heatmap": [
           {
            "colorbar": {
             "outlinewidth": 0,
             "ticks": ""
            },
            "colorscale": [
             [
              0,
              "#0d0887"
             ],
             [
              0.1111111111111111,
              "#46039f"
             ],
             [
              0.2222222222222222,
              "#7201a8"
             ],
             [
              0.3333333333333333,
              "#9c179e"
             ],
             [
              0.4444444444444444,
              "#bd3786"
             ],
             [
              0.5555555555555556,
              "#d8576b"
             ],
             [
              0.6666666666666666,
              "#ed7953"
             ],
             [
              0.7777777777777778,
              "#fb9f3a"
             ],
             [
              0.8888888888888888,
              "#fdca26"
             ],
             [
              1,
              "#f0f921"
             ]
            ],
            "type": "heatmap"
           }
          ],
          "heatmapgl": [
           {
            "colorbar": {
             "outlinewidth": 0,
             "ticks": ""
            },
            "colorscale": [
             [
              0,
              "#0d0887"
             ],
             [
              0.1111111111111111,
              "#46039f"
             ],
             [
              0.2222222222222222,
              "#7201a8"
             ],
             [
              0.3333333333333333,
              "#9c179e"
             ],
             [
              0.4444444444444444,
              "#bd3786"
             ],
             [
              0.5555555555555556,
              "#d8576b"
             ],
             [
              0.6666666666666666,
              "#ed7953"
             ],
             [
              0.7777777777777778,
              "#fb9f3a"
             ],
             [
              0.8888888888888888,
              "#fdca26"
             ],
             [
              1,
              "#f0f921"
             ]
            ],
            "type": "heatmapgl"
           }
          ],
          "histogram": [
           {
            "marker": {
             "pattern": {
              "fillmode": "overlay",
              "size": 10,
              "solidity": 0.2
             }
            },
            "type": "histogram"
           }
          ],
          "histogram2d": [
           {
            "colorbar": {
             "outlinewidth": 0,
             "ticks": ""
            },
            "colorscale": [
             [
              0,
              "#0d0887"
             ],
             [
              0.1111111111111111,
              "#46039f"
             ],
             [
              0.2222222222222222,
              "#7201a8"
             ],
             [
              0.3333333333333333,
              "#9c179e"
             ],
             [
              0.4444444444444444,
              "#bd3786"
             ],
             [
              0.5555555555555556,
              "#d8576b"
             ],
             [
              0.6666666666666666,
              "#ed7953"
             ],
             [
              0.7777777777777778,
              "#fb9f3a"
             ],
             [
              0.8888888888888888,
              "#fdca26"
             ],
             [
              1,
              "#f0f921"
             ]
            ],
            "type": "histogram2d"
           }
          ],
          "histogram2dcontour": [
           {
            "colorbar": {
             "outlinewidth": 0,
             "ticks": ""
            },
            "colorscale": [
             [
              0,
              "#0d0887"
             ],
             [
              0.1111111111111111,
              "#46039f"
             ],
             [
              0.2222222222222222,
              "#7201a8"
             ],
             [
              0.3333333333333333,
              "#9c179e"
             ],
             [
              0.4444444444444444,
              "#bd3786"
             ],
             [
              0.5555555555555556,
              "#d8576b"
             ],
             [
              0.6666666666666666,
              "#ed7953"
             ],
             [
              0.7777777777777778,
              "#fb9f3a"
             ],
             [
              0.8888888888888888,
              "#fdca26"
             ],
             [
              1,
              "#f0f921"
             ]
            ],
            "type": "histogram2dcontour"
           }
          ],
          "mesh3d": [
           {
            "colorbar": {
             "outlinewidth": 0,
             "ticks": ""
            },
            "type": "mesh3d"
           }
          ],
          "parcoords": [
           {
            "line": {
             "colorbar": {
              "outlinewidth": 0,
              "ticks": ""
             }
            },
            "type": "parcoords"
           }
          ],
          "pie": [
           {
            "automargin": true,
            "type": "pie"
           }
          ],
          "scatter": [
           {
            "fillpattern": {
             "fillmode": "overlay",
             "size": 10,
             "solidity": 0.2
            },
            "type": "scatter"
           }
          ],
          "scatter3d": [
           {
            "line": {
             "colorbar": {
              "outlinewidth": 0,
              "ticks": ""
             }
            },
            "marker": {
             "colorbar": {
              "outlinewidth": 0,
              "ticks": ""
             }
            },
            "type": "scatter3d"
           }
          ],
          "scattercarpet": [
           {
            "marker": {
             "colorbar": {
              "outlinewidth": 0,
              "ticks": ""
             }
            },
            "type": "scattercarpet"
           }
          ],
          "scattergeo": [
           {
            "marker": {
             "colorbar": {
              "outlinewidth": 0,
              "ticks": ""
             }
            },
            "type": "scattergeo"
           }
          ],
          "scattergl": [
           {
            "marker": {
             "colorbar": {
              "outlinewidth": 0,
              "ticks": ""
             }
            },
            "type": "scattergl"
           }
          ],
          "scattermapbox": [
           {
            "marker": {
             "colorbar": {
              "outlinewidth": 0,
              "ticks": ""
             }
            },
            "type": "scattermapbox"
           }
          ],
          "scatterpolar": [
           {
            "marker": {
             "colorbar": {
              "outlinewidth": 0,
              "ticks": ""
             }
            },
            "type": "scatterpolar"
           }
          ],
          "scatterpolargl": [
           {
            "marker": {
             "colorbar": {
              "outlinewidth": 0,
              "ticks": ""
             }
            },
            "type": "scatterpolargl"
           }
          ],
          "scatterternary": [
           {
            "marker": {
             "colorbar": {
              "outlinewidth": 0,
              "ticks": ""
             }
            },
            "type": "scatterternary"
           }
          ],
          "surface": [
           {
            "colorbar": {
             "outlinewidth": 0,
             "ticks": ""
            },
            "colorscale": [
             [
              0,
              "#0d0887"
             ],
             [
              0.1111111111111111,
              "#46039f"
             ],
             [
              0.2222222222222222,
              "#7201a8"
             ],
             [
              0.3333333333333333,
              "#9c179e"
             ],
             [
              0.4444444444444444,
              "#bd3786"
             ],
             [
              0.5555555555555556,
              "#d8576b"
             ],
             [
              0.6666666666666666,
              "#ed7953"
             ],
             [
              0.7777777777777778,
              "#fb9f3a"
             ],
             [
              0.8888888888888888,
              "#fdca26"
             ],
             [
              1,
              "#f0f921"
             ]
            ],
            "type": "surface"
           }
          ],
          "table": [
           {
            "cells": {
             "fill": {
              "color": "#EBF0F8"
             },
             "line": {
              "color": "white"
             }
            },
            "header": {
             "fill": {
              "color": "#C8D4E3"
             },
             "line": {
              "color": "white"
             }
            },
            "type": "table"
           }
          ]
         },
         "layout": {
          "annotationdefaults": {
           "arrowcolor": "#2a3f5f",
           "arrowhead": 0,
           "arrowwidth": 1
          },
          "autotypenumbers": "strict",
          "coloraxis": {
           "colorbar": {
            "outlinewidth": 0,
            "ticks": ""
           }
          },
          "colorscale": {
           "diverging": [
            [
             0,
             "#8e0152"
            ],
            [
             0.1,
             "#c51b7d"
            ],
            [
             0.2,
             "#de77ae"
            ],
            [
             0.3,
             "#f1b6da"
            ],
            [
             0.4,
             "#fde0ef"
            ],
            [
             0.5,
             "#f7f7f7"
            ],
            [
             0.6,
             "#e6f5d0"
            ],
            [
             0.7,
             "#b8e186"
            ],
            [
             0.8,
             "#7fbc41"
            ],
            [
             0.9,
             "#4d9221"
            ],
            [
             1,
             "#276419"
            ]
           ],
           "sequential": [
            [
             0,
             "#0d0887"
            ],
            [
             0.1111111111111111,
             "#46039f"
            ],
            [
             0.2222222222222222,
             "#7201a8"
            ],
            [
             0.3333333333333333,
             "#9c179e"
            ],
            [
             0.4444444444444444,
             "#bd3786"
            ],
            [
             0.5555555555555556,
             "#d8576b"
            ],
            [
             0.6666666666666666,
             "#ed7953"
            ],
            [
             0.7777777777777778,
             "#fb9f3a"
            ],
            [
             0.8888888888888888,
             "#fdca26"
            ],
            [
             1,
             "#f0f921"
            ]
           ],
           "sequentialminus": [
            [
             0,
             "#0d0887"
            ],
            [
             0.1111111111111111,
             "#46039f"
            ],
            [
             0.2222222222222222,
             "#7201a8"
            ],
            [
             0.3333333333333333,
             "#9c179e"
            ],
            [
             0.4444444444444444,
             "#bd3786"
            ],
            [
             0.5555555555555556,
             "#d8576b"
            ],
            [
             0.6666666666666666,
             "#ed7953"
            ],
            [
             0.7777777777777778,
             "#fb9f3a"
            ],
            [
             0.8888888888888888,
             "#fdca26"
            ],
            [
             1,
             "#f0f921"
            ]
           ]
          },
          "colorway": [
           "#636efa",
           "#EF553B",
           "#00cc96",
           "#ab63fa",
           "#FFA15A",
           "#19d3f3",
           "#FF6692",
           "#B6E880",
           "#FF97FF",
           "#FECB52"
          ],
          "font": {
           "color": "#2a3f5f"
          },
          "geo": {
           "bgcolor": "white",
           "lakecolor": "white",
           "landcolor": "white",
           "showlakes": true,
           "showland": true,
           "subunitcolor": "#C8D4E3"
          },
          "hoverlabel": {
           "align": "left"
          },
          "hovermode": "closest",
          "mapbox": {
           "style": "light"
          },
          "paper_bgcolor": "white",
          "plot_bgcolor": "white",
          "polar": {
           "angularaxis": {
            "gridcolor": "#EBF0F8",
            "linecolor": "#EBF0F8",
            "ticks": ""
           },
           "bgcolor": "white",
           "radialaxis": {
            "gridcolor": "#EBF0F8",
            "linecolor": "#EBF0F8",
            "ticks": ""
           }
          },
          "scene": {
           "xaxis": {
            "backgroundcolor": "white",
            "gridcolor": "#DFE8F3",
            "gridwidth": 2,
            "linecolor": "#EBF0F8",
            "showbackground": true,
            "ticks": "",
            "zerolinecolor": "#EBF0F8"
           },
           "yaxis": {
            "backgroundcolor": "white",
            "gridcolor": "#DFE8F3",
            "gridwidth": 2,
            "linecolor": "#EBF0F8",
            "showbackground": true,
            "ticks": "",
            "zerolinecolor": "#EBF0F8"
           },
           "zaxis": {
            "backgroundcolor": "white",
            "gridcolor": "#DFE8F3",
            "gridwidth": 2,
            "linecolor": "#EBF0F8",
            "showbackground": true,
            "ticks": "",
            "zerolinecolor": "#EBF0F8"
           }
          },
          "shapedefaults": {
           "line": {
            "color": "#2a3f5f"
           }
          },
          "ternary": {
           "aaxis": {
            "gridcolor": "#DFE8F3",
            "linecolor": "#A2B1C6",
            "ticks": ""
           },
           "baxis": {
            "gridcolor": "#DFE8F3",
            "linecolor": "#A2B1C6",
            "ticks": ""
           },
           "bgcolor": "white",
           "caxis": {
            "gridcolor": "#DFE8F3",
            "linecolor": "#A2B1C6",
            "ticks": ""
           }
          },
          "title": {
           "x": 0.05
          },
          "xaxis": {
           "automargin": true,
           "gridcolor": "#EBF0F8",
           "linecolor": "#EBF0F8",
           "ticks": "",
           "title": {
            "standoff": 15
           },
           "zerolinecolor": "#EBF0F8",
           "zerolinewidth": 2
          },
          "yaxis": {
           "automargin": true,
           "gridcolor": "#EBF0F8",
           "linecolor": "#EBF0F8",
           "ticks": "",
           "title": {
            "standoff": 15
           },
           "zerolinecolor": "#EBF0F8",
           "zerolinewidth": 2
          }
         }
        },
        "title": {
         "font": {
          "color": "Black",
          "size": 22
         },
         "text": "Topic Word Scores",
         "x": 0.5,
         "xanchor": "center",
         "yanchor": "top"
        },
        "width": 1000,
        "xaxis": {
         "anchor": "y",
         "domain": [
          0,
          0.175
         ],
         "showgrid": true
        },
        "xaxis2": {
         "anchor": "y2",
         "domain": [
          0.275,
          0.45
         ],
         "showgrid": true
        },
        "xaxis3": {
         "anchor": "y3",
         "domain": [
          0.55,
          0.7250000000000001
         ],
         "showgrid": true
        },
        "xaxis4": {
         "anchor": "y4",
         "domain": [
          0.825,
          1
         ],
         "showgrid": true
        },
        "xaxis5": {
         "anchor": "y5",
         "domain": [
          0,
          0.175
         ],
         "showgrid": true
        },
        "xaxis6": {
         "anchor": "y6",
         "domain": [
          0.275,
          0.45
         ],
         "showgrid": true
        },
        "xaxis7": {
         "anchor": "y7",
         "domain": [
          0.55,
          0.7250000000000001
         ],
         "showgrid": true
        },
        "xaxis8": {
         "anchor": "y8",
         "domain": [
          0.825,
          1
         ],
         "showgrid": true
        },
        "yaxis": {
         "anchor": "x",
         "domain": [
          0.6000000000000001,
          1
         ],
         "showgrid": true
        },
        "yaxis2": {
         "anchor": "x2",
         "domain": [
          0.6000000000000001,
          1
         ],
         "showgrid": true
        },
        "yaxis3": {
         "anchor": "x3",
         "domain": [
          0.6000000000000001,
          1
         ],
         "showgrid": true
        },
        "yaxis4": {
         "anchor": "x4",
         "domain": [
          0.6000000000000001,
          1
         ],
         "showgrid": true
        },
        "yaxis5": {
         "anchor": "x5",
         "domain": [
          0,
          0.4
         ],
         "showgrid": true
        },
        "yaxis6": {
         "anchor": "x6",
         "domain": [
          0,
          0.4
         ],
         "showgrid": true
        },
        "yaxis7": {
         "anchor": "x7",
         "domain": [
          0,
          0.4
         ],
         "showgrid": true
        },
        "yaxis8": {
         "anchor": "x8",
         "domain": [
          0,
          0.4
         ],
         "showgrid": true
        }
       }
      }
     },
     "metadata": {},
     "output_type": "display_data"
    }
   ],
   "source": [
    "topic_dadv_model.visualize_barchart()"
   ]
  },
  {
   "cell_type": "code",
   "execution_count": 59,
   "metadata": {},
   "outputs": [],
   "source": [
    "cmp = df['company_name']"
   ]
  },
  {
   "cell_type": "code",
   "execution_count": 60,
   "metadata": {},
   "outputs": [],
   "source": [
    "f_data = df[['average_salary','total_sale','turn_over_rate']]"
   ]
  },
  {
   "cell_type": "code",
   "execution_count": 61,
   "metadata": {},
   "outputs": [
    {
     "data": {
      "text/html": [
       "<div>\n",
       "<style scoped>\n",
       "    .dataframe tbody tr th:only-of-type {\n",
       "        vertical-align: middle;\n",
       "    }\n",
       "\n",
       "    .dataframe tbody tr th {\n",
       "        vertical-align: top;\n",
       "    }\n",
       "\n",
       "    .dataframe thead th {\n",
       "        text-align: right;\n",
       "    }\n",
       "</style>\n",
       "<table border=\"1\" class=\"dataframe\">\n",
       "  <thead>\n",
       "    <tr style=\"text-align: right;\">\n",
       "      <th></th>\n",
       "      <th>average_salary</th>\n",
       "      <th>total_sale</th>\n",
       "      <th>turn_over_rate</th>\n",
       "    </tr>\n",
       "  </thead>\n",
       "  <tbody>\n",
       "    <tr>\n",
       "      <th>0</th>\n",
       "      <td>6441.0</td>\n",
       "      <td>75400.0</td>\n",
       "      <td>0.20</td>\n",
       "    </tr>\n",
       "    <tr>\n",
       "      <th>1</th>\n",
       "      <td>5817.0</td>\n",
       "      <td>9406.2</td>\n",
       "      <td>0.13</td>\n",
       "    </tr>\n",
       "    <tr>\n",
       "      <th>2</th>\n",
       "      <td>6182.0</td>\n",
       "      <td>13100.0</td>\n",
       "      <td>0.15</td>\n",
       "    </tr>\n",
       "    <tr>\n",
       "      <th>3</th>\n",
       "      <td>8737.0</td>\n",
       "      <td>2300.0</td>\n",
       "      <td>0.35</td>\n",
       "    </tr>\n",
       "    <tr>\n",
       "      <th>4</th>\n",
       "      <td>10065.0</td>\n",
       "      <td>14800.0</td>\n",
       "      <td>0.16</td>\n",
       "    </tr>\n",
       "    <tr>\n",
       "      <th>...</th>\n",
       "      <td>...</td>\n",
       "      <td>...</td>\n",
       "      <td>...</td>\n",
       "    </tr>\n",
       "    <tr>\n",
       "      <th>2498</th>\n",
       "      <td>4417.0</td>\n",
       "      <td>28.0</td>\n",
       "      <td>0.14</td>\n",
       "    </tr>\n",
       "    <tr>\n",
       "      <th>2499</th>\n",
       "      <td>1314.0</td>\n",
       "      <td>108.9</td>\n",
       "      <td>1.36</td>\n",
       "    </tr>\n",
       "    <tr>\n",
       "      <th>2500</th>\n",
       "      <td>3062.0</td>\n",
       "      <td>430.1</td>\n",
       "      <td>1.00</td>\n",
       "    </tr>\n",
       "    <tr>\n",
       "      <th>2501</th>\n",
       "      <td>3038.0</td>\n",
       "      <td>336.9</td>\n",
       "      <td>0.68</td>\n",
       "    </tr>\n",
       "    <tr>\n",
       "      <th>2502</th>\n",
       "      <td>5898.0</td>\n",
       "      <td>633.4</td>\n",
       "      <td>0.33</td>\n",
       "    </tr>\n",
       "  </tbody>\n",
       "</table>\n",
       "<p>2503 rows × 3 columns</p>\n",
       "</div>"
      ],
      "text/plain": [
       "      average_salary  total_sale  turn_over_rate\n",
       "0             6441.0     75400.0            0.20\n",
       "1             5817.0      9406.2            0.13\n",
       "2             6182.0     13100.0            0.15\n",
       "3             8737.0      2300.0            0.35\n",
       "4            10065.0     14800.0            0.16\n",
       "...              ...         ...             ...\n",
       "2498          4417.0        28.0            0.14\n",
       "2499          1314.0       108.9            1.36\n",
       "2500          3062.0       430.1            1.00\n",
       "2501          3038.0       336.9            0.68\n",
       "2502          5898.0       633.4            0.33\n",
       "\n",
       "[2503 rows x 3 columns]"
      ]
     },
     "execution_count": 61,
     "metadata": {},
     "output_type": "execute_result"
    }
   ],
   "source": [
    "f_data"
   ]
  },
  {
   "cell_type": "code",
   "execution_count": 62,
   "metadata": {},
   "outputs": [
    {
     "data": {
      "text/html": [
       "<div>\n",
       "<style scoped>\n",
       "    .dataframe tbody tr th:only-of-type {\n",
       "        vertical-align: middle;\n",
       "    }\n",
       "\n",
       "    .dataframe tbody tr th {\n",
       "        vertical-align: top;\n",
       "    }\n",
       "\n",
       "    .dataframe thead th {\n",
       "        text-align: right;\n",
       "    }\n",
       "</style>\n",
       "<table border=\"1\" class=\"dataframe\">\n",
       "  <thead>\n",
       "    <tr style=\"text-align: right;\">\n",
       "      <th></th>\n",
       "      <th>company_name</th>\n",
       "      <th>adv topic0</th>\n",
       "      <th>adv topic1</th>\n",
       "      <th>adv topic2</th>\n",
       "      <th>adv topic3</th>\n",
       "      <th>adv topic4</th>\n",
       "      <th>adv topic5</th>\n",
       "      <th>adv topic6</th>\n",
       "      <th>adv topic7</th>\n",
       "      <th>adv topic8</th>\n",
       "      <th>...</th>\n",
       "      <th>dadv topic2</th>\n",
       "      <th>dadv topic3</th>\n",
       "      <th>dadv topic4</th>\n",
       "      <th>dadv topic5</th>\n",
       "      <th>dadv topic6</th>\n",
       "      <th>dadv topic7</th>\n",
       "      <th>dadv topic8</th>\n",
       "      <th>average_salary</th>\n",
       "      <th>total_sale</th>\n",
       "      <th>turn_over_rate</th>\n",
       "    </tr>\n",
       "  </thead>\n",
       "  <tbody>\n",
       "    <tr>\n",
       "      <th>0</th>\n",
       "      <td>국민건강보험공단</td>\n",
       "      <td>1.000000e+00</td>\n",
       "      <td>1.138327e-307</td>\n",
       "      <td>4.197433e-308</td>\n",
       "      <td>9.599829e-308</td>\n",
       "      <td>5.075873e-308</td>\n",
       "      <td>3.735241e-308</td>\n",
       "      <td>4.630714e-308</td>\n",
       "      <td>2.183223e-308</td>\n",
       "      <td>1.564598e-308</td>\n",
       "      <td>...</td>\n",
       "      <td>2.577322e-02</td>\n",
       "      <td>1.437039e-02</td>\n",
       "      <td>8.221537e-03</td>\n",
       "      <td>7.097203e-03</td>\n",
       "      <td>6.187448e-03</td>\n",
       "      <td>6.572231e-03</td>\n",
       "      <td>6.232991e-03</td>\n",
       "      <td>6441.0</td>\n",
       "      <td>75400.0</td>\n",
       "      <td>0.20</td>\n",
       "    </tr>\n",
       "    <tr>\n",
       "      <th>1</th>\n",
       "      <td>근로복지공단</td>\n",
       "      <td>2.181067e-01</td>\n",
       "      <td>1.570202e-01</td>\n",
       "      <td>5.662084e-02</td>\n",
       "      <td>1.378925e-01</td>\n",
       "      <td>7.324805e-02</td>\n",
       "      <td>5.476402e-02</td>\n",
       "      <td>4.107716e-02</td>\n",
       "      <td>3.341184e-02</td>\n",
       "      <td>2.205606e-02</td>\n",
       "      <td>...</td>\n",
       "      <td>8.357493e-02</td>\n",
       "      <td>3.350966e-02</td>\n",
       "      <td>1.982180e-02</td>\n",
       "      <td>1.458750e-02</td>\n",
       "      <td>1.093281e-02</td>\n",
       "      <td>1.222232e-02</td>\n",
       "      <td>1.082290e-02</td>\n",
       "      <td>5817.0</td>\n",
       "      <td>9406.2</td>\n",
       "      <td>0.13</td>\n",
       "    </tr>\n",
       "    <tr>\n",
       "      <th>2</th>\n",
       "      <td>농협은행</td>\n",
       "      <td>7.447523e-03</td>\n",
       "      <td>4.186275e-01</td>\n",
       "      <td>1.405307e-01</td>\n",
       "      <td>9.220605e-02</td>\n",
       "      <td>3.418052e-02</td>\n",
       "      <td>2.118893e-02</td>\n",
       "      <td>3.450135e-03</td>\n",
       "      <td>8.537898e-03</td>\n",
       "      <td>1.278203e-02</td>\n",
       "      <td>...</td>\n",
       "      <td>1.205728e-307</td>\n",
       "      <td>5.782658e-308</td>\n",
       "      <td>3.627970e-308</td>\n",
       "      <td>2.818163e-308</td>\n",
       "      <td>2.269655e-308</td>\n",
       "      <td>2.488057e-308</td>\n",
       "      <td>2.287406e-308</td>\n",
       "      <td>6182.0</td>\n",
       "      <td>13100.0</td>\n",
       "      <td>0.15</td>\n",
       "    </tr>\n",
       "    <tr>\n",
       "      <th>3</th>\n",
       "      <td>현대카드</td>\n",
       "      <td>3.240083e-01</td>\n",
       "      <td>1.799950e-01</td>\n",
       "      <td>6.246635e-02</td>\n",
       "      <td>1.682873e-01</td>\n",
       "      <td>9.044222e-02</td>\n",
       "      <td>7.054697e-02</td>\n",
       "      <td>3.109689e-02</td>\n",
       "      <td>4.625700e-02</td>\n",
       "      <td>2.690008e-02</td>\n",
       "      <td>...</td>\n",
       "      <td>4.482407e-307</td>\n",
       "      <td>1.000000e+00</td>\n",
       "      <td>1.028214e-307</td>\n",
       "      <td>1.927884e-307</td>\n",
       "      <td>8.599826e-308</td>\n",
       "      <td>1.136964e-307</td>\n",
       "      <td>8.026602e-308</td>\n",
       "      <td>8737.0</td>\n",
       "      <td>2300.0</td>\n",
       "      <td>0.35</td>\n",
       "    </tr>\n",
       "    <tr>\n",
       "      <th>4</th>\n",
       "      <td>중소기업은행</td>\n",
       "      <td>4.109139e-01</td>\n",
       "      <td>1.591915e-01</td>\n",
       "      <td>5.788333e-02</td>\n",
       "      <td>1.383325e-01</td>\n",
       "      <td>7.100849e-02</td>\n",
       "      <td>5.385103e-02</td>\n",
       "      <td>5.337421e-02</td>\n",
       "      <td>3.356998e-02</td>\n",
       "      <td>2.187516e-02</td>\n",
       "      <td>...</td>\n",
       "      <td>8.040609e-02</td>\n",
       "      <td>2.865792e-02</td>\n",
       "      <td>2.292216e-02</td>\n",
       "      <td>1.448754e-02</td>\n",
       "      <td>1.037610e-02</td>\n",
       "      <td>1.192599e-02</td>\n",
       "      <td>1.055094e-02</td>\n",
       "      <td>10065.0</td>\n",
       "      <td>14800.0</td>\n",
       "      <td>0.16</td>\n",
       "    </tr>\n",
       "    <tr>\n",
       "      <th>...</th>\n",
       "      <td>...</td>\n",
       "      <td>...</td>\n",
       "      <td>...</td>\n",
       "      <td>...</td>\n",
       "      <td>...</td>\n",
       "      <td>...</td>\n",
       "      <td>...</td>\n",
       "      <td>...</td>\n",
       "      <td>...</td>\n",
       "      <td>...</td>\n",
       "      <td>...</td>\n",
       "      <td>...</td>\n",
       "      <td>...</td>\n",
       "      <td>...</td>\n",
       "      <td>...</td>\n",
       "      <td>...</td>\n",
       "      <td>...</td>\n",
       "      <td>...</td>\n",
       "      <td>...</td>\n",
       "      <td>...</td>\n",
       "      <td>...</td>\n",
       "    </tr>\n",
       "    <tr>\n",
       "      <th>2498</th>\n",
       "      <td>유끼커뮤니케이션</td>\n",
       "      <td>7.845803e-308</td>\n",
       "      <td>9.503211e-308</td>\n",
       "      <td>3.569846e-308</td>\n",
       "      <td>7.680028e-308</td>\n",
       "      <td>3.966848e-308</td>\n",
       "      <td>2.955367e-308</td>\n",
       "      <td>1.000000e+00</td>\n",
       "      <td>1.671768e-308</td>\n",
       "      <td>1.234715e-308</td>\n",
       "      <td>...</td>\n",
       "      <td>2.233164e-02</td>\n",
       "      <td>2.572457e-02</td>\n",
       "      <td>8.262123e-03</td>\n",
       "      <td>1.713750e-02</td>\n",
       "      <td>7.260929e-01</td>\n",
       "      <td>4.376277e-02</td>\n",
       "      <td>6.008080e-02</td>\n",
       "      <td>4417.0</td>\n",
       "      <td>28.0</td>\n",
       "      <td>0.14</td>\n",
       "    </tr>\n",
       "    <tr>\n",
       "      <th>2499</th>\n",
       "      <td>투어이천</td>\n",
       "      <td>5.835538e-02</td>\n",
       "      <td>5.881599e-02</td>\n",
       "      <td>2.202849e-02</td>\n",
       "      <td>4.780834e-02</td>\n",
       "      <td>2.470177e-02</td>\n",
       "      <td>1.842805e-02</td>\n",
       "      <td>2.947694e-01</td>\n",
       "      <td>1.049693e-02</td>\n",
       "      <td>7.691707e-03</td>\n",
       "      <td>...</td>\n",
       "      <td>1.348908e-307</td>\n",
       "      <td>1.538755e-307</td>\n",
       "      <td>5.000633e-308</td>\n",
       "      <td>1.024936e-307</td>\n",
       "      <td>1.000000e+00</td>\n",
       "      <td>2.563344e-307</td>\n",
       "      <td>3.820520e-307</td>\n",
       "      <td>1314.0</td>\n",
       "      <td>108.9</td>\n",
       "      <td>1.36</td>\n",
       "    </tr>\n",
       "    <tr>\n",
       "      <th>2500</th>\n",
       "      <td>휴먼코아</td>\n",
       "      <td>5.274328e-01</td>\n",
       "      <td>1.275658e-01</td>\n",
       "      <td>4.563218e-02</td>\n",
       "      <td>1.129802e-01</td>\n",
       "      <td>5.883940e-02</td>\n",
       "      <td>4.531667e-02</td>\n",
       "      <td>3.589160e-02</td>\n",
       "      <td>2.862733e-02</td>\n",
       "      <td>1.771397e-02</td>\n",
       "      <td>...</td>\n",
       "      <td>7.468436e-02</td>\n",
       "      <td>1.577131e-01</td>\n",
       "      <td>2.397398e-02</td>\n",
       "      <td>5.917721e-02</td>\n",
       "      <td>4.383250e-02</td>\n",
       "      <td>5.846732e-02</td>\n",
       "      <td>3.666766e-02</td>\n",
       "      <td>3062.0</td>\n",
       "      <td>430.1</td>\n",
       "      <td>1.00</td>\n",
       "    </tr>\n",
       "    <tr>\n",
       "      <th>2501</th>\n",
       "      <td>에이치엔씨네트워크</td>\n",
       "      <td>8.207018e-01</td>\n",
       "      <td>4.750953e-02</td>\n",
       "      <td>1.743810e-02</td>\n",
       "      <td>4.045089e-02</td>\n",
       "      <td>2.092467e-02</td>\n",
       "      <td>1.570959e-02</td>\n",
       "      <td>2.133056e-02</td>\n",
       "      <td>9.478518e-03</td>\n",
       "      <td>6.456365e-03</td>\n",
       "      <td>...</td>\n",
       "      <td>5.726803e-02</td>\n",
       "      <td>7.876136e-02</td>\n",
       "      <td>2.098891e-02</td>\n",
       "      <td>6.398122e-02</td>\n",
       "      <td>7.118563e-02</td>\n",
       "      <td>1.844476e-01</td>\n",
       "      <td>6.228333e-02</td>\n",
       "      <td>3038.0</td>\n",
       "      <td>336.9</td>\n",
       "      <td>0.68</td>\n",
       "    </tr>\n",
       "    <tr>\n",
       "      <th>2502</th>\n",
       "      <td>현대엔지비</td>\n",
       "      <td>5.843054e-01</td>\n",
       "      <td>1.106030e-01</td>\n",
       "      <td>4.088210e-02</td>\n",
       "      <td>9.309088e-02</td>\n",
       "      <td>4.872535e-02</td>\n",
       "      <td>3.600720e-02</td>\n",
       "      <td>5.008224e-02</td>\n",
       "      <td>2.119860e-02</td>\n",
       "      <td>1.510531e-02</td>\n",
       "      <td>...</td>\n",
       "      <td>2.630806e-02</td>\n",
       "      <td>1.483636e-02</td>\n",
       "      <td>8.472580e-03</td>\n",
       "      <td>7.367462e-03</td>\n",
       "      <td>6.464485e-03</td>\n",
       "      <td>6.848786e-03</td>\n",
       "      <td>6.515758e-03</td>\n",
       "      <td>5898.0</td>\n",
       "      <td>633.4</td>\n",
       "      <td>0.33</td>\n",
       "    </tr>\n",
       "  </tbody>\n",
       "</table>\n",
       "<p>2503 rows × 22 columns</p>\n",
       "</div>"
      ],
      "text/plain": [
       "     company_name     adv topic0     adv topic1     adv topic2     adv topic3  \\\n",
       "0        국민건강보험공단   1.000000e+00  1.138327e-307  4.197433e-308  9.599829e-308   \n",
       "1          근로복지공단   2.181067e-01   1.570202e-01   5.662084e-02   1.378925e-01   \n",
       "2            농협은행   7.447523e-03   4.186275e-01   1.405307e-01   9.220605e-02   \n",
       "3            현대카드   3.240083e-01   1.799950e-01   6.246635e-02   1.682873e-01   \n",
       "4          중소기업은행   4.109139e-01   1.591915e-01   5.788333e-02   1.383325e-01   \n",
       "...           ...            ...            ...            ...            ...   \n",
       "2498     유끼커뮤니케이션  7.845803e-308  9.503211e-308  3.569846e-308  7.680028e-308   \n",
       "2499         투어이천   5.835538e-02   5.881599e-02   2.202849e-02   4.780834e-02   \n",
       "2500         휴먼코아   5.274328e-01   1.275658e-01   4.563218e-02   1.129802e-01   \n",
       "2501    에이치엔씨네트워크   8.207018e-01   4.750953e-02   1.743810e-02   4.045089e-02   \n",
       "2502        현대엔지비   5.843054e-01   1.106030e-01   4.088210e-02   9.309088e-02   \n",
       "\n",
       "         adv topic4     adv topic5     adv topic6     adv topic7  \\\n",
       "0     5.075873e-308  3.735241e-308  4.630714e-308  2.183223e-308   \n",
       "1      7.324805e-02   5.476402e-02   4.107716e-02   3.341184e-02   \n",
       "2      3.418052e-02   2.118893e-02   3.450135e-03   8.537898e-03   \n",
       "3      9.044222e-02   7.054697e-02   3.109689e-02   4.625700e-02   \n",
       "4      7.100849e-02   5.385103e-02   5.337421e-02   3.356998e-02   \n",
       "...             ...            ...            ...            ...   \n",
       "2498  3.966848e-308  2.955367e-308   1.000000e+00  1.671768e-308   \n",
       "2499   2.470177e-02   1.842805e-02   2.947694e-01   1.049693e-02   \n",
       "2500   5.883940e-02   4.531667e-02   3.589160e-02   2.862733e-02   \n",
       "2501   2.092467e-02   1.570959e-02   2.133056e-02   9.478518e-03   \n",
       "2502   4.872535e-02   3.600720e-02   5.008224e-02   2.119860e-02   \n",
       "\n",
       "         adv topic8  ...    dadv topic2    dadv topic3    dadv topic4  \\\n",
       "0     1.564598e-308  ...   2.577322e-02   1.437039e-02   8.221537e-03   \n",
       "1      2.205606e-02  ...   8.357493e-02   3.350966e-02   1.982180e-02   \n",
       "2      1.278203e-02  ...  1.205728e-307  5.782658e-308  3.627970e-308   \n",
       "3      2.690008e-02  ...  4.482407e-307   1.000000e+00  1.028214e-307   \n",
       "4      2.187516e-02  ...   8.040609e-02   2.865792e-02   2.292216e-02   \n",
       "...             ...  ...            ...            ...            ...   \n",
       "2498  1.234715e-308  ...   2.233164e-02   2.572457e-02   8.262123e-03   \n",
       "2499   7.691707e-03  ...  1.348908e-307  1.538755e-307  5.000633e-308   \n",
       "2500   1.771397e-02  ...   7.468436e-02   1.577131e-01   2.397398e-02   \n",
       "2501   6.456365e-03  ...   5.726803e-02   7.876136e-02   2.098891e-02   \n",
       "2502   1.510531e-02  ...   2.630806e-02   1.483636e-02   8.472580e-03   \n",
       "\n",
       "        dadv topic5    dadv topic6    dadv topic7    dadv topic8  \\\n",
       "0      7.097203e-03   6.187448e-03   6.572231e-03   6.232991e-03   \n",
       "1      1.458750e-02   1.093281e-02   1.222232e-02   1.082290e-02   \n",
       "2     2.818163e-308  2.269655e-308  2.488057e-308  2.287406e-308   \n",
       "3     1.927884e-307  8.599826e-308  1.136964e-307  8.026602e-308   \n",
       "4      1.448754e-02   1.037610e-02   1.192599e-02   1.055094e-02   \n",
       "...             ...            ...            ...            ...   \n",
       "2498   1.713750e-02   7.260929e-01   4.376277e-02   6.008080e-02   \n",
       "2499  1.024936e-307   1.000000e+00  2.563344e-307  3.820520e-307   \n",
       "2500   5.917721e-02   4.383250e-02   5.846732e-02   3.666766e-02   \n",
       "2501   6.398122e-02   7.118563e-02   1.844476e-01   6.228333e-02   \n",
       "2502   7.367462e-03   6.464485e-03   6.848786e-03   6.515758e-03   \n",
       "\n",
       "      average_salary  total_sale  turn_over_rate  \n",
       "0             6441.0     75400.0            0.20  \n",
       "1             5817.0      9406.2            0.13  \n",
       "2             6182.0     13100.0            0.15  \n",
       "3             8737.0      2300.0            0.35  \n",
       "4            10065.0     14800.0            0.16  \n",
       "...              ...         ...             ...  \n",
       "2498          4417.0        28.0            0.14  \n",
       "2499          1314.0       108.9            1.36  \n",
       "2500          3062.0       430.1            1.00  \n",
       "2501          3038.0       336.9            0.68  \n",
       "2502          5898.0       633.4            0.33  \n",
       "\n",
       "[2503 rows x 22 columns]"
      ]
     },
     "execution_count": 62,
     "metadata": {},
     "output_type": "execute_result"
    }
   ],
   "source": [
    "# put in to a df\n",
    "new_df = pd.DataFrame(topic_adv_model.probabilities_)\n",
    "new_df.columns = ['adv topic'+str(i) for i in range(0,n_topics-1)]\n",
    "new_df = pd.concat([cmp,new_df],axis=1)\n",
    "d_new_df = pd.DataFrame(topic_dadv_model.probabilities_)\n",
    "d_new_df.columns = ['dadv topic'+str(i) for i in range(0,n_topics-1)]\n",
    "new_df = pd.concat([new_df,d_new_df],axis=1)\n",
    "new_df = pd.concat([new_df,f_data],axis=1)\n",
    "new_df"
   ]
  },
  {
   "cell_type": "code",
   "execution_count": 63,
   "metadata": {},
   "outputs": [],
   "source": [
    "new_df.to_csv('bert_tokenizing_10_10.csv')"
   ]
  },
  {
   "cell_type": "code",
   "execution_count": null,
   "metadata": {},
   "outputs": [],
   "source": []
  }
 ],
 "metadata": {
  "kernelspec": {
   "display_name": "textmining",
   "language": "python",
   "name": "textmining"
  },
  "language_info": {
   "codemirror_mode": {
    "name": "ipython",
    "version": 3
   },
   "file_extension": ".py",
   "mimetype": "text/x-python",
   "name": "python",
   "nbconvert_exporter": "python",
   "pygments_lexer": "ipython3",
   "version": "3.8.16"
  },
  "orig_nbformat": 4
 },
 "nbformat": 4,
 "nbformat_minor": 2
}
